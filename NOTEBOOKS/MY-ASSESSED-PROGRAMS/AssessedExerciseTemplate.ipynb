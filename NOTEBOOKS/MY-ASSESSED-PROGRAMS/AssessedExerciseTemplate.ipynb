{
 "cells": [
  {
   "cell_type": "markdown",
   "metadata": {},
   "source": [
    "# Short Assessed Exercise\n",
    "# Level  --number--\n",
    "## --your name goes here --\n",
    "## --date--\n",
    "## Version --version number goes here--\n"
   ]
  },
  {
   "cell_type": "markdown",
   "metadata": {},
   "source": [
    "# Instructions\n",
    "\n",
    "## Delete this Instructions box before hand-in\n",
    "This is a template to use for your assessed programs. \n",
    "\n",
    "You can duplicate this file using (File - Make a copy) in the toolbar of the window above\n",
    "\n",
    "Create a copy for each short exercise and mini-project level and develop the program in the Notebook.\n",
    "\n",
    "Once you understand the instructions delete this box by clicking on the scissor icon above when the cursor is in this box.\n",
    "\n",
    "### A Literate Program AND a notebook\n",
    "With the exception of the first exercise (which just needs the literate program version), all assessed programs should be written in two forms: \n",
    "1. as a literate program in a notebook that includes \n",
    "    - a method by method version including a call to the method doing the work\n",
    "    - a complete program version at the end.\n",
    "2. a complete executable program in a .java file\n",
    "    - once the code works in the notebook, create the full program version \n",
    "    - save it in a java file and check it compiles and runs on your local computer.\n",
    "\n",
    "See the notebook \"Example literate program\" for a literate program notebook of the kind you are expected to produce for the assessed programs including more detailed notes on what is required."
   ]
  },
  {
   "cell_type": "markdown",
   "metadata": {},
   "source": [
    "## Summary of the Question \n",
    "\n",
    "-- add a summary of the question here --"
   ]
  },
  {
   "cell_type": "markdown",
   "metadata": {},
   "source": [
    "## The literate program development\n",
    "-- Delete all the comments in the markdown --\n",
    "-- Alternate Markdown boxes and code boxes --\n",
    "-- Add as many as needed --\n",
    "-- markdown boxes should include a detailed explanation of the method following --\n",
    "-- Add \"testing\" code boxes as needed to test each method"
   ]
  },
  {
   "cell_type": "markdown",
   "metadata": {},
   "source": [
    "### -- Method 1 name --\n",
    "\n",
    "#### What it does\n",
    "-- description of what method 1 does here --\n",
    "\n",
    "#### Implementation (how it works)\n",
    "-- explanation of how method 1 works here --"
   ]
  },
  {
   "cell_type": "code",
   "execution_count": null,
   "metadata": {},
   "outputs": [],
   "source": [
    "// Delete these comments and add the full program \n",
    "// Each method should be in its own code box\n"
   ]
  },
  {
   "cell_type": "markdown",
   "metadata": {},
   "source": [
    "#### Testing"
   ]
  },
  {
   "cell_type": "code",
   "execution_count": null,
   "metadata": {},
   "outputs": [],
   "source": [
    "// TEST CODE for method 1\n",
    "// Follow each method with code to test it"
   ]
  },
  {
   "cell_type": "markdown",
   "metadata": {},
   "source": [
    "### -- Method 2 name --\n",
    "\n",
    "#### What it does\n",
    "-- description of what method 2 does here --\n",
    "\n",
    "#### Implementation (how it works)\n",
    "-- explanation of how method 2 works here --\n"
   ]
  },
  {
   "cell_type": "code",
   "execution_count": null,
   "metadata": {},
   "outputs": [],
   "source": [
    "// Method 2 code \n",
    "\n"
   ]
  },
  {
   "cell_type": "markdown",
   "metadata": {},
   "source": [
    "#### Testing"
   ]
  },
  {
   "cell_type": "code",
   "execution_count": null,
   "metadata": {},
   "outputs": [],
   "source": [
    "// TEST CODE for method 2\n",
    "\n"
   ]
  },
  {
   "cell_type": "markdown",
   "metadata": {},
   "source": [
    "### -- Method 3 name --\n",
    "\n",
    "#### What it does\n",
    "-- description of what method 2 does here --\n",
    "\n",
    "#### Implementation (how it works)\n",
    "-- explanation of how method 2 works here --\n"
   ]
  },
  {
   "cell_type": "code",
   "execution_count": null,
   "metadata": {},
   "outputs": [],
   "source": [
    "// Method 3 code\n",
    "\n"
   ]
  },
  {
   "cell_type": "markdown",
   "metadata": {},
   "source": [
    "#### Testing"
   ]
  },
  {
   "cell_type": "code",
   "execution_count": null,
   "metadata": {},
   "outputs": [],
   "source": [
    "// TEST CODE for method 3\n",
    "\n"
   ]
  },
  {
   "cell_type": "markdown",
   "metadata": {},
   "source": [
    "-- Add more code and description boxes as needed"
   ]
  },
  {
   "cell_type": "markdown",
   "metadata": {},
   "source": [
    "### Running the program\n",
    "Run the following call to simulate running the complete program."
   ]
  },
  {
   "cell_type": "code",
   "execution_count": null,
   "metadata": {},
   "outputs": [],
   "source": [
    "// add a method call here\n",
    "// It should call the method that does the work.\n",
    "// this method will be called by main in the full program below"
   ]
  },
  {
   "cell_type": "markdown",
   "metadata": {},
   "source": [
    "## The complete program\n",
    "This version will only compile here. To run it copy it into a file called initials.java on your local computer and compile and run it there."
   ]
  },
  {
   "cell_type": "code",
   "execution_count": null,
   "metadata": {},
   "outputs": [],
   "source": [
    "// Delete these comments and add the full program in a single code box here\n",
    "\n",
    "// This section is needed for all but the first short assessed exercise\n",
    "\n",
    "// Cut and paste this version as a Java file and compile and run it locally to check it works.\n",
    "// The full program should include \n",
    "//         - libraries (where needed), \n",
    "//         - main method and\n",
    "//         - class definition\n",
    "//         - Each method should have a comment explaining its purpose\n",
    "//         - The program should start with comments as below\n",
    "\n",
    "// NAME\n",
    "// DATE\n",
    "// VERSION\n",
    "// BRIEF OVERVIEW OF PURPOSE\n",
    "\n",
    "import java.util.Scanner; // Needed to make Scanner available\n",
    "\n",
    "class name // change the name to something appropriate\n",
    "{\n",
    "    public static void main (String [] a)\n",
    "    {\n",
    "        method_call(); //Change this to a call to the method doing the work\n",
    "        System.exit(0);\n",
    "    }\n",
    "    \n",
    "   // Add all methods the program uses here\n",
    "}\n"
   ]
  },
  {
   "cell_type": "markdown",
   "metadata": {},
   "source": [
    "**END OF LITERATE DOCUMENT**"
   ]
  }
 ],
 "metadata": {
  "kernelspec": {
   "display_name": "Java",
   "language": "java",
   "name": "java"
  },
  "language_info": {
   "codemirror_mode": "java",
   "file_extension": ".jshell",
   "mimetype": "text/x-java-source",
   "name": "Java",
   "pygments_lexer": "java",
   "version": "11.0.8+10-LTS"
  }
 },
 "nbformat": 4,
 "nbformat_minor": 4
}
