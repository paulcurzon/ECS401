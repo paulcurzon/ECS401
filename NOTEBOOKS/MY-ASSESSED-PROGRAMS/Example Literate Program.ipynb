{
 "cells": [
  {
   "cell_type": "markdown",
   "metadata": {},
   "source": [
    "# Assessment: Example Literate Program\n",
    "\n",
    "## Explanation\n",
    "Each of your assessed programs should be written in two forms: as a literate program  in a notebook (as here) and as a complete program included at the end of the literate version, that you have also saved in a file and compiled and run locally. \n",
    "\n",
    "The literate program provides a way for you to explain your thinking, how you answered the question, by you describing the methods you used and how the program works. Learning to program is not just about producing some working code, its about learning how to think about programming, developing your knowledge and skills. We need to assess the development of your  knowledge, skills and understanding. \n",
    "\n",
    "This document (excluding this explanation seciton) is an example of a literate program of the kind you are expected to produce for the assessed programs. \n",
    "\n",
    "**Don't expect to understand the detail in the example literate program at the start of our module, we will take you step by step, to a point where it will all make much more sense to you.**\n",
    "\n",
    "### Literate Program style required:\n",
    "- The literate program notebook should start with a sumary statement of the question\n",
    "- Each method should have a detailed description as text (in Markdown) before the method \n",
    "- It should describe in detail how it works, essentially giving an argument that it does work as required\n",
    "- Programs should **also** be commented as below.\n",
    "\n",
    "### Comments\n",
    "- The program as a whole should start with a comment that includes\n",
    "    - Author\n",
    "    - Date\n",
    "    - Version (eg changing version after each time it has been assessed if assessed multiple times)\n",
    "    - An overview of its purpose\n",
    "- Each method should be preceded by a comment explaining what its purpose is \n",
    "    - what it does (not how it does it)\n",
    "- Specific tricky detail may have specific comments explaining how it works\n",
    "\n",
    "### Miniproject\n",
    "For the miniproject, create a notebook for each level you develop. Once it is marked off successfully, duplicate the notebook and then edit the copy to make the next version.\n"
   ]
  },
  {
   "cell_type": "markdown",
   "metadata": {},
   "source": [
    "# Short Assessed Exercise\n",
    "# Level xxx\n",
    "## Paul Curzon\n",
    "## 19 July 2020\n",
    "## Version 1"
   ]
  },
  {
   "cell_type": "markdown",
   "metadata": {},
   "source": [
    "## Summary of the Question\n",
    "\n",
    "Write a program that prints three questions, one about the film, one about sport and one about musicals. It should allow the user to answer each question and in each case echo back their answer in a standard way as part of a sentence so that if they type Inception for the film, it would print\n",
    "```\n",
    "So you think the film was Inception do you?\n",
    "```\n",
    "The program should use one generic method to ask all three questions."
   ]
  },
  {
   "cell_type": "markdown",
   "metadata": {},
   "source": [
    "## The literate program development"
   ]
  },
  {
   "cell_type": "markdown",
   "metadata": {},
   "source": [
    "\n",
    "Building on the what I have learned in from the ECS401U Jupyter Notebook, to answer the question, I created three methods of print, inputString and askThreeQuestions. For each method, I will explain about the method, what is does and how I tested it and provide the code of the method itself. Next, I show how to run the solution to the question. Each code fragment can be run in Jupyter notebooks, here. Finally, I show the full program that can only be run outside of notebooks, along with instructions on how to do this and a summary of the structure of the full program.  \n",
    "\n",
    "### <span style=\"color: blue;\">print</span>\n",
    "\n",
    "First, we provide a general <span style=\"color: blue;\">print</span> method. This will allow changes in the way printing is done. In this version, it will just use the standard console print method System.out.println().\n",
    "\n",
    "#### What it does\n",
    "This method takes a String argument which is the message to print. It prints that message and returns. The cursor is left on the next line for anything subsequently printed.\n",
    "\n",
    "#### Implementation\n",
    "The string passed when the method is called is stored in the variable called message. This is then passed directly on to System.out.println which does the actual printing. It then returns."
   ]
  },
  {
   "cell_type": "code",
   "execution_count": 4,
   "metadata": {},
   "outputs": [],
   "source": [
    "    // Print a given message\n",
    "    //\n",
    "    public static void print (String message)\n",
    "    {\n",
    "        System.out.println(message);\n",
    "        \n",
    "        return;\n",
    "    } // END print"
   ]
  },
  {
   "cell_type": "markdown",
   "metadata": {},
   "source": [
    "#### Testing"
   ]
  },
  {
   "cell_type": "code",
   "execution_count": 6,
   "metadata": {},
   "outputs": [
    {
     "name": "stdout",
     "output_type": "stream",
     "text": [
      "Hello\n",
      "\n",
      "This is a message\n"
     ]
    }
   ],
   "source": [
    "print(\"Hello\");\n",
    "print(\"\"); // Should print a blank line\n",
    "print(\"This is a message\");"
   ]
  },
  {
   "cell_type": "markdown",
   "metadata": {},
   "source": [
    "### <span style=\"color: blue;\">inputString</span>\n",
    "\n",
    "#### What it does\n",
    "This method takes a String question to be printed and then waits for the user to type a response to that question, returning the response.\n",
    "\n",
    "#### Implementation\n",
    "It sets up a local scanner to the method, linked to the keyboard. This makes available the method scanner.nextLine(). The message is printed and it then allows the user to type the response using nextLine (so takes a whole String up to ENTER as the response). Whatever typed is stored in a String, and returned as the result of the method."
   ]
  },
  {
   "cell_type": "code",
   "execution_count": 2,
   "metadata": {},
   "outputs": [],
   "source": [
    "    // Allow a single film to be input, returning the film typed as the answer\n",
    "    //\n",
    "    public static String inputString (String message)\n",
    "    {\n",
    "        String answer;\n",
    "        Scanner scanner = new Scanner(System.in);\n",
    "\n",
    "        print(message);\n",
    "        answer = scanner.nextLine();\n",
    "   \n",
    "        return answer;\n",
    "    } // END inputString\n"
   ]
  },
  {
   "cell_type": "markdown",
   "metadata": {},
   "source": [
    "#### Testing\n",
    "Run the following repeatedly to test..."
   ]
  },
  {
   "cell_type": "code",
   "execution_count": 5,
   "metadata": {},
   "outputs": [
    {
     "name": "stdout",
     "output_type": "stream",
     "text": [
      "What's the answer\n",
      "Who knows?\n",
      "Who knows?\n"
     ]
    }
   ],
   "source": [
    "System.out.println(inputString (\"What's the answer\"));"
   ]
  },
  {
   "cell_type": "markdown",
   "metadata": {},
   "source": [
    "### <span style=\"color: blue;\">askThreeQuestions</span> \n",
    "This forms the core of the program.\n",
    "\n",
    "#### What it does\n",
    "This method asks a specific question about each of films, sport and then musicals.\n",
    "\n",
    "- Which dream-themed film did Christopher Nolan direct?\n",
    "- What sport does LeBron James play?\n",
    "- What Hip Hop musical is based on the story of an American founding father?\n",
    "\n",
    "In each case immediately after asking it waits for the answer and then echos it back in a common format.\n",
    "\n",
    "#### Implementation\n"
   ]
  },
  {
   "cell_type": "code",
   "execution_count": 7,
   "metadata": {},
   "outputs": [],
   "source": [
    "    // Ask three different questions about film, sport and musical, echoing back the answers.\n",
    "    //\n",
    "    public static void askThreeQuestions ()\n",
    "    {\n",
    "        String film_answer;\n",
    "        String sport_answer;\n",
    "        String musical_answer;\n",
    "    \n",
    "        film_answer = inputString(\"Which dream-themed film did Christopher Nolan direct?\");\n",
    "        print(\"So you think the film was \" + film_answer + \" do you?\");\n",
    "        print(\"\");\n",
    "       \n",
    "        sport_answer = inputString(\"What sport does LeBron James play?\");\n",
    "        print(\"So you think the sport was \" + sport_answer + \" do you?\");\n",
    "        print(\"\");\n",
    "       \n",
    "        musical_answer = inputString(\"What Hip Hop musical is based on the story of an American founding father?\");\n",
    "        print(\"So you think the musical was \" + musical_answer + \" do you?\");\n",
    "        print(\"\");\n",
    "       \n",
    "        return;\n",
    "    } // END askThreeQuestions\n",
    "  "
   ]
  },
  {
   "cell_type": "markdown",
   "metadata": {},
   "source": [
    "#### Testing\n",
    "Run the following repeatedly to test..."
   ]
  },
  {
   "cell_type": "code",
   "execution_count": 8,
   "metadata": {},
   "outputs": [
    {
     "name": "stdout",
     "output_type": "stream",
     "text": [
      "Which dream-themed film did Christopher Nolan direct?\n",
      "a\n",
      "So you think the film was a do you?\n",
      "\n",
      "What sport does LeBron James play?\n",
      "b\n",
      "So you think the sport was b do you?\n",
      "\n",
      "What Hip Hop musical is based on the story of an American founding father?\n",
      "c\n",
      "So you think the musical was c do you?\n",
      "\n"
     ]
    }
   ],
   "source": [
    "askThreeQuestions();"
   ]
  },
  {
   "cell_type": "markdown",
   "metadata": {},
   "source": [
    "### Running the program\n",
    "Run the following to simulate running the complete program."
   ]
  },
  {
   "cell_type": "code",
   "execution_count": 8,
   "metadata": {},
   "outputs": [
    {
     "name": "stdout",
     "output_type": "stream",
     "text": [
      "Which dream-themed film did Christopher Nolan direct?\n",
      "a\n",
      "So you think the film was a do you?\n",
      "\n",
      "What sport does LeBron James play?\n",
      "b\n",
      "So you think the sport was b do you?\n",
      "\n",
      "What Hip Hop musical is based on the story of an American founding father?\n",
      "c\n",
      "So you think the musical was c do you?\n",
      "\n"
     ]
    }
   ],
   "source": [
    "askThreeQuestions();"
   ]
  },
  {
   "cell_type": "markdown",
   "metadata": {},
   "source": [
    "## The complete program\n",
    "This version will only compile here. To run it copy it into a file called initials.java on your local computer and compile and run it there."
   ]
  },
  {
   "cell_type": "markdown",
   "metadata": {},
   "source": [
    "For the complete program we \n",
    "- add overarching comments \n",
    "- the scanner library needs to be explicitly imported to allow the input methods to be used\n",
    "- the starting call is put in a vanilla main method\n",
    "- the whole set of methods is enclosed in a class definition\n",
    "- the order of methods is rearranged to make it more readable as a top-down program"
   ]
  },
  {
   "cell_type": "code",
   "execution_count": null,
   "metadata": {},
   "outputs": [],
   "source": [
    "/* ***************************************\n",
    "  @author    Paul Curzon\n",
    "  @date      19 July 2020\n",
    "  @version   1\n",
    "\n",
    "    A program that prints three questions (on film, sport and musicals,\n",
    "    and just echos the answers back.\n",
    "   ****************************************/\n",
    "\n",
    "import java.util.Scanner; // Needed to make Scanner available\n",
    "\n",
    "class askquestions\n",
    "{\n",
    "    \n",
    "    public static void main (String [] a)\n",
    "    {\n",
    "        askThreeQuestions ();\n",
    "        \n",
    "        System.exit(0);\n",
    "\n",
    "    } // END print\n",
    "    \n",
    "    \n",
    " \n",
    "\n",
    "    // Ask three different questions about film, sport and musical, echoing back the answers.\n",
    "    //\n",
    "    public static void askThreeQuestions ()\n",
    "    {\n",
    "        String film_answer;\n",
    "        String sport_answer;\n",
    "        String musical_answer;\n",
    "    \n",
    "        film_answer = inputString(\"Which dream-themed film did Christopher Nolan direct?\");\n",
    "        print(\"So you think the film was \" + film_answer + \" do you?\");\n",
    "        print(\"\");\n",
    "       \n",
    "        sport_answer = inputString(\"What sport does LeBron James play?\");\n",
    "        print(\"So you think the sport was \" + sport_answer + \" do you?\");\n",
    "        print(\"\");\n",
    "       \n",
    "        musical_answer = inputString(\"What Hip Hop musical is based on the story of an American founding father?\");\n",
    "        print(\"So you think the musical was \" + musical_answer + \" do you?\");\n",
    "        print(\"\");\n",
    "       \n",
    "        return;\n",
    "    } // END askThreeQuestions\n",
    "    \n",
    "       \n",
    "    // Print a given message\n",
    "    //\n",
    "    public static void print (String message)\n",
    "    {\n",
    "        System.out.println(message);\n",
    "\n",
    "    } // END print\n",
    "\n",
    "\n",
    "\n",
    "    // Allow a single film to be input, returning the film typed as the answer\n",
    "    //\n",
    "    public static String inputString (String message)\n",
    "    {\n",
    "        String answer;\n",
    "        Scanner scanner = new Scanner(System.in);\n",
    "\n",
    "        print(message);\n",
    "        answer = scanner.nextLine();\n",
    "   \n",
    "        return answer;\n",
    "    } // END inputString\n",
    "\n",
    "}"
   ]
  },
  {
   "cell_type": "markdown",
   "metadata": {},
   "source": [
    "**END OF LITERATE DOCUMENT**"
   ]
  }
 ],
 "metadata": {
  "kernelspec": {
   "display_name": "Java",
   "language": "java",
   "name": "java"
  },
  "language_info": {
   "codemirror_mode": "java",
   "file_extension": ".jshell",
   "mimetype": "text/x-java-source",
   "name": "Java",
   "pygments_lexer": "java",
   "version": "11.0.8+10-LTS"
  }
 },
 "nbformat": 4,
 "nbformat_minor": 4
}
