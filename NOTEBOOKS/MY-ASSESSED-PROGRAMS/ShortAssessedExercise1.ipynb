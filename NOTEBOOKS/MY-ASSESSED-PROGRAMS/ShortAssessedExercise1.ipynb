{
 "cells": [
  {
   "cell_type": "markdown",
   "metadata": {},
   "source": [
    "# Short Assessed Exercise\n",
    "# Level  1\n",
    "## Paul Curzon\n",
    "## 7 September 2020\n",
    "## Version 1\n",
    "\n",
    "Note this is my version of the assessment and my program not yours. You must write your own program and create your own version for Short Assessed Exercise 1. This is just to help you understand what a literate program document for an assessed exercise looks like. Start from the template notebook and create your own."
   ]
  },
  {
   "cell_type": "markdown",
   "metadata": {},
   "source": [
    "## Summary of the Question \n",
    "\n",
    "Write a program to print out your initials down the page in block letters using the same letter to draw it out of. A blank line should separate the initials. Each initial should be printed by a separate method. For example, my initials are PC. My program should therefore print:\n",
    "```\n",
    "PPPPP\n",
    "P   P\n",
    "PPPPP\n",
    "P\n",
    "P\n",
    "\n",
    "CCCCC\n",
    "C\n",
    "C\n",
    "C\n",
    "CCCCC\n",
    "```"
   ]
  },
  {
   "cell_type": "markdown",
   "metadata": {},
   "source": [
    "## The literate program development"
   ]
  },
  {
   "cell_type": "markdown",
   "metadata": {},
   "source": [
    "### printP\n",
    "\n",
    "#### What it does\n",
    "This method prints a large letter P made out of small letter P's ending with a blank line.\n",
    "\n",
    "#### Implementation (how it works)\n",
    "It prints each row of small letter Ps in turn. For example, the top of the P is made of 6 P characters in a row as the big letter is 6 characters wide.\n"
   ]
  },
  {
   "cell_type": "code",
   "execution_count": 1,
   "metadata": {},
   "outputs": [],
   "source": [
    "// Print a large letter P using P characters\n",
    "//\n",
    "public static void printP ()\n",
    "{\n",
    "     System.out.println(\"PPPPPP\");\n",
    "     System.out.println(\"P    P\");\n",
    "     System.out.println(\"PPPPPP\");\n",
    "     System.out.println(\"P\");\n",
    "     System.out.println(\"P\");\n",
    "     System.out.println(\"P\");\n",
    "     System.out.println();\n",
    "     return;\n",
    "}"
   ]
  },
  {
   "cell_type": "markdown",
   "metadata": {},
   "source": [
    "#### Testing"
   ]
  },
  {
   "cell_type": "code",
   "execution_count": 2,
   "metadata": {},
   "outputs": [
    {
     "name": "stdout",
     "output_type": "stream",
     "text": [
      "PPPPPP\n",
      "P    P\n",
      "PPPPPP\n",
      "P\n",
      "P\n",
      "P\n",
      "\n"
     ]
    }
   ],
   "source": [
    "printP ();"
   ]
  },
  {
   "cell_type": "markdown",
   "metadata": {},
   "source": [
    "### printC\n",
    "\n",
    "#### What it does\n",
    "This method prints a large letter C made out of small letter C's\n",
    "\n",
    "#### Implementation (how it works)\n",
    "It prints each row of small letter Cs in turn. For example, the top of the C is made of 6 C characters in a row as the big letter is 6 characters wide.\n"
   ]
  },
  {
   "cell_type": "code",
   "execution_count": 3,
   "metadata": {},
   "outputs": [],
   "source": [
    "// Print a large letter C using C characters\n",
    "//\n",
    "public static void printC ()\n",
    "{\n",
    "     System.out.println(\"CCCCCC\");\n",
    "     System.out.println(\"C\");\n",
    "     System.out.println(\"C\");\n",
    "     System.out.println(\"C\");\n",
    "     System.out.println(\"C\");\n",
    "     System.out.println(\"CCCCCC\");\n",
    "     System.out.println();\n",
    "     return;\n",
    "}"
   ]
  },
  {
   "cell_type": "markdown",
   "metadata": {},
   "source": [
    "#### Testing"
   ]
  },
  {
   "cell_type": "code",
   "execution_count": 4,
   "metadata": {},
   "outputs": [
    {
     "name": "stdout",
     "output_type": "stream",
     "text": [
      "CCCCCC\n",
      "C\n",
      "C\n",
      "C\n",
      "C\n",
      "CCCCCC\n",
      "\n"
     ]
    }
   ],
   "source": [
    "printC();"
   ]
  },
  {
   "cell_type": "markdown",
   "metadata": {},
   "source": [
    "### printPC\n",
    "\n",
    "#### What it does\n",
    "This method prints a large letter P followed by a letter C below it\n",
    "\n",
    "#### Implementation (how it works)\n",
    "This just calls the individual method to print each separate letter in turn, firt P then C. As they each finish by printing a blank line they will be separated by a blank line.\n"
   ]
  },
  {
   "cell_type": "code",
   "execution_count": 5,
   "metadata": {},
   "outputs": [],
   "source": [
    "// Print a large letter P followed by a letter C below it\n",
    "//\n",
    "public static void printPC ()\n",
    "{\n",
    "     printP();\n",
    "     printC();\n",
    "     return;\n",
    "}\n"
   ]
  },
  {
   "cell_type": "markdown",
   "metadata": {},
   "source": [
    "#### Testing"
   ]
  },
  {
   "cell_type": "code",
   "execution_count": 6,
   "metadata": {},
   "outputs": [
    {
     "name": "stdout",
     "output_type": "stream",
     "text": [
      "PPPPPP\n",
      "P    P\n",
      "PPPPPP\n",
      "P\n",
      "P\n",
      "P\n",
      "\n",
      "CCCCCC\n",
      "C\n",
      "C\n",
      "C\n",
      "C\n",
      "CCCCCC\n",
      "\n"
     ]
    }
   ],
   "source": [
    "printPC();"
   ]
  },
  {
   "cell_type": "markdown",
   "metadata": {},
   "source": [
    "### Running the program\n",
    "Run the following call to simulate running the complete program."
   ]
  },
  {
   "cell_type": "code",
   "execution_count": 7,
   "metadata": {},
   "outputs": [
    {
     "name": "stdout",
     "output_type": "stream",
     "text": [
      "PPPPPP\n",
      "P    P\n",
      "PPPPPP\n",
      "P\n",
      "P\n",
      "P\n",
      "\n",
      "CCCCCC\n",
      "C\n",
      "C\n",
      "C\n",
      "C\n",
      "CCCCCC\n",
      "\n"
     ]
    }
   ],
   "source": [
    "printPC();"
   ]
  },
  {
   "cell_type": "markdown",
   "metadata": {},
   "source": [
    "## The complete program \n",
    "This version will only compile here. To run it copy it into a file called initials.java on your local computer and compile and run it there."
   ]
  },
  {
   "cell_type": "code",
   "execution_count": 9,
   "metadata": {},
   "outputs": [],
   "source": [
    "/* ***************************************\n",
    "  @author    Paul Curzon\n",
    "  @date      7 September 2020\n",
    "  @version   1\n",
    "\n",
    "    A program that prints my initials (PC)\n",
    "    in big letters made out of small ones.\n",
    "   ****************************************/\n",
    "\n",
    "class initials\n",
    "{\n",
    "    public static void main (String [] a)\n",
    "    {\n",
    "        printPC();\n",
    "        System.exit(0);\n",
    "    }\n",
    "    \n",
    "    // Print a large letter P using P characters\n",
    "    //\n",
    "    public static void printP ()\n",
    "    {\n",
    "         System.out.println(\"PPPPPP\");\n",
    "         System.out.println(\"P    P\");\n",
    "         System.out.println(\"PPPPPP\");\n",
    "         System.out.println(\"P\");\n",
    "         System.out.println(\"P\");\n",
    "         System.out.println(\"P\");\n",
    "         System.out.println();\n",
    "         return;\n",
    "    }\n",
    "\n",
    "    // Print a large letter C using C characters\n",
    "    //\n",
    "    public static void printC ()\n",
    "    {\n",
    "         System.out.println(\"CCCCCC\");\n",
    "         System.out.println(\"C\");\n",
    "         System.out.println(\"C\");\n",
    "         System.out.println(\"C\");\n",
    "         System.out.println(\"C\");\n",
    "         System.out.println(\"CCCCCC\");\n",
    "         System.out.println();\n",
    "         return;\n",
    "    }\n",
    "\n",
    "    // Print a large letter P followed by a letter C below it\n",
    "    //\n",
    "    public static void printPC ()\n",
    "    {\n",
    "         printP();\n",
    "         printC();\n",
    "         return;\n",
    "    }\n",
    "\n",
    "}\n"
   ]
  },
  {
   "cell_type": "markdown",
   "metadata": {},
   "source": [
    "**END OF LITERATE DOCUMENT**"
   ]
  }
 ],
 "metadata": {
  "kernelspec": {
   "display_name": "Java",
   "language": "java",
   "name": "java"
  },
  "language_info": {
   "codemirror_mode": "java",
   "file_extension": ".jshell",
   "mimetype": "text/x-java-source",
   "name": "Java",
   "pygments_lexer": "java",
   "version": "11.0.8+10-LTS"
  }
 },
 "nbformat": 4,
 "nbformat_minor": 4
}
