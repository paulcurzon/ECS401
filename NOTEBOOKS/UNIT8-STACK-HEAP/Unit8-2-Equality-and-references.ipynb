{
 "cells": [
  {
   "cell_type": "markdown",
   "metadata": {},
   "source": [
    "# Unit 8 Part 2: Equality and References\n",
    "## Paul Curzon\n",
    "\n",
    "## Interactive Programming Exercises\n",
    "\n",
    "### Learning Outcomes\n",
    "- Explain why there are two different kinds of equality.\n",
    "- Be able to write programs that correctly test for equality of two values\n",
    "\n",
    "*This notebook looks at code fragments. After completing these exercises you MUST then go on to write full programs - see the programming exercises in the workbook.*\n",
    "\n",
    "*Answers to exercises are given at the end.*\n",
    "\n",
    "**Always read the answers to exercises and compare them to your own. There are important things to learn from the answers.**\n",
    "\n",
    "<span style=\"color: red;\"> It is a really good idea to add your own notes throughout this notebook to reinforce what you have learnt and highlight important points. Click on the + in the toolbar above to make a new note area, and change it from Code to Markdown in the dropdown menu above if your note is not executable code. You may also want to highlight your notes in red as here, so they stand out. You change colours using span like this: </span>\n",
    "```\n",
    "<span style=\"color: red;\">THE TEXT TO COLOUR RED</span>\n",
    "```"
   ]
  },
  {
   "cell_type": "markdown",
   "metadata": {},
   "source": [
    "## Refresher: Assignment and References\n",
    "\n",
    "Simple values and more complex compound values are stored differently. Memory is divided into two parts: the stack and the heap. Variable are allocated space on the stack, in the next free space. Some kinds of data are just stored there. Others are allocated space there but also need to be given space on the heap. The variable on the stack then just holds a reference (or pointer) to the heap where the actual data is found. Values on the heap could also just be references to other values elsewhere on the heap.\n",
    "\n",
    "Values such as integers, booleans and characters are stored directly in the named storage place on the stack. A declaration and initialisation such as\n",
    "```java\n",
    "count = 0;\n",
    "```\n",
    "allocates the next free storage space on the stack and stores the 0 there.\n",
    "\n",
    "\n",
    "| count |\n",
    "| :---: |\n",
    "| 0 |\n",
    "\n",
    "More complex values including Strings, arrays and records are stored using both the stack and heap. So, the following statements\n",
    "\n",
    "```java\n",
    "Student s = new Student();\n",
    "s.name = \"paul\";\n",
    "s.mark = 99;\n",
    "```\n",
    "\n",
    "leads to the following situation, where s labels a position on the stack but @1 is a memory location on the heap.\n",
    "\n",
    "\n",
    "| s | \n",
    "| :---: | \n",
    "| @1 |\n",
    "\n",
    "<center>I</center>\n",
    "\n",
    "<center>I</center>\n",
    "\n",
    "<center>I</center>\n",
    "\n",
    "<center>V</center>\n",
    "    \n",
    "\n",
    "| @1 | | \n",
    "| :---: | :---: | \n",
    "| Paul | 99  | \n",
    "\n",
    "Above, to help illustrate what is happening, we just use @1 as a shorthand for a particular memory address. In reality it is a big number normally printed in hexadecimal code. We label the second, unnamed storage space by this memory address label. In reality it is just a memory address number.\n",
    "\n",
    "The arrow shows how the stored memory address points to the other storage space."
   ]
  },
  {
   "cell_type": "markdown",
   "metadata": {},
   "source": [
    "### Exercise 1<a id=\"Exercise1\"></a>\n",
    "\n",
    "Read the following code (from the first units) and predict what it prints. After making your prediction run it to check you were right. Then explain what happens."
   ]
  },
  {
   "cell_type": "markdown",
   "metadata": {},
   "source": [
    "**Write your prediction and explanation here**\n"
   ]
  },
  {
   "cell_type": "code",
   "execution_count": null,
   "metadata": {},
   "outputs": [],
   "source": [
    "class Student\n",
    "{\n",
    "    String name;\n",
    "    int mark;\n",
    "}\n",
    "\n",
    "Student s = new Student();\n",
    "s.name = \"Paul\";\n",
    "s.mark = 99;\n",
    "\n",
    "System.out.println(\"s itself is \" + s);\n",
    "System.out.println(\"s.name is \" + s.name);\n",
    "System.out.println(\"s.mark is \" + s.mark);"
   ]
  },
  {
   "cell_type": "markdown",
   "metadata": {},
   "source": [
    "**NOW READ THE ANSWER** [Click here to jump to the solution to this exercise](#Solution1)"
   ]
  },
  {
   "cell_type": "markdown",
   "metadata": {},
   "source": [
    "## What does == do?\n",
    "\n",
    "The boolean operator == takes two expressions and evaluates them before checking if they are the same value. However, which value does it check? With Strings, arrays and records there is both the actual value (on the heap) and a reference to it (that could be on the heap or the stack).\n",
    "\n",
    "**In each of the following exercises make sure you read the answers to ensure you really do understand what is going on**\n"
   ]
  },
  {
   "cell_type": "markdown",
   "metadata": {},
   "source": [
    "### Exercise 2<a id=\"Exercise2\"></a>\n",
    "\n",
    "The following code compares two integers using ==. Predict what it prints. Run it to check you were right.  Explain what is happening."
   ]
  },
  {
   "cell_type": "markdown",
   "metadata": {},
   "source": [
    "**Write your prediction here**\n"
   ]
  },
  {
   "cell_type": "code",
   "execution_count": null,
   "metadata": {
    "scrolled": false
   },
   "outputs": [],
   "source": [
    "int distance1 = 16;\n",
    "int distance2 = 4;\n",
    "int distance3 = 20;\n",
    "\n",
    "if (distance1 + distance2 == distance3)\n",
    "{\n",
    "    System.out.println(\"The distances \" + (distance1 + distance2) + \" and \" + distance3 + \" are equal\");\n",
    "}\n",
    "else\n",
    "{\n",
    "    System.out.println(\"The distances \" + (distance1 + distance2) + \" and \" + distance3 + \" are NOT equal\");\n",
    "}    "
   ]
  },
  {
   "cell_type": "markdown",
   "metadata": {},
   "source": [
    "**NOW READ THE ANSWER** [Click here to jump to the solution to this exercise](#Solution2)"
   ]
  },
  {
   "cell_type": "markdown",
   "metadata": {},
   "source": [
    "### Exercise 3<a id=\"Exercise3\"></a>\n",
    "\n",
    "The following code compares two Strings using ==. Predict what it prints. Run it to check you were right. Explain what is happening."
   ]
  },
  {
   "cell_type": "markdown",
   "metadata": {},
   "source": [
    "**Write your prediction and explanation here**\n"
   ]
  },
  {
   "cell_type": "code",
   "execution_count": null,
   "metadata": {
    "scrolled": false
   },
   "outputs": [],
   "source": [
    "String town1 = \"London\";\n",
    "String town2 = \"Derry\";\n",
    "String town3 = \"LondonDerry\";\n",
    "\n",
    "if ((town1 + town2) == town3)\n",
    "{\n",
    "    System.out.println(\"The towns \" + (town1+town2) + \" and \" + town3 + \" are the same\");\n",
    "}\n",
    "else\n",
    "{\n",
    "    System.out.println(\"The towns \" + (town1+town2) + \" and \" + town3 + \" are NOT the same\");\n",
    "}    "
   ]
  },
  {
   "cell_type": "markdown",
   "metadata": {},
   "source": [
    "**NOW READ THE ANSWER** [Click here to jump to the solution to this exercise](#Solution3)"
   ]
  },
  {
   "cell_type": "markdown",
   "metadata": {},
   "source": [
    "### Exercise 4<a id=\"Exercise4\"></a>\n",
    "\n",
    "The following code compares two Strings using ==. Predict what it prints. Run it to check you were right. Explain what is happening."
   ]
  },
  {
   "cell_type": "code",
   "execution_count": null,
   "metadata": {},
   "outputs": [],
   "source": [
    "String town1 = \"LondonDerry\";\n",
    "String town2 = \"London\" + \"Derry\";\n",
    "\n",
    "if (town1 == town2)\n",
    "{\n",
    "    System.out.println(\"The towns \" + town1 + \" and \" + town2 + \" are the same\");\n",
    "}\n",
    "else\n",
    "{\n",
    "    System.out.println(\"The towns \" + town1 + \" and \" + town2 + \" are NOT the same\");\n",
    "}"
   ]
  },
  {
   "cell_type": "markdown",
   "metadata": {},
   "source": [
    "**NOW READ THE ANSWER** [Click here to jump to the solution to this exercise](#Solution4)"
   ]
  },
  {
   "cell_type": "markdown",
   "metadata": {},
   "source": [
    "### Exercise 5<a id=\"Exercise5\"></a>\n",
    "\n",
    "The following code compares two Strings using .equals. Predict what it prints. Run it to check you were right. Explain what is happening."
   ]
  },
  {
   "cell_type": "markdown",
   "metadata": {},
   "source": [
    "**Write you answer here**\n"
   ]
  },
  {
   "cell_type": "code",
   "execution_count": null,
   "metadata": {},
   "outputs": [],
   "source": [
    "String town1 = \"London\";\n",
    "String town2 = \"Derry\";\n",
    "String town3 = \"LondonDerry\";\n",
    "\n",
    "if ((town1 + town2).equals(town3))\n",
    "{\n",
    "    System.out.println(\"The towns \" + (town1 + town2) + \" and \" + town3 + \" are the same\");\n",
    "}\n",
    "else\n",
    "{\n",
    "    System.out.println(\"The towns \" + (town1 + town2) + \" and \" + town3 + \" are NOT the same\");\n",
    "}"
   ]
  },
  {
   "cell_type": "markdown",
   "metadata": {},
   "source": [
    "**NOW READ THE ANSWER** [Click here to jump to the solution to this exercise](#Solution5)"
   ]
  },
  {
   "cell_type": "markdown",
   "metadata": {},
   "source": [
    "### Exercise 6<a id=\"Exercise6\"></a>\n",
    "\n",
    "The following code compares two Strings using !=. Predict what it prints. Run it to check you were right. Explain what is happening."
   ]
  },
  {
   "cell_type": "markdown",
   "metadata": {},
   "source": [
    "**Write you answer here**\n"
   ]
  },
  {
   "cell_type": "code",
   "execution_count": null,
   "metadata": {},
   "outputs": [],
   "source": [
    "String town1 = \"London\";\n",
    "String town2 = \"Derry\";\n",
    "String town3 = \"LondonDerry\";\n",
    "\n",
    "if ((town1 + town2) != town3)\n",
    "{\n",
    "   System.out.println(\"The towns \" + (town1 + town2) + \" and \" + town3 + \" are NOT the same\");\n",
    "\n",
    "}\n",
    "else\n",
    "{\n",
    "    System.out.println(\"The towns \" + (town1 + town2) + \" and \" + town3 + \" are the same\");\n",
    "}"
   ]
  },
  {
   "cell_type": "markdown",
   "metadata": {},
   "source": [
    "**NOW READ THE ANSWER** [Click here to jump to the solution to this exercise](#Solution6)"
   ]
  },
  {
   "cell_type": "markdown",
   "metadata": {},
   "source": [
    "### Exercise 7<a id=\"Exercise7\"></a>\n",
    "Add an if statement inside the loop to complete the following method to compare two Strings for equality just like .equals.\n",
    "\n",
    "HINT s.charAt(n) returns the character (of type char) at position n in String s\n",
    "\n",
    "Check that the test code prints the correct answers."
   ]
  },
  {
   "cell_type": "code",
   "execution_count": null,
   "metadata": {},
   "outputs": [],
   "source": [
    "public static boolean stringEquals (String s1, String s2)\n",
    "{    \n",
    "    if (s1.length() != s2.length())\n",
    "    {\n",
    "        return false;\n",
    "    }\n",
    "    else // We know the lengths are the same\n",
    "    {\n",
    "        for(int i = 0; i < s1.length(); i++)\n",
    "        {\n",
    "            // ADD AN IF STATEMENT HERE\n",
    "        }\n",
    "    }\n",
    "\n",
    "    return true;\n",
    "}\n",
    "\n",
    "// Test code Should print:\n",
    "// false\n",
    "// false\n",
    "// true\n",
    "// true\n",
    "// The Strings cat and cat are the same\n",
    "\n",
    "String ca = \"ca\";\n",
    "String t = \"t\";\n",
    "System.out.println(stringEquals(\"cat\", \"cats\"));\n",
    "System.out.println(stringEquals(\"cat\", \"dog\"));\n",
    "System.out.println(stringEquals(\"cat\", \"cat\"));\n",
    "System.out.println(stringEquals(\"cat\", ca + t));\n",
    "\n",
    "if (stringEquals(\"cat\", ca + t))\n",
    "{\n",
    "   System.out.println(\"The Strings \" + \"cat\" + \" and \" + (ca + t) + \" are the same\");\n",
    "\n",
    "}\n",
    "else\n",
    "{\n",
    "    System.out.println(\"The Strings \" + \"cat\" + \" and \" + (ca + t) + \" are NOT the same\");\n",
    "}"
   ]
  },
  {
   "cell_type": "markdown",
   "metadata": {},
   "source": [
    "**NOW READ THE ANSWER** [Click here to jump to the solution to this exercise](#Solution7)"
   ]
  },
  {
   "cell_type": "markdown",
   "metadata": {},
   "source": [
    "### Exercise 8<a id=\"Exercise8\"></a>\n",
    "\n",
    "Modify the following code so that town1 and town2 are String arrays with single element \"York\", to see if comparing arrays with == works."
   ]
  },
  {
   "cell_type": "markdown",
   "metadata": {},
   "source": [
    "**Write you answer here**"
   ]
  },
  {
   "cell_type": "code",
   "execution_count": null,
   "metadata": {},
   "outputs": [],
   "source": [
    "String town1 = \"York\";\n",
    "String town2 = \"York\";\n",
    "\n",
    "if (town1==town2)\n",
    "{\n",
    "    System.out.println(\"The towns \" + town1 + \" and \" + town2 + \" are the same\");\n",
    "}\n",
    "else\n",
    "{\n",
    "    System.out.println(\"The towns \" + town1 + \" and \" + town2 + \" are NOT the same\");\n",
    "}"
   ]
  },
  {
   "cell_type": "markdown",
   "metadata": {},
   "source": [
    "**NOW READ THE ANSWER** [Click here to jump to the solution to this exercise](#Solution8)"
   ]
  },
  {
   "cell_type": "markdown",
   "metadata": {},
   "source": [
    "### Exercise 9<a id=\"Exercise9\"></a>\n",
    "\n",
    "Write a method called StringArrayEquals that compares two arrays of Strings passed as arguments. It will be similar to that to compare Strings you wrote above. Test it with the given test calls and check that they give the correct answers."
   ]
  },
  {
   "cell_type": "code",
   "execution_count": null,
   "metadata": {},
   "outputs": [],
   "source": [
    "public static boolean StringArrayEquals (String[]s1, String[] s2)\n",
    "{\n",
    "\n",
    "\n",
    "}\n",
    "\n",
    "// Test code for your method- should print: \n",
    "// true\n",
    "// false\n",
    "// false\n",
    "// It should then print that the twons are the same even though the References printed are different.\n",
    "\n",
    "String [] s1 = {\"cat\",\"sat\",\"mat\"};\n",
    "String [] s2 = {\"cat\",\"sat\",\"mat\"};\n",
    "String [] s3 = {\"cat\",\"sat\",\"hat\"};\n",
    "String [] s4 = {\"cat\",\"sat\",\"on\", \"mat\"};\n",
    "System.out.println(StringArrayEquals (s1, s2));\n",
    "System.out.println(StringArrayEquals (s1, s3));\n",
    "System.out.println(StringArrayEquals (s1, s4));\n",
    "\n",
    "String [] town1 = {\"York\"};\n",
    "String [] town2 = {\"York\"};\n",
    "\n",
    "if (StringArrayEquals(town1,town2))\n",
    "{\n",
    "    System.out.println(\"The towns stored at \" + town1 + \" and \" + town2 + \" are the same\");\n",
    "}\n",
    "else\n",
    "{\n",
    "    System.out.println(\"The towns stored at \" + town1 + \" and \" + town2 + \" are NOT the same\");\n",
    "}"
   ]
  },
  {
   "cell_type": "markdown",
   "metadata": {},
   "source": [
    "**NOW READ THE ANSWER** [Click here to jump to the solution to this exercise](#Solution9)"
   ]
  },
  {
   "cell_type": "markdown",
   "metadata": {},
   "source": [
    "### Exercise 10<a id=\"Exercise10\"></a>\n",
    "\n",
    "Predict what the following code will print. Then run it to see what happens. What does == do with Records?"
   ]
  },
  {
   "cell_type": "markdown",
   "metadata": {},
   "source": [
    "**Write you prediction here**"
   ]
  },
  {
   "cell_type": "code",
   "execution_count": null,
   "metadata": {},
   "outputs": [],
   "source": [
    "class City\n",
    "{\n",
    "    String name;\n",
    "    int distance;\n",
    "}\n",
    "\n",
    "City city1 = new City();\n",
    "city1.name = \"Derry\";\n",
    "city1.distance = 198;\n",
    "\n",
    "City city2 = new City();\n",
    "city2.name = \"Derry\";\n",
    "city2.distance = 198;\n",
    "\n",
    "if (city1==city2)\n",
    "{\n",
    "    System.out.println(\"The cities \" + city1.name + \" and \" + city2.name + \" are the same\");\n",
    "}\n",
    "else\n",
    "{\n",
    "    System.out.println(\"The cities \" + city1.name + \" and \" + city1.name + \" are NOT the same\");\n",
    "}"
   ]
  },
  {
   "cell_type": "markdown",
   "metadata": {},
   "source": [
    "**NOW READ THE ANSWER** [Click here to jump to the solution to this exercise](#Solution10)"
   ]
  },
  {
   "cell_type": "markdown",
   "metadata": {},
   "source": [
    "### Exercise 11<a id=\"Exercise11\"></a>\n",
    "\n",
    "Write a method that compares two cites as defined by the above class definition. Two cities are the same only if they have the same name AND are the same distance from Dublin.\n",
    "\n",
    "Test your method with city1 and city2 as defined above as well as with a third city Limerick which is a distance of 175 km from Dublin. Further check if that Limerick is treated the same as the Limerick in Maine, USA that is 2800km from Dublin."
   ]
  },
  {
   "cell_type": "code",
   "execution_count": null,
   "metadata": {},
   "outputs": [],
   "source": [
    "// Write your method and the test code here\n",
    "\n"
   ]
  },
  {
   "cell_type": "markdown",
   "metadata": {},
   "source": [
    "**NOW READ THE ANSWER** [Click here to jump to the solution to this exercise](#Solution11)"
   ]
  },
  {
   "cell_type": "markdown",
   "metadata": {},
   "source": [
    "### Exercise 12<a id=\"Exercise12\"></a>\n",
    "\n",
    "Summarise what you know about testing for equality."
   ]
  },
  {
   "cell_type": "markdown",
   "metadata": {},
   "source": [
    "**Write your summary here**\n"
   ]
  },
  {
   "cell_type": "markdown",
   "metadata": {},
   "source": [
    "**NOW READ THE ANSWER** [Click here to jump to the solution to this exercise](#Solution12)"
   ]
  },
  {
   "cell_type": "markdown",
   "metadata": {},
   "source": [
    "*Once you have done the above exercises (and understand how the concepts work) move on to doing the actual programming exercises from the workbook, writing full programs. You must be able to write full programs, not just fragments.*"
   ]
  },
  {
   "cell_type": "markdown",
   "metadata": {},
   "source": [
    "## Solutions\n",
    "\n",
    "### Solution to Exercise 1<a id=\"Solution1\"></a>\n",
    "\n",
    "It prints something like\n",
    "```\n",
    "s itself is REPL.$JShell$12$Student@359d8fc\n",
    "s.name is Paul\n",
    "s.mark is 99\n",
    "```\n",
    "\n",
    "where the value printed for s changes each time.\n",
    "\n",
    "When s is printed we are printing what is stored in the variable on the stack. That variable holds a Reference to the data and it is the reference (a memory address) that is printed. It will change each time. \n",
    "\n",
    "When we use the dot notation we are following the reference to get to the memory locations where the actual data resides. It is therefore printing the actual values in the record rather than the References to them."
   ]
  },
  {
   "cell_type": "markdown",
   "metadata": {},
   "source": [
    "[Return to Exercise](#Exercise1)"
   ]
  },
  {
   "cell_type": "markdown",
   "metadata": {},
   "source": [
    "### Solution to Exercise 2<a id=\"Solution2\"></a>\n",
    "\n",
    "== is checking the values of the integers as result from evaluating the expressions. The sum evaluates to\n",
    "the single value 20. The variable evaluates to the value that it stores, also 20. As the two values compared are the same value == returns true and so prints the first branch of the if statement printing a message that they are the same."
   ]
  },
  {
   "cell_type": "markdown",
   "metadata": {},
   "source": [
    "[Return to Exercise](#Exercise2)"
   ]
  },
  {
   "cell_type": "markdown",
   "metadata": {},
   "source": [
    "### Solution to Exercise 3<a id=\"Solution3\"></a>\n",
    "It prints\n",
    "```\n",
    "The towns LondonDerry and LondonDerry are NOT the same\n",
    "```\n",
    "suggesting they are different when they are exactly the same sequence of characters. This is because == is not comparing the Strings themselves (in the sense of checking if the sequence of characters are the same). It is comparing the References to the Strings. All String values are represented by the combination of a Reference to the heap and the actual value (the sequence of characters) at that place on the heap.\n",
    "\n",
    "The critical code is \n",
    "```java\n",
    "String town1 = \"London\";\n",
    "String town2 = \"Derry\";\n",
    "String town3 = \"LondonDerry\";\n",
    "\n",
    "if ((town1 + town2) == town3) ...\n",
    "```\n",
    "\n",
    "town3 holds a reference to a place where the first \"LondonDerry\" is stored. When the code executes it looks in town1 and pulls out \"London\". It then looks in town2 and pulls out \"Derry\". It then creates a new String in a new place by concatenating copies of them together, and stores it on the heap, representing it with its Reference. As this new copy is stored in a different place on the heap to the origianl, the Reference for this new version and the Reference stored in town3 are different. It is these references that == is comparing so it evaluates to false. The if statement therefore says they are different."
   ]
  },
  {
   "cell_type": "markdown",
   "metadata": {},
   "source": [
    "[Return to Exercise](#Exercise3)"
   ]
  },
  {
   "cell_type": "markdown",
   "metadata": {},
   "source": [
    "### Solution to Exercise 4<a id=\"Solution4\"></a>\n",
    "\n",
    "Here == was still being used to compare two Strings but unlike in the previous exercise this time it prints\n",
    "```\n",
    "The towns LondonDerry and LondonDerry are the same\n",
    "```\n",
    "As == is comparing references and the equality test evaluated to true this suggests it found the same Reference values. This means the two String values being compared MUST be stored in the same place. We were comparing town1 and town2 using\n",
    "\n",
    "```java\n",
    "if (town1 == town2)\n",
    "```\n",
    "So even though town1 and town2 are two different variables with different locations on the stack, they hold references and those references are the same. That means they point to the same place. This time the two copies of String \"LondonDerry\" are actually stored in the same place! How did that happen?\n",
    "\n",
    "One way this could have occured is if we had assigned one to the other before the if statement as in\n",
    "```java\n",
    "String town1 = \"LondonDerry\";\n",
    "String town2 = town1;\n",
    "```\n",
    "That would have just copied the reference from town1 into town2 so of course they would then be pointing to the same place. (As an extra exercise, check this is the case.)\n",
    "\n",
    "However, we created the Strings separately and even built the second one up from two parts:\n",
    "\n",
    "```java\n",
    "String town1 = \"LondonDerry\";\n",
    "String town2 = \"London\" + \"Derry\";\n",
    "```\n",
    "\n",
    "This is because the right hand sides are expressions that do not contain variables. They evaluate to the same constant value and this evaluation can be done at compile time (just once). The running program does not need to waste time evaluating \"London\" + \"Derry\". Therefore, the compiler evaluates the expression and silently changes the second line in to the equivalent of\n",
    "\n",
    "```java\n",
    "String town2 = \"LondonDerry\";\n",
    "```\n",
    "\n",
    "before it does anything else.\n",
    "\n",
    "When the compiler comes across a String value to compile it also checks to see if it created that value before, and if so it just uses the existing one. In our case, having pre-evaluated the concatenation it finds it already has a copy of String \"LondonDerry\" on the heap and so returns a reference to it, rather than creating a new copy. The result is in this case the two variables are pointing to the same copy.\n",
    "\n",
    "On the other hand, String values created at runtime are stored separately as it would be very time consuming to check each with every String value manipulated to see if it was the same as an earlier one."
   ]
  },
  {
   "cell_type": "markdown",
   "metadata": {},
   "source": [
    "[Return to Exercise](#Exercise4)"
   ]
  },
  {
   "cell_type": "markdown",
   "metadata": {},
   "source": [
    "### Solution to Exercise 5<a id=\"Solution5\"></a>\n",
    "\n",
    "In this version we compare the Strings with .equals. It doesn't compare references but follows the references to check each character is the same as the corresponding one in the other string. If any are different it returns false. If both are the same length AND it gets to the end of both without finding a difference, then they are the same and it returns true."
   ]
  },
  {
   "cell_type": "markdown",
   "metadata": {},
   "source": [
    "[Return to Exercise](#Exercise5)"
   ]
  },
  {
   "cell_type": "markdown",
   "metadata": {},
   "source": [
    "### Solution to Exercise 6<a id=\"Solution6\"></a>\n",
    "\n",
    "It prints\n",
    "```\n",
    "The towns LondonDerry and LondonDerry are NOT the same\n",
    "```\n",
    "\n",
    "This shows that != is comparing References just like ==. If we want to check if two strings are not equal we need to write\n",
    "```java\n",
    "! (s1.equals(s2))\n",
    "```\n",
    "ie check if they are equal using .equals and then negate the answer."
   ]
  },
  {
   "cell_type": "markdown",
   "metadata": {},
   "source": [
    "[Return to Exercise](#Exercise6)"
   ]
  },
  {
   "cell_type": "markdown",
   "metadata": {},
   "source": [
    "### Solution to Exercise 7<a id=\"Solution7\"></a>\n",
    "\n",
    "We add the if statement \n",
    "```java\n",
    "            if(s1.charAt(i) != s2.charAt(i))\n",
    "                 return false;\n",
    "```\n",
    "\n",
    "The given for loop is scanning down the two strings a character at the time.\n",
    "The if statement checks pairs of characters at the same position in the two strings.\n",
    "If it ever finds a pair that are different then it immmediately knows that the two Strings as a whole must be different and so returns false to indicate that they are not the same."
   ]
  },
  {
   "cell_type": "code",
   "execution_count": null,
   "metadata": {},
   "outputs": [],
   "source": [
    "public static boolean stringEquals (String s1, String s2)\n",
    "{    \n",
    "    if (s1.length() != s2.length())\n",
    "    {\n",
    "        return false;\n",
    "    }\n",
    "    else\n",
    "    {\n",
    "        for(int i = 0; i < s1.length(); i++)\n",
    "        {\n",
    "            if(s1.charAt(i) != s2.charAt(i))\n",
    "                 return false;\n",
    "        }\n",
    "    }\n",
    "\n",
    "    return true;\n",
    "}\n",
    "\n",
    "// Test code Should print:\n",
    "// false\n",
    "// false\n",
    "// true\n",
    "// true\n",
    "// The Strings cat and cat are the same\n",
    "\n",
    "String ca = \"ca\";\n",
    "String t = \"t\";\n",
    "System.out.println(stringEquals(\"cat\", \"cats\"));\n",
    "System.out.println(stringEquals(\"cat\", \"dog\"));\n",
    "System.out.println(stringEquals(\"cat\", \"cat\"));\n",
    "System.out.println(stringEquals(\"cat\", ca + t));\n",
    "\n",
    "if (stringEquals(\"cat\", ca + t))\n",
    "{\n",
    "   System.out.println(\"The Strings \" + \"cat\" + \" and \" + (ca + t) + \" are the same\");\n",
    "\n",
    "}\n",
    "else\n",
    "{\n",
    "    System.out.println(\"The Strings \" + \"cat\" + \" and \" + (ca + t) + \" are NOT the same\");\n",
    "}"
   ]
  },
  {
   "cell_type": "markdown",
   "metadata": {},
   "source": [
    "[Return to Exercise](#Exercise7)"
   ]
  },
  {
   "cell_type": "markdown",
   "metadata": {},
   "source": [
    "### Solution to Exercise 8<a id=\"Solution8\"></a>\n",
    "\n",
    "The code is as below. The types are changed to array types and the values to arrays of length 1.\n",
    "It prints something like:\n",
    "```\n",
    "The towns [Ljava.lang.String;@8ec732 and [Ljava.lang.String;@e492953 are NOT the same\n",
    "```\n",
    "== is again comparing the references as printed. Those references are different so the equality test returns false.\n",
    "\n",
    "Note that, suprisingly perhaps, if you try using .equals instead for arrays as shown in the second block of code below, it also fails to work. Do not EVER use .equals with arrays! It isn't broken as such but it does NOT do what you expect!"
   ]
  },
  {
   "cell_type": "code",
   "execution_count": null,
   "metadata": {},
   "outputs": [],
   "source": [
    "String [] town1 = {\"York\"};\n",
    "String [] town2 = {\"York\"};\n",
    "\n",
    "if (town1==town2)\n",
    "{\n",
    "    System.out.println(\"The towns \" + town1 + \" and \" + town2 + \" are the same\");\n",
    "}\n",
    "else\n",
    "{\n",
    "    System.out.println(\"The towns \" + town1 + \" and \" + town2 + \" are NOT the same\");\n",
    "}"
   ]
  },
  {
   "cell_type": "code",
   "execution_count": null,
   "metadata": {},
   "outputs": [],
   "source": [
    "String [] town1 = {\"York\"};\n",
    "String [] town2 = {\"York\"};\n",
    "\n",
    "if (town1.equals(town2))\n",
    "{\n",
    "    System.out.println(\"The towns \" + town1 + \" and \" + town2 + \" are the same\");\n",
    "}\n",
    "else\n",
    "{\n",
    "    System.out.println(\"The towns \" + town1 + \" and \" + town2 + \" are NOT the same\");\n",
    "}"
   ]
  },
  {
   "cell_type": "markdown",
   "metadata": {},
   "source": [
    "[Return to Exercise](#Exercise8)"
   ]
  },
  {
   "cell_type": "markdown",
   "metadata": {},
   "source": [
    "### Solution to Exercise 9<a id=\"Solution9\"></a>\n",
    "\n",
    "The code to compare arrays of Strings is as below. "
   ]
  },
  {
   "cell_type": "code",
   "execution_count": null,
   "metadata": {},
   "outputs": [],
   "source": [
    "public static boolean StringArrayEquals (String[]s1, String[] s2)\n",
    "{\n",
    "    if (s1.length != s2.length)\n",
    "    {\n",
    "        return false;\n",
    "    }\n",
    "    else // We know the lengths are the same\n",
    "    {\n",
    "        for(int i = 0; i < s1.length; i++)\n",
    "        {\n",
    "            if (! (s1[i].equals(s2[i])))\n",
    "                return false;\n",
    "        }\n",
    "    }\n",
    "\n",
    "    return true;\n",
    "\n",
    "}\n",
    "\n",
    "\n",
    "// Test code for your method- should print: \n",
    "// true\n",
    "// false\n",
    "// false\n",
    "// It should then print that the twons are the same even though the References printed are different.\n",
    "\n",
    "String [] s1 = {\"cat\",\"sat\",\"mat\"};\n",
    "String [] s2 = {\"cat\",\"sat\",\"mat\"};\n",
    "String [] s3 = {\"cat\",\"sat\",\"hat\"};\n",
    "String [] s4 = {\"cat\",\"sat\",\"on\", \"mat\"};\n",
    "System.out.println(StringArrayEquals (s1, s2));\n",
    "System.out.println(StringArrayEquals (s1, s3));\n",
    "System.out.println(StringArrayEquals (s1, s4));\n",
    "\n",
    "\n",
    "String [] town1 = {\"York\"};\n",
    "String [] town2 = {\"York\"};\n",
    "\n",
    "if (StringArrayEquals(town1,town2))\n",
    "{\n",
    "    System.out.println(\"The towns stored at\" + town1 + \" and \" + town2 + \" are the same\");\n",
    "}\n",
    "else\n",
    "{\n",
    "    System.out.println(\"The towns stored at\" + town1 + \" and \" + town2 + \" are NOT the same\");\n",
    "}"
   ]
  },
  {
   "cell_type": "markdown",
   "metadata": {},
   "source": [
    "[Return to Exercise](#Exercise9)"
   ]
  },
  {
   "cell_type": "markdown",
   "metadata": {},
   "source": [
    "### Solution to Exercise 10<a id=\"Solution10\"></a>\n",
    "\n",
    "It prints \n",
    "\n",
    "```\n",
    "The cities Derry and Derry are NOT the same\n",
    "```\n",
    "\n",
    "With records, as they are reference types, == compares the references not the actual values."
   ]
  },
  {
   "cell_type": "markdown",
   "metadata": {},
   "source": [
    "[Return to Exercise](#Exercise10)"
   ]
  },
  {
   "cell_type": "markdown",
   "metadata": {},
   "source": [
    "### Solution to Exercise 11<a id=\"Solution11\"></a>\n",
    "\n",
    "We just need a simple if statement that checks the pairs of values in both fields are the same"
   ]
  },
  {
   "cell_type": "code",
   "execution_count": null,
   "metadata": {},
   "outputs": [],
   "source": [
    "\n",
    "class City\n",
    "{\n",
    "    String name;\n",
    "    int distance;\n",
    "}\n",
    "\n",
    "public static boolean CityEquals(City c1, City c2)\n",
    "{\n",
    "    if ((c1.name.equals(c2.name)) & (c1.distance == c2.distance))\n",
    "        return true;\n",
    "    else\n",
    "        return false;\n",
    "}\n",
    "\n",
    "\n",
    "City city1 = new City();\n",
    "city1.name = \"Derry\";\n",
    "city1.distance = 198;\n",
    "\n",
    "City city2 = new City();\n",
    "city2.name = \"Derry\";\n",
    "city2.distance = 198;\n",
    "\n",
    "City city3 = new City();\n",
    "city3.name = \"Limerick\";\n",
    "city3.distance = 175;\n",
    "\n",
    "City city4 = new City();\n",
    "city4.name = \"Limerick\";\n",
    "city4.distance = 2800;\n",
    "\n",
    "// It should print\n",
    "// true\n",
    "// false\n",
    "// false\n",
    "\n",
    "\n",
    "System.out.println(CityEquals(city1, city2));\n",
    "System.out.println(CityEquals(city1, city3));\n",
    "System.out.println(CityEquals(city3, city4));\n",
    "\n",
    "if (CityEquals(city1, city2))\n",
    "{\n",
    "    System.out.println(\"The cities stored at \" + city1 + \" and \" + city2 + \" are the same\");\n",
    "}\n",
    "else\n",
    "{\n",
    "    System.out.println(\"The cities stored at \" + city1 + \" and \" + city2 + \" are NOT the same\");\n",
    "}"
   ]
  },
  {
   "cell_type": "markdown",
   "metadata": {},
   "source": [
    "[Return to Exercise](#Exercise11)"
   ]
  },
  {
   "cell_type": "markdown",
   "metadata": {},
   "source": [
    "### Solution to Exercise 12<a id=\"Solution12\"></a>\n",
    "\n",
    "The operator == compares the immediate values stored in a variable. That is the actual value for simple types like integers and characters so in these cases it does as expected, telling you if the values are the same. \n",
    "\n",
    "For reference types (Strings, arrays and records) the value stored in the variable on the stack (and the immediate result of evaluating an expression that gives such a value) is the reference to where the data is stored. Therefore == just checks the references and so whether they are pointing to the same storage space on the stack. It does not look at the actual values. Sometimes two variables holding the same values can point to the same copy of the value, but at other times they may not. == cannot therefore be relied on to compare string values unless you want to know where they are stored. \n",
    "\n",
    "Instead, for Strings, .equals must be used, though .equals also does not work as expected for arrays or records. You can define your own equality operators that do follow the references and so compare the actual values. Do this for any record type that you need to compare values. In some situations you want to compare all the values of a record for equality. At other times you may just be trying to match particular fields such as a name field or an ID field. Which you need depends on the task at hand. "
   ]
  },
  {
   "cell_type": "markdown",
   "metadata": {},
   "source": [
    "[Return to Exercise](#Exercise12)"
   ]
  }
 ],
 "metadata": {
  "kernelspec": {
   "display_name": "Java",
   "language": "java",
   "name": "java"
  },
  "language_info": {
   "codemirror_mode": "java",
   "file_extension": ".jshell",
   "mimetype": "text/x-java-source",
   "name": "Java",
   "pygments_lexer": "java",
   "version": "11.0.8+10-LTS"
  }
 },
 "nbformat": 4,
 "nbformat_minor": 2
}
