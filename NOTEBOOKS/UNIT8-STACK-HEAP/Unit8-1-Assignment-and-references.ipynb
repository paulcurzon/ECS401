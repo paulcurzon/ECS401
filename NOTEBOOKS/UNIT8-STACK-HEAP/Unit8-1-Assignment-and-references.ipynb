{
 "cells": [
  {
   "cell_type": "markdown",
   "metadata": {},
   "source": [
    "# Unit 8 Part 1: Assignment and References\n",
    "## Paul Curzon\n",
    "\n",
    "## Interactive Programming Exercises\n",
    "\n",
    "### Learning Outcomes\n",
    "- Explain why assignment appears to work differently between values of simple types and complex ones.\n",
    "\n",
    "*This notebook looks at code fragments. After completing these exercises you MUST then go on to write full programs - see the programming exercises in the workbook.*\n",
    "\n",
    "*Answers to exercises are given at the end.*\n",
    "\n",
    "**Always read the answers to exercises and compare them to your own. There are important things to learn from the answers.**\n",
    "\n",
    "<span style=\"color: red;\"> It is a really good idea to add your own notes throughout this notebook to reinforce what you have learnt and highlight important points. Click on the + in the toolbar above to make a new note area, and change it from Code to Markdown in the dropdown menu above if your note is not executable code. You may also want to highlight your notes in red as here, so they stand out. You change colours using span like this: </span>\n",
    "```\n",
    "<span style=\"color: red;\">THE TEXT TO COLOUR RED</span>\n",
    "```"
   ]
  },
  {
   "cell_type": "markdown",
   "metadata": {},
   "source": [
    "## Assignment\n",
    "\n",
    "We have seen that variables are like storage boxes \n",
    "- but that can only store one thing at once, so when a new thing is stored the old thing is shredded,\n",
    "- and things are copied from them, never moved.\n",
    "\n",
    "However, there is some apparently odd behaviour of assignment that suggests something more is going on. The above is a good model of what is happening, but something else comes in to play - references. References are just pointers from one storage location in memory to another and understanding them is key to understanding the odd behaviour.\n",
    "\n",
    "Let us start by reviewing the basics from the early units. "
   ]
  },
  {
   "cell_type": "markdown",
   "metadata": {},
   "source": [
    "### Exercise 1<a id=\"Exercise1\"></a>\n",
    "\n",
    "Read the following code (from the first units) and predict exactly what it prints. After making your prediction run it to check you were right. Then explain what happens."
   ]
  },
  {
   "cell_type": "markdown",
   "metadata": {},
   "source": [
    "**Write your prediction and explanation here**\n"
   ]
  },
  {
   "cell_type": "code",
   "execution_count": null,
   "metadata": {},
   "outputs": [],
   "source": [
    "int num1 = 16;\n",
    "int num2 = 32;\n",
    "\n",
    "System.out.println(\"num1 holds \" + num1);\n",
    "System.out.println(\"num2 holds \" + num2);\n",
    "\n",
    "num2 = num1;\n",
    "\n",
    "System.out.println(\"num1 holds \" + num1);\n",
    "System.out.println(\"num2 holds \" + num2);\n",
    "\n",
    "num1 = 8;\n",
    "\n",
    "System.out.println(\"num1 holds \" + num1);\n",
    "System.out.println(\"num2 holds \" + num2);"
   ]
  },
  {
   "cell_type": "markdown",
   "metadata": {},
   "source": [
    "**NOW READ THE ANSWER** [Click here to jump to the solution to this exercise](#Solution1)"
   ]
  },
  {
   "cell_type": "markdown",
   "metadata": {},
   "source": [
    "### Exercise 2<a id=\"Exercise2\"></a>\n",
    "\n",
    "The following code is identical to the above except that it now uses array variables instead of int variables to store the single integer values (in arrays of size 1). Read the code and predict exactly what it prints.\n",
    "\n",
    "Then run the code to see if you were right."
   ]
  },
  {
   "cell_type": "markdown",
   "metadata": {},
   "source": [
    "**Write your prediction here**\n"
   ]
  },
  {
   "cell_type": "code",
   "execution_count": null,
   "metadata": {
    "scrolled": false
   },
   "outputs": [],
   "source": [
    "int [] numarray1 = {16};\n",
    "int [] numarray2 = {32};\n",
    "\n",
    "System.out.println(\"numarray1 holds \" + numarray1[0]);\n",
    "System.out.println(\"numarray2 holds \" + numarray2[0]);\n",
    "\n",
    "numarray2 = numarray1;\n",
    "\n",
    "System.out.println(\"numarray1 holds \" + numarray1[0]);\n",
    "System.out.println(\"numarray2 holds \" + numarray2[0]);\n",
    "\n",
    "numarray1[0] = 8;\n",
    "\n",
    "System.out.println(\"numarray1 holds \" + numarray1[0]);\n",
    "System.out.println(\"numarray2 holds \" + numarray2[0]);"
   ]
  },
  {
   "cell_type": "markdown",
   "metadata": {},
   "source": [
    "**NOW READ THE ANSWER** [Click here to jump to the solution to this exercise](#Solution2)"
   ]
  },
  {
   "cell_type": "markdown",
   "metadata": {},
   "source": [
    "## What is happening\n",
    "\n",
    "Something odd is happening. You would expect (given what we understand about assignment from the previous units) for the two examples to print the same results, but they don't. In the second example, changing a value in number1 has apparently changed number2 as well even though it is not mentioned. However, they are different variables - different storage spaces that are supposedly not connected. The example seems to suggest assignment has worked differently: as a result of the assignments the two variables appear to be now connected in a strange way.\n",
    "\n",
    "**Do not jump to conclusions!**\n",
    "\n",
    "Despite what it looks like, it is NOT assignment that is working differently in the two situations. **It is the way different values are stored that causes the difference.** A variable declaration creates a storage space in memory ('a box') and the variable name is attached to that box. That is the case whatever the type of value stored.\n",
    "\n",
    "Simple values like integers are stored directly in the box. So the result of \n",
    "```java\n",
    "num1 = 16;\n",
    "```\n",
    "is to put 16 in the storage space called num1.\n",
    "\n",
    "| num1 |\n",
    "| :---: |\n",
    "| 16 |\n",
    "\n",
    "An array is stored differently, however. It is stored in two parts so involves two different storage spaces not just one. The first storage space is similar to the one for integers. It is the place in the computer memory the variable name actually refers to. However the array value itself is not stored there. Instead a **reference** to the value is stored there. A reference is just a **pointer**. It points to the second storage space reserved for the array which is where the actual value is stored. In reality, a reference is a **memory address**: just a big number identifying a specific place in memory. Memory addresses are a bit like the index of an array but giving the position in the whole of memory, rather than just a position in an array.\n",
    "\n",
    "Below, to help illustrate what is happening, we just use @1 as a shorthand for a particular memory address. We label the second, unnamed storage space by this memory address label. In reality it is just a memory address number.\n",
    "\n",
    "\n",
    "| numarray1 | \n",
    "| :---: | \n",
    "| @1 |\n",
    "\n",
    "<center>I</center>\n",
    "\n",
    "<center>I</center>\n",
    "\n",
    "<center>I</center>\n",
    "\n",
    "<center>V</center>\n",
    "    \n",
    "\n",
    "| @1 | \n",
    "| :---: | \n",
    "| 16 |\n",
    "\n",
    "\n",
    "The arrow shows how the stored memory address points to the other storage space."
   ]
  },
  {
   "cell_type": "markdown",
   "metadata": {},
   "source": [
    "## How does the way arrays are stored affect assignment?\n",
    "\n",
    "When we assign a value to a variable such as\n",
    "```java\n",
    "num1 = 16;\n",
    "```\n",
    "We are just putting a value in the named storage space.\n",
    "\n",
    "When we refer to a variable in an expression such as on the right hand side of\n",
    "an assignment, we get a value out of the named storage space. Therefore,\n",
    "```java\n",
    "num2 = num1;\n",
    "```\n",
    "gets the value out of the storage space num1 and puts it in num2.\n",
    "\n",
    "Exactly the same thing happens with assignment except this time what is in those storage spaces refered to by the variable name are not the data itself but a reference.\n",
    "\n",
    "This means that when we assign a value to a variable such as\n",
    "```java\n",
    "numarray2 = numarray1;\n",
    "```\n",
    "the right hand side evaluates to give us a copy of the value in numarray1 - and that value is the **reference** that is stored in numarray1. The assignment then stores that reference into numarray2. We have copied a memory address from one place to the other. This means that we are changing where the variable numarray2 is pointing to. \n",
    "numarray2 now points to the same block of memory as numarray1. It now holds a new address.\n",
    "The actual data the two array variables are pointing to is untouched by the assignment.\n",
    "\n",
    "Both variables now point to the same storage space - the storage space that was originally set up for numarray1. The original storage space numarray2 was pointing to is lost (unless a copy of it was made). The memory concerned is eventually freed up to be used again.\n",
    "\n",
    "When we then do an assignment to change an entry in the array, we change the information at the place both variables are pointing to.\n",
    "\n",
    "So\n",
    "```java\n",
    "numarray1[0] = 8;\n",
    "```\n",
    "changes the value in the 0th position after that pointed to from numarray1 to 8. However, numarray2 is now pointing to the same place, so when we follow its pointer and look at it ```numarray2[0]``` it goes now to the same storage location and so gives us back the same value.  Printing the values in both arrays does the same thing. \n",
    "\n",
    "\n",
    "The upshot of this is that when we give an array variable name it access the variable value as\n",
    "with any other value. However, what it finds there is a reference not the data. Assignment always\n",
    "does the same thing copying and storing new values in the named storage spaces,\n",
    "but the values in those storage spaces being manipulated are references in the case of an array.\n"
   ]
  },
  {
   "cell_type": "markdown",
   "metadata": {},
   "source": [
    "### Exercise 3<a id=\"Exercise3\"></a>\n",
    "\n",
    "Run the following code to see what happens. Given the above explanation of how arrays are stored, explain what happens."
   ]
  },
  {
   "cell_type": "markdown",
   "metadata": {},
   "source": [
    "**Write your prediction and explanation here**\n"
   ]
  },
  {
   "cell_type": "code",
   "execution_count": null,
   "metadata": {},
   "outputs": [],
   "source": [
    "int [] numarray1 = {16};\n",
    "System.out.println(numarray1);\n",
    "System.out.println(numarray1[0]);"
   ]
  },
  {
   "cell_type": "markdown",
   "metadata": {},
   "source": [
    "**NOW READ THE ANSWER** [Click here to jump to the solution to this exercise](#Solution3)"
   ]
  },
  {
   "cell_type": "markdown",
   "metadata": {},
   "source": [
    "## Following references\n",
    "\n",
    "When we give an index to an array variable (eg ```numarray1[0]```) we are telling the computer to follow the pointer. \n",
    "You can think of a reference as being a signpost telling you how to get\n",
    "to the real storage location. Then treat the ```[]``` as meaning \"follow the signpost and go to\n",
    "where it is pointing to find the actual data.\"\n",
    "\n",
    "So ```numarray1[0]``` says go to numarray1 and note\n",
    "the reference stored there, then \"follow the signpost\" ie go to the block of storage at the\n",
    "given memory address. The ```[0]``` says once you get there go to the 0th place on from that. \n",
    "\n",
    "An expression ```a[5]```\n",
    " says look at the reference in a, then go to that storage space it points to, but then go on 5 places further from that point to find the actual data. The value found there is what ```a[5]``` evaluates to.\n",
    "\n",
    "The print statement:\n",
    "```java\n",
    "System.out.println(numarray1[0]);\n",
    "```\n",
    "thus prints the value stored in the location where numarray1 is pointing. 16 is stored there \n",
    "so 16 is passed to the print method to be printed.\n"
   ]
  },
  {
   "cell_type": "markdown",
   "metadata": {},
   "source": [
    "### Exercise 4<a id=\"Exercise4\"></a>\n",
    "\n",
    "Edit the following code so that the two arrays have length 2 so store two values. Run it to check that the same thing happens when the other values in the array are accessed."
   ]
  },
  {
   "cell_type": "code",
   "execution_count": null,
   "metadata": {},
   "outputs": [],
   "source": [
    "int [] numarray1 = {16};\n",
    "int [] numarray2 = {32};\n",
    "\n",
    "System.out.println(\"numarray1 holds \" + numarray1[0]);\n",
    "System.out.println(\"numarray2 holds \" + numarray2[0]);\n",
    "\n",
    "numarray2 = numarray1;\n",
    "\n",
    "numarray1[0] = 8;\n",
    "\n",
    "System.out.println(\"numarray1 holds \" + numarray1[0]);\n",
    "System.out.println(\"numarray2 holds \" + numarray2[0]);"
   ]
  },
  {
   "cell_type": "markdown",
   "metadata": {},
   "source": [
    "**NOW READ THE ANSWER** [Click here to jump to the solution to this exercise](#Solution4)"
   ]
  },
  {
   "cell_type": "markdown",
   "metadata": {},
   "source": [
    "### Exercise 5<a id=\"Exercise5\"></a>\n",
    "\n",
    "Predict what you think the following code will do. Explain what happens. \n",
    "\n",
    "Are records stored like integers or like arrays using reference?"
   ]
  },
  {
   "cell_type": "markdown",
   "metadata": {},
   "source": [
    "**Write you answer here**\n"
   ]
  },
  {
   "cell_type": "code",
   "execution_count": null,
   "metadata": {},
   "outputs": [],
   "source": [
    "class Animal\n",
    "{\n",
    "   String name;\n",
    "}\n",
    "\n",
    "\n",
    "Animal variable1 = new Animal();\n",
    "Animal variable2 = new Animal();\n",
    "\n",
    "variable1.name = \"cat\";\n",
    "variable2.name = \"dog\";\n",
    "\n",
    "variable2 = variable1;\n",
    "\n",
    "variable1.name = \"cow\";\n",
    "\n",
    "System.out.println(\"variable1 holds \" + variable1.name);\n",
    "System.out.println(\"variable2 holds \" + variable2.name);"
   ]
  },
  {
   "cell_type": "markdown",
   "metadata": {},
   "source": [
    "**NOW READ THE ANSWER** [Click here to jump to the solution to this exercise](#Solution5)"
   ]
  },
  {
   "cell_type": "markdown",
   "metadata": {},
   "source": [
    "### Exercise 6<a id=\"Exercise6\"></a>\n",
    "\n",
    "Convert the following code so that the variables are of type char and store single characters in them (ie values\n",
    "'a', 'b' and 'c').\n",
    "\n",
    "Based on the results, are single characters stored like integers in the named storage space or as references like arrays?"
   ]
  },
  {
   "cell_type": "markdown",
   "metadata": {},
   "source": [
    "**Write you answer here**\n"
   ]
  },
  {
   "cell_type": "code",
   "execution_count": null,
   "metadata": {},
   "outputs": [],
   "source": [
    "int variable1 = 16;\n",
    "int variable2 = 32;\n",
    "\n",
    "System.out.println(\"variable1 holds \" + variable1);\n",
    "System.out.println(\"variable2 holds \" + variable2);\n",
    "\n",
    "variable2 = variable1;\n",
    "\n",
    "variable1 = 8;\n",
    "\n",
    "System.out.println(\"variable1 holds \" + variable1);\n",
    "System.out.println(\"variable2 holds \" + variable2);"
   ]
  },
  {
   "cell_type": "markdown",
   "metadata": {},
   "source": [
    "**NOW READ THE ANSWER** [Click here to jump to the solution to this exercise](#Solution6)"
   ]
  },
  {
   "cell_type": "markdown",
   "metadata": {},
   "source": [
    "\n",
    "## Strings\n",
    "Strings are more complicated. They are actually stored as references, but in a way that hides the fact (basically they are defined as an abstract data type hiding the reference implementation). The key difference is **String values cannot be changed once creaated**.  Each new String value is stored in a different storage place. When you store a new String value in a variable you are creating a completely new sequence of characters stored on the **heap** first and then making a reference point to it, stored in the variable. When you concatenate two strings like \n",
    "```\n",
    "\"hello \" + \"Paul\"\n",
    "```\n",
    "to create the String ```\"hello Paul\"``` you are making a completely new string not changing either\n",
    " ```\"hello \"```  or  ```\"Paul\"```."
   ]
  },
  {
   "cell_type": "markdown",
   "metadata": {},
   "source": [
    "### Exercise 7<a id=\"Exercise7\"></a>\n",
    "\n",
    "Run the following similar code to that above. Given Strings **are stored as references like arrays**, can you explain based on the explanation above why String assignment seems to have the same effect as with integers rather than as with arrays and records."
   ]
  },
  {
   "cell_type": "code",
   "execution_count": null,
   "metadata": {},
   "outputs": [],
   "source": [
    "String variable1 = \"cat\";\n",
    "String variable2 = \"dog\";\n",
    "\n",
    "System.out.println(\"variable1 holds \" + variable1);\n",
    "System.out.println(\"variable2 holds \" + variable2);\n",
    "\n",
    "variable2 = variable1;\n",
    "\n",
    "System.out.println(\"variable1 holds \" + variable1);\n",
    "System.out.println(\"variable2 holds \" + variable2);\n",
    "\n",
    "variable1 = \"ant\";\n",
    "\n",
    "System.out.println(\"variable1 holds \" + variable1);\n",
    "System.out.println(\"variable2 holds \" + variable2);"
   ]
  },
  {
   "cell_type": "markdown",
   "metadata": {},
   "source": [
    "**NOW READ THE ANSWER** [Click here to jump to the solution to this exercise](#Solution7)"
   ]
  },
  {
   "cell_type": "markdown",
   "metadata": {},
   "source": [
    "## The heap and the stack\n",
    "\n",
    "When a Java program runs the memory it uses is divided into two areas called the stack and the heap that are both organised and used differently. All declared variables are allocated a place on the stack in the next free space there. Variables thus refer to the stack. It is thus a very organised area of memory in a way that supports localisation.\n",
    "\n",
    "For variables of simple types like integers and characters, the variable is a place on the stack. When values are stored in a variable they are stored in that place on the stack. So a declaration like\n",
    "\n",
    "```java\n",
    "int count = 1;\n",
    "```\n",
    "\n",
    "creates a storage space on the stack, labels it count and the value 1 is stored in that position on the stack.\n",
    "\n",
    "For variables holding reference types like arrays, records and Strings, the variable also corresponds to a place on the stack. However, the value stored there on the stack is the reference. All references then point to storage locations on the heap.\n",
    "\n",
    "Therefore, in a declaration like\n",
    "\n",
    "```java\n",
    "int [] ages = {1,2,3};\n",
    "```\n",
    "one storage space is created on the stack. It is labelled ages, and it holds a reference. The values 1, 2 and 3 are stored together on the heap. The reference stored on the stack points to that new place on the heap.\n",
    "\n",
    "The heap can hold references too, pointing to other places on the heap. If we declare an array of Strings, then all the values stored in the array (on the heap) are Strings. However, those Strings are stored as references themselves, so what the values in the array are, are just references to other places on the heap.\n",
    "\n",
    "## new\n",
    "\n",
    "Given the above explanation of references, the stack and the heap, we can now start to understand what **new** does: it just allocates storage space on the heap."
   ]
  },
  {
   "cell_type": "markdown",
   "metadata": {},
   "source": [
    "### Exercise 8<a id=\"Exercise8\"></a>\n",
    "\n",
    "Explain what each line in the following code fragment does in terms of the stack and the heap."
   ]
  },
  {
   "cell_type": "markdown",
   "metadata": {},
   "source": [
    "**Write your explanation here**\n"
   ]
  },
  {
   "cell_type": "code",
   "execution_count": null,
   "metadata": {},
   "outputs": [],
   "source": [
    "int myage = 50;\n",
    "\n",
    "int[] ages;\n",
    "ages = new int[5];\n",
    "ages[3] = myage;\n",
    "System.out.println(ages[3]);"
   ]
  },
  {
   "cell_type": "markdown",
   "metadata": {},
   "source": [
    "**NOW READ THE ANSWER** [Click here to jump to the solution to this exercise](#Solution8)"
   ]
  },
  {
   "cell_type": "markdown",
   "metadata": {},
   "source": [
    "### Exercise 9<a id=\"Exercise9\"></a>\n",
    "\n",
    "What will the following print? Run it to see if you are right and explain what it is doing."
   ]
  },
  {
   "cell_type": "markdown",
   "metadata": {},
   "source": [
    "**Write your answer here**\n"
   ]
  },
  {
   "cell_type": "code",
   "execution_count": null,
   "metadata": {},
   "outputs": [],
   "source": [
    "System.out.println(new int[3]);"
   ]
  },
  {
   "cell_type": "markdown",
   "metadata": {},
   "source": [
    "**NOW READ THE ANSWER** [Click here to jump to the solution to this exercise](#Solution9)"
   ]
  },
  {
   "cell_type": "markdown",
   "metadata": {},
   "source": [
    "### Exercise 10<a id=\"Exercise10\"></a>\n",
    "\n",
    "Summarise what you know about the way values of different types are stored."
   ]
  },
  {
   "cell_type": "markdown",
   "metadata": {},
   "source": [
    "**Write your summary here**\n"
   ]
  },
  {
   "cell_type": "markdown",
   "metadata": {},
   "source": [
    "**NOW READ THE ANSWER** [Click here to jump to the solution to this exercise](#Solution10)"
   ]
  },
  {
   "cell_type": "markdown",
   "metadata": {},
   "source": [
    "*Once you have done the above exercises (and understand how the concepts work) move on to doing the actual programming exercises from the workbook, writing full programs. You must be able to write full programs, not just fragments.*"
   ]
  },
  {
   "cell_type": "markdown",
   "metadata": {},
   "source": [
    "## Solutions\n",
    "\n",
    "### Solution to Exercise 1<a id=\"Solution1\"></a>\n",
    "\n",
    "It prints\n",
    "```\n",
    "num1 holds 16\n",
    "num2 holds 32\n",
    "num1 holds 16\n",
    "num2 holds 16\n",
    "num1 holds 8\n",
    "num2 holds 16 \n",
    "```\n",
    "\n",
    "The code stores 16 in num1 and then 32 into num2, printing both out.\n",
    "It then makes a copy of the value in num1 and stores it in num2, leaving num1 alone.\n",
    "```java\n",
    "num2 = num1;\n",
    "```\n",
    "num2 as a result now holds 16 as does num1 still.\n",
    "We then assign the value 8 to num1. That means num2 gets the value 8, losing its previous value.\n",
    "```java\n",
    "num1 = 8;\n",
    "```\n",
    "As this assignment does not mention num2, num2 retains the value 16\n",
    "\n",
    "Thus the final values printed are 8 and 16."
   ]
  },
  {
   "cell_type": "markdown",
   "metadata": {},
   "source": [
    "[Return to Exercise](#Exercise1)"
   ]
  },
  {
   "cell_type": "markdown",
   "metadata": {},
   "source": [
    "### Solution to Exercise 2<a id=\"Solution2\"></a>\n",
    "\n",
    "Despite looking essentially the same it this time prints  adifferent value at the end for numarray1\n",
    "```\n",
    "numarray1 holds 16\n",
    "numarray2 holds 32\n",
    "numarray1 holds 16\n",
    "numarray2 holds 16\n",
    "numarray1 holds 8\n",
    "numarray2 holds 8\n",
    "```\n",
    "Changing the value in variable numarray1 seems to have also changed the value in numarray2 even though they are different variables so different storage spaces. It seems like the assignment\n",
    "```java\n",
    "numarray2 = numarray1;\n",
    "```\n",
    "has behaved completely differently here to the equivalent looking.\n",
    "```java\n",
    "num2 = num1;\n",
    "```\n",
    "\n",
    "It *seems* to have somehow made the two variables be the same box. It hasn't!\n",
    "\n",
    "In fact, the assignments are behaving exactly the same in the two examples of exercise 1 and 2. The difference is not due to the assignment but due to the fact that integers and arrays are stored in different ways, as we will see."
   ]
  },
  {
   "cell_type": "markdown",
   "metadata": {},
   "source": [
    "[Return to Exercise](#Exercise2)"
   ]
  },
  {
   "cell_type": "markdown",
   "metadata": {},
   "source": [
    "### Solution to Exercise 3<a id=\"Solution3\"></a>\n",
    "It prints something like:\n",
    "```\n",
    "[I@1032949d\n",
    "16\n",
    "```\n",
    "where the first line printed is apparently a meaningless string of digits and letters. On the second line 16 is printed.\n",
    "\n",
    "The code first creates an array variable, numarray1 storing in it a reference to another storage space\n",
    "where the 16 is stored. When we print numarray1 itself: not one cell of it like ```numarray1[0]``` but the whole thing as in\n",
    "```java\n",
    "System.out.println(numarray1);\n",
    "```\n",
    "the reference is printed.\n",
    "\n",
    "We are not actually printing the data here. We are printing the reference that is stored in the\n",
    "storage space numarray1 itself - a memory address (so essentially a big number). It is printed in a number representation called hexadecimal (base 16) which has 16 digits so contains letters a-f as the extra digits that come after 9. Each time you run it a different place in memory will be **allocated** (ie chosen) for the array storage and so the address will be different each time. That is why the hexadecimal number printed is different each time it is run.\n",
    "\n",
    "By contrast, when we print ```numarray1[0]``` as in\n",
    "```java\n",
    "System.out.println(numarray1);\n",
    "```\n",
    "we are going to that memory address and printing the value stored there. It is where the 16 was put so\n",
    "that is what we print. You can think of the square brackets as meaning follow the pointer."
   ]
  },
  {
   "cell_type": "markdown",
   "metadata": {},
   "source": [
    "[Return to Exercise](#Exercise3)"
   ]
  },
  {
   "cell_type": "markdown",
   "metadata": {},
   "source": [
    "### Solution to Exercise 4<a id=\"Solution4\"></a>\n",
    "\n",
    "The same thing does happen all values in numarray1 and numarray2 are changed - all values in the array are accessed by following where the reference / pointers so once the variable is pointing to a different place all the array locations are affected."
   ]
  },
  {
   "cell_type": "code",
   "execution_count": null,
   "metadata": {},
   "outputs": [],
   "source": [
    "int [] numarray1 = {16, 17};\n",
    "int [] numarray2 = {32, 33};\n",
    "\n",
    "System.out.println(\"numarray1 holds \" + numarray1[0] + \",\" + numarray1[1]);\n",
    "System.out.println(\"numarray2 holds \" + numarray2[0] + \",\" + numarray2[1]);\n",
    "\n",
    "numarray2 = numarray1;\n",
    "\n",
    "numarray1[0] = 8;\n",
    "numarray1[1] = 9;\n",
    "\n",
    "System.out.println(\"numarray1 holds \" + numarray1[0] + \",\" + numarray1[1]);\n",
    "System.out.println(\"numarray2 holds \" + numarray2[0] + \",\" + numarray2[1]);\n"
   ]
  },
  {
   "cell_type": "markdown",
   "metadata": {},
   "source": [
    "[Return to Exercise](#Exercise4)"
   ]
  },
  {
   "cell_type": "markdown",
   "metadata": {},
   "source": [
    "### Solution to Exercise 5<a id=\"Solution5\"></a>\n",
    "\n",
    "It prints\n",
    "```\n",
    "variable1 holds cow\n",
    "variable2 holds cow\n",
    "```\n",
    "so even though we only changed variable1's field to cow, variable2's field has changed too.\n",
    "\n",
    "This means that, like arrays, records are stored as references to the actual record.\n",
    "\n",
    "Refer to the copy of the program below. It declares a new type of animal with a single field - it's name. Two variables of type animal are created one storing the String \"cat\" and the other storing the String \"dog\". However, the two variables actually just store references to other storage spaces in memory. Those Strings \"cat\" and \"dog\" are stored elsewhere. The references stored in the variables indicate where. \n",
    "\n",
    "The assignment\n",
    "```java\n",
    "variable2 = variable1;\n",
    "```\n",
    "makes a copy of the reference that was in variable1 (which points to the storage holding \"cat\") and puts it in variable2. At this point both variables point to the same place - where \"cat\" is stored.\n",
    "\n",
    "The next instruction:\n",
    "The assignment\n",
    "```java\n",
    "variable1.name = \"cow\";\n",
    "```\n",
    "says go to variable1 and follow the reference you find there. Where you end up you find a record with a single field called name. Go into that field and put the String \"cow\" there.\n",
    "\n",
    "Now beecause variable2 contains the same reference as variable1, it is pointing at the same storage space where \"cat\" *was* stored, but where now \"cow\" is stored. That means when we print the name field of either variable1 or variable2, it is now \"cow\". Both variables point to the same storage location so both hold the same values.\n"
   ]
  },
  {
   "cell_type": "code",
   "execution_count": null,
   "metadata": {},
   "outputs": [],
   "source": [
    "class Animal\n",
    "{\n",
    "   String name;\n",
    "}\n",
    "\n",
    "\n",
    "Animal variable1 = new Animal();\n",
    "Animal variable2 = new Animal();\n",
    "variable1.name = \"cat\";\n",
    "variable2.name = \"dog\";\n",
    "\n",
    "variable2 = variable1;\n",
    "\n",
    "variable1.name = \"cow\";\n",
    "\n",
    "System.out.println(\"variable1 holds \" + variable1.name);\n",
    "System.out.println(\"variable2 holds \" + variable2.name);"
   ]
  },
  {
   "cell_type": "markdown",
   "metadata": {},
   "source": [
    "[Return to Exercise](#Exercise5)"
   ]
  },
  {
   "cell_type": "markdown",
   "metadata": {},
   "source": [
    "### Solution to Exercise 6<a id=\"Solution6\"></a>\n",
    "\n",
    "Change the types to char and make the three values assigned to them different. If variable1 and variable2 remain different at the end then the variables are storing the actual values.\n",
    "\n",
    "The following code prints\n",
    "```\n",
    "variable1 holds c\n",
    "variable2 holds a\n",
    "```\n",
    "The last assignment to variable1 does not change the value printed when variable2 is printed, so they are NOT storing references.\n",
    "\n",
    "Characters are stored like integers, actually in the named variable storage space, not as references, as are the other basic types such as booleans and doubles.\n",
    "\n",
    "This means the final assignment only affects variable1 not variable2, so only variable1 gets the new value of the character ```'c'```\n"
   ]
  },
  {
   "cell_type": "code",
   "execution_count": null,
   "metadata": {},
   "outputs": [],
   "source": [
    "char variable1 = 'a';\n",
    "char variable2 = 'b';\n",
    "\n",
    "System.out.println(\"variable1 holds \" + variable1);\n",
    "System.out.println(\"variable2 holds \" + variable2);\n",
    "\n",
    "variable2 = variable1;\n",
    "\n",
    "variable1 = 'c';\n",
    "\n",
    "System.out.println(\"variable1 holds \" + variable1);\n",
    "System.out.println(\"variable2 holds \" + variable2);"
   ]
  },
  {
   "cell_type": "markdown",
   "metadata": {},
   "source": [
    "[Return to Exercise](#Exercise6)"
   ]
  },
  {
   "cell_type": "markdown",
   "metadata": {},
   "source": [
    "### Solution to Exercise 7<a id=\"Solution7\"></a>\n",
    "\n",
    "Strings are stored as references. However, each separate string value (\"cat\", \"dog\" and \"ant\") are allocated their own specific starage space on the heap that does not change. \n",
    "\n",
    "The initialisations make the two variable point to different places. The assignment\n",
    "```java\n",
    "variable2 = variable1;\n",
    "```\n",
    "stores a copy of the reference from variable1 into variable2. That makes them both point to the same memory address so the same sequence of characters ie \"cat\".\n",
    "\n",
    "When we do the final assignment,\n",
    "```java\n",
    "variable2 = \"ant\";\n",
    "```\n",
    "we are creating a completely new string \"ant\" at another place in memory. The reference to that address is then stored in the variable, variable1.\n",
    "\n",
    "Notice here all the assignments to variables are concerned with the variable itself. With arrays and records, the last assignment did not change the memory address value stored in the variable, but followed the reference and changed a value in the place pointed to... \n",
    "\n",
    "With arrays we follow the reference by giving an index as in ```a[1]```. \n",
    "\n",
    "With records we follow the reference by giving a field name as in ```b.name```\n",
    "\n",
    "The final assignment in the String example is not following a reference, just overwriting it with a new one.\n"
   ]
  },
  {
   "cell_type": "markdown",
   "metadata": {},
   "source": [
    "[Return to Exercise](#Exercise7)"
   ]
  },
  {
   "cell_type": "markdown",
   "metadata": {},
   "source": [
    "### Solution to Exercise 8<a id=\"Solution8\"></a>\n",
    "\n",
    "```java\n",
    "int myage = 50;\n",
    "```\n",
    "This creates a storage space on the stack, labels it my age and stores the value 50 in that place on the stack.\n",
    "\n",
    "```java\n",
    "int[] ages;\n",
    "```\n",
    "\n",
    "This creates a storage space on the stack and labels it my ages. Nothing is explicitly stored in it - no reference - so a null pointer (a pointer that points nowhere) is stored in it. \n",
    "\n",
    "```java\n",
    "ages = new int[5];\n",
    "```\n",
    "\n",
    "The new command finds and allocates a new block of memory on the heap, that is big enough to store an array of integers. It is reserved so will not be allocated to anything else. The storage spaces in memory are also initialised with default values (0 for integers). new returns the reference to it (its memory address) and that memory address is stored by the assignment into the storage location labelled ages on the stack.\n",
    "\n",
    "So after it is executed, the variable ages (on the stack) is now pointing to the new block of memory (on the heap) and in that block of memory, five 0 values are stored.\n",
    "\n",
    "```java\n",
    "ages[3] = myage;\n",
    "```\n",
    "\n",
    "This goes to myage which is on the stack and takes a copy of the value (50) stored there. It then goes to the variable ages (also on the stack) follows the reference to the heap and counts on 3 memory locations (staying on the heap) to get to the position which ```ages[3]``` refers to. The value 50 is stored in that storage location (on the heap).\n",
    "\n",
    "```java\n",
    "System.out.println(ages[3]);\n",
    "```\n",
    "This \n",
    "- goes to the stack where ages is stored, \n",
    "- follows the reference from there to the heap, \n",
    "- goes on 3 places further\n",
    "- pulls out the value from that location (the value 50) and \n",
    "- prints that value 50."
   ]
  },
  {
   "cell_type": "markdown",
   "metadata": {},
   "source": [
    "[Return to Exercise](#Exercise8)"
   ]
  },
  {
   "cell_type": "markdown",
   "metadata": {},
   "source": [
    "### Solution to Exercise 9<a id=\"Solution9\"></a>\n",
    "It prints something like\n",
    "```\n",
    "[I@4971bf88\n",
    "```\n",
    "though it changes each time. \n",
    "\n",
    "new returns the memory address (a reference) to a new area of memory that has been allocated. Therefore, if we print the result of new being called we print the memory address. A similar thing happens if we call new when declaring a new record variable."
   ]
  },
  {
   "cell_type": "markdown",
   "metadata": {},
   "source": [
    "[Return to Exercise](#Exercise9)"
   ]
  },
  {
   "cell_type": "markdown",
   "metadata": {},
   "source": [
    "### Solution to Exercise 10<a id=\"Solution10\"></a>\n",
    "\n",
    "Memory is divided into the stack and the heap. Whenever a variable is declared, whatever the type, space is allocated for it on the stack. The variable's storage space resides on the stack. For simple values like integers, booleans etc that is the only memory used to store the value. For complex values of array, record and String type, however, what is stored there is a reference to a second storage space. That second storage space is on the heap. It is allocated when new is executed, whether explicitly as in \n",
    "```java\n",
    "int [] a = new int [100];\n",
    "```\n",
    "or implicitly as in\n",
    "```java\n",
    "int [] b = {1,2,3};\n",
    "```\n",
    "The latter is just shorthand for a more complex expression involving new. new is also called implicitly whenever a String value is created.\n",
    "\n",
    "The above declaration of int array variable, a, first creates an array variable and then initialises it with a reference to the new storage space allocated on the heap.\n",
    "\n",
    "This has consequences for assignment. An assignment to a variable always changes the storage space on the stack whatever the type. For variables storing values with reference types this means it changes the reference stored there so it points to a new place. This means it is possible to have two variables pointing to the same place on the heap. Then changing one value changes the other. The two variable names end up being aliases of the same array value. This can lead to very hard to understand programs, with very subtle bugs, so should be used with great care of at all.\n",
    "\n",
    "To change the value on the heap you have to indicate in some way that the value on the heap is meant by giving for example an index into an array or a filed name.\n",
    "\n",
    "It also has consequences for tests of equality and method call as we will see.\n"
   ]
  },
  {
   "cell_type": "markdown",
   "metadata": {},
   "source": [
    "[Return to Exercise](#Exercise10)"
   ]
  }
 ],
 "metadata": {
  "kernelspec": {
   "display_name": "Java",
   "language": "java",
   "name": "java"
  },
  "language_info": {
   "codemirror_mode": "java",
   "file_extension": ".jshell",
   "mimetype": "text/x-java-source",
   "name": "Java",
   "pygments_lexer": "java",
   "version": "11.0.8+10-LTS"
  }
 },
 "nbformat": 4,
 "nbformat_minor": 2
}
