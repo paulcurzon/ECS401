{
 "cells": [
  {
   "cell_type": "markdown",
   "metadata": {},
   "source": [
    "# Unit 6 Part 1: While Loops\n",
    "\n",
    "## Paul Curzon\n",
    "\n",
    "## Interactive Programming Exercises\n",
    "\n",
    "### Learning Outcomes\n",
    "- Read and Write simple programs using while loops\n",
    "- Explain while loops\n",
    "- Write programs that include randomness\n",
    "\n",
    "*This notebook looks at code fragments. After completing these exercises you MUST then go on to write full programs - see the programming exercises in the workbook.*\n",
    "\n",
    "*Answers to exercises are given at the end.*\n",
    "\n",
    "**Always read the answers to exercises and compare them to your own. There are important things to learn from the answers.**\n",
    "\n",
    "<span style=\"color: red;\"> It is a really good idea to add your own notes throughout this notebook to reinforce what you have learnt and highlight important points. Click on the + in the toolbar above to make a new note area, and change it from Code to Markdown in the dropdown menu above if your note is not executable code. You may also want to highlight your notes in red as here, so they stand out. You change colours using span like this: </span>\n",
    "```\n",
    "<span style=\"color: red;\">THE TEXT TO COLOUR RED</span>\n",
    "```"
   ]
  },
  {
   "cell_type": "markdown",
   "metadata": {},
   "source": [
    "## Why another loop\n",
    "We have already seen a way to do repetition, with the counter-controlled loop. Why do we need another kind of loop? Because there are some kinds of repetition that cannot be done with a counter-controlled loop. In particular, counter-controlled loops rely on knowing how many times the loop will execute in advance - knowing what the counter is to count to. If the loop needs to repeat an unknown number of times (in the sense that it can't be worked out when the loop starts), then we need something else.\n",
    "\n",
    "That is what a While loop is for. It is a completely general kind of loop. It can do any kind of repetition possible."
   ]
  },
  {
   "cell_type": "markdown",
   "metadata": {},
   "source": [
    "### Exercise 1<a id=\"Exercise1\"></a>\n",
    "\n",
    "Run the following code fragment several times and work out what it does. Try typing Y when asked (several times) and then N when asked. \n",
    "\n",
    "Explain what the method keepAsking does. Explain also why this could not be done with a pure counter-controlled loop."
   ]
  },
  {
   "cell_type": "markdown",
   "metadata": {},
   "source": [
    "**Write your explanation here**\n"
   ]
  },
  {
   "cell_type": "code",
   "execution_count": null,
   "metadata": {
    "scrolled": true
   },
   "outputs": [],
   "source": [
    "// Allow a single film to be input, returning the film typed as the answer\n",
    "//\n",
    "public static String inputString (String message)\n",
    "{\n",
    "       String answer;\n",
    "       Scanner scanner = new Scanner(System.in);\n",
    "\n",
    "       System.out.println(message);\n",
    "       answer = scanner.nextLine();\n",
    "   \n",
    "       return answer;\n",
    "} // END inputString\n",
    "\n",
    "// Keep asking until told to stop\n",
    "//\n",
    "public static void keepAsking1 ()\n",
    "{\n",
    "       String answer = \"Y\";\n",
    "       while (answer.equals(\"Y\"))\n",
    "       {\n",
    "           System.out.println(\"The Moon is Made of Green Cheese\");\n",
    "            \n",
    "           answer = inputString(\"Do you want to say it again (Y/N)?\");\n",
    "       }\n",
    "       \n",
    "       System.out.println(\"Sorry, did it bother you? I will stop then.\");\n",
    " \n",
    "       return;\n",
    "}\n",
    "\n",
    "keepAsking1 ();"
   ]
  },
  {
   "cell_type": "markdown",
   "metadata": {},
   "source": [
    "**NOW READ THE ANSWER** [Click here to jump to the solution to this exercise](#Solution1)"
   ]
  },
  {
   "cell_type": "markdown",
   "metadata": {},
   "source": [
    "### Exercise 2<a id=\"Exercise2\"></a>\n",
    "\n",
    "Modify the following so that it prints \"Exterminate!\" repeatedly for as long as the person indicates they are still alive."
   ]
  },
  {
   "cell_type": "code",
   "execution_count": null,
   "metadata": {},
   "outputs": [],
   "source": [
    "public static void keepAsking2 ()\n",
    "{\n",
    "       String answer = \"Y\";\n",
    "       while (answer.equals(\"Y\"))\n",
    "       {\n",
    "           System.out.println(\"The Moon is Made of Green Cheese\");\n",
    "            \n",
    "           answer = inputString(\"Are you still alive (Y/N)?\");\n",
    "       }\n",
    "       \n",
    "       System.out.println(\"Sorry, did it bother you? I will stop then.\");\n",
    " \n",
    "       return;\n",
    "}\n",
    "\n",
    "keepAsking2 ();"
   ]
  },
  {
   "cell_type": "markdown",
   "metadata": {},
   "source": [
    "**NOW READ THE ANSWER** [Click here to jump to the solution to this exercise](#Solution2)"
   ]
  },
  {
   "cell_type": "markdown",
   "metadata": {},
   "source": [
    "## What does a while loop do?\n",
    "\n",
    "A while loop is much simpler than a for loop. It consists of only the keyword while, a boolean test and a body. \n",
    "\n",
    "```java\n",
    "while(...test...)\n",
    "{\n",
    "    ...body...\n",
    "}\n",
    "```\n",
    "\n",
    "Think of it as meaning \"while the test is true do the body\".\n",
    "\n",
    "The test is checked at the start and works the same way as a for loop test. If it is true the body is executed. If it is false the whole while loop ends and whatever code is after the body is executed.\n",
    "\n",
    "If the body is executed then after it finishes, execution jumps back up to the test again, where the process is repeated, checking the test and if it is true executing the body ... and so on over and over again until the test is false."
   ]
  },
  {
   "cell_type": "markdown",
   "metadata": {},
   "source": [
    "### Exercise 3<a id=\"Exercise3\"></a>\n",
    "\n",
    "Modify the following code so that it keeps going as long as the person types \"YES!\"."
   ]
  },
  {
   "cell_type": "code",
   "execution_count": null,
   "metadata": {},
   "outputs": [],
   "source": [
    "// Keep asking until told to stop\n",
    "//\n",
    "public static void keepAsking3 ()\n",
    "{\n",
    "       String answer = \"Y\";\n",
    "       while (answer.equals(\"Y\"))\n",
    "       {\n",
    "           System.out.println(\"The Moon is Made of Green Cheese\");\n",
    "            \n",
    "           answer = inputString(\"Type `YES!` if you want me to keep going.\");\n",
    "       }\n",
    "       \n",
    "       System.out.println(\"Sorry, did it bother you? I will stop then.\");\n",
    " \n",
    "       return;\n",
    "}\n",
    "\n",
    "keepAsking3 ();"
   ]
  },
  {
   "cell_type": "markdown",
   "metadata": {},
   "source": [
    "**NOW READ THE ANSWER** [Click here to jump to the solution to this exercise](#Solution3)"
   ]
  },
  {
   "cell_type": "markdown",
   "metadata": {},
   "source": [
    "### Exercise 4<a id=\"Exercise4\"></a>\n",
    "\n",
    "Modify the following code so that it keeps going until the person types \"SHUT UP!\".\n",
    "\n",
    "Hint: you need the negation logical connective (!)"
   ]
  },
  {
   "cell_type": "code",
   "execution_count": null,
   "metadata": {},
   "outputs": [],
   "source": [
    "// Keep asking until told to stop\n",
    "//\n",
    "public static void keepAsking4 ()\n",
    "{\n",
    "       String answer = \"Y\";\n",
    "       while (answer.equals(\"Y\"))\n",
    "       {\n",
    "           System.out.println(\"The Moon is Made of Green Cheese\");\n",
    "            \n",
    "           answer = inputString(\"Your turn to say something.\");\n",
    "       }\n",
    "       \n",
    "       System.out.println(\"Sorry, did it bother you? I will stop then.\");\n",
    " \n",
    "       return;\n",
    "}\n",
    "\n",
    "keepAsking4 ();"
   ]
  },
  {
   "cell_type": "markdown",
   "metadata": {},
   "source": [
    "**NOW READ THE ANSWER** [Click here to jump to the solution to this exercise](#Solution4)"
   ]
  },
  {
   "cell_type": "markdown",
   "metadata": {},
   "source": [
    "### Exercise 5<a id=\"Exercise4\"></a>\n",
    "\n",
    "Predict what the following does if you change the initialisation of variable answer to \"N\" ie\n",
    "```java\n",
    "       String answer = \"N\";\n",
    "```"
   ]
  },
  {
   "cell_type": "code",
   "execution_count": null,
   "metadata": {},
   "outputs": [],
   "source": [
    "// Keep asking until told to stop\n",
    "//\n",
    "public static void keepAsking5 ()\n",
    "{\n",
    "       String answer = \"Y\";\n",
    "       while (answer.equals(\"Y\"))\n",
    "       {\n",
    "           System.out.println(\"The Moon is Made of Green Cheese\");\n",
    "            \n",
    "           answer = inputString(\"Your turn to say something.\");\n",
    "       }\n",
    "       \n",
    "       System.out.println(\"Sorry, did it bother you? I will stop then.\");\n",
    " \n",
    "       return;\n",
    "}\n",
    "\n",
    "keepAsking5 ();"
   ]
  },
  {
   "cell_type": "markdown",
   "metadata": {},
   "source": [
    "**NOW READ THE ANSWER** [Click here to jump to the solution to this exercise](#Solution4)"
   ]
  },
  {
   "cell_type": "markdown",
   "metadata": {},
   "source": [
    "### Exercise 6<a id=\"Exercise6\"></a>\n",
    "\n",
    "In the following we have ommited the input statement that sets the variable answer in the loop. Predict what the code will do. Run it to see what it does do. Explain what is happening.\n",
    "\n",
    "HINT: You will need to know how the user can stop a program in the middle of it running. In these notebooks you can do that by clicking on the Kernel drop down menu at the top and then choosing Interrupt. "
   ]
  },
  {
   "cell_type": "code",
   "execution_count": null,
   "metadata": {},
   "outputs": [],
   "source": [
    "// Keep asking until told to stop\n",
    "//\n",
    "public static void keepAsking6 ()\n",
    "{\n",
    "       String answer = \"Y\";\n",
    "       System.out.println(\"Starting\");   \n",
    "       while (answer.equals(\"Y\"))\n",
    "       {\n",
    "           System.out.println(\"The Moon is Made of Green Cheese\");   \n",
    "       }\n",
    "       \n",
    "       System.out.println(\"Sorry, did it bother you? I will stop then.\");\n",
    " \n",
    "       return;\n",
    "}\n",
    "\n",
    "keepAsking6 ();"
   ]
  },
  {
   "cell_type": "markdown",
   "metadata": {},
   "source": [
    "**NOW READ THE ANSWER** [Click here to jump to the solution to this exercise](#Solution6)"
   ]
  },
  {
   "cell_type": "markdown",
   "metadata": {},
   "source": [
    "If you want to keep track of how many times a loop did run, you can just include a counter variable. Note this is not counter-controlled unless the counter is part of the test.\n",
    "\n",
    "### Exercise 7<a id=\"Exercise7\"></a>\n",
    "\n",
    "Complete the code fragment below so that it prints at the end how many times the loop body executed."
   ]
  },
  {
   "cell_type": "code",
   "execution_count": null,
   "metadata": {},
   "outputs": [],
   "source": [
    "// Keep asking until told to stop\n",
    "//\n",
    "public static void keepAsking7 ()\n",
    "{\n",
    "    final String KEEP_GOING = \"Y\";\n",
    "    String answer = KEEP_GOING;\n",
    "    \n",
    "    // INITIALISE A COUNTER\n",
    "    \n",
    "    System.out.println(\"How long can you stick it out?\");   \n",
    " \n",
    "    while (answer.equals(KEEP_GOING))\n",
    "    {\n",
    "        System.out.println(\"LaLaLaLaLaLa\"); \n",
    "        // INCREASE THE COUNTER\n",
    "        \n",
    "        answer = inputString(\"More?\");\n",
    "    }\n",
    "       \n",
    "    System.out.println(\"Sorry, did it bother you? I will stop then.\");\n",
    "    System.out.println(\"You lasted \" + count + \" rounds\");\n",
    " \n",
    "    return;\n",
    "}\n",
    "\n",
    "keepAsking7 ();"
   ]
  },
  {
   "cell_type": "markdown",
   "metadata": {},
   "source": [
    "**NOW READ THE ANSWER** [Click here to jump to the solution to this exercise](#Solution7)"
   ]
  },
  {
   "cell_type": "markdown",
   "metadata": {},
   "source": [
    "## Counter controlled loop using a while loop\n",
    "\n",
    "You can turn a while loop into a counter-controlled loop. You just make the test depend on a counter. A while loop can do anything a for loop can do. It can do anything any kind of loop imaginable can do.\n",
    "\n",
    "### Exercise 8<a id=\"Exercise8\"></a>\n",
    "\n",
    "Modify the following, turning it into a counter-controlled loop that exectures exactly 8 times, by changing only the test."
   ]
  },
  {
   "cell_type": "code",
   "execution_count": null,
   "metadata": {},
   "outputs": [],
   "source": [
    "// Keep asking until told to stop\n",
    "//\n",
    "public static void keepAsking8 ()\n",
    "{\n",
    "    int counter = 1;\n",
    "     \n",
    "    while (counter<=2)\n",
    "    {\n",
    "        System.out.println(\"I've done it now.\");\n",
    "        \n",
    "        counter = counter + 1;\n",
    "    }\n",
    "       \n",
    "    System.out.println(\"I will stop now.\");\n",
    "    return;\n",
    "}\n",
    "\n",
    "keepAsking8 ();"
   ]
  },
  {
   "cell_type": "markdown",
   "metadata": {},
   "source": [
    "**NOW READ THE ANSWER** [Click here to jump to the solution to this exercise](#Solution8)"
   ]
  },
  {
   "cell_type": "markdown",
   "metadata": {},
   "source": [
    "## Random Numbers\n",
    "Random numbers are important for many kinds of programs - in games that involve luck from throwing a dice to ones where you just want what your artificial intelligence opponent does to be unpredictable. When doing scientific modelling, you also need some randomness to simulate lots of different future worlds.\n",
    "\n",
    "You can create random numbers as below, by creating a variable of type random then calling the nextInt method with a number. It generates a random number from 0 up to 1 less than that number. The code below will print either 0 or 1 at random every time it is run. Try it."
   ]
  },
  {
   "cell_type": "code",
   "execution_count": null,
   "metadata": {},
   "outputs": [],
   "source": [
    "Random coin = new Random();\n",
    "int cointoss = coin.nextInt(2);\n",
    "System.out.println(cointoss);"
   ]
  },
  {
   "cell_type": "markdown",
   "metadata": {},
   "source": [
    "Change the number 2 in the above to 6 and you get a 6-sided dice (though with numbers from 0 to 5 - just add 1 to the result if you want a normal dice). Try it."
   ]
  },
  {
   "cell_type": "markdown",
   "metadata": {},
   "source": [
    "### Exercise 9<a id=\"Exercise9\"></a>\n",
    "\n",
    "Modify the following to toss a coin until the person says they want to stop, using a while loop. It should, after the loop, print the number of times the coin was tossed AND how many times it was a tail.\n",
    "\n",
    "HINT: use a variable that keeps a running total by just adding the coin toss value on each time."
   ]
  },
  {
   "cell_type": "code",
   "execution_count": null,
   "metadata": {},
   "outputs": [],
   "source": [
    "// Toss a coin where 0 means Heads and 1 means Tails\n",
    "//\n",
    "public static void headsOrTails9 ()\n",
    "{\n",
    "    Random coin = new Random();\n",
    "    \n",
    "    int cointoss = coin.nextInt(2);\n",
    "    System.out.println(cointoss);\n",
    "    \n",
    "    return;\n",
    "}\n",
    "\n",
    "headsOrTails9 ();"
   ]
  },
  {
   "cell_type": "markdown",
   "metadata": {},
   "source": [
    "**NOW READ THE ANSWER** [Click here to jump to the solution to this exercise](#Solution9)"
   ]
  },
  {
   "cell_type": "markdown",
   "metadata": {},
   "source": [
    "### Exercise 10<a id=\"Exercise10\"></a>\n",
    "\n",
    "Modify the following to toss a coin exactly 10 times using a while loop. It should, after the loop, print the number of times it was a Tail (where 0 is Heads, 1 is Tails)"
   ]
  },
  {
   "cell_type": "code",
   "execution_count": null,
   "metadata": {},
   "outputs": [],
   "source": [
    "// Toss a coin where 0 means Heads and 1 means Tails\n",
    "//\n",
    "public static void headsOrTails10 ()\n",
    "{\n",
    "    Random coin = new Random();\n",
    "    \n",
    "    int cointoss = coin.nextInt(2);\n",
    "    System.out.println(cointoss);\n",
    "    \n",
    "    return;\n",
    "}\n",
    "\n",
    "headsOrTails10 ();"
   ]
  },
  {
   "cell_type": "markdown",
   "metadata": {},
   "source": [
    "**NOW READ THE ANSWER** [Click here to jump to the solution to this exercise](#Solution10)"
   ]
  },
  {
   "cell_type": "markdown",
   "metadata": {},
   "source": [
    "### Exercise 11<a id=\"Exercise11\"></a>\n",
    "Modify your code from above to toss a coin a 1000 times and then print the average value of the coin toss. If the coin is fair it should come out at about 0.5."
   ]
  },
  {
   "cell_type": "code",
   "execution_count": null,
   "metadata": {},
   "outputs": [],
   "source": [
    "// write your code here\n",
    "\n"
   ]
  },
  {
   "cell_type": "markdown",
   "metadata": {},
   "source": [
    "**NOW READ THE ANSWER** [Click here to jump to the solution to this exercise](#Solution11)"
   ]
  },
  {
   "cell_type": "markdown",
   "metadata": {},
   "source": [
    "### Exercise 12<a id=\"Exercise12\"></a>\n",
    "Explain in your own words what a while loop does, illustrating your answer with an example."
   ]
  },
  {
   "cell_type": "markdown",
   "metadata": {},
   "source": [
    "**Write your explanation here**\n"
   ]
  },
  {
   "cell_type": "markdown",
   "metadata": {},
   "source": [
    "**NOW READ THE ANSWER** [Click here to jump to the solution to this exercise](#Solution12)"
   ]
  },
  {
   "cell_type": "markdown",
   "metadata": {},
   "source": [
    "*Once you have done the above exercises (and understand how the concepts work) move on to doing the actual programming exercises from the handbook, writing full programs. You must be able to write full programs, not just fragments.*"
   ]
  },
  {
   "cell_type": "markdown",
   "metadata": {},
   "source": [
    "## Solutions\n",
    "\n",
    "### Solution to Exercise 1<a id=\"Solution1\"></a>\n",
    "\n",
    "The method prints\n",
    "```The Moon is Made of Green Cheese```\n",
    "repeatedly.\n",
    "After each time, it asks if you want it to do it again. If you type anything other than Y, then it will immediately stop the loop and print \"Sorry, did it bother you? I will stop then.\" before terminating.\n",
    "\n",
    "If you type \"Y\" when asked, then it will print its message again (and ask again), continuing to do so an unlimited number of times until (if ever) you type something other than \"Y\" when asked.\n",
    "\n",
    "This can't be done with a pure counter-controlled loop because the number of times it loops is unknown. It could loop a different number of times every time. It is therefore not possible to set up a counter and have a known amount for the counter to count to."
   ]
  },
  {
   "cell_type": "markdown",
   "metadata": {},
   "source": [
    "[Return to Exercise](#Exercise1)"
   ]
  },
  {
   "cell_type": "markdown",
   "metadata": {},
   "source": [
    "### Solution to Exercise 2<a id=\"Solution2\"></a>\n",
    "We just need to change the print statement inside the loop to \n",
    "```java\n",
    "           System.out.println(\"Exterminate!\");\n",
    "```"
   ]
  },
  {
   "cell_type": "code",
   "execution_count": null,
   "metadata": {},
   "outputs": [],
   "source": [
    "public static void keepAsking2 ()\n",
    "{\n",
    "       String answer = \"Y\";\n",
    "       while (answer.equals(\"Y\"))\n",
    "       {\n",
    "           System.out.println(\"Exterminate!\");\n",
    "            \n",
    "           answer = inputString(\"Are you still alive (Y/N)?\");\n",
    "       }\n",
    "       \n",
    "       System.out.println(\"Sorry, did it bother you? I will stop then.\");\n",
    " \n",
    "       return;\n",
    "}\n",
    "\n",
    "keepAsking2 ();"
   ]
  },
  {
   "cell_type": "markdown",
   "metadata": {},
   "source": [
    "[Return to Exercise](#Exercise2)"
   ]
  },
  {
   "cell_type": "markdown",
   "metadata": {},
   "source": [
    "### Solution to Exercise 3<a id=\"Solution3\"></a>\n",
    "\n",
    "The test has to change to:\n",
    "```java\n",
    "answer.equals(\"YES!\")\n",
    "```"
   ]
  },
  {
   "cell_type": "code",
   "execution_count": null,
   "metadata": {},
   "outputs": [],
   "source": [
    "// Keep asking until told to stop\n",
    "//\n",
    "public static void keepAsking3 ()\n",
    "{\n",
    "       String answer = \"YES!\";\n",
    "       while (answer.equals(\"YES!\"))\n",
    "       {\n",
    "           System.out.println(\"The Moon is Made of Green Cheese\");\n",
    "            \n",
    "           answer = inputString(\"Type `YES!` if you want me to keep going.\");\n",
    "       }\n",
    "       \n",
    "       System.out.println(\"Sorry, did it bother you? I will stop then.\");\n",
    " \n",
    "       return;\n",
    "}\n",
    "\n",
    "keepAsking3 ();"
   ]
  },
  {
   "cell_type": "markdown",
   "metadata": {},
   "source": [
    "Note a better way to do this is with a final variable for the response that matters so it is consistent everywhere and one edit changes it in a way that still works."
   ]
  },
  {
   "cell_type": "code",
   "execution_count": null,
   "metadata": {},
   "outputs": [],
   "source": [
    "// Keep asking until told to stop\n",
    "//\n",
    "public static void keepAsking3a ()\n",
    "{\n",
    "       final String KEEP_GOING = \"YES!\";\n",
    "       String answer = KEEP_GOING;\n",
    "       \n",
    "       while (answer.equals(KEEP_GOING))\n",
    "       {\n",
    "           System.out.println(\"The Moon is Made of Green Cheese\");\n",
    "            \n",
    "           answer = inputString(\"Type `\" + KEEP_GOING + \"` if you want me to keep going.\");\n",
    "       }\n",
    "       \n",
    "       System.out.println(\"Sorry, did it bother you? I will stop then.\");\n",
    " \n",
    "       return;\n",
    "}\n",
    "\n",
    "keepAsking3a ();"
   ]
  },
  {
   "cell_type": "markdown",
   "metadata": {},
   "source": [
    "[Return to Exercise](#Exercise3)"
   ]
  },
  {
   "cell_type": "markdown",
   "metadata": {},
   "source": [
    "### Solution to Exercise 4<a id=\"Solution4\"></a>\n",
    "\n",
    "To keep going while they have NOT said SHUT UP we need the test:\n",
    "```java\n",
    "!answer.equals(\"SHUT UP\")\n",
    "```"
   ]
  },
  {
   "cell_type": "code",
   "execution_count": null,
   "metadata": {},
   "outputs": [],
   "source": [
    "// Keep asking until told to stop\n",
    "//\n",
    "public static void keepAsking4 ()\n",
    "{\n",
    "       String answer = \"Y\";\n",
    "       while (!answer.equals(\"SHUT UP\"))\n",
    "       {\n",
    "           System.out.println(\"The Moon is Made of Green Cheese\");\n",
    "            \n",
    "           answer = inputString(\"Your turn to say something.\");\n",
    "       }\n",
    "       \n",
    "       System.out.println(\"Sorry, did it bother you? I will stop then.\");\n",
    " \n",
    "       return;\n",
    "}\n",
    "\n",
    "keepAsking4 ();"
   ]
  },
  {
   "cell_type": "markdown",
   "metadata": {},
   "source": [
    "[Return to Exercise](#Exercise4)"
   ]
  },
  {
   "cell_type": "markdown",
   "metadata": {},
   "source": [
    "### Solution to Exercise 5<a id=\"Solution5\"></a>\n",
    "The program goes round the loop no times. It never enters the loop body so never executes its instructions. This is because on checking the test at the start, the test is false as \"N\" is not equal to \"Y\". When the test is false, the body of the loop is not entered and the code jumps to the point after the end of the program."
   ]
  },
  {
   "cell_type": "code",
   "execution_count": null,
   "metadata": {},
   "outputs": [],
   "source": [
    "// Keep asking until told to stop\n",
    "//\n",
    "public static void keepAsking5 ()\n",
    "{\n",
    "       String answer = \"N\";\n",
    "       while (answer.equals(\"Y\"))\n",
    "       {\n",
    "           System.out.println(\"The Moon is Made of Green Cheese\");\n",
    "            \n",
    "           answer = inputString(\"Your turn to say something.\");\n",
    "       }\n",
    "       \n",
    "       System.out.println(\"Sorry, did it bother you? I will stop then.\");\n",
    " \n",
    "       return;\n",
    "}\n",
    "\n",
    "keepAsking5 ();"
   ]
  },
  {
   "cell_type": "markdown",
   "metadata": {},
   "source": [
    "[Return to Exercise](#Exercise5)"
   ]
  },
  {
   "cell_type": "markdown",
   "metadata": {},
   "source": [
    "### Solution to Exercise 6<a id=\"Solution6\"></a>\n",
    "\n",
    "This time the loop is entered because answer is initialised as \"Y\". The test is therefore true at the start so the loop body is entered and the message printed.\n",
    "\n",
    "However, the input is not done, so nothing in the loop changes the value stored in answer. There is no assignment to it. Therefore, when, at the end of the body, the loop jumps back to the test and checked it again. It has not changed. The message is printed again. However, as there is no possibility of it changing the same situation repeats over and over again forever. The loop never terminates."
   ]
  },
  {
   "cell_type": "markdown",
   "metadata": {},
   "source": [
    "[Return to Exercise](#Exercise6)"
   ]
  },
  {
   "cell_type": "markdown",
   "metadata": {},
   "source": [
    "### Solution to Exercise 7<a id=\"Solution7\"></a>\n",
    "\n",
    "**Outside** the loop you must set the variable count to 0.\n",
    "**Inside** the loop you must increase it by 1, so counting each time \"LaLaLaLaLaLa\" was printed."
   ]
  },
  {
   "cell_type": "code",
   "execution_count": null,
   "metadata": {},
   "outputs": [],
   "source": [
    "// Keep asking until told to stop\n",
    "//\n",
    "public static void keepAsking7 ()\n",
    "{\n",
    "    final String KEEP_GOING = \"Y\";\n",
    "    String answer = KEEP_GOING;\n",
    "    \n",
    "    int count = 0;\n",
    "    \n",
    "    System.out.println(\"How long can you stick it out?\");   \n",
    " \n",
    "    while (answer.equals(KEEP_GOING))\n",
    "    {\n",
    "        System.out.println(\"LaLaLaLaLaLa\");\n",
    "        count = count + 1;\n",
    "        \n",
    "        answer = inputString(\"More?\");\n",
    "    }\n",
    "       \n",
    "    System.out.println(\"Sorry, did it bother you? I will stop then.\");\n",
    "    System.out.println(\"You lasted \" + count + \" rounds\");\n",
    " \n",
    "    return;\n",
    "}\n",
    "\n",
    "keepAsking7 ();"
   ]
  },
  {
   "cell_type": "markdown",
   "metadata": {},
   "source": [
    "[Return to Exercise](#Exercise7)"
   ]
  },
  {
   "cell_type": "markdown",
   "metadata": {},
   "source": [
    "### Solution to Exercise 8<a id=\"Solution8\"></a>"
   ]
  },
  {
   "cell_type": "code",
   "execution_count": null,
   "metadata": {},
   "outputs": [],
   "source": [
    "// Keep asking until told to stop\n",
    "//\n",
    "public static void keepAsking8 ()\n",
    "{\n",
    "    int counter = 1;\n",
    "     \n",
    "    while (counter<=8)\n",
    "    {\n",
    "        System.out.println(\"I've done it now.\");\n",
    "        \n",
    "        counter = counter + 1;\n",
    "    }\n",
    "       \n",
    "    System.out.println(\"I will stop now.\");\n",
    "    return;\n",
    "}\n",
    "\n",
    "keepAsking8 ();"
   ]
  },
  {
   "cell_type": "markdown",
   "metadata": {},
   "source": [
    "[Return to Exercise](#Exercise8)"
   ]
  },
  {
   "cell_type": "markdown",
   "metadata": {},
   "source": [
    "### Solution to Exercise 9<a id=\"Solution9\"></a>"
   ]
  },
  {
   "cell_type": "code",
   "execution_count": null,
   "metadata": {},
   "outputs": [],
   "source": [
    "// Toss a coin where 0 means Heads and 1 means Tails\n",
    "//\n",
    "public static void headsOrTails9 ()\n",
    "{\n",
    "    Random coin = new Random();\n",
    "    final String AGAIN = \"YES\";\n",
    "    String answer = AGAIN;\n",
    "    int total = 0;\n",
    "    \n",
    "    while (answer.equals(AGAIN))\n",
    "    {\n",
    "        int cointoss = coin.nextInt(2);\n",
    "        \n",
    "        System.out.println(cointoss);\n",
    "        total = total + cointoss;\n",
    "        answer = inputString(\"Do you want to toss again? (\" + AGAIN + \"or NO).\");\n",
    "    }\n",
    "\n",
    "    System.out.println(\"You tossed \" + total + \" tails.\");\n",
    "    return;\n",
    "}\n",
    "\n",
    "headsOrTails9 ();"
   ]
  },
  {
   "cell_type": "markdown",
   "metadata": {},
   "source": [
    "[Return to Exercise](#Exercise9)"
   ]
  },
  {
   "cell_type": "markdown",
   "metadata": {},
   "source": [
    "### Solution to Exercise 10<a id=\"Solution10\"></a>"
   ]
  },
  {
   "cell_type": "code",
   "execution_count": null,
   "metadata": {},
   "outputs": [],
   "source": [
    "// Toss a coin where 0 means Heads and 1 means Tails\n",
    "//\n",
    "public static void headsOrTails10 ()\n",
    "{\n",
    "    Random coin = new Random();\n",
    "    final int NUMBER_OF_TIMES = 10;\n",
    "    int total = 0;\n",
    "    int counter = 1;\n",
    "    \n",
    "    \n",
    "    while (counter <= NUMBER_OF_TIMES)\n",
    "    {\n",
    "        int cointoss = coin.nextInt(2);\n",
    "        \n",
    "        System.out.println(cointoss);\n",
    "        \n",
    "        total = total + cointoss;\n",
    "        counter = counter + 1;\n",
    "    }\n",
    "\n",
    "    System.out.println(\"You tossed \" + total + \" tails.\");\n",
    "    return;\n",
    "}\n",
    "\n",
    "headsOrTails10 ();"
   ]
  },
  {
   "cell_type": "markdown",
   "metadata": {},
   "source": [
    "[Return to Exercise](#Exercise10)"
   ]
  },
  {
   "cell_type": "markdown",
   "metadata": {},
   "source": [
    "### Solution to Exercise 11<a id=\"Solution11\"></a>\n",
    "\n",
    "Note we are using while loops here to do a counter-controlled loop for learning purposes, but if the loop is a pure counter-controlled loop it is better to use a for loop. It is also better to create a coin toss method that abstracts away from random number."
   ]
  },
  {
   "cell_type": "code",
   "execution_count": null,
   "metadata": {},
   "outputs": [],
   "source": [
    "// Toss a coin where 0 means Heads and 1 means Tails\n",
    "//\n",
    "public static void headsOrTails11 ()\n",
    "{\n",
    "    Random coin = new Random();\n",
    "    final int NUMBER_OF_TIMES = 1000;\n",
    "    int total = 0;\n",
    "    double average;\n",
    "    int counter = 1;\n",
    "    \n",
    "    while (counter <= NUMBER_OF_TIMES)\n",
    "    {\n",
    "        int cointoss = coin.nextInt(2);\n",
    "        \n",
    "        total = total + cointoss;\n",
    "        counter = counter + 1;\n",
    "    }\n",
    "\n",
    "    average = (double) total / (double) NUMBER_OF_TIMES;\n",
    "    System.out.println(\"The average of the tosses of your coin was \" + average);\n",
    "    return;\n",
    "}\n",
    "\n",
    "headsOrTails11 ();"
   ]
  },
  {
   "cell_type": "markdown",
   "metadata": {},
   "source": [
    "[Return to Exercise](#Exercise11)"
   ]
  },
  {
   "cell_type": "markdown",
   "metadata": {},
   "source": [
    "### Solution to Exercise 12<a id=\"Solution12\"></a> (Summary so far)\n",
    "\n",
    "A while loop is a way to repeat a block of code an unlimited number of times even when that number is not known until the loop is running. For example, it can allow the code to repeat until the user says they want to stop. The block of code is called the body of the loop. Continuation of the loop is controlled by a boolean test. It is tested before the body is executed each time. If the test is true the body is executed. If the test is false the loop ends and the next instruction immediately after the loop body is executed. For example,"
   ]
  },
  {
   "cell_type": "code",
   "execution_count": null,
   "metadata": {},
   "outputs": [],
   "source": [
    "String stop = \"GO\";\n",
    "while(!stop.equals(\"STOP\"))\n",
    "{\n",
    "  System.out.println(\"Do the work over and over...\");\n",
    "  stop = inputString(\"Type STOP to quit. Hit RETURN to keep going\");\n",
    "}\n",
    "\n",
    "System.out.println(\"Carry on with the rest of the program...\");\n"
   ]
  },
  {
   "cell_type": "markdown",
   "metadata": {},
   "source": [
    "In the above the body is the code\n",
    "```java\n",
    "  System.out.println(\"Do the work over and over...\");\n",
    "  stop = inputString(\"Type STOP to quit. Hit RETURN to keep going\");\n",
    "```\n",
    "It is what is repeated. The test, done before the above is executed is\n",
    "```java\n",
    "!stop.equals(\"STOP\")\n",
    "```\n",
    "It says keep going while stop does NOT equal the String \"STOP\" (notice the ! meaning NOT). This means if anything else at all is typed by the user then the loop body is executed again, and then after it has completed execution the code jumps back up to the test. If STOP is typed then the loop finishes and it continues with the rest of the program."
   ]
  },
  {
   "cell_type": "markdown",
   "metadata": {},
   "source": [
    "[Return to Exercise](#Exercise12)"
   ]
  }
 ],
 "metadata": {
  "kernelspec": {
   "display_name": "Java",
   "language": "java",
   "name": "java"
  },
  "language_info": {
   "codemirror_mode": "java",
   "file_extension": ".jshell",
   "mimetype": "text/x-java-source",
   "name": "Java",
   "pygments_lexer": "java",
   "version": "11.0.8+10-LTS"
  }
 },
 "nbformat": 4,
 "nbformat_minor": 2
}
