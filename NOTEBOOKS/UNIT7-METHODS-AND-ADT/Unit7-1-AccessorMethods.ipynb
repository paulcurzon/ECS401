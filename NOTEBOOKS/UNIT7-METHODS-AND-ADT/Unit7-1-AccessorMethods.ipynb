{
 "cells": [
  {
   "cell_type": "markdown",
   "metadata": {},
   "source": [
    "# Unit 7 Part 1: Accessor Methods\n",
    "## Paul Curzon\n",
    "\n",
    "## Interactive Programming Exercises\n",
    "\n",
    "### Learning Outcomes\n",
    "- Read and Write simple programs that access records only via methods\n",
    "- Explain such accessor methods\n",
    "\n",
    "*This notebook looks at code fragments. After completing these exercises you MUST then go on to write full programs - see the programming exercises in the workbook.*\n",
    "\n",
    "*Answers to exercises are given at the end.*\n",
    "\n",
    "**Always read the answers to exercises and compare them to your own. There are important things to learn from the answers.**\n",
    "\n",
    "<span style=\"color: red;\"> It is a really good idea to add your own notes throughout this notebook to reinforce what you have learnt and highlight important points. Click on the + in the toolbar above to make a new note area, and change it from Code to Markdown in the dropdown menu above if your note is not executable code. You may also want to highlight your notes in red as here, so they stand out. You change colours using span like this: </span>\n",
    "```\n",
    "<span style=\"color: red;\">THE TEXT TO COLOUR RED</span>\n",
    "```"
   ]
  },
  {
   "cell_type": "markdown",
   "metadata": {},
   "source": [
    "## Refresher\n",
    "In Unit 2, we saw how you can create your own new types using a simplified version of the class mechanism. This allowed you to create a new **compound type** (ie a type consisting of values made up of simpler values \"glued together\" in some way) by combining two or more existing types together.\n",
    "\n",
    "The class definition defines the type, with the separate parts called fields. The fields can be of different types and are given a field name in the definition of the type.\n"
   ]
  },
  {
   "cell_type": "markdown",
   "metadata": {},
   "source": [
    "### Exercise 1<a id=\"Exercise1\"></a>\n",
    "\n",
    "Explain what the following definition does."
   ]
  },
  {
   "cell_type": "markdown",
   "metadata": {},
   "source": [
    "**Write your explanation here**\n"
   ]
  },
  {
   "cell_type": "code",
   "execution_count": null,
   "metadata": {},
   "outputs": [],
   "source": [
    "class InspiringLeader\n",
    "{\n",
    "    String name;\n",
    "    int age;\n",
    "}"
   ]
  },
  {
   "cell_type": "markdown",
   "metadata": {},
   "source": [
    "**NOW READ THE ANSWER** [Click here to jump to the solution to this exercise](#Solution1)"
   ]
  },
  {
   "cell_type": "markdown",
   "metadata": {},
   "source": [
    "### Exercise 2<a id=\"Exercise2\"></a>\n",
    "\n",
    "Given the above type definition, predict exactly what the following prints, then run it to see if you were right."
   ]
  },
  {
   "cell_type": "markdown",
   "metadata": {},
   "source": [
    "**Write your prediction here**\n"
   ]
  },
  {
   "cell_type": "code",
   "execution_count": null,
   "metadata": {
    "scrolled": false
   },
   "outputs": [],
   "source": [
    "// Print the stored details of some inspiring leaders.\n",
    "//\n",
    "public static void leaders2()\n",
    "{\n",
    "    InspiringLeader mandela = new InspiringLeader();\n",
    "    InspiringLeader ghandi = new InspiringLeader();\n",
    "        \n",
    "    mandela.name = \"Nelson Mandela\";\n",
    "    mandela.age = 95;\n",
    "     \n",
    "    ghandi.name = \"Mohandas Karamchand Gandhi\";\n",
    "    ghandi.age = 78;\n",
    "    \n",
    "    System.out.println(ghandi.name + \": \" + ghandi.age);\n",
    "    System.out.println(mandela.name + \": \" + mandela.age);\n",
    "\n",
    "    return;\n",
    "}\n",
    "\n",
    "leaders2();"
   ]
  },
  {
   "cell_type": "markdown",
   "metadata": {},
   "source": [
    "**NOW READ THE ANSWER** [Click here to jump to the solution to this exercise](#Solution2)"
   ]
  },
  {
   "cell_type": "markdown",
   "metadata": {},
   "source": [
    "## Using methods to access records\n",
    "\n",
    "It turns out that it is a really good idea to create methods that access the values of records (either to store values or get the values out). Other methods then use them directly. This means <span style=\"color: red;\"> the dot notation is only used to refer to the fields **in the accessor methods** </span> - and that is the key point.\n",
    "\n",
    "This is good as it means we can change the implementation ie change the fields without having to change every place throughout a program (which may be millions of lines long) where we accessed a field.  It is a continuation of the idea of **localisation**. We want to keep the amount of code we need to read as small as possible to understand it. We also want to make sure to make a change that affects the whole program we only need to change a small part of the program. \n",
    "\n",
    "We will see more of this later, but first how do we write methods like this?\n",
    "\n",
    "In the simplest version of doing this we need **two** accessor methods for each field\n",
    "- one to assign a value to the field, and\n",
    "- one to get a copy of the value from the field\n",
    "\n",
    "These methods are just normal methods. There is nothing special about them. \n",
    "\n",
    "There are several styles of programming to do this, however. We will first look at a 'functional' style of doing it, where both methods return a value. Later we will see a more 'procedural' style. If you later do an OOP module then you will see a third 'object-oriented' way to do the same thing. "
   ]
  },
  {
   "cell_type": "markdown",
   "metadata": {},
   "source": [
    "### Exercise 3<a id=\"Exercise3\"></a>\n",
    "\n",
    "We have created a new method to <span style=\"color: red;\"> set the name field </span> of records of type InspiringLeader. This requires the record definition above to have been compiled first. \n",
    "\n",
    "Predict what the following code will print, run the code to check you were right then explain what the method does and how it is being used."
   ]
  },
  {
   "cell_type": "markdown",
   "metadata": {},
   "source": [
    "**Write your prediction and explanation here**\n"
   ]
  },
  {
   "cell_type": "code",
   "execution_count": null,
   "metadata": {},
   "outputs": [],
   "source": [
    "// Given an Inspiring Leader record and a new name, store the name in the record \n",
    "// Return the updated record value\n",
    "//\n",
    "public static InspiringLeader setLeaderName(InspiringLeader ldr, String nm)\n",
    "{\n",
    "    ldr.name = nm;\n",
    "    \n",
    "    return ldr;\n",
    "}\n",
    "\n",
    "\n",
    "// Print the stored details of some great leaders.\n",
    "//\n",
    "public static void leaders3()\n",
    "{\n",
    "    InspiringLeader leader = new InspiringLeader();\n",
    "        \n",
    "    leader = setLeaderName(leader, \"Nelson Mandela\");\n",
    "    System.out.println(leader.name);\n",
    "\n",
    "    leader = setLeaderName(leader, \"Martin Luther King\");\n",
    "    System.out.println(leader.name);\n",
    "\n",
    "    return;\n",
    "}\n",
    "\n",
    "leaders3();"
   ]
  },
  {
   "cell_type": "markdown",
   "metadata": {},
   "source": [
    "**NOW READ THE ANSWER** [Click here to jump to the solution to this exercise](#Solution3)"
   ]
  },
  {
   "cell_type": "markdown",
   "metadata": {},
   "source": [
    "### Exercise 4<a id=\"Exercise4\"></a>\n",
    "\n",
    "Modify the code below so that it uses setLeaderName to change the value in variable leader a third time to Emmeline Pankhurst so that it now prints\n",
    "\n",
    "```\n",
    "Nelson Mandela\n",
    "Martin Luther King\n",
    "Emmeline Pankhurst\n",
    "```"
   ]
  },
  {
   "cell_type": "code",
   "execution_count": null,
   "metadata": {},
   "outputs": [],
   "source": [
    "// Print the stored details of some great leaders.\n",
    "//\n",
    "public static void leaders4()\n",
    "{\n",
    "    InspiringLeader leader = new InspiringLeader();\n",
    "        \n",
    "    leader = setLeaderName(leader, \"Nelson Mandela\");\n",
    "    System.out.println(leader.name);\n",
    "\n",
    "    leader = setLeaderName(leader, \"Martin Luther King\");\n",
    "    System.out.println(leader.name);\n",
    "\n",
    "    return;\n",
    "}\n",
    "\n",
    "leaders4();"
   ]
  },
  {
   "cell_type": "markdown",
   "metadata": {},
   "source": [
    "### Exercise 5<a id=\"Exercise5\"></a>\n",
    "\n",
    "Write a new method called setLeaderAge (by modifying the setLeaderName method below) that sets the age field of a Leader record. \n",
    "\n",
    "The leader5 method should also be modified to use the new method to set the age. It should now print\n",
    "\n",
    "```\n",
    "Nelson Mandela: 95\n",
    "Martin Luther King: 39\n",
    "```"
   ]
  },
  {
   "cell_type": "code",
   "execution_count": null,
   "metadata": {},
   "outputs": [],
   "source": [
    "// Given an Inspiring Leader record and a new name, store the name in the record \n",
    "// Return the updated record value\n",
    "//\n",
    "public static InspiringLeader setLeaderName(InspiringLeader ldr, String nm)\n",
    "{\n",
    "    ldr.name = nm;\n",
    "    \n",
    "    return ldr;\n",
    "}\n",
    "\n",
    "\n",
    "// Print the stored details of some great leaders.\n",
    "//\n",
    "public static void leaders5()\n",
    "{\n",
    "    InspiringLeader leader = new InspiringLeader();\n",
    "        \n",
    "    leader = setLeaderName(leader, \"Nelson Mandela\");\n",
    "    leader = setLeaderAge(leader, 95);\n",
    "    System.out.println(leader.name + \": \" + leader.age);\n",
    "\n",
    "    leader = setLeaderName(leader, \"Martin Luther King\");\n",
    "    System.out.println(leader.name + \": \" + leader.age);\n",
    "\n",
    "    return;\n",
    "}\n",
    "\n",
    "leaders5();"
   ]
  },
  {
   "cell_type": "markdown",
   "metadata": {},
   "source": [
    "**NOW READ THE ANSWER** [Click here to jump to the solution to this exercise](#Solution5)"
   ]
  },
  {
   "cell_type": "markdown",
   "metadata": {},
   "source": [
    "## Getting the value from the field of a record\n",
    "\n",
    "Just as we can store a new value in a record field with a method we can also write methods to pull values out of records."
   ]
  },
  {
   "cell_type": "markdown",
   "metadata": {},
   "source": [
    "### Exercise 6<a id=\"Exercise6\"></a>\n",
    "\n",
    "We have created a new method <span style=\"color: red;\"> to get the name field </span> of a record of type InspiringLeader.\n",
    "\n",
    "Predict what the following code will print, run the code to check you were right then explain what the method does and how it is being used."
   ]
  },
  {
   "cell_type": "markdown",
   "metadata": {},
   "source": [
    "**Write your prediction and explanation here**\n"
   ]
  },
  {
   "cell_type": "code",
   "execution_count": null,
   "metadata": {},
   "outputs": [],
   "source": [
    "// Given an Inspiring Leader record return the name stored in the record \n",
    "//\n",
    "public static String getLeaderName(InspiringLeader ldr)\n",
    "{ \n",
    "    return ldr.name;\n",
    "}\n",
    "\n",
    "\n",
    "// Print the stored details of a great leader.\n",
    "//\n",
    "public static void leaders6()\n",
    "{\n",
    "    InspiringLeader leader = new InspiringLeader();\n",
    "        \n",
    "    leader = setLeaderName(leader, \"Emmeline Pankhurst\");\n",
    "    System.out.println(getLeaderName(leader));\n",
    "\n",
    "    return;\n",
    "}\n",
    "\n",
    "leaders6();"
   ]
  },
  {
   "cell_type": "markdown",
   "metadata": {},
   "source": [
    "**NOW READ THE ANSWER** [Click here to jump to the solution to this exercise](#Solution6)"
   ]
  },
  {
   "cell_type": "markdown",
   "metadata": {},
   "source": [
    "### Exercise 7<a id=\"Exercise7\"></a>\n",
    "\n",
    "Complete the method getLeaderAge below so that it pulls the age from the record given it as an argument.\n",
    "\n",
    "```\n",
    "Emmeline Pankhurst: 69\n",
    "```"
   ]
  },
  {
   "cell_type": "code",
   "execution_count": null,
   "metadata": {},
   "outputs": [],
   "source": [
    "// Given an Inspiring Leader record return the age stored in the record \n",
    "//\n",
    "public static void getLeaderAge( )  // CHANGE RETURN TYPE AND ADD ARGUMENT \n",
    "{ \n",
    " // RETURN VALUE\n",
    "}\n",
    "\n",
    "\n",
    "// Print the stored details of some great leaders.\n",
    "//\n",
    "public static void leaders7()\n",
    "{\n",
    "    InspiringLeader leader = new InspiringLeader();\n",
    "        \n",
    "    leader = setLeaderName(leader, \"Emmeline Pankhurst\");\n",
    "    leader = setLeaderAge(leader, 69);\n",
    "    System.out.println(getLeaderName(leader) + \": \" + getLeaderAge(leader));\n",
    "\n",
    "    return;\n",
    "}\n",
    "\n",
    "leaders7();"
   ]
  },
  {
   "cell_type": "markdown",
   "metadata": {},
   "source": [
    "**NOW READ THE ANSWER** [Click here to jump to the solution to this exercise](#Solution7)"
   ]
  },
  {
   "cell_type": "markdown",
   "metadata": {},
   "source": [
    "### Exercise 8<a id=\"Exercise8\"></a>\n",
    "\n",
    "Modify the method below so that it prints details about Tarana Burke in a similar way to Emmeline Pankhurst, using methods to store values in the leader record and then print them out using methods. However, the details of Tarana Burke should be stored in a record called metoo.\n",
    "\n",
    "```\n",
    "Emmeline Pankhurst: 69\n",
    "Tarana Burke: 47\n",
    "```"
   ]
  },
  {
   "cell_type": "code",
   "execution_count": null,
   "metadata": {},
   "outputs": [],
   "source": [
    "// Print the stored details of some great leaders.\n",
    "//\n",
    "public static void leaders8()\n",
    "{\n",
    "    InspiringLeader suffragette = new InspiringLeader();\n",
    "        \n",
    "    suffragette = setLeaderName(suffragette, \"Emmeline Pankhurst\");\n",
    "    suffragette = setLeaderAge(suffragette, 69);\n",
    "    System.out.println(getLeaderName(suffragette) + \": \" + getLeaderAge(suffragette));\n",
    "\n",
    "    return;\n",
    "}\n",
    "\n",
    "leaders8();"
   ]
  },
  {
   "cell_type": "markdown",
   "metadata": {},
   "source": [
    "**NOW READ THE ANSWER** [Click here to jump to the solution to this exercise](#Solution8)"
   ]
  },
  {
   "cell_type": "markdown",
   "metadata": {},
   "source": [
    "## Using accessor methods\n",
    "\n",
    "Once accessor methods have been written, any other method should ONLY use accessor methods to access records. By using methods in this way we start to build up a full program in layers. Each layer uses methods from the layer below. Here our bottom implementaiton layer is the class layer. The accessor methods are the next layer that hides (ie abstracts) away the implementation. On top of that we can now write another layer of more useful methods that do things like change a whole record."
   ]
  },
  {
   "cell_type": "markdown",
   "metadata": {},
   "source": [
    "### Exercise 9<a id=\"Exercise9\"></a>\n",
    "\n",
    "Create two new methods called setInspiringLeader and toStringInspiringLeader. The first sets both the name and age of a record. The second returns a String suitable for printing that separates the name and age with a colon."
   ]
  },
  {
   "cell_type": "code",
   "execution_count": null,
   "metadata": {},
   "outputs": [],
   "source": [
    "// ADD CODE FOR THE TWO MISSING METHODS TO MAKE THE METHOD BELOW WORK\n",
    "\n",
    "\n",
    "\n",
    "// Print the stored details of some great leaders.\n",
    "//\n",
    "public static void leaders9()\n",
    "{\n",
    "    InspiringLeader suffragette = new InspiringLeader();\n",
    "        \n",
    "    suffragette = setInspiringLeader(suffragette, \"Emmeline Pankhurst\", 69);\n",
    "    System.out.println(toStringInspiringLeader(suffragette));\n",
    "\n",
    "    return;\n",
    "}\n",
    "\n",
    "leaders9();"
   ]
  },
  {
   "cell_type": "markdown",
   "metadata": {},
   "source": [
    "**NOW READ THE ANSWER** [Click here to jump to the solution to this exercise](#Solution9)"
   ]
  },
  {
   "cell_type": "markdown",
   "metadata": {},
   "source": [
    "### Exercise 10<a id=\"Exercise10\"></a>\n",
    "\n",
    "Pull all the above together into the code block below. It should include the class definition for the record, methods to set and get values of each field of the record.\n",
    "It should use these methods to create a series of records, store values in them and then print the values. Ultimately it should print: \n",
    "\n",
    "```\n",
    "Nelson Mandela: 95\n",
    "Mohandas Karamchand Gandhi: 78\n",
    "Emmeline Pankhurst: 69\n",
    "Tarana Burke: 47\n",
    "Martin Luther King: 39\n",
    "```\n",
    "Convert it also to a full program that you test locally on your local machine. "
   ]
  },
  {
   "cell_type": "code",
   "execution_count": null,
   "metadata": {},
   "outputs": [],
   "source": [
    "// write the code here"
   ]
  },
  {
   "cell_type": "markdown",
   "metadata": {},
   "source": [
    "**NOW READ THE ANSWER** [Click here to jump to the solution to this exercise](#Solution10)"
   ]
  },
  {
   "cell_type": "markdown",
   "metadata": {},
   "source": [
    "### Exercise 11<a id=\"Exercise11\"></a>\n",
    "\n",
    "Write a program that stores and prints the details of winners of the Nobel prize for literature. It should use a new type NobelWinner that contains fields for Name and Year. It should access records of this type using accessor records and on top of those write methods to get printable string values and set the details of a new prize winner.\n",
    "\n",
    "The final method should store and print the Nobel Prize winners:\n",
    "\n",
    "2015: Svetlana Alexievich\n",
    "2016: Bob Dylan\n",
    "2017: Kazuo Ishiguro\n",
    "2018: Olga Tokarczuk\n",
    "\n",
    "All should be stored in a single record variable called winner that is reused."
   ]
  },
  {
   "cell_type": "code",
   "execution_count": null,
   "metadata": {},
   "outputs": [],
   "source": [
    "// write the code here"
   ]
  },
  {
   "cell_type": "markdown",
   "metadata": {},
   "source": [
    "**NOW READ THE ANSWER** [Click here to jump to the solution to this exercise](#Solution11)"
   ]
  },
  {
   "cell_type": "markdown",
   "metadata": {},
   "source": [
    "*Once you have done the above exercises (and understand how the concepts work) move on to doing the actual programming exercises from the workbook, writing full programs. You must be able to write full programs, not just fragments.*"
   ]
  },
  {
   "cell_type": "markdown",
   "metadata": {},
   "source": [
    "## Solutions\n",
    "\n",
    "### Solution to Exercise 1<a id=\"Solution1\"></a>\n",
    "\n",
    "This creates a new **type** that can then be used in the program like existing types to declare variables. The type created is called InspiringLeader, so after this has been declared the program can create variables eg\n",
    "```java\n",
    "InspiringLeader a; \n",
    "```\n",
    "\n",
    "The definition says that values of type Inspiringleader will have two parts a name which is a String and an age which is an integer. Thus a variable defined as above will store two values bound together. To get at the constituent parts, we use the field names. Here the field names are name and age so for a variable, a, a.name is used to set and get the *name* from a value of type InspiringLeader. Similarly, a.age is used to set and get the *age* from a value of type InspiringLeader.\n",
    "\n",
    "As the new type includes more than one field, in this case for InspiringLeader of types String and integer, then we can say that the new type is a compound data type."
   ]
  },
  {
   "cell_type": "markdown",
   "metadata": {},
   "source": [
    "[Return to Exercise](#Exercise1)"
   ]
  },
  {
   "cell_type": "markdown",
   "metadata": {},
   "source": [
    "### Solution to Exercise 2<a id=\"Solution2\"></a>\n",
    "\n",
    "It prints\n",
    "```\n",
    "Mohandas Karamchand Gandhi: 78\n",
    "Nelson Mandela: 95\n",
    "```"
   ]
  },
  {
   "cell_type": "markdown",
   "metadata": {},
   "source": [
    "[Return to Exercise](#Exercise2)"
   ]
  },
  {
   "cell_type": "markdown",
   "metadata": {},
   "source": [
    "### Solution to Exercise 3<a id=\"Solution3\"></a>\n",
    "\n",
    "It prints\n",
    "```\n",
    "Nelson Mandela\n",
    "Martin Luther King\n",
    "```\n",
    "\n",
    "The method setLeaderName takes a record value and a String value to store in its name field. What it does is take that record value and create a new record value with the new name in place of the old one. It does this by storing the record value passed in the local variable <span style=\"color: red;\">(the formal parameter)</span> called ldr. It then uses normal assignment of the passed value which has been stored in nm to the name field. Finally, it returns the new record value stored in the variable ldr.\n",
    "\n",
    "Thus\n",
    "```java\n",
    "    ldr.name = nm;\n",
    "```\n",
    "is just a normal field assignment to record ldr which is holding the record value. The value being assigned is the new value for the field stored locally in variable nm.\n",
    "\n",
    "The code that uses this method first creates a single new variable called leader that is of type InspiringLeader and so can hold InspiringLeader records.\n",
    "```java\n",
    "    InspiringLeader leader = new InspiringLeader();\n",
    "```\n",
    "\n",
    "The next line of the code calls the method. It passes this empty record value that was stored in variable leader as an argument. It gets stored by the method in variable ldr.\n",
    "\n",
    "The second argument is a String \"Nelson Mandela\". This is the value we want the method to store in the name field. It gets initially stored in local variable nm by the method, before being put into the correct field.\n",
    "```java\n",
    "    ... setLeaderName(leader, \"Nelson Mandela\");\n",
    "```\n",
    "\n",
    "The method call returns a new record value with the updated name. If we are going to use that value we need to store it somewhere. Actually we want to update the original leader variable, so we store the new record variable back there using assignment:\n",
    "```java\n",
    "    leader = setLeaderName(leader, \"Nelson Mandela\");\n",
    "    System.out.println(leader.name);\n",
    "```\n",
    "\n",
    "Once stored we can get at the new name to print it just by accessing the field. (Later we will use a method to do this too).\n",
    "```java\n",
    "    System.out.println(leader.name);\n",
    "```\n",
    "\n",
    "We then do the whole thing again but storing a different value this time.\n",
    "```java\n",
    "    leader = setLeaderName(leader, \"Martin Luther King\");\n",
    "    System.out.println(leader.name);\n",
    "```"
   ]
  },
  {
   "cell_type": "markdown",
   "metadata": {},
   "source": [
    "[Return to Exercise](#Exercise3)"
   ]
  },
  {
   "cell_type": "markdown",
   "metadata": {},
   "source": [
    "### Solution to Exercise 4<a id=\"Solution4\"></a>\n",
    "\n",
    "We just follow the same pattern a third time."
   ]
  },
  {
   "cell_type": "code",
   "execution_count": null,
   "metadata": {},
   "outputs": [],
   "source": [
    "// Print the stored details of some great leaders.\n",
    "//\n",
    "public static void leaders4()\n",
    "{\n",
    "    InspiringLeader leader = new InspiringLeader();\n",
    "        \n",
    "    leader = setLeaderName(leader, \"Nelson Mandela\");\n",
    "    System.out.println(leader.name);\n",
    "\n",
    "    leader = setLeaderName(leader, \"Martin Luther King\");\n",
    "    System.out.println(leader.name);\n",
    "    \n",
    "    leader = setLeaderName(leader, \"Emmeline Pankhurst\");\n",
    "    System.out.println(leader.name);\n",
    "\n",
    "    return;\n",
    "}\n",
    "\n",
    "leaders4();"
   ]
  },
  {
   "cell_type": "markdown",
   "metadata": {},
   "source": [
    "[Return to Exercise](#Exercise4)"
   ]
  },
  {
   "cell_type": "markdown",
   "metadata": {},
   "source": [
    "### Solution to Exercise 5<a id=\"Solution5\"></a>"
   ]
  },
  {
   "cell_type": "code",
   "execution_count": null,
   "metadata": {},
   "outputs": [],
   "source": [
    "// Given an Inspiring Leader record and a new age, store the age in the record \n",
    "// Return the updated record value\n",
    "//\n",
    "public static InspiringLeader setLeaderAge(InspiringLeader ldr, int a)\n",
    "{\n",
    "    ldr.age = a;\n",
    "    \n",
    "    return ldr;\n",
    "}\n",
    "\n",
    "\n",
    "// Print the stored details of some great leaders.\n",
    "//\n",
    "public static void leaders5()\n",
    "{\n",
    "    InspiringLeader leader = new InspiringLeader();\n",
    "        \n",
    "    leader = setLeaderName(leader, \"Nelson Mandella\");\n",
    "    leader = setLeaderAge(leader, 69);\n",
    "    System.out.println(leader.name + \": \" + leader.age);\n",
    "\n",
    "    leader = setLeaderName(leader, \"Martin Luther King\");\n",
    "    leader = setLeaderAge(leader, 39);\n",
    "    System.out.println(leader.name + \": \" + leader.age);\n",
    "\n",
    "    return;\n",
    "}\n",
    "\n",
    "leaders5();"
   ]
  },
  {
   "cell_type": "markdown",
   "metadata": {},
   "source": [
    "[Return to Exercise](#Exercise5)"
   ]
  },
  {
   "cell_type": "markdown",
   "metadata": {},
   "source": [
    "### Solution to Exercise 6<a id=\"Solution6\"></a>"
   ]
  },
  {
   "cell_type": "markdown",
   "metadata": {},
   "source": [
    "It will print\n",
    "```\n",
    "Emmeline Pankhurst\n",
    "```\n",
    "\n",
    "The new method defined is just given an InspiringLeader record as argument, stores it in local variable ldr and then  pulls out of it using the dot notation the value in the name field.\n",
    "\n",
    "The method that calls it first creates a new record and stores the String \"Emmeline Pankhurst\" in the name field. It then calls this new method, passing it the record as argument. The String \"Emmeline Pankhurst\" is returned by the method and it is passed straight to the println method to print it out."
   ]
  },
  {
   "cell_type": "markdown",
   "metadata": {},
   "source": [
    "[Return to Exercise](#Exercise6)"
   ]
  },
  {
   "cell_type": "markdown",
   "metadata": {},
   "source": [
    "### Solution to Exercise 7<a id=\"Solution7\"></a>"
   ]
  },
  {
   "cell_type": "code",
   "execution_count": null,
   "metadata": {},
   "outputs": [],
   "source": [
    "// Given an Inspiring Leader record return the age stored in the record \n",
    "//\n",
    "public static int getLeaderAge(InspiringLeader ldr) \n",
    "{ \n",
    "    return ldr.age;\n",
    "}\n",
    "\n",
    "\n",
    "// Print the stored details of some inspiring leaders.\n",
    "//\n",
    "public static void leaders7()\n",
    "{\n",
    "    InspiringLeader leader = new InspiringLeader();\n",
    "        \n",
    "    leader = setLeaderName(leader, \"Emmeline Pankhurst\");\n",
    "    leader = setLeaderAge(leader, 69);\n",
    "    System.out.println(getLeaderName(leader) + \": \" + getLeaderAge(leader));\n",
    "\n",
    "    return;\n",
    "}\n",
    "\n",
    "leaders7();"
   ]
  },
  {
   "cell_type": "markdown",
   "metadata": {},
   "source": [
    "[Return to Exercise](#Exercise7)"
   ]
  },
  {
   "cell_type": "markdown",
   "metadata": {},
   "source": [
    "### Solution to Exercise 8<a id=\"Solution8\"></a>"
   ]
  },
  {
   "cell_type": "code",
   "execution_count": null,
   "metadata": {},
   "outputs": [],
   "source": [
    "// Print the stored details of some inspiring leaders.\n",
    "//\n",
    "public static void leaders8()\n",
    "{\n",
    "    InspiringLeader suffragette = new InspiringLeader();\n",
    "    InspiringLeader metoo = new InspiringLeader();\n",
    "        \n",
    "    suffragette = setLeaderName(suffragette, \"Emmeline Pankhurst\");\n",
    "    suffragette = setLeaderAge(suffragette, 69);\n",
    "    System.out.println(getLeaderName(suffragette) + \": \" + getLeaderAge(suffragette));\n",
    "\n",
    "    metoo = setLeaderName(metoo, \"Tarana Burke\");\n",
    "    metoo = setLeaderAge(metoo, 47);\n",
    "    System.out.println(getLeaderName(metoo) + \": \" + getLeaderAge(metoo));\n",
    "\n",
    "    return;\n",
    "}\n",
    "\n",
    "leaders8();"
   ]
  },
  {
   "cell_type": "markdown",
   "metadata": {},
   "source": [
    "[Return to Exercise](#Exercise8)"
   ]
  },
  {
   "cell_type": "markdown",
   "metadata": {},
   "source": [
    "### Solution to Exercise 9<a id=\"Solution9\"></a>"
   ]
  },
  {
   "cell_type": "code",
   "execution_count": null,
   "metadata": {},
   "outputs": [],
   "source": [
    "// Set the name and age for a leader\n",
    "//\n",
    "public static InspiringLeader setInspiringLeader(InspiringLeader ldr, String n, int a)\n",
    "{\n",
    "    ldr = setLeaderName(ldr, n);\n",
    "    ldr = setLeaderAge(ldr, a);\n",
    "    return ldr;\n",
    "}\n",
    "\n",
    "// Return a string suitsable for printing of the details of a leader\n",
    "//\n",
    "public static String toStringInspiringLeader(InspiringLeader ldr)\n",
    "{\n",
    "    String s = getLeaderName(ldr) + \": \" + getLeaderAge(ldr);\n",
    "    return s;\n",
    "}\n",
    "\n",
    "\n",
    "// Print the stored details of some great leaders.\n",
    "//\n",
    "public static void leaders9()\n",
    "{\n",
    "    InspiringLeader suffragette = new InspiringLeader();\n",
    "        \n",
    "    suffragette = setInspiringLeader(suffragette, \"Emmeline Pankhurst\", 69);\n",
    "    System.out.println(toStringInspiringLeader(suffragette));\n",
    "\n",
    "    return;\n",
    "}\n",
    "\n",
    "leaders9();"
   ]
  },
  {
   "cell_type": "markdown",
   "metadata": {},
   "source": [
    "[Return to Exercise](#Exercise9)"
   ]
  },
  {
   "cell_type": "markdown",
   "metadata": {},
   "source": [
    "### Solution to Exercise 10<a id=\"Solution10\"></a>"
   ]
  },
  {
   "cell_type": "code",
   "execution_count": null,
   "metadata": {},
   "outputs": [],
   "source": [
    "class InspiringLeader\n",
    "{\n",
    "    String name;\n",
    "    int age;\n",
    "}\n",
    "\n",
    "// Given an Inspiring Leader record return the name stored in the record \n",
    "//\n",
    "public static String getLeaderName(InspiringLeader ldr)\n",
    "{ \n",
    "    return ldr.name;\n",
    "}\n",
    "\n",
    "// Given an Inspiring Leader record return the age stored in the record \n",
    "//\n",
    "public static int getLeaderAge(InspiringLeader ldr) \n",
    "{ \n",
    "    return ldr.age;\n",
    "}\n",
    "\n",
    "// Given an Inspiring Leader record and a new name, store the name in the record \n",
    "// Return the updated record value\n",
    "//\n",
    "public static InspiringLeader setLeaderName(InspiringLeader ldr, String nm)\n",
    "{\n",
    "    ldr.name = nm;\n",
    "    \n",
    "    return ldr;\n",
    "}\n",
    "\n",
    "// Given an Inspiring Leader record and a new age, store the age in the record \n",
    "// Return the updated record value\n",
    "//\n",
    "public static InspiringLeader setLeaderAge(InspiringLeader ldr, int a)\n",
    "{\n",
    "    ldr.age = a;\n",
    "    \n",
    "    return ldr;\n",
    "}\n",
    "\n",
    "\n",
    "// Set the name and age for a leader\n",
    "//\n",
    "public static InspiringLeader setInspiringLeader(InspiringLeader ldr, String n, int a)\n",
    "{\n",
    "    ldr = setLeaderName(ldr, n);\n",
    "    ldr = setLeaderAge(ldr, a);\n",
    "    return ldr;\n",
    "}\n",
    "\n",
    "// Return a string suitsable for printing of the details of a leader\n",
    "//\n",
    "public static String toStringInspiringLeader(InspiringLeader ldr)\n",
    "{\n",
    "    String s = getLeaderName(ldr) + \": \" + getLeaderAge(ldr);\n",
    "    return s;\n",
    "}\n",
    "\n",
    "\n",
    "// Print the stored details of some inspiring leaders.\n",
    "//\n",
    "public static void leaders10()\n",
    "{\n",
    "    InspiringLeader apartheid = new InspiringLeader();\n",
    "    InspiringLeader peacefulprotest = new InspiringLeader();\n",
    "    InspiringLeader suffragette = new InspiringLeader();\n",
    "    InspiringLeader metoo = new InspiringLeader();\n",
    "    InspiringLeader civilrights = new InspiringLeader();\n",
    "\n",
    "    apartheid = setInspiringLeader(apartheid, \"Nelson Mandela\", 95);\n",
    "    System.out.println(toStringInspiringLeader(apartheid));\n",
    "\n",
    "    peacefulprotest = setInspiringLeader(peacefulprotest, \"Mohandas Karamchand Gandhi\", 78);\n",
    "    System.out.println(toStringInspiringLeader(peacefulprotest));\n",
    "        \n",
    "    suffragette = setInspiringLeader(suffragette, \"Emmeline Pankhurst\", 69);\n",
    "    System.out.println(toStringInspiringLeader(suffragette));\n",
    "\n",
    "    metoo = setInspiringLeader(metoo, \"Tarana Burke\", 47);\n",
    "    System.out.println(toStringInspiringLeader(metoo));\n",
    "\n",
    "    civilrights = setInspiringLeader(civilrights, \"Martin Luther King Jr\", 39);\n",
    "    System.out.println(toStringInspiringLeader(civilrights));\n",
    "\n",
    "    return;\n",
    "}\n",
    "\n",
    "leaders10();"
   ]
  },
  {
   "cell_type": "markdown",
   "metadata": {},
   "source": [
    "[Return to Exercise](#Exercise10)"
   ]
  },
  {
   "cell_type": "markdown",
   "metadata": {},
   "source": [
    "### Solution to Exercise 11<a id=\"Solution11\"></a>"
   ]
  },
  {
   "cell_type": "code",
   "execution_count": null,
   "metadata": {},
   "outputs": [],
   "source": [
    "class NobelWinner\n",
    "{\n",
    "    String name;\n",
    "    int year;\n",
    "}\n",
    "\n",
    "// Given a Nobel Prize winner record return the name stored in the record \n",
    "//\n",
    "public static String getNobelWinnerName(NobelWinner nw)\n",
    "{ \n",
    "    return nw.name;\n",
    "}\n",
    "\n",
    "// Given a Nobel Winner record return the year stored in the record \n",
    "//\n",
    "public static int getNobelWinnerYear(NobelWinner nw) \n",
    "{ \n",
    "    return nw.year;\n",
    "}\n",
    "\n",
    "// Given a Nobel Winner record and a new name, store the name in the record \n",
    "// Return the updated record value\n",
    "//\n",
    "public static NobelWinner setNobelWinnerName(NobelWinner nw, String nm)\n",
    "{\n",
    "    nw.name = nm;\n",
    "    \n",
    "    return nw;\n",
    "}\n",
    "\n",
    "// Given a Nobel Winner record and a new year, store the year in the record \n",
    "// Return the updated record value\n",
    "//\n",
    "public static NobelWinner setNobelWinnerYear(NobelWinner nw, int y)\n",
    "{\n",
    "    nw.year = y;\n",
    "    \n",
    "    return nw;\n",
    "}\n",
    "\n",
    "\n",
    "// Set the name and award year for a Nobel prize winner\n",
    "//\n",
    "public static NobelWinner setNobelWinner(NobelWinner nw, String n, int y)\n",
    "{\n",
    "    nw = setNobelWinnerName(nw, n);\n",
    "    nw = setNobelWinnerYear(nw, y);\n",
    "    return nw;\n",
    "}\n",
    "\n",
    "// Return a string suitsable for printing of the details of a nobel prize winner\n",
    "//\n",
    "public static String toStringNobelWinner(NobelWinner nw)\n",
    "{\n",
    "    String s = getNobelWinnerName(nw) + \": \" + getNobelWinnerYear(nw);\n",
    "    return s;\n",
    "}\n",
    "\n",
    "\n",
    "// Print the stored details of some Nobel Prize winners for literature.\n",
    "//\n",
    "public static void nobel()\n",
    "{\n",
    "    NobelWinner winner = new NobelWinner();\n",
    "\n",
    "    winner = setNobelWinner(winner, \"Svetlana Alexievich\", 2015);\n",
    "    System.out.println(toStringNobelWinner(winner));\n",
    "\n",
    "    winner = setNobelWinner(winner, \"Bob Dylan\", 2016);\n",
    "    System.out.println(toStringNobelWinner(winner));\n",
    "        \n",
    "    winner = setNobelWinner(winner, \"Kazuo Ishiguro\", 2017);\n",
    "    System.out.println(toStringNobelWinner(winner));\n",
    "\n",
    "    winner = setNobelWinner(winner, \"Olga Tokarczuk\", 2018);\n",
    "    System.out.println(toStringNobelWinner(winner));\n",
    "\n",
    "    return;\n",
    "}\n",
    "\n",
    "nobel();"
   ]
  },
  {
   "cell_type": "markdown",
   "metadata": {},
   "source": [
    "[Return to Exercise](#Exercise11)"
   ]
  }
 ],
 "metadata": {
  "kernelspec": {
   "display_name": "Java",
   "language": "java",
   "name": "java"
  },
  "language_info": {
   "codemirror_mode": "java",
   "file_extension": ".jshell",
   "mimetype": "text/x-java-source",
   "name": "Java",
   "pygments_lexer": "java",
   "version": "11.0.8+10-LTS"
  }
 },
 "nbformat": 4,
 "nbformat_minor": 2
}
