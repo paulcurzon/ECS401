{
 "cells": [
  {
   "cell_type": "markdown",
   "metadata": {},
   "source": [
    "# Unit 9 Part 1: Recursion\n",
    "## Paul Curzon\n",
    "\n",
    "## Interactive Programming Exercises\n",
    "\n",
    "### Learning Outcomes\n",
    "- Read and Write programs that are recursive\n",
    "- Explain concepts related to recursion\n",
    "\n",
    "*This notebook looks at code fragments. After completing these exercises you MUST then go on to write full programs - see the programming exercises in the workbook.*\n",
    "\n",
    "*Answers to exercises are given at the end.*\n",
    "\n",
    "**Always read the answers to exercises and compare them to your own. There are important things to learn from the answers.**\n",
    "\n",
    "<span style=\"color: red;\"> It is a really good idea to add your own notes throughout this notebook to reinforce what you have learnt and highlight important points. Click on the + in the toolbar above to make a new note area, and change it from Code to Markdown in the dropdown menu above if your note is not executable code. You may also want to highlight your notes in red as here, so they stand out. You change colours using span like this: </span>\n",
    "```\n",
    "<span style=\"color: red;\">THE TEXT TO COLOUR RED</span>\n",
    "```"
   ]
  },
  {
   "cell_type": "markdown",
   "metadata": {},
   "source": [
    "## Introduction \n",
    "\n",
    "We have previously seen that a **while loop** is the most powerful kind of loop. By this we mean that all kinds of repetition imaginable can be done with a while loop. Other ways of doing repetition are equally powerful. \n",
    "\n",
    "In particular, there is a way to do repetition that works in a completely different way: recursion. It does not use a specially defined looping construct like the while loop. Instead it does repetition just by using methods that call themselves. It does not allow us to write programs that cannot be written with a while loop, just a new way to do the same thing."
   ]
  },
  {
   "cell_type": "markdown",
   "metadata": {},
   "source": [
    "## Refresher"
   ]
  },
  {
   "cell_type": "markdown",
   "metadata": {},
   "source": [
    "### Exercise 1<a id=\"Exercise1\"></a>\n",
    "\n",
    "Complete the following While loop so that it adds the numbers from 1 to n for any n, testing it witht he given call to sum to 6. The sum to n is just 1+2+3+ ....+n so sum to 6 is 1+2+3+4+5+6"
   ]
  },
  {
   "cell_type": "code",
   "execution_count": null,
   "metadata": {},
   "outputs": [],
   "source": [
    "public static int sumton(int n)\n",
    "{\n",
    "    int countdown = n;\n",
    "    int total = 0;\n",
    "\n",
    "    while (< ADD A TEST HERE>)\n",
    "    {\n",
    "        total = <COMPLETE THIS ASSIGNMENT>\n",
    "        countdown = countdown - 1;\n",
    "    }\n",
    "    \n",
    "    return total;\n",
    "}\n",
    "\n",
    "int howmany = 6;\n",
    "int total = sumton(howmany);\n",
    "System.out.println(\"Adding the first  \" + n + \" numbers gives total \" + total);"
   ]
  },
  {
   "cell_type": "markdown",
   "metadata": {},
   "source": [
    "**NOW READ THE ANSWER** [Click here to jump to the solution to this exercise](#Solution1)"
   ]
  },
  {
   "cell_type": "markdown",
   "metadata": {},
   "source": [
    "### Exercise 2<a id=\"Exercise2\"></a>\n",
    "\n",
    "Complete the following While loop so that it works out how many numbers in the given array it must add to reach the total of 100 or greater. It should start from array position 0 and work through the array until the total is reached. If it never reaches the total then it prints a message is printed.\n",
    "\n",
    "For example given the array ```{22, 37, 14, 16, 3, 33, 142, 17, 16, 12}``` it should return the answer 6 as the 6 elements: 22 + 37 + 14 + 16 + 3 + 33 are the smallest number of elements from the start of the array that add up to 100."
   ]
  },
  {
   "cell_type": "code",
   "execution_count": null,
   "metadata": {},
   "outputs": [],
   "source": [
    "final int TARGET = 100;\n",
    "final int[] NUMBERS_TO_ADD = {22, 37, 14, 16, 3, 33, 14, 2, 17, 16, 12};\n",
    "int total = 0;\n",
    "int position = 0;\n",
    "\n",
    "while (< ADD A TEST HERE>)\n",
    "{\n",
    "    total = <COMPLETE THIS ASSIGNMENT>\n",
    "    position = position + 1;\n",
    "}\n",
    "\n",
    "\n",
    "// Now print an appropriate answer\n",
    "\n",
    "if (position < NUMBERS_TO_ADD.length)\n",
    "{\n",
    "    System.out.println(\"You needed \" + position + \" entry/entries in the array to reach \" + TARGET);   \n",
    "}\n",
    "else\n",
    "{\n",
    "    System.out.println(\"I ran out of numbers so never got to \" + TARGET);   \n",
    "}"
   ]
  },
  {
   "cell_type": "markdown",
   "metadata": {},
   "source": [
    "**NOW READ THE ANSWER** [Click here to jump to the solution to this exercise](#Solution2)"
   ]
  },
  {
   "cell_type": "markdown",
   "metadata": {},
   "source": [
    "## General Repetition\n",
    "\n",
    "Any general form of repetition must provide three things:\n",
    "- a way to say repetition should happen\n",
    "- a way to say when to continue the repetition (and so when to end it)\n",
    "- a way to say what instructions should be repeated\n",
    "\n",
    "How is this done in the two while loop examples? \n",
    "\n",
    "### A way to say repetition should happen\n",
    "\n",
    "The keyword **while** says something is about to be repeated.\n",
    "\n",
    "### A way to say when to continue the repetition (and so when to end it)\n",
    "\n",
    "We give a boolean expression to act as a continue test (the negation of that test says when to leave the loop).\n",
    "\n",
    "In the first example we want to continue when countdown is greater than 0 (so end when it is less than or equal to 0). We therefore have a boolean condition to continue:\n",
    "\n",
    "```java\n",
    "(countdown>0)\n",
    "```\n",
    "\n",
    "In the second example we continue while the total is less than the value of TARGET so have a boolean condition to continue:\n",
    "\n",
    "```java\n",
    "(total < TARGET)\n",
    "```\n",
    "\n",
    "\n",
    "### A way to say what instructions should be repeated\n",
    "\n",
    "The while statement says to repeat the statement or block of code (in ```{}```) that is immediately after the test. We also of course repeat the test.\n",
    "\n",
    "In the first example, we repeat the instructions to update the total and countdown (as well as the test):\n",
    "\n",
    "```java\n",
    "{\n",
    "    total = total + countdown;\n",
    "    countdown = countdown - 1;\n",
    "}\n",
    "```\n",
    "\n",
    "In the second example, we repeat the instructions to update the total and position (as well as the test):\n",
    "\n",
    "```java\n",
    "{\n",
    "    total = total + NUMBERS_TO_ADD[position];\n",
    "    position = position + 1;\n",
    "}\n",
    "```\n",
    "\n",
    "The test is also repeated as it is only checked at specific points before the body is executed again each time to decide whether it should be or not. This also means that if the repetition is to end the body must change some variable in the test. If it does not the test will always give back the same answer."
   ]
  },
  {
   "cell_type": "markdown",
   "metadata": {},
   "source": [
    "## Recursion\n",
    "Any new way to do repetition must have the same elements as the while loop in some form. Recursion does have these elements.\n",
    "\n",
    "\n",
    "### A way to say repetition should happen\n",
    "Recursion does not make use of a new invented keyword but instead uses method call. It uses a call to the method being defined to indicate repetition is to happen. Once you call the method the first time, it will call itself and that call will call itself and that call will call itself...thus the repetition just happens from the calls.\n",
    "\n",
    "Each call essentially creates a new version of the method. All but the last sleeps, remembering the values in its variables, waiting to be woken up when the one it called returns a result."
   ]
  },
  {
   "cell_type": "markdown",
   "metadata": {},
   "source": [
    "### Exercise 3<a id=\"Exercise3\"></a>\n",
    "Predict what the following code does. Run it and explain what it does."
   ]
  },
  {
   "cell_type": "markdown",
   "metadata": {},
   "source": [
    "**Write your prediction and explanation here**\n"
   ]
  },
  {
   "cell_type": "code",
   "execution_count": null,
   "metadata": {},
   "outputs": [],
   "source": [
    "public static void iGoOnForever()\n",
    "{\n",
    "    iGoOnForever();\n",
    "    return;\n",
    "}\n",
    "\n",
    "iGoOnForever();\n",
    "System.out.println(\"The method calls have finished\");"
   ]
  },
  {
   "cell_type": "markdown",
   "metadata": {},
   "source": [
    "**NOW READ THE ANSWER** [Click here to jump to the solution to this exercise](#Solution3)"
   ]
  },
  {
   "cell_type": "markdown",
   "metadata": {},
   "source": [
    "### A way to say when to continue the repetition (and so when to end it)\n",
    "Recursion just uses an if statement in the method to indicate when the recusion will end. That actually means it uses a test in a very similar way to a while loop. The sense of the test is normally turned round from a loop though. The condition used is true when the recursion ends (though it doesn't have to be). This means the test is a termination test (rather than a \"continue\" test). The THEN branch of the if statement says what to do to terminate. \n",
    "\n",
    "Again some part of the test (a variable) has to change with each repetition to ensure the test eventually is false so the repetition stops. In the first while loop example, the test was about the countdown being greater than 0, and in the body of the loop the countdown was decremented ensuring eventually the test would be false as if you keep subtracting 1 from a number then you will eventually get to 0. What changes in a recursive call is the argument passed. For example the recursive call might have an argument that is one less than the current one."
   ]
  },
  {
   "cell_type": "markdown",
   "metadata": {},
   "source": [
    "### Exercise 4<a id=\"Exercise4\"></a>\n",
    "\n",
    "Complete the code below by adding the test to the if statement so that it stops when the countdown gets to 0. "
   ]
  },
  {
   "cell_type": "code",
   "execution_count": null,
   "metadata": {
    "scrolled": false
   },
   "outputs": [],
   "source": [
    "public static void iDoNotGoOnForever (int countdown)\n",
    "{\n",
    "    if ( < COMPLETE THIS TEST> )\n",
    "    {\n",
    "        return;\n",
    "    }\n",
    "    else\n",
    "    {\n",
    "        iDoNotGoOnForever(countdown-1);\n",
    "        return;\n",
    "    }\n",
    "    \n",
    "\n",
    "}\n",
    "\n",
    "iDoNotGoOnForever(5);\n",
    "System.out.println(\"The method calls have finished\");"
   ]
  },
  {
   "cell_type": "markdown",
   "metadata": {},
   "source": [
    "The above method does finish now as each call calls itself but with a value for countdown (the formal parameter) one less than it started. Each call thus makes it less and less. Eventually a call is made when the countdown is 0 which causes it to return as the then branch of the if statement executes. This leads to the instruction immediately after the call to be executed, but it is a return statement so a cascade of returns then happen until the original call returns. The call sequence is now:\n",
    "```\n",
    "We call iDoNotGoOnForever(5).\n",
    "\n",
    "iDoNotGoOnForever(5) calls\n",
    "iDoNotGoOnForever(4) which calls\n",
    "iDoNotGoOnForever(3) which calls\n",
    "iDoNotGoOnForever(2) which calls\n",
    "iDoNotGoOnForever(1) which calls\n",
    "iDoNotGoOnForever(0) which causes \n",
    "iDoNotGoOnForever(1) to return which causes\n",
    "iDoNotGoOnForever(2) to return which causes\n",
    "iDoNotGoOnForever(3) to return which causes\n",
    "iDoNotGoOnForever(4) to return which causes\n",
    "iDoNotGoOnForever(5) to return\n",
    "We then print the message\n",
    "The method calls have finished\n",
    "```\n",
    "\n",
    "It is important to realise that with recursion there is always this cascade of calls **followed by** a cascade fo returns one the base case is reached."
   ]
  },
  {
   "cell_type": "markdown",
   "metadata": {},
   "source": [
    "## The base case and the step case\n",
    "The **base case** of a recursive call is the case that stops the recursion going on forever. It is the situation where the branch just returns rather than doing another recursicve call. In our method above, the base csae is the case when  \n",
    "```java\n",
    "countdown <= 0\n",
    "```\n",
    "In this base case, the method just returns.\n",
    "\n",
    "The **step case** on the other hand is the situation where the method does a recursive call. In the above example, this is whenever the above is false ie\n",
    "```java\n",
    "countdown > 0\n",
    "```\n",
    "When this is true, it calls and waits for the return of \n",
    "```java\n",
    "iDoNotGoOnForever(countdown-1);\n",
    "```\n",
    "before returning itself. It takes a **Step** towards the base case because it passes an argument that is one less than currently."
   ]
  },
  {
   "cell_type": "markdown",
   "metadata": {},
   "source": [
    "**NOW READ THE ANSWER** [Click here to jump to the solution to this exercise](#Solution4)"
   ]
  },
  {
   "cell_type": "markdown",
   "metadata": {},
   "source": [
    "### Exercise 5<a id=\"Exercise5\"></a>\n",
    "\n",
    "What is the call and return sequence for the following call? Write it out in a similar form to the example above."
   ]
  },
  {
   "cell_type": "markdown",
   "metadata": {},
   "source": [
    "**Write you answer here**\n"
   ]
  },
  {
   "cell_type": "code",
   "execution_count": null,
   "metadata": {},
   "outputs": [],
   "source": [
    "iDoNotGoOnForever(3);\n",
    "System.out.println(\"Done!\");"
   ]
  },
  {
   "cell_type": "markdown",
   "metadata": {},
   "source": [
    "**NOW READ THE ANSWER** [Click here to jump to the solution to this exercise](#Solution5)"
   ]
  },
  {
   "cell_type": "markdown",
   "metadata": {},
   "source": [
    "### A way to say what instructions should be repeated\n",
    "The final aspect of repetition is to have some instructions that are repeated. Our above method did nothing repeatedly! Or actually it \n",
    "- repeatedly did the test; \n",
    "- repeatedly subtracted 1 from variable countdown\n",
    "- repeatedly called itself.\n",
    "\n",
    "However, what we want is for it to do something useful beyond being able to loop and terminate. For example, the code in exercise 1 adds up the first n numbers where n is the value passed as an argument.  We need the step case to do some calculation. This calculation could happen either before or after the recursive call depending on what is needed.\n",
    "\n",
    "If the repetition is to compute a value then we can have the recursive method return a calculated value repeatedly from each call with the calculation combining the answers. We take the answer passed back from the recursive call and use it to calculate a new answer to pass back. These instructions just go in the else branch of the if statement.\n",
    "\n",
    "For example, in the exercise below first does a recursive call getting an answer for the recursive call, adds the current value of countdown and returns the new total. So if countdown is 6 when this happens, the recursive call calculates sumton_recursive(5) (i.e. the answer to 5+4+3+2+1 = 15). It then adds 6 to this giving 6+5+4+3+2+1 a new value 21 to return.\n",
    "```java\n",
    "        int answersofar = sumton_recursive(countdown-1);\n",
    "        \n",
    "        int total = answersofar + countdown;\n",
    "        return total;\n",
    "```"
   ]
  },
  {
   "cell_type": "markdown",
   "metadata": {},
   "source": [
    "### Exercise 6<a id=\"Exercise6\"></a>\n",
    "\n",
    "The following code does exactly the same as the code from exercise 1. Given an argument such as 6, the method returns the total of all the numbers up to that value (eg when given 6 it calculates 6+5+4+3+2+1 = 21). \n",
    "\n",
    "Experiment with changing the value of howmany and running it to see what happens.\n",
    "\n",
    "Explain how it does it, using an example call when howmany is set to 3."
   ]
  },
  {
   "cell_type": "markdown",
   "metadata": {},
   "source": [
    "**Write your explanation here**"
   ]
  },
  {
   "cell_type": "code",
   "execution_count": null,
   "metadata": {},
   "outputs": [],
   "source": [
    "public static int sumton_recursive(int countdown)\n",
    "{\n",
    "    if (countdown <=0)\n",
    "    {\n",
    "        return 0;\n",
    "    }\n",
    "    else\n",
    "    {\n",
    "        int answersofar = sumton_recursive(countdown-1);\n",
    "        \n",
    "        int total = answersofar + countdown;\n",
    "        return total;\n",
    "    }\n",
    "}\n",
    "\n",
    "int howmany = 6;\n",
    "int final_total = sumton_recursive(howmany);\n",
    "System.out.println(\"Adding the first  \" + howmany + \" numbers gives total \" + final_total);"
   ]
  },
  {
   "cell_type": "markdown",
   "metadata": {},
   "source": [
    "**NOW READ THE ANSWER** [Click here to jump to the solution to this exercise](#Solution6)"
   ]
  },
  {
   "cell_type": "markdown",
   "metadata": {},
   "source": [
    "### Exercise 7<a id=\"Exercise7\"></a>\n",
    "Read carefully the answer to the exercise above. Then modify the code below to include \n",
    "- print statements in the THEN block that prints the value of countdown and result about to be returned, and also \n",
    "- print statements in the ELSE block that prints the values of all the variables there including the value returned in total. \n",
    "\n",
    "Run the code and see how the state (ie values of the variables) matches that described in the description of what happens."
   ]
  },
  {
   "cell_type": "code",
   "execution_count": null,
   "metadata": {},
   "outputs": [],
   "source": [
    "public static int sumton_recursive(int countdown)\n",
    "{\n",
    "    if (countdown <=0 )\n",
    "    {\n",
    "        // ADD PRINT STATEMENTS HERE\n",
    "        \n",
    "        return 0;\n",
    "    }\n",
    "    else\n",
    "    {\n",
    "        int answersofar = sumton_recursive(countdown-1);\n",
    "        int total = answersofar + countdown;\n",
    "        \n",
    "        // ADD PRINT STATEMENTs HERE\n",
    "\n",
    "        return total;\n",
    "    }\n",
    "}\n",
    "\n",
    "int howmany = 3;\n",
    "int final_total = sumton_recursive(howmany);\n",
    "\n",
    "System.out.println();\n",
    "System.out.println(\"Adding the first  \" + howmany + \" numbers gives total \" + final_total);"
   ]
  },
  {
   "cell_type": "markdown",
   "metadata": {},
   "source": [
    "**NOW READ THE ANSWER** [Click here to jump to the solution to this exercise](#Solution7)"
   ]
  },
  {
   "cell_type": "markdown",
   "metadata": {},
   "source": [
    "### Exercise 8<a id=\"Exercise8\"></a>\n",
    "What is the base case and the step case of the method in Exercise 6?"
   ]
  },
  {
   "cell_type": "markdown",
   "metadata": {},
   "source": [
    "**Write your answer here**"
   ]
  },
  {
   "cell_type": "markdown",
   "metadata": {},
   "source": [
    "**NOW READ THE ANSWER** [Click here to jump to the solution to this exercise](#Solution8)"
   ]
  },
  {
   "cell_type": "markdown",
   "metadata": {},
   "source": [
    "### Exercise 9<a id=\"Exercise9\"></a>\n",
    "\n",
    "Complete the following recursive method to count down in tens.\n",
    "\n",
    "HINT: You need to add a recursive call in the ELSE branch and it must have an argument closer to the base case of countdown being 0."
   ]
  },
  {
   "cell_type": "code",
   "execution_count": null,
   "metadata": {},
   "outputs": [],
   "source": [
    "public static void countDown10(int countdown)\n",
    "{\n",
    "    if (countdown < 0)\n",
    "    {\n",
    "        System.out.println(\"Blast Off\");\n",
    "    }\n",
    "    else\n",
    "    {\n",
    "        System.out.println(countdown + \"...\");\n",
    "        \n",
    "        // YOU NEED A RECURSIVE CALL HERE\n",
    "    }\n",
    "    \n",
    "    return;\n",
    "}\n",
    "\n",
    "\n",
    "int FROM = 100;\n",
    "countDown10(FROM);"
   ]
  },
  {
   "cell_type": "markdown",
   "metadata": {},
   "source": [
    "**NOW READ THE ANSWER** [Click here to jump to the solution to this exercise](#Solution9)"
   ]
  },
  {
   "cell_type": "markdown",
   "metadata": {},
   "source": [
    "### Exercise 10<a id=\"Exercise10\"></a>\n",
    "\n",
    "Predict what happens if a recursive call is put BEFORE the print statement in the ELSE case in this example. Then try it to see if you are right."
   ]
  },
  {
   "cell_type": "markdown",
   "metadata": {},
   "source": [
    "**Write your prediction here**"
   ]
  },
  {
   "cell_type": "code",
   "execution_count": null,
   "metadata": {},
   "outputs": [],
   "source": [
    "public static void countDown10(int countdown)\n",
    "{\n",
    "    if (countdown < 0)\n",
    "    {\n",
    "        System.out.println(\"Blast Off\");\n",
    "    }\n",
    "    else\n",
    "    {\n",
    "        // PUT A RECURSIVE CALL HERE THIS TIME\n",
    "        \n",
    "        System.out.println(countdown + \"...\");\n",
    "    }\n",
    "    \n",
    "    return;\n",
    "}\n",
    "\n",
    "\n",
    "int FROM = 100;\n",
    "countDown10(FROM);"
   ]
  },
  {
   "cell_type": "markdown",
   "metadata": {},
   "source": [
    "**NOW READ THE ANSWER** [Click here to jump to the solution to this exercise](#Solution10)"
   ]
  },
  {
   "cell_type": "markdown",
   "metadata": {},
   "source": [
    "### Exercise 11<a id=\"Exercise11\"></a>\n",
    "\n",
    "Write a recursive method that prints out the THREE times table in order up to a given value."
   ]
  },
  {
   "cell_type": "code",
   "execution_count": null,
   "metadata": {},
   "outputs": [],
   "source": [
    "public static void print3TimesTableTo (int n)\n",
    "{\n",
    "     // MAKE THIS METHOD RECURSIVE\n",
    "}\n",
    "\n",
    "print3TimesTableTo(12);\n"
   ]
  },
  {
   "cell_type": "markdown",
   "metadata": {},
   "source": [
    "**NOW READ THE ANSWER** [Click here to jump to the solution to this exercise](#Solution11)"
   ]
  },
  {
   "cell_type": "markdown",
   "metadata": {},
   "source": [
    "### Exercise 12<a id=\"Exercise12\"></a>\n",
    "\n",
    "Write a recursive method that prints out the NINE times table in order up to a given value. "
   ]
  },
  {
   "cell_type": "code",
   "execution_count": null,
   "metadata": {},
   "outputs": [],
   "source": [
    "public static void print9TimesTableTo (int n)\n",
    "{\n",
    "     // MAKE THIS METHOD RECURSIVE\n",
    "}\n",
    "\n",
    "print9TimesTableTo(10);"
   ]
  },
  {
   "cell_type": "markdown",
   "metadata": {},
   "source": [
    "**NOW READ THE ANSWER** [Click here to jump to the solution to this exercise](#Solution12)"
   ]
  },
  {
   "cell_type": "markdown",
   "metadata": {},
   "source": [
    "### Exercise 13<a id=\"Exercise13\"></a>\n",
    "\n",
    "**Hard**: By completing the program below, write a recursive version of the program in Exercise 2 that returns the number of entries in an array needed to get a total of 100, starting from adding from the position given in the last argument.\n",
    "\n",
    "For example given the array ```{22, 37, 14, 16, 3, 33, 142, 17, 16, 12}```, target 100 and start position 0, it should return the answer 6 as the 6 elements: 22 + 37 + 14 + 16 + 3 + 33 are the smallest number of elements from the start of the array that add up to 100.\n",
    "\n",
    "HINT: There will be two base cases with the step case taking a step closer to both."
   ]
  },
  {
   "cell_type": "code",
   "execution_count": null,
   "metadata": {},
   "outputs": [],
   "source": [
    "public static int arrayHowMany(int [] numbers, int target, int position)\n",
    "{\n",
    "   // COMPLETE THIS METHOD\n",
    "}\n",
    "\n",
    "\n",
    "final int TARGET = 100;\n",
    "final int[] NUMBERS_TO_ADD = {22, 37, 14, 16, 3, 33, 14, 2, 17, 16, 12};\n",
    "\n",
    "int howmany = arrayHowMany(NUMBERS_TO_ADD, TARGET, 0);\n",
    "\n",
    "if (howmany != -1)\n",
    "{\n",
    "    System.out.println(\"You needed \" + howmany + \" entry/entries in the array to reach \" + TARGET);   \n",
    "}\n",
    "else\n",
    "{\n",
    "    System.out.println(\"I ran out of numbers so never got to \" + TARGET);   \n",
    "}"
   ]
  },
  {
   "cell_type": "markdown",
   "metadata": {},
   "source": [
    "**NOW READ THE ANSWER** [Click here to jump to the solution to this exercise](#Solution13)"
   ]
  },
  {
   "cell_type": "markdown",
   "metadata": {},
   "source": [
    "### Exercise 14<a id=\"Exercise14\"></a>\n",
    "\n",
    "Summarise what you know about recursion."
   ]
  },
  {
   "cell_type": "markdown",
   "metadata": {},
   "source": [
    "**Write your summary here**"
   ]
  },
  {
   "cell_type": "code",
   "execution_count": null,
   "metadata": {},
   "outputs": [],
   "source": []
  },
  {
   "cell_type": "markdown",
   "metadata": {},
   "source": [
    "**NOW READ THE ANSWER** [Click here to jump to the solution to this exercise](#Solution14)"
   ]
  },
  {
   "cell_type": "markdown",
   "metadata": {},
   "source": [
    "*Once you have done the above exercises (and understand how the concepts work) move on to doing the actual programming exercises from the workbook, writing full programs. You must be able to write full programs, not just fragments.*"
   ]
  },
  {
   "cell_type": "markdown",
   "metadata": {},
   "source": [
    "## Solutions\n",
    "\n",
    "### Solution to Exercise 1<a id=\"Solution1\"></a>\n"
   ]
  },
  {
   "cell_type": "code",
   "execution_count": null,
   "metadata": {},
   "outputs": [],
   "source": [
    "public static int sumton(int n)\n",
    "{\n",
    "    int countdown = n;\n",
    "    int total = 0;\n",
    "\n",
    "    while (countdown>0)\n",
    "    {\n",
    "        total = total + countdown;\n",
    "        countdown = countdown - 1;\n",
    "    }\n",
    "    \n",
    "    return total;\n",
    "}\n",
    "\n",
    "int howmany = 6;\n",
    "int total = sumton(howmany);\n",
    "System.out.println(\"Adding the first \" + howmany + \" numbers gives total \" + total);"
   ]
  },
  {
   "cell_type": "markdown",
   "metadata": {},
   "source": [
    "[Return to Exercise](#Exercise1)"
   ]
  },
  {
   "cell_type": "markdown",
   "metadata": {},
   "source": [
    "### Solution to Exercise 2<a id=\"Solution2\"></a>\n"
   ]
  },
  {
   "cell_type": "code",
   "execution_count": null,
   "metadata": {},
   "outputs": [],
   "source": [
    "final int TARGET = 100;\n",
    "final int[] NUMBERS_TO_ADD = {22, 37, 14, 16, 3, 33, 14, 2, 17, 16, 12};\n",
    "int total = 0;\n",
    "int position = 0;\n",
    "\n",
    "while ((total < TARGET) & (position < NUMBERS_TO_ADD.length))\n",
    "{\n",
    "    total = total + NUMBERS_TO_ADD[position];\n",
    "    position = position + 1;\n",
    "}\n",
    "\n",
    "if (position < NUMBERS_TO_ADD.length)\n",
    "{\n",
    "    System.out.println(\"You needed \" + position + \" entry/entries in the array to reach \" + TARGET);   \n",
    "}\n",
    "else\n",
    "{\n",
    "      System.out.println(\"I ran out of numbers so never got to \" + TARGET);   \n",
    "}"
   ]
  },
  {
   "cell_type": "markdown",
   "metadata": {},
   "source": [
    "[Return to Exercise](#Exercise2)"
   ]
  },
  {
   "cell_type": "markdown",
   "metadata": {},
   "source": [
    "### Solution to Exercise 3<a id=\"Solution3\"></a>\n",
    "The method iGoOnFOrever will apparently do nothing but in reality it will be silently running for ever unless interrupted externally or it runs out of memory. In practice the latter happens first. The result is it crashes with an error such as:\n",
    "\n",
    "```\n",
    "java.lang.StackOverflowError: null\n",
    "\tat .iGoOnForever(#16:3)\n",
    "\tat .iGoOnForever(#16:3)\n",
    "\tat .iGoOnForever(#16:3)\n",
    "\tat .iGoOnForever(#16:3)\n",
    "    ...\n",
    "```\n",
    "\n",
    "What is happening is the method iGoOnForever has a single instruction to execute which is to call itself, followed by return. So when the command to call it the first time executes, this executes a call to itself, but all that does is execute a call to itself .... this goes on and on. None of the calls ever return as they are too busy doing another call and the following return statement is never executed. However, eventually it crashes because each call to a method uses up a little space on the stack to set up the call and remember where the call will return to. That space is only freed when the call returns. As no return ever happens it just uses up more and more memory. The stack has a finite size, however. Eventually, all of the stack is filled with information about calls and where to return. At that point the stack runs out of memory and \"overflows\" causing the program to crash. Each line in the error message is essentially a record of a method call reporting it has crashed and passing the exception back to the previous one. All were executing the same line of iGoOnForever as noted by the number in each line of the error message."
   ]
  },
  {
   "cell_type": "markdown",
   "metadata": {},
   "source": [
    "[Return to Exercise](#Exercise3)"
   ]
  },
  {
   "cell_type": "markdown",
   "metadata": {},
   "source": [
    "### Solution to Exercise 4<a id=\"Solution4\"></a>\n",
    "By including a situation that does not do a recursive call and instead returns, we break the sequence of calls and a sequence of returns as each call executes it's return and passes back control to the version that called it.\n",
    "\n",
    "As this method just recurses (ie repeats) but otherwise does nothing the only thing that visibly happens is for it to print the message after the call ```iDoNotGoOnForever(20)```. The fact that it does shows that the recursive method did do aseries of calls and ultimately return."
   ]
  },
  {
   "cell_type": "code",
   "execution_count": null,
   "metadata": {},
   "outputs": [],
   "source": [
    "public static void iDoNotGoOnForever(int countdown)\n",
    "{\n",
    "    if (countdown <= 0)\n",
    "    {\n",
    "        return;\n",
    "    }\n",
    "    else\n",
    "    {\n",
    "        iDoNotGoOnForever(countdown-1); \n",
    "    }\n",
    "    \n",
    "    return;\n",
    "}\n",
    "\n",
    "iDoNotGoOnForever(20);\n",
    "System.out.println(\"The method calls have finished\");"
   ]
  },
  {
   "cell_type": "markdown",
   "metadata": {},
   "source": [
    "[Return to Exercise](#Exercise4)"
   ]
  },
  {
   "cell_type": "markdown",
   "metadata": {},
   "source": [
    "### Solution to Exercise 5<a id=\"Solution5\"></a>\n",
    "\n",
    "```\n",
    "We call iDoNotGoOnForever(3)\n",
    "\n",
    "iDoNotGoOnForever(3) calls\n",
    "iDoNotGoOnForever(2) which calls\n",
    "iDoNotGoOnForever(1) which calls\n",
    "iDoNotGoOnForever(0) which causes \n",
    "iDoNotGoOnForever(1) to return which causes\n",
    "iDoNotGoOnForever(2) to return which causes\n",
    "iDoNotGoOnForever(3) to return\n",
    "We then print the message\n",
    "Done!\n",
    "```"
   ]
  },
  {
   "cell_type": "markdown",
   "metadata": {},
   "source": [
    "[Return to Exercise](#Exercise5)"
   ]
  },
  {
   "cell_type": "markdown",
   "metadata": {},
   "source": [
    "### Solution to Exercise 6<a id=\"Solution6\"></a>\n",
    "\n",
    "The code is below so you can see it while reading how it works."
   ]
  },
  {
   "cell_type": "code",
   "execution_count": null,
   "metadata": {},
   "outputs": [],
   "source": [
    "public static int sumton_recursive(int countdown)\n",
    "{\n",
    "    if (countdown <= 0)\n",
    "    {\n",
    "        return 0;\n",
    "    }\n",
    "    else\n",
    "    {\n",
    "        int answersofar = sumton_recursive(countdown-1);\n",
    "        int total = answersofar + countdown;\n",
    "        return total;\n",
    "    }\n",
    "}\n",
    "\n",
    "int howmany = 3;\n",
    "int final_total = sumton_recursive(howmany);\n",
    "System.out.println(\"Adding the first \" + howmany + \" numbers gives total \" + final_total);"
   ]
  },
  {
   "cell_type": "markdown",
   "metadata": {},
   "source": [
    "We call sumton_recursive with the value 3, so it sets countdown to 3. It does the test and countdown is not <= 0 so it does the else case. The first thing this does is call sumton_recursive(2) ie it does a recursive call with argument 2. What that call is doing is working out the sum to 2 (ie working out 2+1+0). Once it has that answer to that calculation (3) which it stores in vsariable, answerssofar, it adds the current countdown value to it (also 3) to give the total 6. \n",
    "\n",
    "That means the overall calculation done so far is 3 + (2+1+0) so is the answer to the sum to 3 that we are after. It is therefore returned as the answer.\n",
    "\n",
    "But how did it work out the sum to 2. It did it in exactly the same way...The call to sumton_recursive(2) followed exactly the same instructions. It set countdown to 2 this time (so nearer to 0) and nearer to ending than before. This was done because 2 was passed as an argument so stored in the new version of variable countdown.\n",
    "\n",
    "An important thing to realise is this new call declares a completely new variable called countdown. The original still exists on the stack but is only accessible to the call that declared it. The old copy still holds 3. This new copy holds 2. In fact all the variables have completely new verrsions created, with the old ones retaining their values until the call returns. At that point they are restored as the visible values of variables with htose names.\n",
    "\n",
    "However, countdown being 2 still means the else case is executed, and that means another recursive call. It does the recursive call sumton_recursive(1) to get the answer to sum to 1, adds it to the 2 in countdown to get total 3 and returns that total to the earlier call as noted above.\n",
    "\n",
    "So how did the call to sumton_recursive(1) return an answer? It created a new version of countdown, this one holding the value 1 that was passed as an argument this time. 1 is greater than 0 to the else case is executed. It did a recursive call to sumton_recursive(0) which returned the value 0. It was added to countdown so that the total 1 was returned as noted above.\n",
    "\n",
    "Finally we need to ask how sumton_recursive(0) calcualted the value 0. It created a new variable countdown, put the 0 in it and then checked if it was less than or equal to 0. It was so the value 0 was just returned with no more fuss (ie no recursive call needed this time). That allowed sumton_recursive(1) to calculate and return its total (1), which allowed sumton_recursive(2) to calculate and return its total (3), which allowed sumton_recursive(3) to calculate and return its total (6).\n",
    "\n",
    "That answer 6 is final stored in the outer variable final_total and then printed."
   ]
  },
  {
   "cell_type": "markdown",
   "metadata": {},
   "source": [
    "[Return to Exercise](#Exercise6)"
   ]
  },
  {
   "cell_type": "markdown",
   "metadata": {},
   "source": [
    "### Solution to Exercise 7<a id=\"Solution7\"></a>\n",
    "\n",
    "It prints \n",
    "\n",
    "```\n",
    "Calling sumton_recursive (3)\n",
    "Calling sumton_recursive (2)\n",
    "Calling sumton_recursive (1)\n",
    "countdown is 0. Returning 0\n",
    "\n",
    "countdown is 1\n",
    "answersofar is 0\n",
    "total is 1\n",
    "Returning 1\n",
    "\n",
    "countdown is 2\n",
    "answersofar is 1\n",
    "total is 3\n",
    "Returning 3\n",
    "\n",
    "countdown is 3\n",
    "answersofar is 3\n",
    "total is 6\n",
    "Returning 6\n",
    "\n",
    "Adding the first  3 numbers gives total 6\n",
    "```\n",
    "\n",
    "It is important to realise that even though \n",
    "```\n",
    "countdown is 0. Returning 0\n",
    "```\n",
    "is printed, before that happens lots of work is being done running through the series of calls. All the work is done as each method call returns with a result that can then be used in calculating a new result and so on."
   ]
  },
  {
   "cell_type": "code",
   "execution_count": null,
   "metadata": {},
   "outputs": [],
   "source": [
    "public static int sumton_recursive(int countdown)\n",
    "{\n",
    "    if (countdown <= 0)\n",
    "    {\n",
    "        System.out.println(\"countdown is \" + countdown + \". Returning 0\");\n",
    "        return 0;\n",
    "    }\n",
    "    else\n",
    "    {\n",
    "        System.out.println(\"Calling sumton_recursive (\" + countdown + \")\");\n",
    "\n",
    "        int answersofar = sumton_recursive(countdown-1);\n",
    "        int total = answersofar + countdown;\n",
    "        \n",
    "        System.out.println();\n",
    "        System.out.println(\"countdown is \" + countdown);\n",
    "        System.out.println(\"answersofar is \" + answersofar);\n",
    "        System.out.println(\"total is \" + total);\n",
    "        System.out.println(\"Returning \" + total);\n",
    "\n",
    "        return total;\n",
    "    }\n",
    "}\n",
    "\n",
    "int howmany = 3;\n",
    "int final_total = sumton_recursive(howmany);\n",
    "\n",
    "System.out.println();\n",
    "System.out.println(\"Adding the first  \" + howmany + \" numbers gives total \" + final_total);"
   ]
  },
  {
   "cell_type": "markdown",
   "metadata": {},
   "source": [
    "[Return to Exercise](#Exercise7)"
   ]
  },
  {
   "cell_type": "markdown",
   "metadata": {},
   "source": [
    "### Solution to Exercise 8<a id=\"Solution8\"></a>\n",
    "\n",
    "The base case is when \n",
    "```java\n",
    "(countdown <= 0)\n",
    "```\n",
    "and so when 0 is returned.\n",
    "\n",
    "The step case is when \n",
    "```java\n",
    "(countdown > 0)\n",
    "```\n",
    "and so when the following else case is executed:\n",
    "```java\n",
    "{\n",
    "    int answersofar = sumton_recursive(countdown-1);\n",
    "    int total = answersofar + countdown;\n",
    "    return total;\n",
    "}\n",
    "``` "
   ]
  },
  {
   "cell_type": "markdown",
   "metadata": {},
   "source": [
    "[Return to Exercise](#Exercise8)"
   ]
  },
  {
   "cell_type": "markdown",
   "metadata": {},
   "source": [
    "### Solution to Exercise 9<a id=\"Solution9\"></a>\n",
    "\n",
    "The recursive call comes after the print statement as we want to do the rest of the count down after printing the current count. We need to chnage the countdown by 10."
   ]
  },
  {
   "cell_type": "code",
   "execution_count": null,
   "metadata": {},
   "outputs": [],
   "source": [
    "public static void countDown10(int countdown)\n",
    "{\n",
    "    if (countdown < 0)\n",
    "    {\n",
    "        System.out.println(\"Blast Off\");\n",
    "    }\n",
    "    else\n",
    "    {\n",
    "        System.out.println(countdown + \"...\");\n",
    "        countDown10(countdown - 10);\n",
    "    }\n",
    "    \n",
    "    return;\n",
    "}\n",
    "\n",
    "\n",
    "int FROM = 100;\n",
    "countDown10(FROM);"
   ]
  },
  {
   "cell_type": "markdown",
   "metadata": {},
   "source": [
    "[Return to Exercise](#Exercise9)"
   ]
  },
  {
   "cell_type": "markdown",
   "metadata": {},
   "source": [
    "### Solution to Exercise 10<a id=\"Solution10\"></a>\n",
    "If the recursive call is placed before the print statement, it prints everything in the wrong order as it does call after call, each doing nothing before another call until it gets the base case. That means Blast Off is printed first and all the other values are printed after in reverse order as each call returns and that method then continues after the recursive call to its print statement.\n",
    "\n",
    "```\n",
    "Blast Off\n",
    "0...\n",
    "10...\n",
    "20...\n",
    "30...\n",
    "40...\n",
    "50...\n",
    "60...\n",
    "70...\n",
    "80...\n",
    "90...\n",
    "100...\n",
    "```"
   ]
  },
  {
   "cell_type": "code",
   "execution_count": null,
   "metadata": {
    "scrolled": true
   },
   "outputs": [],
   "source": [
    "public static void countDown10(int countdown)\n",
    "{\n",
    "    if (countdown < 0)\n",
    "    {\n",
    "        System.out.println(\"Blast Off\");\n",
    "    }\n",
    "    else\n",
    "    {\n",
    "        countDown10(countdown - 10);\n",
    "        System.out.println(countdown + \"...\");\n",
    "    }\n",
    "    \n",
    "    return;\n",
    "}\n",
    "\n",
    "\n",
    "int FROM = 100;\n",
    "countDown10(FROM);"
   ]
  },
  {
   "cell_type": "markdown",
   "metadata": {},
   "source": [
    "[Return to Exercise](#Exercise10)"
   ]
  },
  {
   "cell_type": "markdown",
   "metadata": {},
   "source": [
    "### Solution to Exercise 11<a id=\"Solution11\"></a>\n",
    "\n",
    "Note that to get it to print the three times table in the right order you need to do the recursive call before printing the current value."
   ]
  },
  {
   "cell_type": "code",
   "execution_count": null,
   "metadata": {},
   "outputs": [],
   "source": [
    "public static void print3TimesTableTo (int n)\n",
    "{\n",
    "    if (n == 0)\n",
    "    {\n",
    "        return;\n",
    "    }\n",
    "    else\n",
    "    {\n",
    "        print3TimesTableTo(n-1);\n",
    "        System.out.println(\"3 times \" + n + \" is \\t\" + (3*n));\n",
    "        return;\n",
    "    }\n",
    "}\n",
    "\n",
    "print3TimesTableTo(12);\n"
   ]
  },
  {
   "cell_type": "markdown",
   "metadata": {},
   "source": [
    "[Return to Exercise](#Exercise11)"
   ]
  },
  {
   "cell_type": "markdown",
   "metadata": {},
   "source": [
    "### Solution to Exercise 12<a id=\"Solution12\"></a>\n"
   ]
  },
  {
   "cell_type": "code",
   "execution_count": null,
   "metadata": {},
   "outputs": [],
   "source": [
    "public static void print9TimesTableTo (int n)\n",
    "{\n",
    "    if (n == 0)\n",
    "    {\n",
    "        return;\n",
    "    }\n",
    "    else\n",
    "    {\n",
    "        print9TimesTableTo(n-1);\n",
    "        System.out.println(\"9 times \" + n + \" is \\t\" + (9*n));\n",
    "        return;\n",
    "    }\n",
    "}\n",
    "\n",
    "print9TimesTableTo(10);\n"
   ]
  },
  {
   "cell_type": "markdown",
   "metadata": {},
   "source": [
    "[Return to Exercise](#Exercise12)"
   ]
  },
  {
   "cell_type": "markdown",
   "metadata": {},
   "source": [
    "### Solution to Exercise 13<a id=\"Solution13\"></a>\n",
    "\n",
    "This method has two different base cases one for when the target is reached and one for when we run out of array - the position gets to the end of the array. The step case reduces the target at each step and increases the position (moving the argument values for the recurzive call closer to the base case condition) so makes progress towards both base cases with each recursive call.\n",
    "```java\n",
    "arrayHowMany(numbers, target - NUMBERS_TO_ADD[position], position + 1);\n",
    "```\n",
    "Notice how target is reduced so is closer to the 0 its base case needs to trigger, ```(target <= 0)```\n",
    "position is increased moving closer to the end of the array, so closer to the situation where its base case triggers ```(position >= numbers.length)``` "
   ]
  },
  {
   "cell_type": "code",
   "execution_count": null,
   "metadata": {},
   "outputs": [],
   "source": [
    "public static int arrayHowMany(int [] numbers, int target, int position)\n",
    "{\n",
    "    if (target <= 0)\n",
    "    {\n",
    "        return position;\n",
    "    }\n",
    "    else if (position >= numbers.length)\n",
    "    {\n",
    "        return -1;        \n",
    "    }\n",
    "    else\n",
    "    {\n",
    "        return arrayHowMany(numbers, target - NUMBERS_TO_ADD[position], position + 1);\n",
    "    }\n",
    "}\n",
    "\n",
    "\n",
    "final int TARGET = 100;\n",
    "final int[] NUMBERS_TO_ADD = {22, 37, 14, 16, 3, 33, 14, 2, 17, 16, 12};\n",
    "\n",
    "int howmany = arrayHowMany(NUMBERS_TO_ADD, TARGET, 0);\n",
    "\n",
    "if (howmany != -1)\n",
    "{\n",
    "    System.out.println(\"You needed \" + howmany + \" entry/entries in the array to reach \" + TARGET);   \n",
    "}\n",
    "else\n",
    "{\n",
    "    System.out.println(\"I ran out of numbers so never got to \" + TARGET);   \n",
    "}"
   ]
  },
  {
   "cell_type": "markdown",
   "metadata": {},
   "source": [
    "[Return to Exercise](#Exercise13)"
   ]
  },
  {
   "cell_type": "markdown",
   "metadata": {},
   "source": [
    "### Solution to Exercise 14<a id=\"Solution14\"></a>\n",
    "\n",
    "Recursion provides a way to do repetition in a programming language that works by a method calling itself. A recursive method has one or more base cases and one or more step cases. They are normally part of an if-then-else staircase of options. \n",
    "\n",
    "The base case is the termating case. When the base case condition is true, no recursive call is made and the method returns with an answer to the version of the method that called it.\n",
    "\n",
    "The step case is the recursive case and invvolves a recursive call. The argument in the recursive call must take a step towards the base case. After a series of recursive calls, eventually the base case is arrived at and the series of calls each return in turn.\n",
    "\n",
    "So if we have a call f(8) to a recursive method f that has base case 0 and subtracts 2 from its recursive argument each time ..."
   ]
  },
  {
   "cell_type": "code",
   "execution_count": null,
   "metadata": {},
   "outputs": [],
   "source": [
    "public static void f (int n)\n",
    "{\n",
    "    if (n == 0)\n",
    "    { \n",
    "        return;\n",
    "    }\n",
    "    else\n",
    "    {\n",
    "        System.out.println(\"Calling f(\" + (n-2) + \")\");\n",
    "        f(n-2);\n",
    "        System.out.println(\"Returned from call of f(\" + (n-2) + \")\");\n",
    "\n",
    "        return;\n",
    "    }\n",
    "}\n",
    "\n",
    "f(8);"
   ]
  },
  {
   "cell_type": "markdown",
   "metadata": {},
   "source": [
    "then f(8) will call f(6) which calls f(2) which calls f(0). That is the base case so it does not do a recursive call and just returns control back to the call f(2). That call returns control back to the call f(4). That returns control back to the call f(6), and finally that returns control back to the original call f(8).\n",
    "\n",
    "Each separate call to f stores its own version of all the local variables that the other calls cannot access (all stored on the stack in separate stack frames). They are restored when that version of the method is returned to.\n",
    "\n",
    "Recursion is as powerful as a while loop so can do any kind of repetition. However, it uses more memory due to the overhead of the method call and of storing multiple copies of all the local variables of the method on the stack. Some problems are naturally recursive, however, in which case the program can be written much more easily which is an advantage of recursion."
   ]
  },
  {
   "cell_type": "markdown",
   "metadata": {},
   "source": [
    "[Return to Exercise](#Exercise14)"
   ]
  }
 ],
 "metadata": {
  "kernelspec": {
   "display_name": "Java",
   "language": "java",
   "name": "java"
  },
  "language_info": {
   "codemirror_mode": "java",
   "file_extension": ".jshell",
   "mimetype": "text/x-java-source",
   "name": "Java",
   "pygments_lexer": "java",
   "version": "11.0.8+10-LTS"
  }
 },
 "nbformat": 4,
 "nbformat_minor": 2
}
