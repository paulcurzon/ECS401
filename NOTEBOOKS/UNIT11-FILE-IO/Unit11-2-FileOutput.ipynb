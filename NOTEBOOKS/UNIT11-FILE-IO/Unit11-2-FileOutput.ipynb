{
 "cells": [
  {
   "cell_type": "markdown",
   "metadata": {},
   "source": [
    "# Unit 11 Part 2: File Output\n",
    "## Paul Curzon\n",
    "\n",
    "## Interactive Programming Exercises\n",
    "\n",
    "### Learning Outcomes\n",
    "- Write programs to write data to a file\n",
    "- Explain concepts related to file output\n",
    "\n",
    "*This notebook looks at code fragments. After completing these exercises you MUST then go on to write full programs - see the programming exercises in the workbook.*\n",
    "\n",
    "*Answers to exercises are given at the end.*\n",
    "\n",
    "**Always read the answers to exercises and compare them to your own. There are important things to learn from the answers.**\n",
    "\n",
    "<span style=\"color: red;\"> It is a really good idea to add your own notes throughout this notebook to reinforce what you have learnt and highlight important points. Click on the + in the toolbar above to make a new note area, and change it from Code to Markdown in the dropdown menu above if your note is not executable code. You may also want to highlight your notes in red as here, so they stand out. You change colours using span like this: </span>\n",
    "```\n",
    "<span style=\"color: red;\">THE TEXT TO COLOUR RED</span>\n",
    "```"
   ]
  },
  {
   "cell_type": "markdown",
   "metadata": {},
   "source": [
    "## Introduction \n",
    "\n",
    "One part of persistent storage is to be able to read data from a file. We saw how to do that in the notebook for unit 11.1 The other side is to store data back into a file. That is called writing to a file.\n",
    "\n",
    "The file I/O methods are part of the io library so if a full program is going to do file input or output then the library must be loaded. A full program must include the command at the start:\n",
    "```java\n",
    "import java.io.*;\n",
    "```\n",
    "This library is automatically loaded in JHUB so you do not need to worry about it for these exercises.\n",
    "\n",
    "Virtually, all programs have some kind of Save option. It allows the user to end the program and to carry on later from where they left off, whether editing an essay or playing a game. That menu option is just leading to a method being executed that writes data currently stored in variables in the program to a file."
   ]
  },
  {
   "cell_type": "markdown",
   "metadata": {},
   "source": [
    "## Refresher"
   ]
  },
  {
   "cell_type": "markdown",
   "metadata": {},
   "source": [
    "### Exercise 1<a id=\"Exercise1\"></a>\n",
    "\n",
    "Predict what the following code does.  Predict what will happen if you run it a second time.\n",
    "\n",
    "Explain how it does it.\n",
    "\n",
    "HINT: You will need to open and look at a particular file to predict what happens. You need to work out which one. Go back to to the directory list and open it there to see it."
   ]
  },
  {
   "cell_type": "markdown",
   "metadata": {},
   "source": [
    "**Write your prediction and explanation here**\n"
   ]
  },
  {
   "cell_type": "code",
   "execution_count": null,
   "metadata": {},
   "outputs": [],
   "source": [
    "class Celebrity\n",
    "{\n",
    "    String name;\n",
    "    int age;\n",
    "}\n",
    "\n",
    "public static void fileinput1() throws IOException\n",
    "{\n",
    "    BufferedReader celeb_file = new BufferedReader (new FileReader(\"celebrities.txt\"));\n",
    "        \n",
    "    Celebrity celeb = new Celebrity();\n",
    "\n",
    "    celeb.name = celeb_file.readLine();\n",
    "    celeb.age =  Integer.parseInt(celeb_file.readLine());\n",
    "\n",
    "    System.out.println(celeb.name + \" aged \" + celeb.age + \" is in Strictly 2020\");\n",
    "\n",
    "    celeb_file.close();\n",
    "}\n",
    "\n",
    "fileinput1();"
   ]
  },
  {
   "cell_type": "markdown",
   "metadata": {},
   "source": [
    "**NOW READ THE ANSWER** [Click here to jump to the solution to this exercise](#Solution1)"
   ]
  },
  {
   "cell_type": "markdown",
   "metadata": {},
   "source": [
    "### Exercise 2<a id=\"Exercise2\"></a>\n",
    "\n",
    "Predict what the following code does.  Predict what will happen if you run it a second time.\n",
    "\n",
    "Explain how it does it."
   ]
  },
  {
   "cell_type": "markdown",
   "metadata": {},
   "source": [
    "**Write your prediction and explanation here**\n"
   ]
  },
  {
   "cell_type": "code",
   "execution_count": null,
   "metadata": {},
   "outputs": [],
   "source": [
    "class Celebrity\n",
    "{\n",
    "    String name;\n",
    "    int age;\n",
    "}\n",
    "\n",
    "public static void fileinput2() throws IOException\n",
    "{\n",
    "    BufferedReader celeb_file = new BufferedReader (new FileReader(\"celebrities.txt\"));\n",
    "\n",
    "    final int CONTESTANTS = 12;\n",
    "    Celebrity[] all_celebs = new Celebrity[CONTESTANTS];\n",
    "\n",
    "    \n",
    "    for(int i=0; i<CONTESTANTS; i++)\n",
    "    {\n",
    "        Celebrity celeb = new Celebrity();\n",
    "\n",
    "        celeb.name = celeb_file.readLine();\n",
    "        celeb.age =  Integer.parseInt(celeb_file.readLine());\n",
    "        \n",
    "        all_celebs[i] = celeb;\n",
    "    }\n",
    "\n",
    "    celeb_file.close();\n",
    "    \n",
    "    for(int j=0; j<CONTESTANTS; j++)\n",
    "    {\n",
    "        System.out.println(all_celebs[j].name + \" aged \" + all_celebs[j].age + \" is in Strictly 2020\");\n",
    "    }\n",
    "}\n",
    "\n",
    "fileinput2();"
   ]
  },
  {
   "cell_type": "markdown",
   "metadata": {},
   "source": [
    "**NOW READ THE ANSWER** [Click here to jump to the solution to this exercise](#Solution2)"
   ]
  },
  {
   "cell_type": "markdown",
   "metadata": {},
   "source": [
    "## The Need for File Output\n",
    "\n",
    "Once data has been read in from a file and is stored in variables in a program, typically in an array of records, it can easily be processed, whether printed, added to or changed. How does data get into a file in the first place though? A program that someone wrote puts it there.\n",
    "\n",
    "Furthermore just reading from an existing file is fine if the aim is just to process the file. However, any changes to the data made by the program do not affect the file itself unless data is written back to the file.  Without file output the changes to the data are lost when the program quits.\n",
    "\n",
    "Also often programs input lots of data from the keyboard. Then we normally want that data to persist so we can end the program and run the program again later to carry on. That can only be done if the data input so far can be stored into a file. Otherwise every time we ran the program we would need to input all the data again by hand."
   ]
  },
  {
   "cell_type": "markdown",
   "metadata": {},
   "source": [
    "### Exercise 3<a id=\"Exercise3\"></a>\n",
    "\n",
    "Check the directory of your Jupyterhub and check that there is NO file there called filetowrite.txt. \n",
    "\n",
    "Next, predict what the following code will do.\n",
    "\n",
    "Run the code, then check the directory again (refreshing the browser window) and see if you were right."
   ]
  },
  {
   "cell_type": "markdown",
   "metadata": {},
   "source": [
    "**Write your prediction here**\n"
   ]
  },
  {
   "cell_type": "code",
   "execution_count": null,
   "metadata": {
    "scrolled": false
   },
   "outputs": [],
   "source": [
    "PrintWriter outputStream = new PrintWriter (new FileWriter(\"filetowrite.txt\"));\n",
    "\n",
    "outputStream.println(\"Store this String in a file called filetowrite.txt\");\n",
    "System.out.println(\"File written\");\n",
    "\n",
    "outputStream.close();"
   ]
  },
  {
   "cell_type": "markdown",
   "metadata": {},
   "source": [
    "**NOW READ THE ANSWER** [Click here to jump to the solution to this exercise](#Solution3)"
   ]
  },
  {
   "cell_type": "markdown",
   "metadata": {},
   "source": [
    "## Summary so far\n",
    "\n",
    "Whenever you want to write to a file you need a line like this which creates a PrintWriter linked to the named file.\n",
    "\n",
    "```java\n",
    "PrintWriter file = new PrintWriter (new FileWriter(\"filetowrite.txt\"));\n",
    "```\n",
    "\n",
    "file is just a variable so could be called anything. Once created you can use the method called file.println that incorparates the variable name into the name of the println method.\n",
    "\n",
    "\"filetowrite.txt\" must correspond exactly with the name of the file the data is to be stored in.\n",
    "\n",
    "Once finished with the file must be closed using the close method linked to the PrintWriter variable eg\n",
    "\n",
    "```java\n",
    "file.close();\n",
    "```\n",
    "\n",
    "This makes the file available for use by other programs again."
   ]
  },
  {
   "cell_type": "markdown",
   "metadata": {},
   "source": [
    "### Exercise 4<a id=\"Exercise4\"></a>\n",
    "\n",
    "Modify the code below so that it writes the word \"foggy\" to a file called weather.txt.\n",
    "\n",
    "Check that foggy has been stored in the file weather.txt."
   ]
  },
  {
   "cell_type": "code",
   "execution_count": null,
   "metadata": {},
   "outputs": [],
   "source": [
    "PrintWriter outputStream = new PrintWriter (new FileWriter(\"filetowrite.txt\"));\n",
    "\n",
    "outputStream.println(\"Store this String in a file called filetowrite.txt\");\n",
    "\n",
    "outputStream.close();"
   ]
  },
  {
   "cell_type": "markdown",
   "metadata": {},
   "source": [
    "**NOW READ THE ANSWER** [Click here to jump to the solution to this exercise](#Solution4)"
   ]
  },
  {
   "cell_type": "markdown",
   "metadata": {},
   "source": [
    "## I/O Methods and Exceptions\n",
    "\n",
    "As with file input, when doing file output any methods that could write to a file themselves (or could call methods that might do so for them) must note on the header line that they can throw an exception\n",
    "```java\n",
    "throws IOException\n",
    "```\n",
    "is added the end of the header line of the method. eg\n",
    "\n",
    "```java\n",
    "public static void weather() throws IOException\n",
    "{\n",
    "  // code that does file I/O\n",
    "  ....\n",
    "}\n",
    "```\n",
    "\n",
    "This is telling the method to deal with I/O errors. A possible error that could occur when doing file output is that there is no room in the file system of the computer for the file being created (ie the computer's memory is full).\n",
    "\n",
    "Any method that can call a method that \"throws IoException\" must also have \"throws IoException\" added to its header line all the way back to main. Therefore, in any program doing file I/O the header line of the main method will be:\n",
    "```java\n",
    "public static void main(String[] a) throws IOException\n",
    "```"
   ]
  },
  {
   "cell_type": "markdown",
   "metadata": {},
   "source": [
    "### Exercise 5<a id=\"Exercise5\"></a>\n",
    "\n",
    "Read the code below noting the header line of the method and predict what it does. \n",
    "\n",
    "Change the name of the variable of type PrintWriter to weather_file. \n",
    "\n",
    "HINT: Make sure you do this consistently throughout."
   ]
  },
  {
   "cell_type": "markdown",
   "metadata": {},
   "source": [
    "**Write you prediction here**\n"
   ]
  },
  {
   "cell_type": "code",
   "execution_count": null,
   "metadata": {},
   "outputs": [],
   "source": [
    "public static void weather5() throws IOException\n",
    "{\n",
    "    PrintWriter outputStream = new PrintWriter (new FileWriter(\"weather.txt\"));\n",
    "\n",
    "    outputStream.println(\"Windy\");\n",
    "    System.out.println(\"weather.txt written\");\n",
    "    \n",
    "    outputStream.close();\n",
    "}\n",
    "\n",
    "weather5();"
   ]
  },
  {
   "cell_type": "markdown",
   "metadata": {},
   "source": [
    "**NOW READ THE ANSWER** [Click here to jump to the solution to this exercise](#Solution5)"
   ]
  },
  {
   "cell_type": "markdown",
   "metadata": {},
   "source": [
    "### Exercise 6<a id=\"Exercise6\"></a>\n",
    "\n",
    "The code below includes a method to input a String from the keyboard. Use it to modify weather6 to allow the user to name the file to be created and so where the weather will be stored. Test it by typing the file name todaysweather.txt when asked for a file name.\n",
    "\n",
    "\n",
    "Check the file has been created and holds the expected data."
   ]
  },
  {
   "cell_type": "code",
   "execution_count": null,
   "metadata": {},
   "outputs": [],
   "source": [
    "public static String inputString(String message)\n",
    "{\n",
    "    Scanner scanner = new Scanner(System.in);\n",
    "\n",
    "    System.out.println(message);\n",
    "    return scanner.nextLine();\n",
    "}\n",
    "\n",
    "\n",
    "public static void weather6() throws IOException\n",
    "{\n",
    "    PrintWriter weather_file = new PrintWriter (new FileWriter(\"weather.txt\"));\n",
    "\n",
    "    weather_file.println(\"Windy\");\n",
    "\n",
    "    weather_file.close();\n",
    "}\n",
    "\n",
    "weather6();"
   ]
  },
  {
   "cell_type": "markdown",
   "metadata": {},
   "source": [
    "**NOW READ THE ANSWER** [Click here to jump to the solution to this exercise](#Solution6)"
   ]
  },
  {
   "cell_type": "markdown",
   "metadata": {},
   "source": [
    "### Exercise 7<a id=\"Exercise7\"></a>\n",
    "\n",
    "Modify the method weather7 below so that after asking the user for the name of the file it also asks for the weather today and saves it in the named file. \n",
    "\n",
    "Check the file has been created and holds the data typed in."
   ]
  },
  {
   "cell_type": "markdown",
   "metadata": {},
   "source": [
    "**Write your predictions here**"
   ]
  },
  {
   "cell_type": "code",
   "execution_count": null,
   "metadata": {},
   "outputs": [],
   "source": [
    "public static String inputString(String message)\n",
    "{\n",
    "    Scanner scanner = new Scanner(System.in);\n",
    "\n",
    "    System.out.println(message);\n",
    "    return scanner.nextLine();\n",
    "}\n",
    "\n",
    "\n",
    "public static void weather7() throws IOException\n",
    "{\n",
    "    String file_to_write = inputString(\"What file should the weather be saved in?\");\n",
    "    PrintWriter weather_file = new PrintWriter (new FileWriter(file_to_write));\n",
    "\n",
    "    weather_file.println(\"Windy\");\n",
    "    System.out.println(\"Windy\" + \" was stored in \" + file_to_write);\n",
    "\n",
    "    weather_file.close();\n",
    "}\n",
    "\n",
    "weather7();"
   ]
  },
  {
   "cell_type": "markdown",
   "metadata": {},
   "source": [
    "**NOW READ THE ANSWER** [Click here to jump to the solution to this exercise](#Solution7)"
   ]
  },
  {
   "cell_type": "markdown",
   "metadata": {},
   "source": [
    "## File formats\n",
    "\n",
    "We saw when reading from a file that file formats are important. If a file is in a standard format then it allows different programs to read and write data to the same files. How does the data get into the file in a given format? Someone wrote file output code to do it.\n",
    "\n",
    "Let us take a comma separated value (.csv) file format. Remember in this format, related data is stored on a line separated by commas. To create a .csv file you just need to write comma characters between the data. For example, a file holding days and the weather on that day might hold the data:\n",
    "```\n",
    "Monday,Windy\n",
    "Tuesday,Foggy\n",
    "Wednesday,Sunny\n",
    "Thursday,Rainy\n",
    "Friday,Frosty\n",
    "Saturday,Foggy\n",
    "Sunday,Sunny\n",
    "```"
   ]
  },
  {
   "cell_type": "markdown",
   "metadata": {},
   "source": [
    "### Exercise 8<a id=\"Exercise8\"></a>\n",
    "Predict what the following method will do. Modify the code to write the weather on both monday and tuesday to the file. Assume that it is foggy on Tuesday."
   ]
  },
  {
   "cell_type": "code",
   "execution_count": null,
   "metadata": {},
   "outputs": [],
   "source": [
    "public static void weather8() throws IOException\n",
    "{\n",
    "    PrintWriter weather_file = new PrintWriter (new FileWriter(\"weather.csv\"));\n",
    "\n",
    "    weather_file.println(\"Monday,Windy\");\n",
    "    System.out.println(\"weather.csv written in csv format\");\n",
    "    \n",
    "    weather_file.close();\n",
    "}\n",
    "\n",
    "weather8();"
   ]
  },
  {
   "cell_type": "markdown",
   "metadata": {},
   "source": [
    "**NOW READ THE ANSWER** [Click here to jump to the solution to this exercise](#Solution8)"
   ]
  },
  {
   "cell_type": "markdown",
   "metadata": {},
   "source": [
    "### Exercise 9<a id=\"Exercise9\"></a>\n",
    "Predict what the following code writes to the file, weather.csv."
   ]
  },
  {
   "cell_type": "markdown",
   "metadata": {},
   "source": [
    "**Write your prediction here**"
   ]
  },
  {
   "cell_type": "code",
   "execution_count": null,
   "metadata": {},
   "outputs": [],
   "source": [
    "public static void weather9() throws IOException\n",
    "{\n",
    "    PrintWriter weather_file = new PrintWriter (new FileWriter(\"weather.csv\"));\n",
    "\n",
    "    for(int i = 0; i < 7; i++)\n",
    "    {\n",
    "        weather_file.println(\"Monday,Windy\");\n",
    "    }\n",
    "\n",
    "    System.out.println(\"weather.csv written in csv format\");\n",
    "    \n",
    "    weather_file.close();\n",
    "}\n",
    "\n",
    "weather9();"
   ]
  },
  {
   "cell_type": "markdown",
   "metadata": {},
   "source": [
    "**NOW READ THE ANSWER** [Click here to jump to the solution to this exercise](#Solution9)"
   ]
  },
  {
   "cell_type": "markdown",
   "metadata": {},
   "source": [
    "### Exercise 10<a id=\"Exercise10\"></a>\n",
    "\n",
    "Modify the code below to write the corresponding pairs of values from the days and weather array to the file in comma separated format.\n",
    "\n",
    "Given the values in the arrays as in the code fragment below it should store to the file:\n",
    "```\n",
    "Monday,Frosty\n",
    "Tuesday,Windy\n",
    "Wednesday,Sunny\n",
    "Thursday,Rainy\n",
    "Friday,Frosty\n",
    "Saturday,Foggy\n",
    "Sunday,Sunny\n",
    "```"
   ]
  },
  {
   "cell_type": "code",
   "execution_count": null,
   "metadata": {},
   "outputs": [],
   "source": [
    "public static void weather10() throws IOException\n",
    "{\n",
    "    PrintWriter weather_file = new PrintWriter (new FileWriter(\"weather.csv\"));\n",
    "\n",
    "    String [] days = {\"Monday\", \"Tuesday\", \"Wednesday\", \"Thursday\", \"Friday\", \"Saturday\", \"Sunday\"};\n",
    "    String [] weather = {\"Frosty\", \"Windy\", \"Sunny\", \"Rainy\", \"Frosty\", \"Foggy\", \"Sunny\"};\n",
    "\n",
    "    for(int i = 0; i < 7; i++)\n",
    "    {\n",
    "        weather_file.println(\"Monday,Windy\");\n",
    "    }\n",
    "\n",
    "    System.out.println(\"weather.csv written in csv format\");\n",
    "    \n",
    "    weather_file.close();\n",
    "}\n",
    "\n",
    "weather10();"
   ]
  },
  {
   "cell_type": "markdown",
   "metadata": {},
   "source": [
    "**NOW READ THE ANSWER** [Click here to jump to the solution to this exercise](#Solution10)"
   ]
  },
  {
   "cell_type": "markdown",
   "metadata": {},
   "source": [
    "### Exercise 11<a id=\"Exercise11\"></a>\n",
    "\n",
    "In the following program similar data to that used above is this time stored in an array of records. Complete it so that it  prints this new data to the file weather2.csv in the similar comma separated format."
   ]
  },
  {
   "cell_type": "code",
   "execution_count": null,
   "metadata": {},
   "outputs": [],
   "source": [
    "class WeatherReport\n",
    "{\n",
    "    String day;\n",
    "    String weather;\n",
    "}\n",
    "\n",
    "public static void weather11() throws IOException\n",
    "{\n",
    "    final int DAYS_IN_WEEK = 7;\n",
    "    String filename = \"weather2.csv\";\n",
    "    PrintWriter weather_file = new PrintWriter (new FileWriter(filename));\n",
    "        \n",
    "    WeatherReport[] weekly_weather = new WeatherReport[DAYS_IN_WEEK];\n",
    "    for(int i=0;i< DAYS_IN_WEEK; i++)\n",
    "    {\n",
    "        weekly_weather[i] = new WeatherReport();\n",
    "    }\n",
    "    \n",
    "    weekly_weather[0].day = \"Monday\";\n",
    "    weekly_weather[0].weather = \"Rainy\";\n",
    "    weekly_weather[1].day = \"Tuesday\";\n",
    "    weekly_weather[1].weather = \"Sunny\";\n",
    "    weekly_weather[2].day = \"Wednesday\";\n",
    "    weekly_weather[2].weather = \"Snowy\";\n",
    "    weekly_weather[3].day = \"Thursday\";\n",
    "    weekly_weather[3].weather = \"Hail\";\n",
    "    weekly_weather[4].day = \"Friday\";\n",
    "    weekly_weather[4].weather = \"Cloudy\";\n",
    "    weekly_weather[5].day = \"Saturday\";\n",
    "    weekly_weather[5].weather = \"Windy\";\n",
    "    weekly_weather[6].day = \"Sunday\";\n",
    "    weekly_weather[6].weather = \"Frosty\";\n",
    "    \n",
    "    \n",
    "    for(int i = 0; i < DAYS_IN_WEEK; i++)\n",
    "    {\n",
    "        weather_file.println(\"Monday,Windy\");\n",
    "    }\n",
    "\n",
    "    System.out.println(\"weather2.csv written in csv format\");\n",
    "\n",
    "    weather_file.close();\n",
    "}\n",
    "\n",
    "weather11();"
   ]
  },
  {
   "cell_type": "markdown",
   "metadata": {},
   "source": [
    "**NOW READ THE ANSWER** [Click here to jump to the solution to this exercise](#Solution11)"
   ]
  },
  {
   "cell_type": "markdown",
   "metadata": {},
   "source": [
    "### Exercise 12<a id=\"Exercise12\"></a>\n",
    "\n",
    "Write a method that inputs from the user the names of each Strictly Come Dancing celebrity and their pro dancer partner in turn and stores the data in a file called dancers.csv. \n",
    "\n",
    "The data should be stored in an array of records (using the given DancePartners record definition) and then transferred to a file in comma-separated format. Use the following 2020 names to test the program (to test it initially you may want to just read in the first two pairs).\n",
    "\n",
    "Each name should be asked for individually - first the celebrity and then the professional partner.\n",
    "```\n",
    "Nicola Adams - Katya Jones\n",
    "HRVY - Janette Manrara\n",
    "Maisie Smith - Gorka Marquez\n",
    "JJ Chalmers - Amy Dowden\n",
    "Bill Bailey - Oti Mabuse\n",
    "Clara Amfo - Aljaz Skorjanec\n",
    "Ranvir Singh - Giovanni Pernice\n",
    "Max George - Dianne Buswell\n",
    "Jason Bell - Luba Mushtuk\n",
    "Caroline Quentin - Johannes Radebe\n",
    "Jamie Laing - Karen Hauer\n",
    "Jacqui Smith - Anton du Beke\n",
    "```\n",
    "\n",
    "HINT Do not forget you need to throw the IOException in the header line."
   ]
  },
  {
   "cell_type": "code",
   "execution_count": null,
   "metadata": {},
   "outputs": [],
   "source": [
    "class DancePartners\n",
    "{\n",
    "   String celebrity;\n",
    "   String prodancer;\n",
    "}\n",
    "\n",
    "public static String inputString(String message)\n",
    "{\n",
    "    Scanner scanner = new Scanner(System.in);\n",
    "\n",
    "    System.out.println(message);\n",
    "    return scanner.nextLine();\n",
    "}\n",
    "\n",
    "public static void inputAndWritePairings()\n",
    "{\n",
    "\n",
    "\n",
    "}\n",
    "\n",
    "inputAndWritePairings();"
   ]
  },
  {
   "cell_type": "markdown",
   "metadata": {},
   "source": [
    "**NOW READ THE ANSWER** [Click here to jump to the solution to this exercise](#Solution12)"
   ]
  },
  {
   "cell_type": "markdown",
   "metadata": {},
   "source": [
    "### Exercise 13<a id=\"Exercise13\"></a>\n",
    "\n",
    "Write a method that inputs the dance pairings saved by the previous exercise's method from the file dancers.csv. The data should be loaded back into an array of records. Once all the data is stored in the array of records the pairings should then be printed to the screen in the format eg\n",
    "\n",
    "```\n",
    "Bill Bailey and partner Oti Mabuse\n",
    "```\n",
    "\n",
    "HINT 1: It will be similar to exercise 2\n",
    "HINT 2: In addition you will also need to use the split method we saw in the JHUB notebook UNIT 11 Part 1 on File Input. It is needed to split the line input as a String into its component parts. For example, there we had code:\n",
    "```java\n",
    "String[] book_components = bookline.split(\",\");\n",
    "\n",
    "newbook.title = book_components[0];\n",
    "newbook.author = book_components[1];\n",
    "```\n",
    "where bookline was a String holding the next line read from the file."
   ]
  },
  {
   "cell_type": "code",
   "execution_count": null,
   "metadata": {},
   "outputs": [],
   "source": [
    "public static void readAndPrintPairings()\n",
    "{\n",
    "\n",
    "\n",
    "}\n",
    "\n",
    "readAndPrintPairings();"
   ]
  },
  {
   "cell_type": "markdown",
   "metadata": {},
   "source": [
    "**NOW READ THE ANSWER** [Click here to jump to the solution to this exercise](#Solution13)"
   ]
  },
  {
   "cell_type": "markdown",
   "metadata": {},
   "source": [
    "Together the previous two exercises show that you can store data into a file in a specific format and then recover it later to continue to work with the data (even if the program is ended and restarted in between)."
   ]
  },
  {
   "cell_type": "markdown",
   "metadata": {},
   "source": [
    "### Exercise 14<a id=\"Exercise14\"></a>\n",
    "\n",
    "Summarise what you know about file output / writing to a file."
   ]
  },
  {
   "cell_type": "markdown",
   "metadata": {},
   "source": [
    "**Write your summary here**"
   ]
  },
  {
   "cell_type": "markdown",
   "metadata": {},
   "source": [
    "**NOW READ THE ANSWER** [Click here to jump to the solution to this exercise](#Solution14)"
   ]
  },
  {
   "cell_type": "markdown",
   "metadata": {},
   "source": [
    "*Once you have done the above exercises (and understand how the concepts work) move on to doing the actual programming exercises from the workbook, writing full programs. You must be able to write full programs, not just fragments.*\n",
    "\n",
    "**Note that here we have avoided using abstract data types while we focussed on file I/O. The next step would be to access the data structures using accessor methods.**"
   ]
  },
  {
   "cell_type": "markdown",
   "metadata": {},
   "source": [
    "## Solutions\n",
    "\n",
    "### Solution to Exercise 1<a id=\"Solution1\"></a>\n",
    "\n",
    "It prints\n",
    "```\n",
    "Nicola Adams aged 38 is in Strictly 2020\n",
    "```\n",
    "Exactly the same happens if it is run again.\n",
    "\n",
    "Overall it reads the first TWO lines of the file in and prints them out.\n",
    "\n",
    "It first opens a file for reading called \"celebrities.txt\" and makes a link to it via the Buffered Reader variable that is declared with name, celeb_file\n",
    "```java\n",
    "    BufferedReader celeb_file = new BufferedReader (new FileReader(\"celebrities.txt\"));\n",
    "```\n",
    "\n",
    "A new record of type Celebrity is created, called celeb.\n",
    "```java\n",
    "    Celebrity celeb = new Celebrity();\n",
    "```\n",
    "\n",
    "Celebrity values and so variables were declared to have a name field (a String) and an age field (an int).\n",
    "\n",
    "The next two lines of the file linked to celeb_file are read in by calling readline() twice and stored in the two fields of celeb. The second is converted into an integer first.\n",
    "```java\n",
    "    celeb.name = celeb_file.readLine();\n",
    "    celeb.age =  Integer.parseInt(celeb_file.readLine());\n",
    "```\n",
    "\n",
    "The values stored in the fields of celeb are printed out.\n",
    "```java\n",
    "    System.out.println(celeb.name + \" aged \" + celeb.age + \" is in Strictly 2020\");\n",
    "```\n",
    "\n",
    "The file is closed, releasing it for others to write to.\n",
    "```java\n",
    "    celeb_file.close();\n",
    "```\n",
    "Closing the file resets the position it is read from to the start. Reading from the file has not changed the file itself in any way. That means if the program is run again and so opened again, it reads from the start again."
   ]
  },
  {
   "cell_type": "markdown",
   "metadata": {},
   "source": [
    "[Return to Exercise](#Exercise1)"
   ]
  },
  {
   "cell_type": "markdown",
   "metadata": {},
   "source": [
    "### Solution to Exercise 2<a id=\"Solution2\"></a>\n",
    "\n",
    "It prints \n",
    "```\n",
    "Nicola Adams aged 38 is in Strictly 2020\n",
    "HRVY aged 21 is in Strictly 2020\n",
    "Maisie Smith aged 19 is in Strictly 2020\n",
    "JJ Chalmers aged 33 is in Strictly 2020\n",
    "Bill Bailey aged 55 is in Strictly 2020\n",
    "Clara Amfo aged 36 is in Strictly 2020\n",
    "Ranvir Singh aged 43 is in Strictly 2020\n",
    "Max George aged 32 is in Strictly 2020\n",
    "Jason Bell aged 42 is in Strictly 2020\n",
    "Caroline Quentin aged 60 is in Strictly 2020\n",
    "Jamie Laing aged 32 is in Strictly 2020\n",
    "Jacqui Smith aged 57 is in Strictly 2020\n",
    "```\n",
    "This reads 24 lines from the file into the program in pairs. Then, once read in, it prints them all out. It will do exactly the same thing each time you run it (as long as the file is not changed in the meantime).\n",
    "\n",
    "This is similar to the previous program. However, as the part to read the file is in a loop, it reads pairs in over and over again. Similarly, the line to print is in a loop so does it over and over again. Because the separate records are stored in an array of records, all the name-age pairs are read in and then printed out.\n",
    "\n",
    "An array of records is created to hold the contents of the file. It is set to size 12 as there are 12 pairs of information in the file.\n",
    "\n",
    "```java\n",
    "final int CONTESTANTS = 12;\n",
    "Celebrity[] all_celebs = new Celebrity[CONTESTANTS];\n",
    "```\n",
    "\n",
    "The first loop repeatedly reads in each pair of values from the file into a newly created record. The body of the loop does essentially the same as the previous code with one difference the last line.\n",
    "\n",
    "```java\n",
    "    for(int i=0; i<CONTESTANTS; i++)\n",
    "    {\n",
    "        Celebrity celeb = new Celebrity();\n",
    "\n",
    "        celeb.name = celeb_file.readLine();\n",
    "        celeb.age =  Integer.parseInt(celeb_file.readLine());\n",
    "        \n",
    "        all_celebs[i] = celeb;\n",
    "    }\n",
    "```\n",
    "\n",
    "The last line of the above loop takes the newly created record (stored in veriable, celeb) and stores it in the array ```all_celebs```:\n",
    "\n",
    "```java\n",
    "        all_celebs[i] = celeb;\n",
    "```\n",
    "\n",
    "Finally, the second loop runs back over the array, all_celebs, from the start and prints out the message about each entry of that array in turn. As the contents of the file is now stored in an organised way as records in an array it can be manipulated with no need to worry about the file any more.\n",
    "\n",
    "```java\n",
    "    \n",
    "    for(int j=0; j<CONTESTANTS; j++)\n",
    "    {\n",
    "        System.out.println(all_celebs[j].name + \" aged \" + all_celebs[j].age + \" is in Strictly 2020\");\n",
    "    }\n",
    "```"
   ]
  },
  {
   "cell_type": "markdown",
   "metadata": {},
   "source": [
    "[Return to Exercise](#Exercise2)"
   ]
  },
  {
   "cell_type": "markdown",
   "metadata": {},
   "source": [
    "### Solution to Exercise 3<a id=\"Solution3\"></a>\n",
    "\n",
    "The file did not exist before running the code, but does exist after it is run. The file contains a single line\n",
    "```\n",
    "Store this String in a file called filetowrite.txt\n",
    "```\n",
    "The fragment also prints a message to the screen\n",
    "\n",
    "The first line \n",
    "\n",
    "```java\n",
    "PrintWriter outputStream = new PrintWriter (new FileWriter(\"filetowrite.txt\"));\n",
    "```\n",
    "\n",
    "creates a link to a file, just as with reading the contents of a file. Only the types are different. They set up a file to be written to using a File Writer linked to a PrintWriter. The following line links the variable of type PrintWriter called outputStream to the file called, filetowrite.txt. \n",
    "\n",
    "When \n",
    "```new FileWriter(...)``` \n",
    "is executed if the named file does not exist then an empty file is created. Here it doesn't so the file filetowrite.txt is created.\n",
    "\n",
    "Writing to the file is done in exactly the same way as printing to the screen. Only the location the data is sent to changes.\n",
    "```java\n",
    "outputStream.println(\"Store this String in a file called filetowrite.txt\");\n",
    "```\n",
    "\n",
    "The line \n",
    "```java\n",
    "System.out.println(\"File written\");\n",
    "```\n",
    "just prints a message to the screen as normal (nothing as such to do with file I/O but useful to tell us something did happen!)\n",
    "\n",
    "Finally\n",
    "```java\n",
    "outputStream.close();\n",
    "```\n",
    "closes the file, releasing it for use by other programs."
   ]
  },
  {
   "cell_type": "markdown",
   "metadata": {},
   "source": [
    "[Return to Exercise](#Exercise3)"
   ]
  },
  {
   "cell_type": "markdown",
   "metadata": {},
   "source": [
    "### Solution to Exercise 4<a id=\"Solution4\"></a>\n",
    "\n",
    "The name of the file in the first line must be changed to weather.txt.\n",
    "\n",
    "The String passed as an argument to the println method must  be changed to \"Foggy\"; "
   ]
  },
  {
   "cell_type": "code",
   "execution_count": null,
   "metadata": {},
   "outputs": [],
   "source": [
    "PrintWriter outputStream = new PrintWriter (new FileWriter(\"weather.txt\"));\n",
    "\n",
    "outputStream.println(\"Foggy\");\n",
    "\n",
    "outputStream.close();"
   ]
  },
  {
   "cell_type": "markdown",
   "metadata": {},
   "source": [
    "[Return to Exercise](#Exercise4)"
   ]
  },
  {
   "cell_type": "markdown",
   "metadata": {},
   "source": [
    "### Solution to Exercise 5<a id=\"Solution5\"></a>\n",
    "\n",
    "It stores the word Windy in the file weather.txt. The old value stored there has been overwritten.\n",
    "\n",
    "We need to change the variable called outputStream to the new variable name weather_file in the three lines it occurs: where it is declared, where it is used to print to the file and where it is closed."
   ]
  },
  {
   "cell_type": "code",
   "execution_count": null,
   "metadata": {},
   "outputs": [],
   "source": [
    "public static void weather5() throws IOException\n",
    "{\n",
    "    PrintWriter weather_file = new PrintWriter (new FileWriter(\"weather.txt\"));\n",
    "\n",
    "    weather_file.println(\"Windy\");\n",
    "    System.out.println(\"weather.txt written\");\n",
    "\n",
    "    weather_file.close();\n",
    "}\n",
    "\n",
    "weather5();"
   ]
  },
  {
   "cell_type": "markdown",
   "metadata": {},
   "source": [
    "[Return to Exercise](#Exercise5)"
   ]
  },
  {
   "cell_type": "markdown",
   "metadata": {},
   "source": [
    "### Solution to Exercise 6<a id=\"Solution6\"></a>\n",
    "We just need to call inputString and store the String typed for the file name in a String variable (called file_to_write below). \n",
    "\n",
    "```java\n",
    " PrintWriter weather_file = new PrintWriter (new FileWriter(file_to_write));\n",
    "```\n",
    "\n",
    "This variable can then be used to set up the connection to the file, providing the file name. The variable can also be used to indicate what file has been written to. "
   ]
  },
  {
   "cell_type": "code",
   "execution_count": null,
   "metadata": {},
   "outputs": [],
   "source": [
    "public static String inputString(String message)\n",
    "{\n",
    "    Scanner scanner = new Scanner(System.in);\n",
    "\n",
    "    System.out.println(message);\n",
    "    return scanner.nextLine();\n",
    "}\n",
    "\n",
    "\n",
    "public static void weather6() throws IOException\n",
    "{\n",
    "    String file_to_write = inputString(\"What file should the weather be saved in?\");\n",
    "    PrintWriter weather_file = new PrintWriter (new FileWriter(file_to_write));\n",
    "\n",
    "    weather_file.println(\"Windy\");\n",
    "    System.out.println(file_to_write + \" written\");\n",
    "\n",
    "    weather_file.close();\n",
    "}\n",
    "\n",
    "weather6();"
   ]
  },
  {
   "cell_type": "markdown",
   "metadata": {},
   "source": [
    "[Return to Exercise](#Exercise6)"
   ]
  },
  {
   "cell_type": "markdown",
   "metadata": {},
   "source": [
    "### Solution to Exercise 7<a id=\"Solution7\"></a>"
   ]
  },
  {
   "cell_type": "code",
   "execution_count": null,
   "metadata": {},
   "outputs": [],
   "source": [
    "public static String inputString(String message)\n",
    "{\n",
    "    Scanner scanner = new Scanner(System.in);\n",
    "\n",
    "    System.out.println(message);\n",
    "    return scanner.nextLine();\n",
    "}\n",
    "\n",
    "\n",
    "public static void weather7() throws IOException\n",
    "{\n",
    "    String file_to_write = inputString(\"What file should the weather be saved in?\");\n",
    "    PrintWriter weather_file = new PrintWriter (new FileWriter(file_to_write));\n",
    "    \n",
    "    \n",
    "    String todays_weather = inputString(\"What is the weather like today?\");   \n",
    "    weather_file.println(todays_weather);\n",
    "    System.out.println(todays_weather + \" was stored in \" + file_to_write);\n",
    "\n",
    "    weather_file.close();\n",
    "}\n",
    "\n",
    "weather7();"
   ]
  },
  {
   "cell_type": "markdown",
   "metadata": {},
   "source": [
    "[Return to Exercise](#Exercise7)"
   ]
  },
  {
   "cell_type": "markdown",
   "metadata": {},
   "source": [
    "### Solution to Exercise 8<a id=\"Solution8\"></a>"
   ]
  },
  {
   "cell_type": "code",
   "execution_count": null,
   "metadata": {},
   "outputs": [],
   "source": [
    "public static void weather8() throws IOException\n",
    "{\n",
    "    PrintWriter weather_file = new PrintWriter (new FileWriter(\"weather.csv\"));\n",
    "\n",
    "    weather_file.println(\"Monday,Windy\");\n",
    "    weather_file.println(\"Tuesday,Foggy\");\n",
    "    System.out.println(\"weather.csv written in csv format\");\n",
    "    \n",
    "    weather_file.close();\n",
    "}\n",
    "\n",
    "weather8();"
   ]
  },
  {
   "cell_type": "markdown",
   "metadata": {},
   "source": [
    "[Return to Exercise](#Exercise8)"
   ]
  },
  {
   "cell_type": "markdown",
   "metadata": {},
   "source": [
    "### Solution to Exercise 9<a id=\"Solution9\"></a>\n",
    "\n",
    "It stores Monday,Windy into the file 7 times on subsequent lines.\n",
    "\n",
    "```\n",
    "Monday,Windy\n",
    "Monday,Windy\n",
    "Monday,Windy\n",
    "Monday,Windy\n",
    "Monday,Windy\n",
    "Monday,Windy\n",
    "Monday,Windy\n",
    "```"
   ]
  },
  {
   "cell_type": "markdown",
   "metadata": {},
   "source": [
    "[Return to Exercise](#Exercise9)"
   ]
  },
  {
   "cell_type": "markdown",
   "metadata": {},
   "source": [
    "### Solution to Exercise 10<a id=\"Solution10\"></a>\n",
    "We just need to change the line that writes the data to the file to get the values from the respective arrays making sure they are separated by a comma with no spaces.\n",
    "\n",
    "```java\n",
    "       weather_file.println(days[i] + \",\" + weather[i]);\n",
    " ```"
   ]
  },
  {
   "cell_type": "code",
   "execution_count": null,
   "metadata": {},
   "outputs": [],
   "source": [
    "public static void weather10() throws IOException\n",
    "{\n",
    "    PrintWriter weather_file = new PrintWriter (new FileWriter(\"weather.csv\"));\n",
    "\n",
    "    String [] days = {\"Monday\", \"Tuesday\", \"Wednesday\", \"Thursday\", \"Friday\", \"Saturday\", \"Sunday\"};\n",
    "    String [] weather = {\"Frosty\", \"Windy\", \"Sunny\", \"Rainy\", \"Frosty\", \"Foggy\", \"Sunny\"};\n",
    "\n",
    "    for(int i = 0; i < 7; i++)\n",
    "    {\n",
    "        weather_file.println(days[i] + \",\" + weather[i]);\n",
    "    }\n",
    "\n",
    "    System.out.println(\"weather.csv written in csv format\");\n",
    "    \n",
    "    weather_file.close();\n",
    "}\n",
    "\n",
    "weather10();"
   ]
  },
  {
   "cell_type": "markdown",
   "metadata": {},
   "source": [
    "[Return to Exercise](#Exercise10)"
   ]
  },
  {
   "cell_type": "markdown",
   "metadata": {},
   "source": [
    "### Solution to Exercise 11<a id=\"Solution11\"></a>\n",
    "\n",
    "We just need to modify the line to write a line of data to the file to pull values from record fields at the current positions in the array.\n",
    "\n",
    "```java\n",
    "        weather_file.println(weekly_weather[i].day + \",\" + weekly_weather[i].weather);\n",
    "```"
   ]
  },
  {
   "cell_type": "code",
   "execution_count": null,
   "metadata": {},
   "outputs": [],
   "source": [
    "class WeatherReport\n",
    "{\n",
    "    String day;\n",
    "    String weather;\n",
    "}\n",
    "\n",
    "public static void weather11() throws IOException\n",
    "{\n",
    "    final int DAYS_IN_WEEK = 7;\n",
    "    String filename = \"weather2.csv\";\n",
    "    PrintWriter weather_file = new PrintWriter (new FileWriter(filename));\n",
    "        \n",
    "    WeatherReport[] weekly_weather = new WeatherReport[DAYS_IN_WEEK];\n",
    "    for(int i=0;i< DAYS_IN_WEEK; i++)\n",
    "    {\n",
    "        weekly_weather[i] = new WeatherReport();\n",
    "    }\n",
    "    \n",
    "    weekly_weather[0].day = \"Monday\";\n",
    "    weekly_weather[0].weather = \"Rainy\";\n",
    "    weekly_weather[1].day = \"Tuesday\";\n",
    "    weekly_weather[1].weather = \"Sunny\";\n",
    "    weekly_weather[2].day = \"Wednesday\";\n",
    "    weekly_weather[2].weather = \"Snowy\";\n",
    "    weekly_weather[3].day = \"Thursday\";\n",
    "    weekly_weather[3].weather = \"Hail\";\n",
    "    weekly_weather[4].day = \"Friday\";\n",
    "    weekly_weather[4].weather = \"Cloudy\";\n",
    "    weekly_weather[5].day = \"Saturday\";\n",
    "    weekly_weather[5].weather = \"Windy\";\n",
    "    weekly_weather[6].day = \"Sunday\";\n",
    "    weekly_weather[6].weather = \"Frosty\";\n",
    "    \n",
    "    \n",
    "    for(int i = 0; i < DAYS_IN_WEEK; i++)\n",
    "    {\n",
    "        weather_file.println(weekly_weather[i].day + \",\" + weekly_weather[i].weather);\n",
    "    }\n",
    "\n",
    "    System.out.println(\"weather2.csv written in csv format\");\n",
    "\n",
    "    weather_file.close();\n",
    "}\n",
    "\n",
    "weather11();"
   ]
  },
  {
   "cell_type": "markdown",
   "metadata": {},
   "source": [
    "[Return to Exercise](#Exercise11)"
   ]
  },
  {
   "cell_type": "markdown",
   "metadata": {},
   "source": [
    "### Solution to Exercise 12<a id=\"Solution12\"></a>"
   ]
  },
  {
   "cell_type": "code",
   "execution_count": null,
   "metadata": {},
   "outputs": [],
   "source": [
    "class DancePartners\n",
    "{\n",
    "   String celebrity;\n",
    "   String prodancer;\n",
    "}\n",
    "\n",
    "\n",
    "public static String inputString(String message)\n",
    "{\n",
    "    Scanner scanner = new Scanner(System.in);\n",
    "\n",
    "    System.out.println(message);\n",
    "    return scanner.nextLine();\n",
    "}\n",
    "\n",
    "\n",
    "public static void inputAndWritePairings() throws IOException\n",
    "{\n",
    "    final int PAIRINGS = 12;\n",
    "    String filename = \"dancers.csv\";\n",
    "    PrintWriter dancers_file = new PrintWriter (new FileWriter(filename));\n",
    "        \n",
    "    DancePartners[] dance_pairings = new DancePartners[PAIRINGS];\n",
    "    for(int i=0;i< PAIRINGS; i++)\n",
    "    {\n",
    "         DancePartners pair = new DancePartners();\n",
    "         pair.celebrity = inputString(\"Who is the next celebrity?\");\n",
    "         pair.prodancer = inputString(\"Who is the next Professional?\");\n",
    "         \n",
    "         dance_pairings[i] = pair;\n",
    "    }\n",
    "        \n",
    "    for(int i = 0; i < PAIRINGS; i++)\n",
    "    {\n",
    "        dancers_file.println(dance_pairings[i].celebrity + \",\" + dance_pairings[i].prodancer);\n",
    "    }\n",
    "\n",
    "    System.out.println(\"All dancer pairings written to the file \" + filename);\n",
    "\n",
    "    dancers_file.close();\n",
    "\n",
    "}\n",
    "\n",
    "inputAndWritePairings();"
   ]
  },
  {
   "cell_type": "markdown",
   "metadata": {},
   "source": [
    "[Return to Exercise](#Exercise12)"
   ]
  },
  {
   "cell_type": "markdown",
   "metadata": {},
   "source": [
    "### Solution to Exercise 13<a id=\"Solution13\"></a>\n",
    "\n",
    "This should print\n",
    "```\n",
    "Nicola Adams and partner Katya Jones\n",
    "HRVY and partner Janette Manrara\n",
    "Maisie Smith and partner Gorka Marquez\n",
    "JJ Chalmers and partner Amy Dowden\n",
    "Bill Bailey and partner Oti Mabuse\n",
    "Clara Amfo and partner Aljaz Skorjanec\n",
    "Ranvir Singh and partner Giovanni Pernice\n",
    "Max George and partner Dianne Buswell\n",
    "Jason Bell and partner Luba Mushtuk\n",
    "Caroline Quentin and partner Johannes Radebe\n",
    "Jamie Laing and partner Karen Hauer\n",
    "Jacqui Smith and partner Anton du Beke\n",
    "```\n",
    "as long as the correct data was stored in the file by running a correct program that solves exercise 12 first."
   ]
  },
  {
   "cell_type": "code",
   "execution_count": null,
   "metadata": {},
   "outputs": [],
   "source": [
    "public static void readAndPrintPairings()  throws IOException\n",
    "{\n",
    "    final int PAIRINGS = 12;\n",
    "    String filename = \"dancers.csv\";\n",
    "    \n",
    "    BufferedReader dancers_file = new BufferedReader (new FileReader(filename));\n",
    "\n",
    "    DancePartners[] dance_pairings = new DancePartners[PAIRINGS];\n",
    "\n",
    "    \n",
    "    for(int i=0; i<PAIRINGS; i++)\n",
    "    {\n",
    "        DancePartners pair = new DancePartners();\n",
    "        \n",
    "        String dancersline = dancers_file.readLine();\n",
    "        String[] danceline_components = dancersline.split(\",\");\n",
    "        pair.celebrity = danceline_components[0];\n",
    "        pair.prodancer = danceline_components[1];\n",
    "        \n",
    "        dance_pairings[i] = pair;\n",
    "    }\n",
    "\n",
    "    dancers_file.close();\n",
    "    \n",
    "    for(int j=0; j<PAIRINGS; j++)\n",
    "    {\n",
    "        System.out.println(dance_pairings[j].celebrity + \" and partner \" + dance_pairings[j].prodancer);\n",
    "    }\n",
    "}\n",
    "\n",
    "readAndPrintPairings();    \n"
   ]
  },
  {
   "cell_type": "markdown",
   "metadata": {},
   "source": [
    "[Return to Exercise](#Exercise13)"
   ]
  },
  {
   "cell_type": "markdown",
   "metadata": {},
   "source": [
    "### Solution to Exercise 14<a id=\"Solution14\"></a>\n",
    "\n",
    "File output (ie writing to a file) is similar to writing text to the screen, except rather than using System.out.println we create a PrintWriter linked to a FileWriter linked to the file. \n",
    "```java\n",
    "    PrintWriter outputStream = new PrintWriter (new FileWriter(filename));\n",
    "```\n",
    "If the file named does not exist then it is created. If it does exist then its contents are destroyed and over written with the new data (so to modify a file first read all the data in to an array, then change it in the array and finally write the whole (newly changed) array contents back out to the file. \n",
    "\n",
    "The file name is just a String so it can be a literal value. It could also be the result of a calculation, so we could, for example, input the stem of the filename and automatically add the ending such as .csv.\n",
    "```java\n",
    "new FileWriter(filename + \".csv\")\n",
    "```\n",
    "\n",
    "Unlike with printing to the screen we need to close the file as soon as the program is finished with it.\n",
    "```java\n",
    "outputStream.close();\n",
    "```\n",
    "If a program is writing to a file then that file is locked so no other file can read or write to it until the program releases it by closing it.\n",
    "\n",
    "Lines of text can be output to the file using a call to method ```outputStream.printLine()```\n",
    "where outputStream is just the name of the PrintWriter variable. We are doing the same as printing to the screen except replacing System.out with the PrintWriter we have created.\n",
    "\n",
    "By writing the data into a file using a specific format such as csv format we can make it easy for a program to save a data structure such as an array of records, and then later, on a different run of the program read it back in to process it further.\n"
   ]
  },
  {
   "cell_type": "markdown",
   "metadata": {},
   "source": [
    "[Return to Exercise](#Exercise14)"
   ]
  }
 ],
 "metadata": {
  "kernelspec": {
   "display_name": "Java",
   "language": "java",
   "name": "java"
  },
  "language_info": {
   "codemirror_mode": "java",
   "file_extension": ".jshell",
   "mimetype": "text/x-java-source",
   "name": "Java",
   "pygments_lexer": "java",
   "version": "11.0.8+10-LTS"
  }
 },
 "nbformat": 4,
 "nbformat_minor": 2
}
