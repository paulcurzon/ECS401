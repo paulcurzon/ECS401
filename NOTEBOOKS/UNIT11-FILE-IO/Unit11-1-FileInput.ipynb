{
 "cells": [
  {
   "cell_type": "markdown",
   "metadata": {},
   "source": [
    "# Unit 11 Part 1: File Input\n",
    "## Paul Curzon\n",
    "\n",
    "## Interactive Programming Exercises\n",
    "\n",
    "### Learning Outcomes\n",
    "- Write programs to load data from a file\n",
    "- Explain concepts related to file input\n",
    "\n",
    "*This notebook looks at code fragments. After completing these exercises you MUST then go on to write full programs - see the programming exercises in the workbook.*\n",
    "\n",
    "*Answers to exercises are given at the end.*\n",
    "\n",
    "**Always read the answers to exercises and compare them to your own. There are important things to learn from the answers.**\n",
    "\n",
    "<span style=\"color: red;\"> It is a really good idea to add your own notes throughout this notebook to reinforce what you have learnt and highlight important points. Click on the + in the toolbar above to make a new note area, and change it from Code to Markdown in the dropdown menu above if your note is not executable code. You may also want to highlight your notes in red as here, so they stand out. You change colours using span like this: </span>\n",
    "```\n",
    "<span style=\"color: red;\">THE TEXT TO COLOUR RED</span>\n",
    "```"
   ]
  },
  {
   "cell_type": "markdown",
   "metadata": {},
   "source": [
    "## Introduction \n",
    "\n",
    "All our programs up to this point have been able to store data in variables, so the data is either on the stack or on the heap. However, the moment the program ends, the data is lost. Neither the stack or heap are **persistent** storage. When you restart the program, none of the data is available any more. Real programs need data that has been input or generated to survive the program closing so you can carry on where you left off. you might be saving the state of a game, a wordprocessor document or a program being developed.  The file system of the computer provides persistent storage. To do this we need file input and output. Data is written into a file and then can be read in by the program at a later date, or by a different \n",
    "\n",
    "So far the only kind of input and output we have seen is input from the keyboard and output to the screen. File input and output is similar - it is mainly only the place the data is coming from and going to that changes.\n",
    "\n",
    "Here we will focus on file input: reading data in to a program from a file (though file output is very similar as we will see later)."
   ]
  },
  {
   "cell_type": "markdown",
   "metadata": {},
   "source": [
    "## Refresher"
   ]
  },
  {
   "cell_type": "markdown",
   "metadata": {},
   "source": [
    "### Exercise 1<a id=\"Exercise1\"></a>\n",
    "\n",
    "Explain line by line what the following statements do.\n"
   ]
  },
  {
   "cell_type": "markdown",
   "metadata": {},
   "source": [
    "**Write your explanation here**\n"
   ]
  },
  {
   "cell_type": "code",
   "execution_count": null,
   "metadata": {},
   "outputs": [],
   "source": [
    "String emperor;\n",
    "Scanner scanner = new Scanner(System.in);\n",
    "    \n",
    "System.out.println(\"Name a Roman Emperor\");\n",
    "emperor = scanner.nextLine();\n",
    "    \n",
    "System.out.println(\"You named Emperor \" + emperor);"
   ]
  },
  {
   "cell_type": "markdown",
   "metadata": {},
   "source": [
    "**NOW READ THE ANSWER** [Click here to jump to the solution to this exercise](#Solution1)"
   ]
  },
  {
   "cell_type": "markdown",
   "metadata": {},
   "source": [
    "### Exercise 2<a id=\"Exercise2\"></a>\n",
    "\n",
    "The following code inputs a line of characters from a file and prints it to the screen.\n",
    "Look in the directory this notebook is in to see the files there before you start. Run it to see what it does. \n",
    "By comparing it with the code from exercise 1 above, suggest that you think eaach line does."
   ]
  },
  {
   "cell_type": "markdown",
   "metadata": {},
   "source": [
    "**Write what you think each line does here**\n"
   ]
  },
  {
   "cell_type": "code",
   "execution_count": null,
   "metadata": {
    "scrolled": false
   },
   "outputs": [],
   "source": [
    "BufferedReader inputStream = new BufferedReader (new FileReader(\"myfirstfile.txt\"));\n",
    "String s = inputStream.readLine();\n",
    "\n",
    "System.out.println(s); // print what is read to the screen\n",
    "\n",
    "inputStream.close();"
   ]
  },
  {
   "cell_type": "markdown",
   "metadata": {},
   "source": [
    "**NOW READ THE ANSWER** [Click here to jump to the solution to this exercise](#Solution2)"
   ]
  },
  {
   "cell_type": "markdown",
   "metadata": {},
   "source": [
    "### Exercise 3<a id=\"Exercise3\"></a>\n",
    "\n",
    "Modify the code below so that it reads in a line of text from the file called mysecondfile.txt, stores it in a String variable called hello and then prints the text read in to the screen. Change the name of the variable of type BufferedReader to inputfile."
   ]
  },
  {
   "cell_type": "markdown",
   "metadata": {},
   "source": [
    "**Write your prediction and explanation here**\n"
   ]
  },
  {
   "cell_type": "code",
   "execution_count": null,
   "metadata": {
    "scrolled": false
   },
   "outputs": [],
   "source": [
    "BufferedReader inputStream = new BufferedReader (new FileReader(\"myfirstfile.txt\"));\n",
    "String s = inputStream.readLine();\n",
    "\n",
    "System.out.println(s); // print what is read to the screen\n",
    "\n",
    "inputStream.close();"
   ]
  },
  {
   "cell_type": "markdown",
   "metadata": {},
   "source": [
    "**NOW READ THE ANSWER** [Click here to jump to the solution to this exercise](#Solution3)"
   ]
  },
  {
   "cell_type": "markdown",
   "metadata": {},
   "source": [
    "### Exercise 4<a id=\"Exercise4\"></a>\n",
    "\n",
    "Modify the code below so that it reads in the eight line poem from the file poem.txt, instead of reading 8 lines from the keyboard."
   ]
  },
  {
   "cell_type": "code",
   "execution_count": null,
   "metadata": {},
   "outputs": [],
   "source": [
    "Scanner scanner = new Scanner(System.in);\n",
    "    \n",
    "for(int i = 1; i <=8; i++)\n",
    "{\n",
    "    String line = scanner.nextLine();\n",
    "    System.out.println(line);    \n",
    "}\n"
   ]
  },
  {
   "cell_type": "markdown",
   "metadata": {},
   "source": [
    "It is a poem about recursion by Victorian logician Augustus De Morgan famous for his laws of boolean logic and also Maths tutor of Victorian computer scientist Ada Lovelace."
   ]
  },
  {
   "cell_type": "markdown",
   "metadata": {},
   "source": [
    "**NOW READ THE ANSWER** [Click here to jump to the solution to this exercise](#Solution4)"
   ]
  },
  {
   "cell_type": "markdown",
   "metadata": {},
   "source": [
    "## I/O Methods and Exceptions\n",
    "\n",
    "To make file I/O methods work they must be able to deal with file I/O errors such as if a program tries to read from a file that doesn't actually exist (so clearly this is impossible). Any method that does file I/O needs the extra code:\n",
    "\n",
    "```java\n",
    "throws IOException\n",
    "```\n",
    "added the end of the header line of the method. eg\n",
    "\n",
    "```java\n",
    "public static void fileinput5() throws IOException\n",
    "{\n",
    "  // code that does file I/O\n",
    "  ....\n",
    "}\n",
    "```\n",
    "\n",
    "This is just telling it to deal with I/O errors by ending the program and printing an error message. Without it, when you run the program it may just hang (if so interrupt the kernal and clear all the output). Ideally your programs will  avoid making errors in the first place though there is a lot more than we can cover here you would need to know to do that (and it is not on the syllabus of the module.)\n",
    "\n",
    "Any method that can call a method that \"throws IoException\" must also have \"throws IoException\" added to its header line all the way back to main. Therefore, in any program doing file I/O the header line of the main method will be:\n",
    "```java\n",
    "public static void main(String[] a) throws IOException\n",
    "```"
   ]
  },
  {
   "cell_type": "markdown",
   "metadata": {},
   "source": [
    "### Exercise 5<a id=\"Exercise5\"></a>\n",
    "\n",
    "Run the program below noting the header line of the method. Change the name of the file to one that does not exist and run it again. What happens and why?"
   ]
  },
  {
   "cell_type": "markdown",
   "metadata": {},
   "source": [
    "**Write you answer here**\n"
   ]
  },
  {
   "cell_type": "code",
   "execution_count": null,
   "metadata": {},
   "outputs": [],
   "source": [
    "public static void fileinput5() throws IOException\n",
    "{\n",
    "    BufferedReader inputStream = new BufferedReader (new FileReader(\"myfirstfile.txt\"));\n",
    "    String s = inputStream.readLine();\n",
    "\n",
    "    System.out.println(s); // print what is read to the screen\n",
    "    inputStream.close();\n",
    "}\n",
    "\n",
    "fileinput5();"
   ]
  },
  {
   "cell_type": "markdown",
   "metadata": {},
   "source": [
    "**NOW READ THE ANSWER** [Click here to jump to the solution to this exercise](#Solution5)"
   ]
  },
  {
   "cell_type": "markdown",
   "metadata": {},
   "source": [
    "### Exercise 6<a id=\"Exercise6\"></a>\n",
    "\n",
    "The name of the file is just a String value, so can be stored in a variable as below. Modify the method so that it reads the line of input from a file whose name is input by the user. When you run the method give the name of the file poem.txt when asked. It should read in a line of the poem and then print it out.l"
   ]
  },
  {
   "cell_type": "code",
   "execution_count": null,
   "metadata": {},
   "outputs": [],
   "source": [
    "public static void fileinput6() throws IOException\n",
    "{\n",
    "    String filename = \"myfirstfile.txt\";\n",
    "    BufferedReader inputStream = new BufferedReader (new FileReader(filename));\n",
    "    String s = inputStream.readLine();\n",
    "\n",
    "    System.out.println(s); // print what is read to the screen\n",
    "    inputStream.close();\n",
    "}\n",
    "\n",
    "fileinput6();"
   ]
  },
  {
   "cell_type": "markdown",
   "metadata": {},
   "source": [
    "**NOW READ THE ANSWER** [Click here to jump to the solution to this exercise](#Solution6)"
   ]
  },
  {
   "cell_type": "markdown",
   "metadata": {},
   "source": [
    "## File formats\n",
    "\n",
    "An important aspect of file input and output is that of file formats. Reading data in from a file so that it can be processed is far easier if the data in the file is organised in a known and consistent way. For example, if we are to read in data into an array of records, it is easier if the data for each record is in a known order, with a known separator.\n",
    "\n",
    "The simplest file format is that each record entry is on its own line (so can be read in a line at a time) and the first line of the file gives the number of records so the maximum value to use as a loop counter. That value also gives the smallest array size needed to store all the data. For example, if our program has an array of zoo animals with name, kind and age stored for each animal then the contents of the file might be:\n",
    "```\n",
    "2\n",
    "Jumbonaut\n",
    "Elephant\n",
    "12\n",
    "Charlotte\n",
    "Tarantula\n",
    "1\n",
    "```\n",
    "The above is the contents of the file zooanimals.txt used in the exercise below."
   ]
  },
  {
   "cell_type": "markdown",
   "metadata": {},
   "source": [
    "### Exercise 7<a id=\"Exercise7\"></a>\n",
    "Predict what the following program prints given the contents of the file are as above, then run it to see if you are right.\n",
    "\n",
    "Modify the file with a new third entry\n",
    "```\n",
    "Doris\n",
    "Tiger\n",
    "5\n",
    "```\n",
    "then run the program again. Predict what it will do.\n",
    "\n",
    "(You can modify a text file by opening it from the directory listing then saving it using File-Save)"
   ]
  },
  {
   "cell_type": "markdown",
   "metadata": {},
   "source": [
    "**Write your predictions here**"
   ]
  },
  {
   "cell_type": "code",
   "execution_count": null,
   "metadata": {},
   "outputs": [],
   "source": [
    "class ZooAnimal\n",
    "{\n",
    "    String name;\n",
    "    String kind;\n",
    "    int age;\n",
    "}\n",
    "\n",
    "public static void fileinput7() throws IOException\n",
    "{\n",
    "    String filename = \"zooanimals.txt\";\n",
    "    BufferedReader inputStream = new BufferedReader (new FileReader(filename));\n",
    "    \n",
    "    final int ANIMAL_COUNT = Integer.parseInt(inputStream.readLine());\n",
    "    ZooAnimal z = new ZooAnimal();\n",
    "    \n",
    "    for(int i = 0; i<ANIMAL_COUNT; i++)\n",
    "    {\n",
    "        z.name = inputStream.readLine();\n",
    "        z.kind = inputStream.readLine();\n",
    "        z.age = Integer.parseInt(inputStream.readLine());\n",
    "        \n",
    "        System.out.println(z.name + \"\\t\" + z.kind + \",\\tage \" + z.age);\n",
    "    }\n",
    "\n",
    "    inputStream.close();\n",
    "}\n",
    "\n",
    "fileinput7();"
   ]
  },
  {
   "cell_type": "markdown",
   "metadata": {},
   "source": [
    "**NOW READ THE ANSWER** [Click here to jump to the solution to this exercise](#Solution7)"
   ]
  },
  {
   "cell_type": "markdown",
   "metadata": {},
   "source": [
    "### Exercise 8<a id=\"Exercise8\"></a>\n",
    "Modify the code below to read data from the file books into an array of records, then print the array using a second for loop following the first. The file holds records one per line.\n",
    "\n",
    "HINT: Convert a string to a double using Double.parseDouble"
   ]
  },
  {
   "cell_type": "code",
   "execution_count": null,
   "metadata": {},
   "outputs": [],
   "source": [
    "class Book\n",
    "{\n",
    "    String title;\n",
    "    String author;\n",
    "    double cost;\n",
    "}\n",
    "\n",
    "// Read book details from a file and then print them.\n",
    "//\n",
    "public static void fileinput8() throws IOException\n",
    "{\n",
    "    String filename = \"zooanimals.txt\";\n",
    "    BufferedReader inputStream = new BufferedReader (new FileReader(filename));\n",
    "    \n",
    "    final int ANIMAL_COUNT = Integer.parseInt(inputStream.readLine());\n",
    "    \n",
    "    for(int i = 0; i<ANIMAL_COUNT; i++)\n",
    "    {\n",
    "        ZooAnimal z = new ZooAnimal();\n",
    "        \n",
    "        z.name = inputStream.readLine();\n",
    "        z.kind = inputStream.readLine();\n",
    "        z.age = Integer.parseInt(inputStream.readLine());\n",
    "        \n",
    "        System.out.println(z.name + \"\\t\" + z.kind + \",\\tage \" + z.age);\n",
    "    }\n",
    "\n",
    "    inputStream.close();\n",
    "}\n",
    "\n",
    "fileinput8();"
   ]
  },
  {
   "cell_type": "markdown",
   "metadata": {},
   "source": [
    "**NOW READ THE ANSWER** [Click here to jump to the solution to this exercise](#Solution8)"
   ]
  },
  {
   "cell_type": "markdown",
   "metadata": {},
   "source": [
    "## Comma separated Files\n",
    "We use the endings of file names to indicate the format (eg .doc - word format, .pdf - pdf format, .txt a simple unstructured text format, etc).\n",
    "A slightly more complex file format, is the comma separated file (files with names ending .csv). Here each record is stored on a single line, but with the data separated by commas.   For example if our program has an array of zoo animals as above with name, kind and age stored for each animal then the contents of the file might now be:\n",
    "```\n",
    "Jumbo,Elephant,12\n",
    "Charlotte,Tarantula,1\n",
    "```\n",
    "Note the data itself cannot include commas, and spaces are treated as characters in the data and are not ignored.\n",
    "This is the contents of the file zooanimals.csv used in the exercise below.\n",
    "\n",
    "We then need a way to extract the separate data elements of the line. The String library method split does this. Given the separator (here a comma) it returns a String array with the separate data elements in consecutive cells of the array.\n",
    "\n",
    "So if variable, s, holds the String \"Jumbo,Elephant,12\" then\n",
    "```java\n",
    "s.split(\",\")\n",
    "```\n",
    "returns the array\n",
    "```\n",
    "{\"Jumbo\",\"Elephant\",\"12\"}\n",
    "```\n",
    "Note that csv files do not start with the number of entries. We need another way to tell the program when to stop. We can do that simply by checking if the String read in by the readLine method is null (meaning no line was there to read in. If it is then we can exit the loop as we are at the end of the file.\n",
    "\n",
    "Comma separated files are a standard output format of spreadsheets so a program that can read csv files can process data produced by spreadsheet programs like excel and numbers."
   ]
  },
  {
   "cell_type": "markdown",
   "metadata": {},
   "source": [
    "### Exercise 9<a id=\"Exercise9\"></a>\n",
    "Read the following code and see if you can work out what each line does. Predict what it will print and run it to check you are right. The file zooanimals.csv has the same data as zooanimals.txt just in a comma separated format."
   ]
  },
  {
   "cell_type": "markdown",
   "metadata": {},
   "source": [
    "**Write your prediction here**"
   ]
  },
  {
   "cell_type": "code",
   "execution_count": null,
   "metadata": {},
   "outputs": [],
   "source": [
    "class ZooAnimal\n",
    "{\n",
    "    String name;\n",
    "    String kind;\n",
    "    int age;\n",
    "}\n",
    "\n",
    "\n",
    "public static void fileinput9() throws IOException\n",
    "{\n",
    "    String filename = \"zooanimals.csv\";\n",
    "    BufferedReader inputStream = new BufferedReader (new FileReader(filename));\n",
    "        \n",
    "    String zooanimal = inputStream.readLine();\n",
    "    while(zooanimal!=null)\n",
    "    {\n",
    "        ZooAnimal animal = new ZooAnimal();\n",
    "        String[] zooanimal_components = zooanimal.split(\",\");\n",
    "\n",
    "        animal.name = zooanimal_components[0];\n",
    "        animal.kind = zooanimal_components[1];\n",
    "        animal.age = Integer.parseInt(zooanimal_components[2]);\n",
    "        \n",
    "        System.out.println(animal.name + \"\\t\" + animal.kind + \",\\tage \" + animal.age);\n",
    "        \n",
    "        zooanimal = inputStream.readLine();\n",
    "    }\n",
    "\n",
    "    inputStream.close();\n",
    "}\n",
    "\n",
    "fileinput9();"
   ]
  },
  {
   "cell_type": "markdown",
   "metadata": {},
   "source": [
    "**NOW READ THE ANSWER** [Click here to jump to the solution to this exercise](#Solution9)"
   ]
  },
  {
   "cell_type": "markdown",
   "metadata": {},
   "source": [
    "### Exercise 10<a id=\"Exercise10\"></a>\n",
    "\n",
    "Modify the program below to read in details of books from the file book.csv"
   ]
  },
  {
   "cell_type": "code",
   "execution_count": null,
   "metadata": {},
   "outputs": [],
   "source": [
    "class Book\n",
    "{\n",
    "    String title;\n",
    "    String author;\n",
    "    double cost;\n",
    "}\n",
    "\n",
    "public static void fileinput10() throws IOException\n",
    "{\n",
    "    String filename = \"zooanimals.csv\";\n",
    "    BufferedReader inputStream = new BufferedReader (new FileReader(filename));\n",
    "        \n",
    "    String zooanimal = inputStream.readLine();\n",
    "    while(zooanimal!=null)\n",
    "    {\n",
    "        ZooAnimal animal = new ZooAnimal();\n",
    "        String[] zooanimal_components = zooanimal.split(\",\");\n",
    "\n",
    "        animal.name = zooanimal_components[0];\n",
    "        animal.kind = zooanimal_components[1];\n",
    "        animal.age = Integer.parseInt(zooanimal_components[2]);\n",
    "        \n",
    "        System.out.println(animal.name + \"\\t\" + animal.kind + \",\\tage \" + animal.age);\n",
    "        \n",
    "        zooanimal = inputStream.readLine();\n",
    "    }\n",
    "\n",
    "    inputStream.close();\n",
    "}\n",
    "\n",
    "fileinput10();"
   ]
  },
  {
   "cell_type": "markdown",
   "metadata": {},
   "source": [
    "**NOW READ THE ANSWER** [Click here to jump to the solution to this exercise](#Solution10)"
   ]
  },
  {
   "cell_type": "markdown",
   "metadata": {},
   "source": [
    "## Full Programs and Libraries\n",
    "\n",
    "The file I/O methods are part of the io library so if a full program is going to do file input or output then the library must be loaded. A full program must include the command at the start:\n",
    "```java\n",
    "import java.io.*;\n",
    "```\n",
    "Also remember the main needs to throw an IOException so the header line is extended to:\n",
    "```java\n",
    "public static void main(String[] a) throws IOException \n",
    "{\n",
    "   ...\n",
    "}\n",
    "```"
   ]
  },
  {
   "cell_type": "markdown",
   "metadata": {},
   "source": [
    "### Exercise 11<a id=\"Exercise11\"></a>\n",
    "\n",
    "Summarise what you know about file input."
   ]
  },
  {
   "cell_type": "markdown",
   "metadata": {},
   "source": [
    "**Write your summary here**"
   ]
  },
  {
   "cell_type": "markdown",
   "metadata": {},
   "source": [
    "**NOW READ THE ANSWER** [Click here to jump to the solution to this exercise](#Solution11)"
   ]
  },
  {
   "cell_type": "markdown",
   "metadata": {},
   "source": [
    "*Once you have done the above exercises (and understand how the concepts work) move on to doing the actual programming exercises from the workbook, writing full programs. You must be able to write full programs, not just fragments.*"
   ]
  },
  {
   "cell_type": "markdown",
   "metadata": {},
   "source": [
    "## Solutions\n",
    "\n",
    "### Solution to Exercise 1<a id=\"Solution1\"></a>\n",
    "\n",
    "We declare a variable called emperor to store a String read in from the keyboard.\n",
    "```java\n",
    "String emperor;\n",
    "```\n",
    "\n",
    "We then declare a Scanner. This is like a pipe that connect the keyboard (System.in) to a variable in the program.\n",
    "We use new to create a new value of type Scanner and store it in variable scanner.\n",
    "```java\n",
    "Scanner scanner = new Scanner(System.in);\n",
    "```\n",
    "We print a message so the user knows they are expected to type something.\n",
    "```java\n",
    "System.out.println(\"Name a Roman Emperor\");\n",
    "```\n",
    "The next line does the actual input. The method nextLine linked to the scanner pulls data from the keyboard and turns it into a String value. This String is stored in the variable emperor.\n",
    "```java\n",
    "emperor = scanner.nextLine();\n",
    "```\n",
    "\n",
    "The fac that the String input is now stored in a variable means it is now available for the program to manipualte. In particular it can print it out.\n",
    "```java\n",
    "System.out.println(\"You named Emperor \" + emperor);\n",
    "```"
   ]
  },
  {
   "cell_type": "markdown",
   "metadata": {},
   "source": [
    "[Return to Exercise](#Exercise1)"
   ]
  },
  {
   "cell_type": "markdown",
   "metadata": {},
   "source": [
    "### Solution to Exercise 2<a id=\"Solution2\"></a>\n",
    "\n",
    "What is printed is the first line of the file called, myfirstfile.txt ie\n",
    "```\n",
    "This is the line of text read in.\n",
    "```\n",
    "\n",
    "The first line is equivalent to the line creating the scanner. Here it connects the named file to a **Buffered Reader** variable. The idea is the same though. It does it in two steps - so in effect two different kinds of pipe are glued together. The file name is first given as a String (here \"myfirstfile.txt\" and this is used to create a new **FileReader**. This is a process a bit like a scanner pulling characters from the file. They are grouped together by the new **BufferedReader** that is linked to the File Reader. It **buffers** data ie gathers it together until the program is ready to take it. In thebelow we give the variable storing this buffered reader, inputStream. That is just a variable name though so as long as we are consistent we can call it anything we like.\n",
    "```java\n",
    "BufferedReader inputStream = new BufferedReader (new FileReader(\"myfirstfile.txt\"));\n",
    "```\n",
    "The next statement is directly equivalent to the similar statement doing keyboard input. It reads a line of data from inputStream (ie from the file) and stores it in a String s.\n",
    "```java\n",
    "String s = inputStream.readLine();\n",
    "```\n",
    "It reads characters just up until the next newline character.\n",
    "\n",
    "Once we have a line read from the file into a String we can manipulate it like any other String. here we just print it.\n",
    "```java\n",
    "System.out.println(s); // print what is read to the screen\n",
    "```\n",
    "\n",
    "Finally after finishing reading data from a file we must close it, to make it available to other programs once more.\n",
    "```java\n",
    "inputStream.close();\n",
    "```"
   ]
  },
  {
   "cell_type": "markdown",
   "metadata": {},
   "source": [
    "[Return to Exercise](#Exercise2)"
   ]
  },
  {
   "cell_type": "markdown",
   "metadata": {},
   "source": [
    "### Solution to Exercise 3<a id=\"Solution3\"></a>\n",
    "Note that the changes of names of the variables have to be done consistently throughout."
   ]
  },
  {
   "cell_type": "code",
   "execution_count": null,
   "metadata": {},
   "outputs": [],
   "source": [
    "BufferedReader inputfile = new BufferedReader (new FileReader(\"mysecondfile.txt\"));\n",
    "String hello = inputfile.readLine();\n",
    "\n",
    "System.out.println(hello); // print what is read to the screen\n",
    "\n",
    "inputfile.close();"
   ]
  },
  {
   "cell_type": "markdown",
   "metadata": {},
   "source": [
    "[Return to Exercise](#Exercise3)"
   ]
  },
  {
   "cell_type": "markdown",
   "metadata": {},
   "source": [
    "### Solution to Exercise 4<a id=\"Solution4\"></a>\n",
    "It prints the poen\n",
    "```\n",
    "Great fleas Have Lesser Fleas,\n",
    "upon Their backs To Bite’em,\n",
    "And Lesser Fleas Have Lesser fleas,\n",
    "And So, Ad infinitum.\n",
    "and Those great Fleas, Themselves, In turn\n",
    "Have Greater Fleas To go On;\n",
    "while Those Again have Greater still,\n",
    "And greater Still, And So on.\n",
    "```"
   ]
  },
  {
   "cell_type": "code",
   "execution_count": null,
   "metadata": {},
   "outputs": [],
   "source": [
    "BufferedReader poetryfile = new BufferedReader (new FileReader(\"poem.txt\"));\n",
    "    \n",
    "for(int i = 1; i <=8; i++)\n",
    "{\n",
    "    String line = poetryfile.readLine();\n",
    "    System.out.println(line);    \n",
    "}\n",
    "\n",
    "poetryfile.close();"
   ]
  },
  {
   "cell_type": "markdown",
   "metadata": {},
   "source": [
    "[Return to Exercise](#Exercise4)"
   ]
  },
  {
   "cell_type": "markdown",
   "metadata": {},
   "source": [
    "### Solution to Exercise 5<a id=\"Solution5\"></a>\n",
    "\n",
    "If you change the name of the file to one that does not exist the attempt to create a new FileReader \n",
    "```java\n",
    "new FileReader(\"myfirstfile.txt\")\n",
    "```\n",
    "fails and the program ends with an error message indicating a file I/O error ocurred because the file could not be found. The error message will start something like:\n",
    "```\n",
    "Java.io.FileNotFoundException: mfirstfile.txt (No such file or directory)\n",
    "```\n"
   ]
  },
  {
   "cell_type": "markdown",
   "metadata": {},
   "source": [
    "[Return to Exercise](#Exercise5)"
   ]
  },
  {
   "cell_type": "markdown",
   "metadata": {},
   "source": [
    "### Solution to Exercise 6<a id=\"Solution6\"></a>\n",
    "Notice if you run the program repeatedly it keeps just starting from the beginning of the file again."
   ]
  },
  {
   "cell_type": "code",
   "execution_count": null,
   "metadata": {},
   "outputs": [],
   "source": [
    "public static void fileinput6() throws IOException\n",
    "{\n",
    "    Scanner scanner = new Scanner(System.in);\n",
    "    System.out.println(\"What is the name of the file?\");\n",
    "    String filename = scanner.nextLine();\n",
    "    \n",
    "    \n",
    "    BufferedReader inputStream = new BufferedReader (new FileReader(filename));\n",
    "    String s = inputStream.readLine();\n",
    "\n",
    "    System.out.println(s); // print what is read to the screen\n",
    "    inputStream.close();\n",
    "}\n",
    "\n",
    "fileinput6();"
   ]
  },
  {
   "cell_type": "markdown",
   "metadata": {},
   "source": [
    "[Return to Exercise](#Exercise6)"
   ]
  },
  {
   "cell_type": "markdown",
   "metadata": {},
   "source": [
    "### Solution to Exercise 7<a id=\"Solution7\"></a>\n",
    "It prints\n",
    "```\n",
    "Jumbonaut\tElephant,\tage 12\n",
    "Charlotte\tTarantula,\tage 1\n",
    "```\n",
    "\n",
    "It reads in the separate values a line at a time, but stores them in separate fields allowing it to the print them out in a different format. The way it is printed does not have to have any link to the way it is stored in the file.\n",
    "\n",
    "The data could also just as well be read into simple (String  or int variables)."
   ]
  },
  {
   "cell_type": "markdown",
   "metadata": {},
   "source": [
    "[Return to Exercise](#Exercise7)"
   ]
  },
  {
   "cell_type": "markdown",
   "metadata": {},
   "source": [
    "### Solution to Exercise 8<a id=\"Solution8\"></a>"
   ]
  },
  {
   "cell_type": "code",
   "execution_count": null,
   "metadata": {},
   "outputs": [],
   "source": [
    "class Book\n",
    "{\n",
    "    String title;\n",
    "    String author;\n",
    "    double cost;\n",
    "}\n",
    "\n",
    "// Read book details from a file and then print them.\n",
    "//\n",
    "public static void fileinput8() throws IOException\n",
    "{\n",
    "    String filename = \"books.txt\";\n",
    "    BufferedReader inputStream = new BufferedReader (new FileReader(filename));\n",
    "    \n",
    "    final int BOOKS = Integer.parseInt(inputStream.readLine());\n",
    "    Book b = new Book();\n",
    "    \n",
    "    for(int i = 0; i<BOOKS; i++)\n",
    "    {\n",
    "        b.title = inputStream.readLine();\n",
    "        b.author = inputStream.readLine();\n",
    "        b.cost = Double.parseDouble(inputStream.readLine());\n",
    "        \n",
    "        System.out.println(b.title + \"\\t\" + b.author + \"\\tUKP\" + b.cost);\n",
    "    }\n",
    "\n",
    "    inputStream.close();\n",
    "}\n",
    "\n",
    "fileinput8();"
   ]
  },
  {
   "cell_type": "markdown",
   "metadata": {},
   "source": [
    "[Return to Exercise](#Exercise8)"
   ]
  },
  {
   "cell_type": "markdown",
   "metadata": {},
   "source": [
    "### Solution to Exercise 9<a id=\"Solution9\"></a>\n",
    "\n",
    "It prints the contents of the file zooanimal.csv in the same format as the previous program ie\n",
    "\n",
    "```\n",
    "Jumbonaut\tElephant,\tage 12\n",
    "Charlotte\tTarantula,\tage 1\n",
    "```\n",
    "\n",
    "As we do not know in advance now how many lines there are in the file, we use a while loop rather than a for loop. We repeat until the sentinel value null (ie nothing read in) is found when we try to read in an animal name. We do this first outside the loop, allowing us to deal with being given an empty file. That means we read in the next line as the last step of the loop so it is again checked for null immediately.\n",
    "\n",
    "```java\n",
    "String zooanimal = inputStream.readLine();\n",
    "while(zooanimal!=null)\n",
    "{\n",
    "    ...        \n",
    "    zooanimal = inputStream.readLine();\n",
    "}\n",
    "```\n",
    "\n",
    "Once we know we have a Line from the file we need to split it up. That is done by\n",
    "```java\n",
    "String[] zooanimal_components = zooanimal.split(\",\");\n",
    "```\n",
    "The separator is a comma, and split breaks the file into component Strings based on that. These are\n",
    "then stored in the array zooanimal_components. We extract each and insert it in the appropriate record entry.\n",
    "```java\n",
    "        z.name = zooanimal_components[0];\n",
    "        z.kind = zooanimal_components[1];\n",
    "        z.age = Integer.parseInt(zooanimal_components[2]);\n",
    "```\n",
    "The last of the triple needs to be turned into an integer as what was read in was a String.\n",
    "\n",
    "Of course it would be better to treat the record as an ADT - with an operation to create it from a file.\n",
    "\n",
    "At this point we have the data in the record so the source having been a file is no longer relevant.\n",
    "\n",
    "We must remember to close the file after the loop ends.\n",
    "\n",
    "```java\n",
    "    inputStream.close();\n",
    "```"
   ]
  },
  {
   "cell_type": "markdown",
   "metadata": {},
   "source": [
    "[Return to Exercise](#Exercise9)"
   ]
  },
  {
   "cell_type": "markdown",
   "metadata": {},
   "source": [
    "### Solution to Exercise 10<a id=\"Solution10\"></a>"
   ]
  },
  {
   "cell_type": "code",
   "execution_count": null,
   "metadata": {},
   "outputs": [],
   "source": [
    "class Book\n",
    "{\n",
    "    String title;\n",
    "    String author;\n",
    "    double cost;\n",
    "}\n",
    "\n",
    "public static void fileinput10() throws IOException\n",
    "{\n",
    "    String filename = \"books.csv\";\n",
    "    BufferedReader inputStream = new BufferedReader (new FileReader(filename));\n",
    "        \n",
    "    String bookline = inputStream.readLine();\n",
    "    while(bookline!=null)\n",
    "    {\n",
    "        Book newbook = new Book();\n",
    "        String[] book_components = bookline.split(\",\");\n",
    "\n",
    "        newbook.title = book_components[0];\n",
    "        newbook.author = book_components[1];\n",
    "        newbook.cost = Double.parseDouble(book_components[2]);\n",
    "        \n",
    "        System.out.println(newbook.title + \"\\t\" + newbook.author + \"\\t\" + newbook.cost);\n",
    "        \n",
    "        bookline = inputStream.readLine();\n",
    "    }\n",
    "\n",
    "    inputStream.close();\n",
    "}\n",
    "\n",
    "fileinput10();"
   ]
  },
  {
   "cell_type": "markdown",
   "metadata": {},
   "source": [
    "[Return to Exercise](#Exercise10)"
   ]
  },
  {
   "cell_type": "markdown",
   "metadata": {},
   "source": [
    "### Solution to Exercise 11<a id=\"Solution11\"></a>\n",
    "\n",
    "File input is similar to reading from a keyboard, except rather than creating a Scanner we create a BufferedReader linked to a FileReader linked to the file. \n",
    "```java\n",
    "BufferedReader inputStream = new BufferedReader (new FileReader(filename));\n",
    "```\n",
    "The filename is just a String so it can be a literal value. It could also be the result of a calculation, so we could, for example, input the stem of the filename and automatically add the ending such as .csv.\n",
    "```java\n",
    "new FileReader(filename + \".csv\")\n",
    "```\n",
    "\n",
    "Unlike with keyboard input we need to close the file as soon as finished with it.\n",
    "```java\n",
    "inputStream.close();\n",
    "```\n",
    "\n",
    "Lines of text can be input from the file using a call to method ```inputStream.readLine()```\n",
    "where inputStream is just the name of the BufferedReader variable.\n",
    "\n",
    "readLine returns a String so is just stored in a String variable.\n",
    "```java\n",
    "String bookline = inputStream.readLine();\n",
    "```\n",
    "If the String read in by readLine is null, then the end of the file has been reached. Testing for null can be used to control a while loop.\n",
    "\n",
    "By organising files into a specific format that matches the internal datastructure used in the program, data can be input from a file in a simple way. A comma separated file is an example of this, where values to go in a record are together on the same line of the file, separated by commas. This means those values can easily be separated out using the method split and then stored in the appropriate fields of a record variable."
   ]
  },
  {
   "cell_type": "markdown",
   "metadata": {},
   "source": [
    "[Return to Exercise](#Exercise11)"
   ]
  }
 ],
 "metadata": {
  "kernelspec": {
   "display_name": "Java",
   "language": "java",
   "name": "java"
  },
  "language_info": {
   "codemirror_mode": "java",
   "file_extension": ".jshell",
   "mimetype": "text/x-java-source",
   "name": "Java",
   "pygments_lexer": "java",
   "version": "11.0.8+10-LTS"
  }
 },
 "nbformat": 4,
 "nbformat_minor": 2
}
