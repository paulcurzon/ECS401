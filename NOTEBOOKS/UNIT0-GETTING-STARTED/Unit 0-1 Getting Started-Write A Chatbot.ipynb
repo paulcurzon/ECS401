{
 "cells": [
  {
   "cell_type": "markdown",
   "metadata": {},
   "source": [
    "# Welcome Week Lab\n",
    "# Unit 0-1: Getting Started...write a chatbot program\n",
    "## Paul Curzon\n",
    "\n",
    "\n",
    "## Interactive Programming Exercises\n",
    "\n",
    "I've written this <span style=\"color: red;\">interactive notebook</span> to help get you started coding in Java. It is a series of exercises for you to do that will gradually help you start to get the basics of procedural programming (in Java) a little at a time. Each section includes interactive exercises that you can do in the notebook. \n",
    "\n",
    "Each unit of the module has more such notebooks as well as other resources. Work through them at your own pace each week. \n",
    "I hope you enjoy learning to program.\n",
    "\n",
    "- **Paul Curzon**"
   ]
  },
  {
   "cell_type": "markdown",
   "metadata": {},
   "source": [
    "## Running Code in this notebook\n",
    "The notebook is divided into sections that are either code (code boxes) or written explanation (markdown boxes). You can edit either.  \n",
    "\n",
    "Sections that, in the margin, display this text   \n",
    "```\n",
    "In [  ] :\n",
    "```\n",
    "are runnable code areas. They contain fragments of Java code. You can both edit the program and run it to see what it does. To make the computer run that program, place the cursor in the box and click the Run button in the Toolbar (ie in the menu at the top of this whole browser window). When a ```*``` appears as in:\n",
    "\n",
    "```\n",
    "In [ * ] :\n",
    "```\n",
    "the code is compiling and running so wait. \n",
    "\n",
    "However, if you \"Run\" a markdown box it just formats it, so it looks neat. Double-clicking a formatted markdown box allows you to edit it."
   ]
  },
  {
   "cell_type": "markdown",
   "metadata": {},
   "source": [
    "## Ask for help\n",
    "\n",
    "Work through these exercise one at a time. If doing this in a lab session and there is something you are stuck on, or do not understand, then ASK FOR HELP either from a fellow student or demonstrator. There are lots of simple ways to get stuck, and we don't want you to waste time on trivial things. Also, anything you find hard, lots of others will be finding hard too, so don't worry, just ask. You can also occasionally sneak a look at the answers at the end if it helps, but always try to answer yourself first and aim to understand.\n",
    "\n",
    "I will also go through a lot of what you cover here in the lectures, where you can ask questions, so don't worry if you do not get everything. Above all remember... **DON'T PANIC**\n"
   ]
  },
  {
   "cell_type": "markdown",
   "metadata": {},
   "source": [
    "## This is your personal copy\n",
    "\n",
    "This is your own personal version of this notebook. No one else sees your changes. You can add your own answers and add your own notes to it. Any changes you make will be there even if you log out and log back into this notebook as it is stored on a QMUL machine (the notebook \"server\"). Note that you can also make and save copies using the jupyter FILE menu. You can also make your own new notebooks. Note you cannot run COMPLETE Java programs in these notebooks though, only fragments. We will get to complete programs later.\n",
    "\n",
    "It is a really good idea to add your own notes throughout this notebook to reinforce what you have learnt and highlight important points. Click on the + in the toolbar above to make a new note area, and change it from Code to Markdown in the dropdown menu above if your note is not executable code. You may also want to highlight your notes in red as here, so they stand out. You change colours using span like this:\n",
    "\n",
    "<span style=\"color: red;\">THE TEXT TO COLOUR RED</span>"
   ]
  },
  {
   "cell_type": "markdown",
   "metadata": {},
   "source": [
    "## ALWAYS read the Answers\n",
    "\n",
    "**ALWAYS** read the answers to exercises after doing each one and compare them to your own. There are important things to learn from the answers! Answers to exercises are given at the end. Links allow you to jump back and forth."
   ]
  },
  {
   "cell_type": "markdown",
   "metadata": {},
   "source": [
    "\n",
    "## Learning Outcomes\n",
    "- Write very simple programs that print messages\n",
    "- Write very simple programs that ask questions and use the answers\n",
    "- Write a simple chatbot in Java\n",
    "\n",
    "Programming involves writing instructions in a precise language that a computer can follow. The following series of exercises will step you through writing simple programs. By the time you finish, you will have written a simple chatbot program."
   ]
  },
  {
   "cell_type": "markdown",
   "metadata": {},
   "source": [
    "## Write a chatbot\n",
    "Having conversations, making friends is hard work. What does any self-respecting computer scientist or electronic engineer do when faced with a problem? Write a program to do it for you. So your job for induction week is to write a program to do the talking for you - write a chatbot to have the conversations.\n",
    "\n",
    "The best way to learn to program is to experiment with existing programs, as here. If you don’t finish these exercises in the lab keep working on it in your own time.\n",
    "\n",
    "## Printing a Hello Message\n",
    "The following fragment of code prints a simple message to the screen. To see what it does you must **compile** and **run** it.\n",
    "\n",
    "Compiling a program checks it for some simple mistakes (like wrong punctuation)and translates it into a form the computer can follow. Running a program just tells the computer to **execute** (ie follow) the instructions in the program. \n",
    "\n",
    "In these notebooks clicking on the \"Run\" button both compiles and runs code in that box. When we ask you to compile-run code click the Run button. We use the phrase compile-run just to emphasise it does more than just run the code."
   ]
  },
  {
   "cell_type": "markdown",
   "metadata": {},
   "source": [
    "### Exercise 1<a id=\"Exercise1\"></a>\n",
    "**Compile and run** the fragment of code (by clicking in the box with the code and then pressing the **Run** button in the Toolbar above)\n",
    "to see what this code does. The result of running it will appear below the code."
   ]
  },
  {
   "cell_type": "code",
   "execution_count": null,
   "metadata": {},
   "outputs": [],
   "source": [
    "// Print a simple message\n",
    "public static void helloMessage1 ()\n",
    "{\n",
    "        System.out.println(\"Hello World\");\n",
    "        return;\n",
    "} // END helloMessage1\n",
    "\n",
    "helloMessage1();"
   ]
  },
  {
   "cell_type": "markdown",
   "metadata": {},
   "source": [
    "**NOW READ THE ANSWER**\n",
    "[Click here to jump to the solution to Exercise 1.](#Solution1)"
   ]
  },
  {
   "cell_type": "markdown",
   "metadata": {},
   "source": [
    "### Exercise 2<a id=\"Exercise2\"></a>\n",
    "There is a lot going on here, but for now you shouldn't worry about most of it. Having seen what it does (it prints a particular message) can you work out the one line that makes it print that particular message rather than another? Find and copy that one line into the box below. (This notebook allows you to compile and run fragments including single lines of code)."
   ]
  },
  {
   "cell_type": "code",
   "execution_count": null,
   "metadata": {},
   "outputs": [],
   "source": [
    "// Add the single line of code that does the printing below.\n",
    "\n"
   ]
  },
  {
   "cell_type": "markdown",
   "metadata": {},
   "source": [
    "**NOW READ THE ANSWER** \n",
    "[Click here to jump to the solution to Exercise 2.](#Solution2)"
   ]
  },
  {
   "cell_type": "markdown",
   "metadata": {
    "hide_input": true
   },
   "source": [
    "###  Exercise 3<a id=\"Exercise3\"></a>\n",
    "Try editing the version below to make it print something different. After your change, when you Compile-Run it your new version must print \n",
    "```\n",
    "Hello Paul\n",
    "```\n",
    "instead of \n",
    "```\n",
    "Hello World\n",
    "```\n",
    "You only need to change one word. Try it.\n",
    "\n",
    "If you get a RED error message like\n",
    "```\n",
    "|   }\n",
    "illegal start of expression\n",
    "```\n",
    "in any of these exercises. It just means you accidentally missed some punctuation (or similar). For example you may have missed a ; or a \" out. Try and spot what you have missed by checking what you added carefully. If all else fails, one way you can recover is by cutting and pasting the whole of an earlier block of code back and starting again. "
   ]
  },
  {
   "cell_type": "code",
   "execution_count": null,
   "metadata": {},
   "outputs": [],
   "source": [
    "// Print a simple message\n",
    "public static void helloMessage2 ()\n",
    "{\n",
    "        System.out.println(\"Hello World\");\n",
    "        return;\n",
    "} // END helloMessage2\n",
    "\n",
    "helloMessage2();"
   ]
  },
  {
   "cell_type": "markdown",
   "metadata": {},
   "source": [
    "**NOW READ THE ANSWER**  [Click here to jump to the solution to Exercise 3.](#Solution3)"
   ]
  },
  {
   "cell_type": "markdown",
   "metadata": {},
   "source": [
    "## Print Your name\n",
    "\n",
    "### Exercise 4 <a id=\"Exercise4\"></a>\n",
    "Once you have done that, try changing it to print your name instead of mine in the version below. "
   ]
  },
  {
   "cell_type": "code",
   "execution_count": null,
   "metadata": {},
   "outputs": [],
   "source": [
    "// Print a simple message\n",
    "public static void helloMessage3 ()\n",
    "{\n",
    "        System.out.println(\"Hello World\");\n",
    "        return;\n",
    "} // END helloMessage3\n",
    "\n",
    "helloMessage3();"
   ]
  },
  {
   "cell_type": "markdown",
   "metadata": {},
   "source": [
    "**NOW READ THE ANSWER** [Click here to jump to the solution to Exercise 4.](#Solution4)"
   ]
  },
  {
   "cell_type": "markdown",
   "metadata": {},
   "source": [
    "## Printing Anything\n",
    "### Exercise 5 <a id=\"Exercise5\"></a>\n",
    "Make sure you can get the program fragment to print any message you want before you move on. Change the version below."
   ]
  },
  {
   "cell_type": "code",
   "execution_count": null,
   "metadata": {},
   "outputs": [],
   "source": [
    "// Print a simple message\n",
    "public static void helloMessage4 ()\n",
    "{\n",
    "    System.out.println(\"Hello World\");\n",
    "    return;\n",
    "} // END helloMessage4\n",
    "\n",
    "helloMessage4();"
   ]
  },
  {
   "cell_type": "markdown",
   "metadata": {},
   "source": [
    "**NOW READ THE ANSWER** [Click here to jump to the solution to Exercise 5.](#Solution5)"
   ]
  },
  {
   "cell_type": "markdown",
   "metadata": {},
   "source": [
    "## Summary\n",
    "The command that prints a message is \n",
    "```java\n",
    "System.out.println();\n",
    "```\n",
    "You put the thing you want to be printed in the brackets, inside quote marks. The program prints exactly what is between the quotes. So\n",
    "```java\n",
    "System.out.println(\"Be Happy :-)\");\n",
    "```\n",
    "for example would print \n",
    "```\n",
    "Be Happy :-)\n",
    "```\n",
    "when executed."
   ]
  },
  {
   "cell_type": "markdown",
   "metadata": {},
   "source": [
    "## Procedures\n",
    "Spend a minute thinking about the word: \"procedure\". What does it mean to you? If you haven't done much or any programming before, have you heard of the word \"procedure\" before? \n",
    "\n",
    "The biggest part of the program fragment we are looking at eg:\n",
    "```java\n",
    "// Print a simple message\n",
    "public static void helloMessage5 ()\n",
    "{\n",
    "        System.out.println(\"Hello World\");\n",
    "        return;\n",
    "} // END helloMessage5\n",
    "```\n",
    "is called a **procedure definition**. It defines a **procedure**. Think of it as like an individual named recipe. It is a grouped series of instructions with a name that does a specific task. The above one has name *helloMessage5*. It can be used whenever it is needed. On its own it doesn't do anything though. It just sits there, waiting to be used. Another name for a **procedure** is a **method** with the definition a **method definition**. For now, we will use **procedure** and **method** interchangeably but there are subtle differences.\n",
    "\n",
    "Has your understanding of the term procedure changed? If this is a new term that you have not heard of perhaps make a note here in your notebook that this is a key programming concept.\n"
   ]
  },
  {
   "cell_type": "markdown",
   "metadata": {},
   "source": [
    "#### Your Notes\n",
    "<span style=\"color: red;\">\n",
    "    Double click on a non-code or \"Markdown\" area of this notebook and you can edit it to add your own notes. You could make them a different colour like this.  DOUBLE CLICK HERE TO SEE HOW I DID IT! \n",
    "</span>\n",
    "\n",
    "You can add Markdown boxes for your own notes anywhere you like in a notebook.\n",
    "1. Click on the + icon in the toolbar at the top of the browser window to create a new code box\n",
    "2. Click on the dropdown menu with label Code and choose Markdown to change it to a Text box\n",
    "\n",
    "\n"
   ]
  },
  {
   "cell_type": "markdown",
   "metadata": {},
   "source": [
    "### Exercise 6 <a id=\"Exercise6\"></a>\n",
    "Try compiling and running the following just as you have done with the other versions. It apparently does nothing on its own!"
   ]
  },
  {
   "cell_type": "code",
   "execution_count": null,
   "metadata": {},
   "outputs": [],
   "source": [
    "// Print a simple message\n",
    "public static void helloMessage5 ()\n",
    "{\n",
    "        System.out.println(\"I'm alive!\");\n",
    "        return;\n",
    "} // END helloMessage5"
   ]
  },
  {
   "cell_type": "markdown",
   "metadata": {},
   "source": [
    "**NOW READ THE ANSWER** [Click here to jump to the solution to Exercise 6.](#Solution6)"
   ]
  },
  {
   "cell_type": "markdown",
   "metadata": {},
   "source": [
    "When you pressed Run on the above, all your computer did was compile the code (so check there were no errors and translate it) then file that procedure for later use. It now knows about those named instructions so can follow them now whenever needed.\n",
    "\n",
    "To get it to actually do anything, you need the other part of our original fragments above. A procedure definition on its own is just like a plan of a building. On its own it just sits there. Someone has to execute the plan before you get an actual building. You need an instruction to execute a procedure before it does anything."
   ]
  },
  {
   "cell_type": "markdown",
   "metadata": {},
   "source": [
    "## Procedure Call\n",
    "Here we are now going to learn about another key concept about procedures, if it is new to you, perhaps make a note of what you understand. \n",
    "\n",
    "The other part of the program fragment (the bit missing above) was:\n",
    "```java\n",
    "helloMessage5();\n",
    "```\n",
    "This is a **procedure call** (also known as a **method call**).\n",
    "\n",
    "To use the procedure (ie follow its instructions) you **call** it. That is what the other part of the program fragment does. It just says follow the instructions (the recipe) in a particular named procedure.\n",
    "\n",
    "To call (ie execute) the procedure named helloMessage5 you just write the name of the procedure followed by brackets: eg helloMessage() for a procedure given the name helloMessage in its definition."
   ]
  },
  {
   "cell_type": "markdown",
   "metadata": {},
   "source": [
    "### Exercise 7<a id=\"Exercise7\"></a>\n",
    "Try calling helloMessage5 defined above by compile-running the fragment below. This will only work if you have already compiled and run the code in Exercise 6 above as if you haven't then no procedure with the name helloMessage5 yet exists."
   ]
  },
  {
   "cell_type": "code",
   "execution_count": null,
   "metadata": {},
   "outputs": [],
   "source": [
    "helloMessage5();"
   ]
  },
  {
   "cell_type": "markdown",
   "metadata": {},
   "source": [
    "**NOW READ THE ANSWER** [Click here to jump to the solution to Exercise 7.](#Solution7)"
   ]
  },
  {
   "cell_type": "markdown",
   "metadata": {},
   "source": [
    "This module is about **procedural programming**. It is all about the use of procedures (and procedure call) to organise BIG programs (though we will only look at small programs for now).\n",
    "\n",
    "You have been using procedures from the start. System.out.println() is also a call to a procedure, where the procedure named System.out.println has already defined for you. Each time we have used System.out.println we have actually been calling the procedure. "
   ]
  },
  {
   "cell_type": "markdown",
   "metadata": {},
   "source": [
    "## Multiple Commands\n",
    "### Exercise 8 <a id=\"Exercise8\"></a>\n",
    "Find out what happens if you replace the line\n",
    "```java\n",
    "     System.out.println(\"Hello World\");\n",
    "```\n",
    "\n",
    "in the procedure definition below with the two lines\n",
    "\n",
    "```java\n",
    "     System.out.println(\"Hello\");\n",
    "     System.out.println(\"World\");\n",
    "```\n",
    "\n",
    "Also what happens if you put those two lines the other way round?\n",
    "\n",
    "Try it below and see if you were right."
   ]
  },
  {
   "cell_type": "code",
   "execution_count": null,
   "metadata": {},
   "outputs": [],
   "source": [
    "// Print a simple message\n",
    "public static void helloMessage6 ()\n",
    "{\n",
    "        System.out.println(\"Hello World\");\n",
    "        return;\n",
    "} // END helloMessage6\n",
    "\n",
    "helloMessage6();"
   ]
  },
  {
   "cell_type": "markdown",
   "metadata": {},
   "source": [
    "**NOW READ THE ANSWER**  [Click here to jump to the solution to Exercise 8.](#Solution8)"
   ]
  },
  {
   "cell_type": "markdown",
   "metadata": {},
   "source": [
    "### Exercise 9 <a id=\"Exercise9\"></a>\n",
    "Predict what happens if you add a 2nd copy of the following line to the procedure just after the first, so instead of \n",
    "```java\n",
    "     System.out.println(\"Hello World\");\n",
    "```\n",
    "\n",
    "your procedure now has two instructions:\n",
    "\n",
    "```java\n",
    "     System.out.println(\"Hello World\");\n",
    "     System.out.println(\"Hello World\");\n",
    "```\n",
    "\n",
    "Try it and see below."
   ]
  },
  {
   "cell_type": "code",
   "execution_count": null,
   "metadata": {},
   "outputs": [],
   "source": [
    "// Print a simple message\n",
    "public static void helloMessage7 ()\n",
    "{\n",
    "        System.out.println(\"Hello World\");\n",
    "        return;\n",
    "} // END helloMessage7\n",
    "\n",
    "helloMessage7();"
   ]
  },
  {
   "cell_type": "markdown",
   "metadata": {},
   "source": [
    "**NOW READ THE ANSWER**  [Click here to jump to the solution to Exercise 9.](#Solution9)"
   ]
  },
  {
   "cell_type": "markdown",
   "metadata": {},
   "source": [
    "## Duplicate Procedure Calls\n",
    "A procedure call just jumps to the code in the **body** of the procedure and then *jumps back*. It then carries on with the next instruction.\n",
    "\n",
    "If you have not come across this idea before, this is another key concepts in computer programming. Perhaps write yourself a note about it."
   ]
  },
  {
   "cell_type": "markdown",
   "metadata": {},
   "source": [
    "### Exercise 10 <a id=\"Exercise10\"></a>\n",
    "Predict what will happen if instead you add a second copy of the call from the start immediately after the original version of it?\n",
    "i.e.\n",
    "Instead of\n",
    "```java\n",
    "helloMessage8();\n",
    "```\n",
    "you write\n",
    "```java\n",
    "helloMessage8();\n",
    "helloMessage8();\n",
    "```\n",
    "Try it below and explain what and why it happens. Note that helloMessage8 includes two print statements."
   ]
  },
  {
   "cell_type": "code",
   "execution_count": null,
   "metadata": {},
   "outputs": [],
   "source": [
    "// Print a simple message\n",
    "public static void helloMessage8 ()\n",
    "{\n",
    "        System.out.println(\"Hello World\");\n",
    "        System.out.println(\"Hello World\");\n",
    "        \n",
    "        return;\n",
    "} // END helloMessage8\n",
    "\n",
    "helloMessage8();"
   ]
  },
  {
   "cell_type": "markdown",
   "metadata": {},
   "source": [
    "**Write your explanation here (you need to double click on this box to make it editable)**\n"
   ]
  },
  {
   "cell_type": "markdown",
   "metadata": {},
   "source": [
    "**NOW READ THE ANSWER**  [Click here to jump to the solution to Exercise 10.](#Solution10)"
   ]
  },
  {
   "cell_type": "markdown",
   "metadata": {},
   "source": [
    "### Exercise 11 <a id=\"Exercise11\"></a>\n",
    "Now modify the program fragment below to print your name 5 times using the approach of repeating the procedure  *calls* as above. Your name should only appear once in the program!"
   ]
  },
  {
   "cell_type": "code",
   "execution_count": null,
   "metadata": {},
   "outputs": [],
   "source": [
    "// Print a simple message\n",
    "public static void helloMessage9 ()\n",
    "{\n",
    "        System.out.println(\"Hello World\");\n",
    "        return;\n",
    "} // END helloMessage9\n",
    "\n",
    "helloMessage9();"
   ]
  },
  {
   "cell_type": "markdown",
   "metadata": {},
   "source": [
    "**NOW READ THE ANSWER** [Click here to jump to the solution to Exercise 11.](#Solution11)"
   ]
  },
  {
   "cell_type": "markdown",
   "metadata": {},
   "source": [
    "##  A first simple chatbot\n",
    "\n",
    "Finally, you are in a position to start your chatbot in earnest. \n",
    "\n",
    "### Exercise 12 <a id=\"Exercise12\"></a>\n",
    "Invent a name for your Chatbot to introduce itself as (eg mine is called “Chatty”). Your first simple version of the program should just print a series of messages with each sentence on a new line like the following introducing itself:\n",
    "```\n",
    "\tMy name is Chatty.\n",
    "\tI am a chatbot.\n",
    "    Hello.\n",
    "```\n",
    "Modify the code fragment below to do this. Then compile-run it to make sure it works."
   ]
  },
  {
   "cell_type": "code",
   "execution_count": null,
   "metadata": {},
   "outputs": [],
   "source": [
    "// A simple chatbot that just says introduces itself and says hello...\n",
    "public static void chatbot1 ()\n",
    "{\n",
    "        System.out.println(\"Hello World\");\n",
    "        return;\n",
    "} // END chatbot1\n",
    "\n",
    "chatbot1();"
   ]
  },
  {
   "cell_type": "markdown",
   "metadata": {},
   "source": [
    "**NOW READ THE ANSWER** [Click here to jump to the solution to Exercise 12.](#Solution12)"
   ]
  },
  {
   "cell_type": "markdown",
   "metadata": {},
   "source": [
    "## Calling procedures from inside procedures\n",
    "Methods/procedures can be called from inside other methods/procedures. This gives us a way to structure programs into smaller parts that each do a separate thing and that we can code one at a time. Being able to do that is vital when writing large programs."
   ]
  },
  {
   "cell_type": "markdown",
   "metadata": {},
   "source": [
    "### Exercise 13<a id=\"Exercise13\"></a>\n",
    "Predict what this does, then compile-run it to check if you are right."
   ]
  },
  {
   "cell_type": "markdown",
   "metadata": {},
   "source": [
    "**Write what you think it does here (you need to double click on this box to make it editable)**\n"
   ]
  },
  {
   "cell_type": "code",
   "execution_count": null,
   "metadata": {},
   "outputs": [],
   "source": [
    "// A simple chatbot that says hello...and then goodbye\n",
    "\n",
    "\n",
    "// Print a salutation (a goodbye message)\n",
    "//\n",
    "public static void goodbyeMessage ()\n",
    "{\n",
    "        System.out.println(\"Goodbye\");\n",
    "        return;\n",
    "} // END goodbyeMessage\n",
    "\n",
    "// Print a greeting (a hello message)\n",
    "//\n",
    "public static void helloMessage ()\n",
    "{\n",
    "        System.out.println(\"Hello\");\n",
    "        return;\n",
    "} // END helloMessage\n",
    "\n",
    "// A friendly chatbot that greets and says goodbye\n",
    "//\n",
    "public static void chatbot2 ()\n",
    "{\n",
    "        helloMessage();\n",
    "        goodbyeMessage();\n",
    "        return;\n",
    "} // END chatbot2\n",
    "\n",
    "chatbot2();"
   ]
  },
  {
   "cell_type": "markdown",
   "metadata": {},
   "source": [
    "Note it is the order of the calls in the first procedure called - chatbot2 - that determines the order things are printed, not the order of defining procedures."
   ]
  },
  {
   "cell_type": "markdown",
   "metadata": {},
   "source": [
    "**NOW READ THE ANSWER** [Click here to jump to the solution to Exercise 13.](#Solution13)"
   ]
  },
  {
   "cell_type": "markdown",
   "metadata": {},
   "source": [
    "## Comments\n",
    "Have you noticed we included lots of lines starting with // such as\n",
    "```\n",
    "// Print a greeting (a hello message)\n",
    "//\n",
    "```\n",
    "These are called **comments**. They are messages to human readers to help them understand code and are a vital part of good programming. The computer itself ignores them. \n",
    "\n",
    "As a bare minimum every procedure you write should include a comment explaining what that method does. The program as a whole should include a comment saying what it does overall.\n",
    "\n",
    "In all the exercises below make sure you add comments that clearly and accurately describe what EVERY method is doing.\n"
   ]
  },
  {
   "cell_type": "markdown",
   "metadata": {},
   "source": [
    "### Exercise 14<a id=\"Exercise14\"></a>\n",
    "Now modify the version below to say a different greeting and also say goodbye in a different way.\n",
    "Add a third procedure that makes it say something interesting AFTER the greeting but BEFORE it signs off. eg it might say \n",
    "```\n",
    "Say something nice to everyone you meet. \n",
    "(They will think you are mad!)\n",
    "```\n",
    "Don't forget to include the **procedure call** to your new procedure."
   ]
  },
  {
   "cell_type": "code",
   "execution_count": null,
   "metadata": {},
   "outputs": [],
   "source": [
    "// A simple chatbot that says hello...and then goodbye\n",
    "\n",
    "\n",
    "// Print a greeting (a hello message)\n",
    "//\n",
    "public static void helloMessage ()\n",
    "{\n",
    "    System.out.println(\"Hello\");\n",
    "    return;\n",
    "} // END helloMessage\n",
    "\n",
    "// Print a salutation (a goodbye message)\n",
    "//\n",
    "public static void goodbyeMessage ()\n",
    "{\n",
    "    System.out.println(\"Goodbye\");\n",
    "    return;\n",
    "} // END goodbyeMessage\n",
    "\n",
    "// A friendly chatbot that greets and says goodbye\n",
    "//\n",
    "public static void mychatbot ()\n",
    "{\n",
    "    helloMessage();\n",
    "    goodbyeMessage();\n",
    "    return;\n",
    "} // END hellomessage\n",
    "\n",
    "mychatbot();"
   ]
  },
  {
   "cell_type": "markdown",
   "metadata": {},
   "source": [
    "**NOW READ THE ANSWER** [Click here to jump to the solution to Exercise 14.](#Solution14)"
   ]
  },
  {
   "cell_type": "markdown",
   "metadata": {},
   "source": [
    "## Ask your name\n",
    "### Exercise 15<a id=\"Exercise15\"></a>\n",
    "The following fragment of code asks a question.\n",
    "\n",
    "See if you can work out some of how it does that.\n",
    "\n",
    "Then **Compile and run** the fragment of code (by clicking in the box with the code and then pressing the **Run** button in the Toolbar above) to see what it does. The result of running it will appear below the code.\n",
    "\n",
    "You need to type your name when the program asks then **press the ENTER key.**"
   ]
  },
  {
   "cell_type": "code",
   "execution_count": null,
   "metadata": {},
   "outputs": [],
   "source": [
    "// Ask a question and repeat the answer\n",
    "public static void askQuestion0 ()\n",
    "{\n",
    "    String yourname;\n",
    "    Scanner scanner = new Scanner(System.in);\n",
    "    \n",
    "    System.out.println(\"What's your name?\");\n",
    "    yourname = scanner.nextLine();\n",
    "    \n",
    "    System.out.println(\"So your name is \" + yourname);\n",
    "\n",
    "    return;\n",
    "} // END askQuestion0\n",
    "\n",
    "askQuestion0();"
   ]
  },
  {
   "cell_type": "markdown",
   "metadata": {},
   "source": [
    "**NOW READ THE ANSWER** [Click here to jump to the solution to Exercise 15.](#Solution15)"
   ]
  },
  {
   "cell_type": "markdown",
   "metadata": {},
   "source": [
    "### Exercise 16<a id=\"Exercise16\"></a>\n",
    "Compile-Run the above several times, typing in different things into the box each time you are asked for a name. Several of the lines here are just commands you have seen before, just printing messages to the screen.\n",
    "\n",
    "How do you think the thing you type ends up appearing in the printed message in the place where it does? Explain it as best you can below.\n"
   ]
  },
  {
   "cell_type": "markdown",
   "metadata": {},
   "source": [
    "**Write your explanation here (you need to double click on this box to make it editable)**\n"
   ]
  },
  {
   "cell_type": "markdown",
   "metadata": {},
   "source": [
    "**NOW READ THE ANSWER** [Click here to jump to the solution to Exercise 16.](#Solution16)"
   ]
  },
  {
   "cell_type": "markdown",
   "metadata": {},
   "source": [
    "## Variables\n",
    "\n",
    "yourname here is a **variable** which just means it is a named place for your program to store data (data like the thing you typed). \n",
    "\n",
    "Take a minute to reflect on what you know about variables. This could be from maths, or from other programming languages. Programming variables are similar to, but not exactly the same as maths ones, so be careful!\n",
    "\n",
    "The line\n",
    "```java\n",
    "name = scanner.nextLine();\n",
    "```\n",
    "takes the thing you type each time and stores it in the variable called name.\n",
    "The later line:\n",
    "```java\n",
    "System.out.println(\"So your name is \" + name);\n",
    "```\n",
    "places the value stored in the right place in the message.  It glues together the characters between the quotes \n",
    "```java\n",
    "\"So your name is \" \n",
    "```\n",
    "with whatever is stored in name. In programming this \"glueing\" together is called **concatention**. \n",
    "\n",
    "You choose the name of the variable (it can be more or less any word and include numbers) but must use it consistently so the program knows which storage space you mean."
   ]
  },
  {
   "cell_type": "markdown",
   "metadata": {},
   "source": [
    "### Exercise 17<a id=\"Exercise17\"></a>\n",
    "\n",
    "The following fragment of code asks the user of the program two questions, and uses the answer to each question in later lines. Read it, predict exactly what it will do and then compile-run it to see if you are right. "
   ]
  },
  {
   "cell_type": "code",
   "execution_count": null,
   "metadata": {},
   "outputs": [],
   "source": [
    "// Ask two questions and summarise the answers\n",
    "public static void askQuestion1 ()\n",
    "{\n",
    "    String name;\n",
    "    String colour;\n",
    "    Scanner scanner = new Scanner(System.in);\n",
    "    \n",
    "    System.out.println(\"What's your name?\");\n",
    "    name = scanner.nextLine();\n",
    "\n",
    "    System.out.println(\"What's your favourite colour?\");\n",
    "    colour = scanner.nextLine();\n",
    "\n",
    "    System.out.println(\"Your name is \" + name + \" and you like \" + colour);\n",
    "\n",
    "    return;\n",
    "} // END askQuestion1\n",
    "\n",
    "askQuestion1();"
   ]
  },
  {
   "cell_type": "markdown",
   "metadata": {},
   "source": [
    "**Write your explanation here.**"
   ]
  },
  {
   "cell_type": "markdown",
   "metadata": {},
   "source": [
    "**NOW READ THE ANSWER** [Click here to jump to the solution to Exercise 17.](#Solution17)"
   ]
  },
  {
   "cell_type": "markdown",
   "metadata": {},
   "source": [
    "## Variable Declaration\n",
    "\n",
    "Do you know how a variable is created? If you have done any Python programming you may expect it to happen automatically. In Java you must explicitly write commands to create them.\n",
    "\n",
    "Variables have to be **declared** to create them. This is like putting an ingredient list at the start of a recipe. You need to tell the computer the variables you need so it can get them ready (ie create) them for you. Declaring variable also makes programs easier to read and understand so is a really good thing.\n",
    "```\n",
    "    String name;\n",
    "```\n",
    "declares (ie creates) a variable called name.\n",
    "\n",
    "```\n",
    "    String colour;\n",
    "```\n",
    "declares (ie creates) a variable called colour.\n",
    "\n",
    "Declarations go at the start of a method.\n",
    "\n",
    "Variables should always be given names that make clear what they are used for. If you add a new variable or change its name, remember to make sure you declare it!\n",
    "\n",
    "Declaration is another key concept, worth making a note about, if it is new to you."
   ]
  },
  {
   "cell_type": "markdown",
   "metadata": {},
   "source": [
    "### Exercise 18<a id=\"Exercise18\"></a>\n",
    "Edit the version below to ask a series of questions, asking for words such as favourite colour, colour of eyes, etc then uses **string concatenation** (that is the + symbol as in the print statement above ... which glues bits of text together to make longer bits of text). You should use the string concatenation to put them into a single sentence describing the person, eg after getting information from me it might print:\n",
    "```\n",
    "Paul has blue eyes and brown hair, likes the colour red and is very handsome.\n",
    "```\n",
    "\n",
    "HINT: if when you compile-run your program you get error messages, look carefully at whether you are missing symbols like + or \". Remember that actual text to be printed has to be surronded by quotes (\"...\") and to join bits of text you put + BETWEEN them (eg \"Hello\" + name) just like putting + between things you want to add (like 2 + 3)."
   ]
  },
  {
   "cell_type": "code",
   "execution_count": null,
   "metadata": {},
   "outputs": [],
   "source": [
    "// Ask multiple questions and summarise what learnt\n",
    "public static void askQuestion2 ()\n",
    "{\n",
    "    String name;\n",
    "    String colour;\n",
    "    Scanner scanner = new Scanner(System.in);\n",
    "    \n",
    "    System.out.println(\"What's your name?\");\n",
    "    name = scanner.nextLine();\n",
    "\n",
    "    System.out.println(\"What's your favourite colour?\");\n",
    "    colour = scanner.nextLine();\n",
    "\n",
    "    System.out.println(\"Your name is \" + name + \" and you like \" + colour);\n",
    "\n",
    "    return;\n",
    "} // END askQuestion2\n",
    "\n",
    "askQuestion2();"
   ]
  },
  {
   "cell_type": "markdown",
   "metadata": {},
   "source": [
    "**NOW READ THE ANSWER** [Click here to jump to the solution to Exercise 18.](#Solution18)"
   ]
  },
  {
   "cell_type": "markdown",
   "metadata": {},
   "source": [
    "### Exercise 19<a id=\"Exercise19\"></a>\n",
    "Modify the program below to pretend it is a new student and asks what subject you are doing and where you come from. It should in each case make some comment about the answers. The bold parts indicate the answers typed in the box. \n",
    "eg\n",
    "```\n",
    "Hi. What subject do you do?\n",
    "```\n",
    "**Electronic Engineering**\n",
    "```\n",
    "I nearly did Electronic Engineering but in the end I went for Linguistics.\n",
    "Where are you from? \n",
    "```\n",
    "**Liverpool**\n",
    "```\n",
    "Is Liverpool nice? I’ve never been there. \n",
    "```\n",
    "HINT: Be careful about spaces. Make sure they appear where needed. \n",
    "Give your variables names that make clear what they are for. Also remember to declare each variable."
   ]
  },
  {
   "cell_type": "code",
   "execution_count": null,
   "metadata": {},
   "outputs": [],
   "source": [
    "// Ask a series of questions responding to answers\n",
    "public static void askQuestion3 ()\n",
    "{\n",
    "    String name;\n",
    "    String colour;\n",
    "    \n",
    "    Scanner scanner = new Scanner(System.in);\n",
    "    \n",
    "    System.out.println(\"What's your name?\");\n",
    "    name = scanner.nextLine();\n",
    "\n",
    "    System.out.println(\"Your name is \" + name);\n",
    "\n",
    "    System.out.println(\"What's your favourite colour, \" + name + \"?\");\n",
    "    colour = scanner.nextLine();\n",
    "\n",
    "    System.out.println(colour + \"! That's nice\");\n",
    "\n",
    "    return;\n",
    "} // END askQuestion3\n",
    "\n",
    "askQuestion3();"
   ]
  },
  {
   "cell_type": "markdown",
   "metadata": {},
   "source": [
    "**NOW READ THE ANSWER** [Click here to jump to the solution to Exercise 19.](#Solution19)"
   ]
  },
  {
   "cell_type": "markdown",
   "metadata": {},
   "source": [
    "### Exercise 20<a id=\"Exercise20\"></a>\n",
    "Put what we have seen together now into a new version of your chatbot - add the code from your procedure to ask questions into the askQuestions procedure below. Make sure it works."
   ]
  },
  {
   "cell_type": "code",
   "execution_count": null,
   "metadata": {},
   "outputs": [],
   "source": [
    "// A simple chatbot that says hello, asks a question and then says goodbye\n",
    "\n",
    "// Print a greeting (a hello message)\n",
    "//\n",
    "public static void helloMessage ()\n",
    "{\n",
    "    System.out.println(\"Hello.\");\n",
    "    return;\n",
    "} // END helloMessage\n",
    "\n",
    "// Ask a question and respond to the answer\n",
    "//\n",
    "public static void askQuestion ()\n",
    "{\n",
    "    // ASK A QUESTION HERE\n",
    "    \n",
    "    return;\n",
    "} // END askQuestions\n",
    "\n",
    "// Print a salutation (a goodbye message)\n",
    "//\n",
    "public static void goodbyeMessage ()\n",
    "{\n",
    "    System.out.println(\"Goodbye\");\n",
    "    return;\n",
    "} // END goodbyeMessage\n",
    "\n",
    "// A friendly chatbot that greets, asks a question and says goodbye\n",
    "//\n",
    "public static void mychatbot3 ()\n",
    "{\n",
    "    helloMessage();\n",
    "    askQuestion();\n",
    "    goodbyeMessage();\n",
    "    return;\n",
    "} // END hellomessage\n",
    "\n",
    "mychatbot3();"
   ]
  },
  {
   "cell_type": "markdown",
   "metadata": {},
   "source": [
    "**NOW READ THE ANSWER** [Click here to jump to the solution to Exercise 20.](#Solution20)"
   ]
  },
  {
   "cell_type": "markdown",
   "metadata": {},
   "source": [
    "### Exercise 21<a id=\"Exercise21\"></a>\n",
    "Edit your version of the chatbot now to ask a series of questions so have conversations like this:\n",
    "```\n",
    "Hello, My name is Chatty. I’m a chatbot. \n",
    "What’s your name?\n",
    "```\n",
    "**Hamish**\n",
    "```\n",
    "Hi there Hamish.  How are you?\n",
    "```\n",
    "**I'm very well thanks.**\n",
    "```\n",
    "I'm glad to hear it Hamish. \n",
    "What subject are you doing?\n",
    "```\n",
    "**Computer Science**\n",
    "```\n",
    "I nearly took Computer Science but in the end I went for Linguistics.\n",
    "What type of music do you like?\n",
    "```\n",
    "**Heavy metal**\n",
    "```\n",
    "I like Heavy metal music too.  \n",
    "Do computers worry you?\n",
    "```\n",
    "**No**\n",
    "```\n",
    "Why do you say No?\n",
    "```\n",
    "**Because I use them all the time.**\n",
    "```\n",
    "Really? I think that too!\n",
    "Oops. Thats my phone, I have to go now.  I've enjoyed talking with you.\n",
    "```\n",
    "\n",
    "You may want to ignore the template below cut and paste your previous program into the empty box and start with that instead.\n"
   ]
  },
  {
   "cell_type": "code",
   "execution_count": null,
   "metadata": {},
   "outputs": [],
   "source": [
    "// An empty box to use if you wish\n"
   ]
  },
  {
   "cell_type": "code",
   "execution_count": null,
   "metadata": {},
   "outputs": [],
   "source": [
    "// A simple chatbot that says hello, asks a question and then says goodbye\n",
    "\n",
    "// Print a greeting (a hello message)\n",
    "//\n",
    "public static void helloMessage ()\n",
    "{\n",
    "    System.out.println(\"Hello\");\n",
    "    return;\n",
    "} // END helloMessage\n",
    "\n",
    "// Ask questions and respond to the answers\n",
    "//\n",
    "public static void askQuestion ()\n",
    "{\n",
    "    // ASK A QUESTION HERE\n",
    "\n",
    "    return;\n",
    "} // END askQuestions\n",
    "\n",
    "\n",
    "// Print a salutation (a goodbye message)\n",
    "//\n",
    "public static void goodbyeMessage ()\n",
    "{\n",
    "    System.out.println(\"Oh, no ... I'm disappearing\");\n",
    "    return;\n",
    "} // END goodbyeMessage\n",
    "\n",
    "// A friendly chatbot that greets, asks questions, responds to answers and says goodbye\n",
    "//\n",
    "public static void mychatbot4 ()\n",
    "{\n",
    "    helloMessage();\n",
    "    askQuestions();\n",
    "    goodbyeMessage();\n",
    "    return;\n",
    "} // END hellomessage\n",
    "\n",
    "mychatbot4();"
   ]
  },
  {
   "cell_type": "markdown",
   "metadata": {},
   "source": [
    "**NOW READ THE ANSWER** [Click here to jump to the solution to Exercise 21.](#Solution21)"
   ]
  },
  {
   "cell_type": "markdown",
   "metadata": {},
   "source": [
    "## Your Summary\n",
    "### Exercise 22<a id=\"Exercise22\"></a>\n",
    "Write a short summary of the main things you have learnt before you read on. (My summary of some key points is in the solutions at the very end, but you will learn better if you have a go at writing your own first.)"
   ]
  },
  {
   "cell_type": "markdown",
   "metadata": {},
   "source": [
    "**Write your summary here (you need to double click on this box to make it editable)**\n"
   ]
  },
  {
   "cell_type": "markdown",
   "metadata": {},
   "source": [
    "## What next?\n",
    "\n",
    "It is important to realise that the above are actually not proper Java programs just fragments. We will get to what a full Java program is like in a later lab.\n",
    "\n",
    "*Make sure you are happy: you understand and can modify these programs to print other messages before moving on.*\n",
    "\n",
    "IF you found this very easy because you have programmed before and are confident\n",
    "THEN try the UNIT 0-1 Notebook (Going Further ...) in the UNIT 0 folder of the Jupyter server.\n",
    "OTHERWISE we will be moving on to UNIT 1 next."
   ]
  },
  {
   "cell_type": "markdown",
   "metadata": {},
   "source": [
    "YOU MAY WISH TO SAVE A COPY OF YOUR WORK USING (IN THE BROWSER WINDOW TOOLBAR) File-Make a Copy (to make a copy on the server) or File-Download (to save a local version as a notebook).   \n",
    "\n",
    "You can also save what you have as a pdf to get a fixed readable document version of your work. \n",
    "\n",
    "Note you can only view a downloaded notebook if saved as a notebook (.ipynb) file on a Jupyter Server like the QMUL one."
   ]
  },
  {
   "cell_type": "markdown",
   "metadata": {},
   "source": [
    "**NOW READ THE ANSWER** [Click here to jump to my solution to Exercise 22.](#Solution22)"
   ]
  },
  {
   "cell_type": "markdown",
   "metadata": {},
   "source": [
    "## Solutions\n",
    "\n",
    "### Solution to Exercise 1<a id=\"Solution1\"></a>\n",
    "It prints\n",
    "```\n",
    "Hello World\n",
    "```\n",
    "[Return to Exercise](#Exercise1)"
   ]
  },
  {
   "cell_type": "markdown",
   "metadata": {},
   "source": [
    "### Solution to Exercise 2<a id=\"Solution2\"></a>\n",
    "\n",
    "The line that makes it print that message is:"
   ]
  },
  {
   "cell_type": "code",
   "execution_count": null,
   "metadata": {},
   "outputs": [],
   "source": [
    "System.out.println(\"Hello World\");"
   ]
  },
  {
   "cell_type": "markdown",
   "metadata": {},
   "source": [
    "[Return to Exercise](#Exercise2)"
   ]
  },
  {
   "cell_type": "markdown",
   "metadata": {},
   "source": [
    "### Solution to Exercise 3<a id=\"Solution3\"></a>\n",
    "\n",
    "Change the word World to Paul\n"
   ]
  },
  {
   "cell_type": "code",
   "execution_count": null,
   "metadata": {},
   "outputs": [],
   "source": [
    "// Print a simple message\n",
    "public static void helloMessage2 ()\n",
    "{\n",
    "    System.out.println(\"Hello Paul\");\n",
    "    return;\n",
    "} // END helloMessage2\n",
    "\n",
    "helloMessage2();"
   ]
  },
  {
   "cell_type": "markdown",
   "metadata": {},
   "source": [
    "[Return to Exercise](#Exercise3)"
   ]
  },
  {
   "cell_type": "markdown",
   "metadata": {},
   "source": [
    "### Solution to Exercise 4<a id=\"Solution4\"></a>\n",
    "\n",
    "Change the word World to your name (eg if you are called Usman ...)"
   ]
  },
  {
   "cell_type": "code",
   "execution_count": null,
   "metadata": {},
   "outputs": [],
   "source": [
    "public static void helloMessage3 ()\n",
    "{\n",
    "        System.out.println(\"Hello Usman\");\n",
    "        return;\n",
    "} // END helloMessage3\n",
    "\n",
    "helloMessage4();"
   ]
  },
  {
   "cell_type": "markdown",
   "metadata": {},
   "source": [
    "[Return to Exercise](#Exercise4)"
   ]
  },
  {
   "cell_type": "markdown",
   "metadata": {},
   "source": [
    "### Solution to Exercise 5<a id=\"Solution5\"></a>\n",
    "Change the words in the quotation marks \"...\" to the thing you want the program to print\n",
    "eg to print \n",
    "```\n",
    "I just want to scream...Arghhhhh!!!!!!\n",
    "```\n",
    "you would write"
   ]
  },
  {
   "cell_type": "code",
   "execution_count": null,
   "metadata": {},
   "outputs": [],
   "source": [
    "public static void helloMessage4 ()\n",
    "{\n",
    "        System.out.println(\"I just want to scream...Arghhhhh!!!!!!\");\n",
    "        return;\n",
    "} // END helloMessage4\n",
    "\n",
    "helloMessage4();"
   ]
  },
  {
   "cell_type": "markdown",
   "metadata": {},
   "source": [
    "[Return to Exercise](#Exercise5)"
   ]
  },
  {
   "cell_type": "markdown",
   "metadata": {},
   "source": [
    "### Solution to Exercise 6<a id=\"Solution6\"></a>\n",
    "Nothing should have visibly happened when you hit Run. Something did happen though. The method helloMessage5 was added to the program so that later you can call it.\n",
    "\n",
    "[Return to Exercise](#Exercise6)"
   ]
  },
  {
   "cell_type": "markdown",
   "metadata": {},
   "source": [
    "### Solution to Exercise 7<a id=\"Solution7\"></a>\n",
    "\n",
    "As the procedure was  created in the previous step, calling it now just executed it. It prints\n",
    "```\n",
    "I'm alive!\n",
    "```\n",
    "\n",
    "[Return to Exercise](#Exercise7)"
   ]
  },
  {
   "cell_type": "markdown",
   "metadata": {},
   "source": [
    "### Solution to Exercise 8<a id=\"Solution8\"></a>\n",
    "The two words are now printed on separate lines:\n",
    "```\n",
    "Hello\n",
    "World\n",
    "```\n",
    "Each call to System.out.println() prints the message and then moves on to a new line\n",
    "\n",
    "[Return to Exercise](#Exercise8)"
   ]
  },
  {
   "cell_type": "markdown",
   "metadata": {},
   "source": [
    "### Solution to Exercise 9<a id=\"Solution9\"></a>\n",
    "As there are two instructions to print the message it will be printed twice (once per line)\n",
    "\n",
    "```\n",
    "Hello World\n",
    "Hello World\n",
    "```\n",
    "[Return to Exercise](#Exercise9)"
   ]
  },
  {
   "cell_type": "markdown",
   "metadata": {},
   "source": [
    "### Solution to Exercise 10<a id=\"Solution10\"></a>\n",
    "\n",
    "The procedure itself prints Hello World twice. That means if it is called once the message is printed twice, but here it is called twice, each time doing that. So in total it is printed 4 times.\n",
    "\n",
    "```\n",
    "Hello World\n",
    "Hello World\n",
    "Hello World\n",
    "Hello World\n",
    "```\n",
    "[Return to Exercise](#Exercise10)"
   ]
  },
  {
   "cell_type": "markdown",
   "metadata": {},
   "source": [
    "### Solution to Exercise 11<a id=\"Solution11\"></a>\n",
    "You just need to add 5 calls to the procedure, each call printing your name once."
   ]
  },
  {
   "cell_type": "code",
   "execution_count": null,
   "metadata": {},
   "outputs": [],
   "source": [
    "// Print a simple message\n",
    "public static void helloMessage9 ()\n",
    "{\n",
    "        System.out.println(\"Hello Paul\");\n",
    "        return;\n",
    "} // END helloMessage9\n",
    "\n",
    "helloMessage9();\n",
    "helloMessage9();\n",
    "helloMessage9();\n",
    "helloMessage9();\n",
    "helloMessage9();"
   ]
  },
  {
   "cell_type": "markdown",
   "metadata": {},
   "source": [
    "[Return to Exercise](#Exercise11)"
   ]
  },
  {
   "cell_type": "markdown",
   "metadata": {},
   "source": [
    "### Solution to Exercise 12<a id=\"Solution12\"></a>\n",
    "\n",
    "// A simple chatbot that just says introduces itself and says hello...\n"
   ]
  },
  {
   "cell_type": "code",
   "execution_count": null,
   "metadata": {},
   "outputs": [],
   "source": [
    "public static void chatbot1 ()\n",
    "{\n",
    "        System.out.println(\"My name is Chatty.\");\n",
    "        System.out.println(\"I am a chatbot.\");\n",
    "        System.out.println(\"Hello.\");\n",
    "        return;\n",
    "} // END chatbot1\n",
    "\n",
    "chatbot1();"
   ]
  },
  {
   "cell_type": "markdown",
   "metadata": {},
   "source": [
    "[Return to Exercise](#Exercise12)"
   ]
  },
  {
   "cell_type": "markdown",
   "metadata": {},
   "source": [
    "### Solution to Exercise 13<a id=\"Solution13\"></a>\n",
    "It prints\n",
    "\n",
    "```\n",
    "Hello\n",
    "Goodbye\n",
    "```\n",
    "\n",
    "as the procedure HelloMessage is called first and then the procedure GoodbyeMessage.\n",
    "\n",
    "[Return to Exercise](#Exercise13)"
   ]
  },
  {
   "cell_type": "markdown",
   "metadata": {},
   "source": [
    "### Solution to Exercise 14<a id=\"Solution14\"></a>\n",
    "\n",
    "We need to add a new method (mine is called interestingMessage) and add a call to it between the other two calls.\n"
   ]
  },
  {
   "cell_type": "code",
   "execution_count": null,
   "metadata": {},
   "outputs": [],
   "source": [
    "// A simple chatbot that says hello...and then goodbye\n",
    "\n",
    "// Print a greeting (a hello message)\n",
    "//\n",
    "public static void helloMessage ()\n",
    "{\n",
    "    System.out.println(\"Hello\");\n",
    "    return;\n",
    "} // END helloMessage\n",
    "\n",
    "// Print something interesting\n",
    "//\n",
    "public static void interestingMessage ()\n",
    "{\n",
    "    System.out.println(\"Say something nice to everyone you meet.\");\n",
    "    System.out.println(\"(They will think you are mad!)\");\n",
    "    return;\n",
    "} // END interestingMessage\n",
    "\n",
    "// Print a salutation (a goodbye message)\n",
    "//\n",
    "public static void goodbyeMessage ()\n",
    "{\n",
    "    System.out.println(\"Goodbye\");\n",
    "    return;\n",
    "} // END goodbyeMessage\n",
    "\n",
    "// A friendly chatbot that greets and says goodbye\n",
    "//\n",
    "public static void mychatbot ()\n",
    "{\n",
    "    helloMessage();\n",
    "    interestingMessage();\n",
    "    goodbyeMessage();\n",
    "    return;\n",
    "} // END hellomessage\n",
    "\n",
    "mychatbot();"
   ]
  },
  {
   "cell_type": "markdown",
   "metadata": {},
   "source": [
    "[Return to Exercise](#Exercise14)"
   ]
  },
  {
   "cell_type": "markdown",
   "metadata": {},
   "source": [
    "### Solution to Exercise 15<a id=\"Solution15\"></a>\n",
    "It prints\n",
    "```\n",
    "What's your name?\n",
    "Paul\n",
    "So your name is Paul\n",
    "```\n",
    "The two println commands just print messages. Between them the command\n",
    "```java\n",
    "name = scanner.nextLine();\n",
    "```\n",
    "asks the user to type something waiting until they do. Whatever they type is stored as name. It is then \n",
    "used in the last print statement to print what the user typed in the right place.\n",
    "\n",
    "[Return to Exercise](#Exercise15)"
   ]
  },
  {
   "cell_type": "markdown",
   "metadata": {},
   "source": [
    "### Solution to Exercise 16<a id=\"Solution16\"></a>\n",
    "The value typed by the user is stored into a variable (a storage space) called name by the part of the instruction.\n",
    "```\n",
    "name = ...\n",
    "```\n",
    "We can then get it back just by giving name in place we want it to be. We wanted it at the end of the message so wrote:\n",
    "```java\n",
    "System.out.println(\"So your name is \" + name);\n",
    "```\n",
    "Alternatively if we had written\n",
    "wrote:\n",
    "```java\n",
    "System.out.println(\"Hello \" + name + \" nice to meet you\");\n",
    "```\n",
    "then whatever typed would have appeared in the middle. eg If I typed Rene when asked, this would print\n",
    "\n",
    "```\n",
    "Hello Rene nice to meet you\n",
    "```\n",
    "\n",
    "Notice how the things that are printed exactly as writtten are enclosed in quotes. Variables are not.\n",
    "The separate parts of the text being constructed to print are glued together with the + (concatenation) operator.\n",
    "\n",
    "As long as you are consistent this variable could be called anything. It is just a way of referring to the data without knowing when you write the program exactly what it will be. So we could have for example written\n",
    "\n",
    "```java\n",
    "String person;\n",
    "...\n",
    "person = scanner.nextLine();\n",
    "System.out.println(\"So your name is \" + person);\n",
    "```\n",
    "and it would do exactly the same as the original.\n",
    "\n",
    "[Return to Exercise](#Exercise16)"
   ]
  },
  {
   "cell_type": "markdown",
   "metadata": {},
   "source": [
    "### Solution to Exercise 17<a id=\"Solution17\"></a>\n",
    "If you typed Faiza and Red when asked it would be\n",
    "\n",
    "```\n",
    "What's your name?\n",
    "```\n",
    "**Faiza**\n",
    "```\n",
    "What's your favourite colour?\n",
    "```\n",
    "**Red**\n",
    "```\n",
    "Your name is Faiza and you like Red\n",
    "```\n",
    "[Return to Exercise](#Exercise17)"
   ]
  },
  {
   "cell_type": "markdown",
   "metadata": {},
   "source": [
    "### Solution to Exercise 18<a id=\"Solution18\"></a>"
   ]
  },
  {
   "cell_type": "code",
   "execution_count": null,
   "metadata": {},
   "outputs": [],
   "source": [
    "// Ask multiple questions and summarise what learnt\n",
    "public static void askQuestion2 ()\n",
    "{\n",
    "    String name;\n",
    "    String eyecolour;\n",
    "    String haircolour;\n",
    "    String handsome_or_ugly;\n",
    "    \n",
    "    Scanner scanner = new Scanner(System.in);\n",
    "    \n",
    "    System.out.println(\"What's your name?\");\n",
    "    name = scanner.nextLine();\n",
    "\n",
    "    System.out.println(\"What colour are your eyes?\");\n",
    "    eyecolour = scanner.nextLine();\n",
    "\n",
    "    System.out.println(\"What colour is your hair?\");\n",
    "    haircolour = scanner.nextLine();\n",
    "\n",
    "    System.out.println(\"Are you handsome or ugly (type one or the other)?\");\n",
    "    handsome_or_ugly = scanner.nextLine();\n",
    "\n",
    "    System.out.println(name + \" has \" + \n",
    "                       eyecolour + \" eyes and \" + \n",
    "                       haircolour + \" hair,\" + \n",
    "                       \" and is very \" + handsome_or_ugly + \".\");\n",
    "\n",
    "    return;\n",
    "} // END askQuestion2\n",
    "\n",
    "askQuestion2();"
   ]
  },
  {
   "cell_type": "markdown",
   "metadata": {},
   "source": [
    "This might lead to a run that went, for example.\n",
    "```\n",
    "What's your name?\n",
    "```\n",
    "Amir\n",
    "```\n",
    "What colour are your eyes?\n",
    "```\n",
    "Brown\n",
    "```\n",
    "What colour is your hair?\n",
    "```\n",
    "Black\n",
    "```\n",
    "Are you handsome or ugly (type one or the other)?\n",
    "```\n",
    "handsome\n",
    "```\n",
    "Amir has Brown eyes and Black hair, and is very handsome.\n",
    "```\n",
    "[Return to Exercise](#Exercise18)"
   ]
  },
  {
   "cell_type": "markdown",
   "metadata": {},
   "source": [
    "### Solution to Exercise 19<a id=\"Solution19\"></a>\n"
   ]
  },
  {
   "cell_type": "code",
   "execution_count": null,
   "metadata": {},
   "outputs": [],
   "source": [
    "// Ask a series of questions responding to answers\n",
    "public static void askQuestion3 ()\n",
    "{\n",
    "    String subject;\n",
    "    String home;\n",
    "    \n",
    "    Scanner scanner = new Scanner(System.in);\n",
    "    \n",
    "    System.out.println(\"Hi. What subject do you do?\");\n",
    "    subject = scanner.nextLine();\n",
    "\n",
    "    System.out.println(\"I nearly did \" + subject + \" but in the end I went for Linguistics.\");\n",
    "    \n",
    "    System.out.println(\"Where are you from?\");\n",
    "    home = scanner.nextLine();\n",
    "\n",
    "    System.out.println(\"Is \" + home + \" nice? I’ve never been there.\");\n",
    "\n",
    "    return;\n",
    "} // END askQuestion3\n",
    "\n",
    "askQuestion3();"
   ]
  },
  {
   "cell_type": "markdown",
   "metadata": {},
   "source": [
    "[Return to Exercise](#Exercise19)"
   ]
  },
  {
   "cell_type": "markdown",
   "metadata": {},
   "source": [
    "### Solution to Exercise 20<a id=\"Solution20\"></a>"
   ]
  },
  {
   "cell_type": "code",
   "execution_count": null,
   "metadata": {},
   "outputs": [],
   "source": [
    "// A simple chatbot that says hello, asks a question and then says goodbye\n",
    "\n",
    "// Print a greeting (a hello message)\n",
    "//\n",
    "public static void helloMessage ()\n",
    "{\n",
    "    System.out.println(\"Hello. My name is Chatty.\");\n",
    "    System.out.println(\"I am a chatbot.\");\n",
    "    return;\n",
    "} // END helloMessage\n",
    "\n",
    "// Ask a question and respond to the answer\n",
    "//\n",
    "public static void askQuestion ()\n",
    "{\n",
    "    String subject;\n",
    "    \n",
    "    Scanner scanner = new Scanner(System.in);\n",
    "    System.out.println(\"Hi. What subject do you do?\");\n",
    "    subject = scanner.nextLine();\n",
    "\n",
    "    System.out.println(\"I nearly did \" + subject + \" but in the end I went for Linguistics.\");\n",
    "           \n",
    "    return;\n",
    "} // END askQuestions\n",
    "\n",
    "// Print a salutation (a goodbye message)\n",
    "//\n",
    "public static void goodbyeMessage ()\n",
    "{\n",
    "    System.out.println(\"Sorry. That was the doorbell. Got to Go. Bye.\");\n",
    "    return;\n",
    "} // END goodbyeMessage\n",
    "\n",
    "// A friendly chatbot that greets, asks a question and says goodbye\n",
    "//\n",
    "public static void mychatbot3 ()\n",
    "{\n",
    "    helloMessage();\n",
    "    askQuestion();\n",
    "    goodbyeMessage();\n",
    "    return;\n",
    "} // END hellomessage\n",
    "\n",
    "mychatbot3();"
   ]
  },
  {
   "cell_type": "markdown",
   "metadata": {},
   "source": [
    "[Return to Exercise](#Exercise20)"
   ]
  },
  {
   "cell_type": "markdown",
   "metadata": {},
   "source": [
    "### Solution to Exercise 21<a id=\"Solution21\"></a>\n"
   ]
  },
  {
   "cell_type": "code",
   "execution_count": null,
   "metadata": {},
   "outputs": [],
   "source": [
    "// A simple chatbot that says hello, asks questions and then says goodbye\n",
    "\n",
    "// Print a greeting (a hello message)\n",
    "//\n",
    "public static void helloMessage ()\n",
    "{\n",
    "    System.out.println(\"Hello. My name is Chatty. I'm a chatbot.\");\n",
    "    return;\n",
    "} // END helloMessage\n",
    "\n",
    "// Ask questions and respond to the answers\n",
    "//\n",
    "public static void askQuestions ()\n",
    "{\n",
    "    String name;\n",
    "    String howareyou;\n",
    "    String subject;\n",
    "    String music;\n",
    "    String worry;\n",
    "    String reason;\n",
    "\n",
    "    Scanner scanner = new Scanner(System.in);\n",
    "     \n",
    "    System.out.println(\"What’s your name?\");\n",
    "    name = scanner.nextLine();\n",
    "    \n",
    "    System.out.println(\"Hi there \" + name + \" How are you?\");\n",
    "    howareyou = scanner.nextLine();\n",
    "\n",
    "    System.out.println(\"I'm glad to hear it \" + name + \".\");\n",
    "    \n",
    "    System.out.println(\"What subject are you doing?\");\n",
    "    subject = scanner.nextLine();\n",
    "\n",
    "    System.out.println(\"I nearly took \" + subject + \" but in the end I went for Linguistics.\");\n",
    "\n",
    "    System.out.println(\"What type of music do you like?\");\n",
    "    music = scanner.nextLine();\n",
    "\n",
    "    System.out.println(\"I like \" + music + \" music too.\");\n",
    "    System.out.println(\"Do computers worry you?\");\n",
    "    worry = scanner.nextLine();\n",
    "\n",
    "    System.out.println(\"Why do you say \" + worry + \"?\");\n",
    "    reason = scanner.nextLine();\n",
    "    System.out.println(\"Really? I think that too!\");\n",
    "\n",
    "    return;\n",
    "} // END askQuestions\n",
    "\n",
    "// Print a salutation (a goodbye message)\n",
    "//\n",
    "public static void goodbyeMessage ()\n",
    "{\n",
    "    System.out.println(\"Oops. Thats my phone, I have to go now.  I've enjoyed talking with you.\");\n",
    "    return;\n",
    "} // END goodbyeMessage\n",
    "\n",
    "// A friendly chatbot that greets, asks a question and says goodbye\n",
    "//\n",
    "public static void mychatbot4 ()\n",
    "{\n",
    "    helloMessage();\n",
    "    askQuestions();\n",
    "    goodbyeMessage();\n",
    "    return;\n",
    "} // END hellomessage\n",
    "\n",
    "mychatbot4();"
   ]
  },
  {
   "cell_type": "markdown",
   "metadata": {},
   "source": [
    "[Return to Exercise](#Exercise21)"
   ]
  },
  {
   "cell_type": "markdown",
   "metadata": {},
   "source": [
    "### Solution to Exercise 22  (Summary)<a id=\"Solution22\"></a>\n",
    "\n",
    "- A program consists of commands to be followed in a specific order.\n",
    "    - These commands are grouped into procedures (which are also known as methods)\n",
    "- The command to print a message to the screen is System.out.println\n",
    "    - it is just a procedure that is already defined for you to use\n",
    "    - Place the message to be printed in quotes inside the () of the call of System.out.println\n",
    "    - After printing the message the program moves onto a next line ready to print the next thing.\n",
    "- The command to ask a question of the user (input) is scanner.nextLine();\n",
    "    - the value that the user types is stored in a variable\n",
    "    - a variable is just a named storage place\n",
    "    - Once something is stored in a variable, you can get the value back using the name of the variable\n",
    "- A program is made up of lots of procedure definitions.\n",
    "    - Procedure definitions attach a name to a procedure body (the actual instructions)\n",
    "    - They are a bit like individual recipes\n",
    "    - The name is used to call the procedure (ie follow the instructions in the body)\n",
    "    - Procedure definitions end with a return statement (it sends the program back to where it was called from)\n",
    "- Procedures only do something when they are called.\n",
    "    - A procedure is called by giving its name followed by open and close brackets ().\n",
    "    - When a procedure is called the instructions in its body are executed in the order written.\n",
    "    - A procedure is a kind of method.\n",
    "    - When you call a method, you jump to the code in the body, execute it then jump back to where you were and carry on with the next command from there.\n",
    "    - you can call other procedures you have defined inside a procedure.\n",
    "- All programs should include comments\n",
    "    - Comments are just explanations of what parts of the program do to help a human understand them\n",
    "    - They start with //\n",
    "    - Each method/procedure should include a comment saying what it does.\n",
    "    - Each program should have a comment saying what the program as a whole does.\n",
    "- Variables must be declared\n",
    "    - They must be given names that indicate what they are used for.\n",
    "    \n",
    "[Return to Exercise](#Exercise22)"
   ]
  }
 ],
 "metadata": {
  "kernelspec": {
   "display_name": "Java",
   "language": "java",
   "name": "java"
  },
  "language_info": {
   "codemirror_mode": "java",
   "file_extension": ".jshell",
   "mimetype": "text/x-java-source",
   "name": "Java",
   "pygments_lexer": "java",
   "version": "11.0.8+10-LTS"
  }
 },
 "nbformat": 4,
 "nbformat_minor": 2
}
