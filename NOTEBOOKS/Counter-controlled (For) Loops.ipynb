{
 "cells": [
  {
   "cell_type": "markdown",
   "metadata": {},
   "source": [
    "# Unit 4\n",
    "# Counter-controlled  (for) Loops\n",
    "\n",
    "## Learning Outcomes\n",
    "- Write simple counter-controlled loops using for loops in Java\n",
    "\n",
    "*This notebook looks at code fragments. After completing these exercises you MUST then go on to write full programs - see the programming exercises in the workbook.*\n"
   ]
  },
  {
   "cell_type": "markdown",
   "metadata": {},
   "source": [
    "### Exercise 1\n",
    "The following fragment of code uses a simple for loop to do something repeatedly.\n",
    "\n",
    "Run the fragment of code (by clicking in the box with the code and then pressing the Run button in the menu above)\n",
    "to see what it does."
   ]
  },
  {
   "cell_type": "raw",
   "metadata": {},
   "source": [
    "for (int i=1; i<=3; i++)\n",
    "{\n",
    "    System.out.println(\"Hello\");\n",
    "}"
   ]
  },
  {
   "cell_type": "markdown",
   "metadata": {},
   "source": [
    "The keyword \n",
    "**for**\n",
    "says that we want to repeat some code."
   ]
  },
  {
   "cell_type": "markdown",
   "metadata": {},
   "source": [
    "### Exercise 2\n",
    "One particular line tells the code to print **Hello** (rather than something else) multiple times.\n",
    "\n",
    "Work out which line that is. \n",
    "\n",
    "On its own it only tells the program to print Hello once though. It it is the rest of the code that says do it multiple times.\n",
    "\n",
    "### Exercise 3\n",
    "\n",
    "Edit the version of the code below to make it do the following:\n",
    "    - Print **Goodbye** 3 times instead of printing Hello.\n",
    "    \n",
    "Run it to check it does what you expect."
   ]
  },
  {
   "cell_type": "code",
   "execution_count": null,
   "metadata": {},
   "outputs": [],
   "source": [
    "for (int i=1; i<=3; i++)\n",
    "{\n",
    "    System.out.println(\"Hello\");\n",
    "}"
   ]
  },
  {
   "cell_type": "markdown",
   "metadata": {
    "slideshow": {
     "slide_type": "fragment"
    }
   },
   "source": [
    "The rest of the line after the keyword for keeps a counter (like you keeping track of something on your fingers).\n",
    "The number to start the count at 1 and to finish the count at 3 are given. The above counts 1 2 3 and then stops. Executing the code in the body of the loop (between the curly brackets) each time it counts.\n",
    "\n",
    "### Exercise 4\n",
    "\n",
    "Edit this version of the code to make it do the following:\n",
    "\n",
    "- Print **Goodbye** 6 times instead of printing it only 3 times.\n",
    "\n",
    "Run it to check it does what you expect."
   ]
  },
  {
   "cell_type": "code",
   "execution_count": null,
   "metadata": {},
   "outputs": [],
   "source": [
    "for (int i=1; i<=3; i++)\n",
    "{\n",
    "    System.out.println(\"Hello\");\n",
    "}"
   ]
  },
  {
   "cell_type": "code",
   "execution_count": null,
   "metadata": {
    "slideshow": {
     "slide_type": "fragment"
    }
   },
   "outputs": [],
   "source": [
    "Only code inside the loop body is repeated. Any instruction BEFORE the loop happens once. Any instruction placed AFTER the loop also only happens once. \n",
    "\n",
    "### Exercise 5\n",
    "\n",
    "Edit this version of the code to make it:\n",
    "   - Print the message \"Starting List\" THEN\n",
    "   - Print \"Goodbye\" 6 times THEN\n",
    "   - Print the message \"Starting List\"\n",
    "   "
   ]
  },
  {
   "cell_type": "code",
   "execution_count": null,
   "metadata": {
    "scrolled": true
   },
   "outputs": [],
   "source": [
    "System.out.println(\"Before the loop\");\n",
    "\n",
    "for (int i=1; i<=3; i++)\n",
    "{\n",
    "    System.out.println(\"Hello\");\n",
    "}\n",
    "\n",
    "System.out.println(\"After the loop\");\n"
   ]
  },
  {
   "cell_type": "markdown",
   "metadata": {},
   "source": [
    "### Exercise 6\n",
    "Predict what the code below will do. Make sure you can explain why. Run it and see if you were right."
   ]
  },
  {
   "cell_type": "code",
   "execution_count": null,
   "metadata": {},
   "outputs": [],
   "source": [
    "for (int i=1; i<=3; i++)\n",
    "{\n",
    "    System.out.println(\"Hello\");\n",
    "    System.out.println(\"Hello\");\n",
    "}"
   ]
  },
  {
   "cell_type": "markdown",
   "metadata": {},
   "source": [
    "*Once you have done the above exercises (and understand how a for loop works) move on to doing the actual programming exercises, writing full programs.*"
   ]
  },
  {
   "cell_type": "raw",
   "metadata": {},
   "source": [
    "# Solutions\n"
   ]
  }
 ],
 "metadata": {
  "kernelspec": {
   "display_name": "Java",
   "language": "java",
   "name": "java"
  },
  "language_info": {
   "codemirror_mode": "java",
   "file_extension": ".jshell",
   "mimetype": "text/x-java-source",
   "name": "Java",
   "pygments_lexer": "java",
   "version": "11.0.4+11-LTS"
  }
 },
 "nbformat": 4,
 "nbformat_minor": 2
}
