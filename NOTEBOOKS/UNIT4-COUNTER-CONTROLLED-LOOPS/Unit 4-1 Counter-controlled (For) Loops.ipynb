{
 "cells": [
  {
   "cell_type": "markdown",
   "metadata": {},
   "source": [
    "# Unit 4 Part 1: Counter-controlled  (for) Loops\n",
    "## Paul Curzon\n",
    "\n",
    "## Interactive Programming Exercises\n",
    "\n",
    "### Learning Outcomes\n",
    "- Write simple counter-controlled loops using for loops in Java\n",
    "- Explain counter-controlled loops and for loops\n",
    "\n",
    "*This notebook looks at code fragments. After completing these exercises, you MUST then go on to write full programs - see the programming exercises in the workbook.*\n",
    "\n",
    "*Answers to exercises are given at the end.*\n",
    "\n",
    "**Always read the answers to exercises and compare them to your own. There are important things to learn from the answers.**\n",
    "\n",
    "<span style=\"color: red;\">It is a really good idea to add your own notes throughout this notebook to reinforce what you have learnt and highlight important points. Click on the + in the toolbar above to make a new note area, and change it from Code to Markdown in the dropdown menu above if your note is not executable code. You may also want to highlight your notes in red as here, so they stand out.\n",
    "You change colours using span like this:</span>\n",
    "```\n",
    "<span style=\"color: red;\">THE TEXT TO COLOUR RED</span>\n",
    "```\n"
   ]
  },
  {
   "cell_type": "markdown",
   "metadata": {},
   "source": [
    "### Exercise 1<a id=\"Exercise1\"></a>\n",
    "The following fragment of code uses a simple **for loop** to do something *repeatedly*.\n",
    "\n",
    "Run the fragment of code (by clicking in the box with the code and then pressing the **Run** button in the Toolbar above)\n",
    "to see what it does.\n",
    "\n",
    "Explain what it does."
   ]
  },
  {
   "cell_type": "markdown",
   "metadata": {},
   "source": [
    "**Write your explanation here**"
   ]
  },
  {
   "cell_type": "code",
   "execution_count": null,
   "metadata": {},
   "outputs": [],
   "source": [
    "for (int i=1; i<=3; i++)\n",
    "{\n",
    "    System.out.println(\"Hello\");\n",
    "}"
   ]
  },
  {
   "cell_type": "markdown",
   "metadata": {},
   "source": [
    "**NOW READ THE ANSWER** [Click here to jump to the solution to this exercise](#Solution1)"
   ]
  },
  {
   "cell_type": "markdown",
   "metadata": {},
   "source": [
    "The keyword \n",
    "**for**\n",
    "says that we want to repeat some code. The command(s) we repeat only have to be written in the program once even though they an be executed many times."
   ]
  },
  {
   "cell_type": "markdown",
   "metadata": {},
   "source": [
    "### Exercise 2<a id=\"Exercise2\"></a>\n",
    "One particular line tells the code to print **Hello** (rather than something else) multiple times.\n",
    "\n",
    "Work out which line that is. \n",
    "\n",
    "On its own that line only tells the program to print Hello once though. It it is the rest of the code that says do it multiple times."
   ]
  },
  {
   "cell_type": "code",
   "execution_count": null,
   "metadata": {},
   "outputs": [],
   "source": [
    "// Write the line here that makes it print hello\n",
    "// Run it to see on its own it only does it once!\n",
    "\n"
   ]
  },
  {
   "cell_type": "markdown",
   "metadata": {},
   "source": [
    "**NOW READ THE ANSWER** [Click here to jump to the solution to this exercise](#Solution2)"
   ]
  },
  {
   "cell_type": "markdown",
   "metadata": {},
   "source": [
    "### Exercise 3<a id=\"Exercise3\"></a>\n",
    "\n",
    "Edit the version of the code below to make it print \n",
    "```\n",
    "++Goodbye++\n",
    "```\n",
    "3 times instead of printing Hello.\n",
    "    \n",
    "Run it to check it does what you expect."
   ]
  },
  {
   "cell_type": "code",
   "execution_count": null,
   "metadata": {},
   "outputs": [],
   "source": [
    "for (int i=1; i<=3; i++)\n",
    "{\n",
    "    System.out.println(\"Hello\");\n",
    "}"
   ]
  },
  {
   "cell_type": "markdown",
   "metadata": {},
   "source": [
    "**NOW READ THE ANSWER** [Click here to jump to the solution to this exercise](#Solution3)"
   ]
  },
  {
   "cell_type": "markdown",
   "metadata": {
    "slideshow": {
     "slide_type": "fragment"
    }
   },
   "source": [
    "## Counter-controlled Repetition\n",
    "\n",
    "The rest of the line after the keyword **for** keeps a counter (like you keeping track of something on your fingers).\n",
    "\n",
    "Number are given in the **for loop** to say\n",
    "- start the count at 1 and \n",
    "- finish the count at 3.\n",
    "\n",
    "The above counts 1 2 3 and then stops. Executing the code in the body of the loop (between the curly brackets) each time it counts."
   ]
  },
  {
   "cell_type": "markdown",
   "metadata": {},
   "source": [
    "### Exercise 4<a id=\"Exercise4\"></a>\n",
    "\n",
    "Edit this version of the code to make it do the following:\n",
    "\n",
    "- Print **Goodbye** 6 times instead of printing it only 3 times.\n",
    "\n",
    "Run it to check it does what you expect.\n",
    "\n",
    "HINT: It should count 1,2,3,4,5,6 and then stop."
   ]
  },
  {
   "cell_type": "code",
   "execution_count": null,
   "metadata": {},
   "outputs": [],
   "source": [
    "for (int i=1; i<=3; i++)\n",
    "{\n",
    "    System.out.println(\"Goodbye\");\n",
    "}"
   ]
  },
  {
   "cell_type": "markdown",
   "metadata": {},
   "source": [
    "**NOW READ THE ANSWER** [Click here to jump to the solution to this exercise](#Solution4)"
   ]
  },
  {
   "cell_type": "markdown",
   "metadata": {},
   "source": [
    "## The Loop Body\n",
    "\n",
    "Only code inside the loop **body** (ie between the curly brackets) is repeated the given number of times.\n",
    "\n",
    "Any instruction BEFORE the loop happens once. Any instruction placed AFTER the loop also only happens once. "
   ]
  },
  {
   "cell_type": "markdown",
   "metadata": {
    "slideshow": {
     "slide_type": "fragment"
    }
   },
   "source": [
    "### Exercise 5<a id=\"Exercise5\"></a>\n",
    "\n",
    "Edit this version of the code to make it:\n",
    "   - Print the message \"Starting List\" THEN\n",
    "   - Print \"Goodbye\" 6 times THEN\n",
    "   - Print the message \"Ending List\"\n",
    "   "
   ]
  },
  {
   "cell_type": "code",
   "execution_count": null,
   "metadata": {
    "scrolled": true
   },
   "outputs": [],
   "source": [
    "System.out.println(\"Before the loop so printed once\");\n",
    "\n",
    "for (int i=1; i<=3; i++)\n",
    "{\n",
    "    System.out.println(\"Hello\");\n",
    "}\n",
    "\n",
    "System.out.println(\"After the loop so printed once\");"
   ]
  },
  {
   "cell_type": "markdown",
   "metadata": {},
   "source": [
    "**NOW READ THE ANSWER** [Click here to jump to the solution to this exercise](#Solution5)"
   ]
  },
  {
   "cell_type": "markdown",
   "metadata": {},
   "source": [
    "### Exercise 6<a id=\"Exercise6\"></a>\n",
    "Predict what the code below will do. Make sure you can explain why. Run it and see if you were right."
   ]
  },
  {
   "cell_type": "markdown",
   "metadata": {},
   "source": [
    "**Write your explanation here**\n"
   ]
  },
  {
   "cell_type": "code",
   "execution_count": null,
   "metadata": {},
   "outputs": [],
   "source": [
    "for (int i=1; i<=3; i++)\n",
    "{\n",
    "    System.out.println(\"Hello\");\n",
    "    System.out.println(\"Hello\");\n",
    "}"
   ]
  },
  {
   "cell_type": "markdown",
   "metadata": {},
   "source": [
    "**NOW READ THE ANSWER** [Click here to jump to the solution to this exercise](#Solution6)"
   ]
  },
  {
   "cell_type": "markdown",
   "metadata": {},
   "source": [
    "### Exercise 7<a id=\"Exercise7\"></a>\n",
    "Edit the code below to print \"Hello\" 9 times. The loop itself should only run three times."
   ]
  },
  {
   "cell_type": "code",
   "execution_count": null,
   "metadata": {},
   "outputs": [],
   "source": [
    "for (int i=1; i<=3; i++)\n",
    "{\n",
    "    System.out.println(\"Hello\");\n",
    "    System.out.println(\"Hello\");\n",
    "}"
   ]
  },
  {
   "cell_type": "markdown",
   "metadata": {},
   "source": [
    "**NOW READ THE ANSWER** [Click here to jump to the solution to this exercise](#Solution7)"
   ]
  },
  {
   "cell_type": "markdown",
   "metadata": {},
   "source": [
    "### Exercise 8<a id=\"Exercise8\"></a>\n",
    "Edit the code below to print my name 4 times. Paul and Curzon should be on separate lines.\n",
    "ie it should print\n",
    "```\n",
    "Paul\n",
    "Curzon\n",
    "Paul\n",
    "Curzon\n",
    "Paul\n",
    "Curzon\n",
    "Paul\n",
    "Curzon\n",
    "```"
   ]
  },
  {
   "cell_type": "code",
   "execution_count": null,
   "metadata": {},
   "outputs": [],
   "source": [
    "for (int i=1; i<=3; i++)\n",
    "{\n",
    "    System.out.println(\"Hello\");\n",
    "    System.out.println(\"Hello\");\n",
    "}"
   ]
  },
  {
   "cell_type": "markdown",
   "metadata": {},
   "source": [
    "**NOW READ THE ANSWER** [Click here to jump to the solution to this exercise](#Solution8)"
   ]
  },
  {
   "cell_type": "markdown",
   "metadata": {},
   "source": [
    "## The Loop Counter\n",
    "\n",
    "The variable i is called the **loop counter**. It is just a variable like any other and can be used in the body to\n",
    "refer to the counter value. The command \n",
    "```java\n",
    "i++\n",
    "```\n",
    "is just shorthand for the assignment\n",
    "```java\n",
    "i = i + 1\n",
    "```\n",
    "which adds 1 to the value in i and stores the result back in variable i."
   ]
  },
  {
   "cell_type": "markdown",
   "metadata": {},
   "source": [
    "### Exercise 9<a id=\"Exercise9\"></a>\n",
    "\n",
    "Predict what the following code fragment does then run it to see if you are right.\n",
    "\n",
    "Explain what it does and how it does it."
   ]
  },
  {
   "cell_type": "markdown",
   "metadata": {},
   "source": [
    "**Write your explanation here**\n"
   ]
  },
  {
   "cell_type": "code",
   "execution_count": null,
   "metadata": {
    "scrolled": true
   },
   "outputs": [],
   "source": [
    "for (int i=1; i<=3; i++)\n",
    "{\n",
    "    System.out.println(i + \" THEN\");\n",
    "}"
   ]
  },
  {
   "cell_type": "markdown",
   "metadata": {},
   "source": [
    "**NOW READ THE ANSWER** [Click here to jump to the solution to this exercise](#Solution9)"
   ]
  },
  {
   "cell_type": "markdown",
   "metadata": {},
   "source": [
    "### Exercise 10<a id=\"Exercise10\"></a>\n",
    "\n",
    "Edit the version below to print numbers from 4 to 8 followed by a colon ie:\n",
    "```\n",
    "4:\n",
    "5:\n",
    "6:\n",
    "7:\n",
    "8:\n",
    "```\n",
    "\n",
    "HINT: You have to make the count start and end on a different number."
   ]
  },
  {
   "cell_type": "code",
   "execution_count": null,
   "metadata": {},
   "outputs": [],
   "source": [
    "for (int i=1; i<=3; i++)\n",
    "{\n",
    "    System.out.println(i + \" THEN\");\n",
    "}"
   ]
  },
  {
   "cell_type": "markdown",
   "metadata": {},
   "source": [
    "**NOW READ THE ANSWER** [Click here to jump to the solution to this exercise](#Solution10)"
   ]
  },
  {
   "cell_type": "markdown",
   "metadata": {},
   "source": [
    "### Exercise 11<a id=\"Exercise11\"></a>\n",
    "\n",
    "As the loop counter is just a variable, it can be changed to anything you like. \n",
    "Edit the following to change the loop counter to a variable called counter.\n",
    "\n",
    "HINT: you have to change it consistently everywhere."
   ]
  },
  {
   "cell_type": "code",
   "execution_count": null,
   "metadata": {},
   "outputs": [],
   "source": [
    "for (int i=1; i<=3; i++)\n",
    "{\n",
    "    System.out.println(i + \" THEN\");\n",
    "}"
   ]
  },
  {
   "cell_type": "markdown",
   "metadata": {},
   "source": [
    "**NOW READ THE ANSWER** [Click here to jump to the solution to this exercise](#Solution1)"
   ]
  },
  {
   "cell_type": "markdown",
   "metadata": {},
   "source": [
    "### Exercise 12<a id=\"Exercise12\"></a>\n",
    "Now modify the code below to print the start of the 9 times table\n",
    "ie ptint\n",
    "```\n",
    "9\n",
    "18\n",
    "27\n",
    "36\n",
    "45\n",
    "```\n",
    "HINT: You can multiply by the loop counter."
   ]
  },
  {
   "cell_type": "code",
   "execution_count": null,
   "metadata": {},
   "outputs": [],
   "source": [
    "for (int i=1; i<=3; i++)\n",
    "{\n",
    "    System.out.println(i);\n",
    "}"
   ]
  },
  {
   "cell_type": "markdown",
   "metadata": {},
   "source": [
    "**NOW READ THE ANSWER** [Click here to jump to the solution to this exercise](#Solution12)"
   ]
  },
  {
   "cell_type": "markdown",
   "metadata": {},
   "source": [
    "## Loop counters can count in other ways\n",
    "\n",
    "The assignment to the loop counter (i++) can be replaced by any assignment. For example, if the assignment:\n",
    "```java\n",
    "i = i - 1;\n",
    "```\n",
    "(which can also be written (i--) is used, a loop will count down."
   ]
  },
  {
   "cell_type": "markdown",
   "metadata": {},
   "source": [
    "### Exercise 13<a id=\"Exercise13\"></a>\n",
    "Run the code below to see how it counts down. Modify the code to print a count down from 10 to 0, inclusive.\n",
    "\n",
    "Experiment with different assignments (eg to count down in 2s)\n",
    "\n",
    "HINT: Notice when counting down you have to start by setting the counter to the high number and continue until >= the smallest number."
   ]
  },
  {
   "cell_type": "code",
   "execution_count": null,
   "metadata": {},
   "outputs": [],
   "source": [
    "for (int i=3; i>=1; i--)\n",
    "{\n",
    "    System.out.println(i);\n",
    "}"
   ]
  },
  {
   "cell_type": "markdown",
   "metadata": {},
   "source": [
    "**NOW READ THE ANSWER** [Click here to jump to the solution to this exercise](#Solution13)"
   ]
  },
  {
   "cell_type": "markdown",
   "metadata": {},
   "source": [
    "## Facts about for loops and Misconceptions\n",
    "\n",
    "There are several common misconception people have about loops that need to be avoided. Here are some points about loops and how people get them wrong.\n",
    "\n",
    "1. When the test is evaluated and  found to be false, the for loop exits, jumping immediately to the code after the loop. It does NOT execute the body again one more time, when the loop is  false. \n",
    "    - The misconception here is that people mistakenly think that once the test is true the loop executes the body one more time, before moving beyond the loop. IT DOES NOT! Watch out for this misconception. \n",
    "    \n",
    "2. The test is only checked at the start of each time round the loop (ie at the start immediately after the counter is initialised and then immediately after each time it is increased.\n",
    "    - The misconception here is that somehow the test allows the loop to stop in the middle of the loop executing as thought the test was monitored cosntantly. IT IS NOT!\n",
    "    \n",
    "3. The counter is updated AFTER the body is executed.\n",
    "    - The misconception here is that the counter is changed before the body is entered the first time. IT IS NOT! \n",
    "    \n",
    "4. The loop keeps going repeating the body, WHILE the test is true. When it is false the loop stops\n",
    "    - The misconception people have here is to get confused think the loop runs until the test is true. IT DOES NOT!"
   ]
  },
  {
   "cell_type": "markdown",
   "metadata": {},
   "source": [
    "### Exercise 14<a id=\"Exercise14\"></a>\n",
    "Explain briefly in your own words what for loops do and how they work, illustrating your answer with an example."
   ]
  },
  {
   "cell_type": "markdown",
   "metadata": {},
   "source": [
    "**Write your explanation here**\n"
   ]
  },
  {
   "cell_type": "markdown",
   "metadata": {},
   "source": [
    "**NOW READ THE ANSWER** [Click here to jump to the solution to this exercise](#Solution14)"
   ]
  },
  {
   "cell_type": "markdown",
   "metadata": {},
   "source": [
    "*Once you have done the above exercises (and understand how a for loop works) move on to doing the actual programming exercises, writing full programs. You must be able to write full programs, not just fragments.*"
   ]
  },
  {
   "cell_type": "markdown",
   "metadata": {},
   "source": [
    "# Solutions\n",
    "### Solution to Exercise 1<a id=\"Solution1\"></a>\n",
    "It prints hello 3 times each on a separate line\n",
    "```\n",
    "Hello\n",
    "Hello\n",
    "Hello\n",
    "```\n",
    "[Return to Exercise](#Exercise1)"
   ]
  },
  {
   "cell_type": "markdown",
   "metadata": {},
   "source": [
    "### Solution to Exercise 2<a id=\"Solution2\"></a>\n",
    "The line that makes it specifically print Hello repeatedly is\n",
    "```java\n",
    "System.out.println(\"Hello\");\n",
    "```\n",
    "[Return to Exercise](#Exercise2)"
   ]
  },
  {
   "cell_type": "markdown",
   "metadata": {},
   "source": [
    "### Solution to Exercise 3<a id=\"Solution3\"></a>\n",
    "The word Hello within the double quotes  of the print statement is just changed to Goodbye as"
   ]
  },
  {
   "cell_type": "code",
   "execution_count": null,
   "metadata": {},
   "outputs": [],
   "source": [
    "for (int i=1; i<=3; i++)\n",
    "{\n",
    "    System.out.println(\"++Goodbye++\");\n",
    "}"
   ]
  },
  {
   "cell_type": "markdown",
   "metadata": {},
   "source": [
    "[Return to Exercise](#Exercise3)"
   ]
  },
  {
   "cell_type": "markdown",
   "metadata": {},
   "source": [
    "### Solution to Exercise 4<a id=\"Solution4\"></a>\n",
    "The number 3 in the first line is changed to 6 as it gives the number to stop at"
   ]
  },
  {
   "cell_type": "code",
   "execution_count": null,
   "metadata": {},
   "outputs": [],
   "source": [
    "for (int i=1; i<=6; i++)\n",
    "{\n",
    "    System.out.println(\"Goodbye\");\n",
    "}"
   ]
  },
  {
   "cell_type": "markdown",
   "metadata": {},
   "source": [
    "[Return to Exercise](#Exercise4)"
   ]
  },
  {
   "cell_type": "markdown",
   "metadata": {},
   "source": [
    "### Solution to Exercise 5<a id=\"Solution5\"></a>"
   ]
  },
  {
   "cell_type": "code",
   "execution_count": null,
   "metadata": {},
   "outputs": [],
   "source": [
    "System.out.println(\"Starting List\");\n",
    "\n",
    "for (int i=1; i<=3; i++)\n",
    "{\n",
    "    System.out.println(\"Hello\");\n",
    "}\n",
    "\n",
    "System.out.println(\"Ending List\");"
   ]
  },
  {
   "cell_type": "markdown",
   "metadata": {},
   "source": [
    "[Return to Exercise](#Exercise5)"
   ]
  },
  {
   "cell_type": "markdown",
   "metadata": {},
   "source": [
    "### Solution to Exercise 6<a id=\"Solution6\"></a>\n",
    "It prints Hello 6 times, once on each line. It does this because the loop runs three times, counting 1,2,3. That means it executes the body (the instructions in the curly brackets) three times. Each time it runs, it executes the body of the loop which prints Hello twice.\n",
    "\n",
    "[Return to Exercise](#Exercise6)"
   ]
  },
  {
   "cell_type": "markdown",
   "metadata": {},
   "source": [
    "### Solution to Exercise 7<a id=\"Solution7\"></a>"
   ]
  },
  {
   "cell_type": "code",
   "execution_count": null,
   "metadata": {},
   "outputs": [],
   "source": [
    "for (int i=1; i<=3; i++)\n",
    "{\n",
    "    System.out.println(\"Hello\");\n",
    "    System.out.println(\"Hello\");\n",
    "    System.out.println(\"Hello\");\n",
    "}"
   ]
  },
  {
   "cell_type": "markdown",
   "metadata": {},
   "source": [
    "[Return to Exercise](#Exercise7)"
   ]
  },
  {
   "cell_type": "markdown",
   "metadata": {},
   "source": [
    "### Solution to Exercise 8<a id=\"Solution8\"></a>"
   ]
  },
  {
   "cell_type": "code",
   "execution_count": null,
   "metadata": {},
   "outputs": [],
   "source": [
    "for (int i=1; i<=4; i++)\n",
    "{\n",
    "    System.out.println(\"Paul\");\n",
    "    System.out.println(\"Curzon\");\n",
    "}"
   ]
  },
  {
   "cell_type": "markdown",
   "metadata": {},
   "source": [
    "[Return to Exercise](#Exercise8)"
   ]
  },
  {
   "cell_type": "markdown",
   "metadata": {},
   "source": [
    "### Solution to Exercise 9<a id=\"Solution9\"></a>"
   ]
  },
  {
   "cell_type": "markdown",
   "metadata": {},
   "source": [
    "The loop counter counts from 1 to 3 so the loop runs three times. Each time it prints the current contents of the loop counter followed by the word THEN. As the loop counter changes, the number printed changes. It therefore prints\n",
    "```\n",
    "1 THEN\n",
    "2 THEN\n",
    "3 THEN\n",
    "```\n",
    "each line being the loop counter value followed by THEN"
   ]
  },
  {
   "cell_type": "markdown",
   "metadata": {},
   "source": [
    "[Return to Exercise](#Exercise9)"
   ]
  },
  {
   "cell_type": "markdown",
   "metadata": {},
   "source": [
    "### Solution to Exercise 10<a id=\"Solution10\"></a>"
   ]
  },
  {
   "cell_type": "code",
   "execution_count": null,
   "metadata": {},
   "outputs": [],
   "source": [
    "for (int i=4; i<=8; i++)\n",
    "{\n",
    "    System.out.println(i + \":\");\n",
    "}"
   ]
  },
  {
   "cell_type": "markdown",
   "metadata": {},
   "source": [
    "[Return to Exercise](#Exercise10)"
   ]
  },
  {
   "cell_type": "markdown",
   "metadata": {},
   "source": [
    "### Solution to Exercise 11<a id=\"Solution11\"></a>"
   ]
  },
  {
   "cell_type": "code",
   "execution_count": null,
   "metadata": {},
   "outputs": [],
   "source": [
    "for (int counter=1; counter<=3; counter++)\n",
    "{\n",
    "    System.out.println(counter + \" THEN\");\n",
    "}"
   ]
  },
  {
   "cell_type": "markdown",
   "metadata": {},
   "source": [
    "[Return to Exercise](#Exercise11)"
   ]
  },
  {
   "cell_type": "markdown",
   "metadata": {},
   "source": [
    "### Solution to Exercise 12<a id=\"Solution12\"></a>"
   ]
  },
  {
   "cell_type": "code",
   "execution_count": null,
   "metadata": {},
   "outputs": [],
   "source": [
    "for (int i=1; i<=5; i++)\n",
    "{\n",
    "    System.out.println(i * 9);\n",
    "}"
   ]
  },
  {
   "cell_type": "markdown",
   "metadata": {},
   "source": [
    "[Return to Exercise](#Exercise12)"
   ]
  },
  {
   "cell_type": "markdown",
   "metadata": {},
   "source": [
    "### Solution to Exercise 13<a id=\"Solution13\"></a>"
   ]
  },
  {
   "cell_type": "code",
   "execution_count": null,
   "metadata": {},
   "outputs": [],
   "source": [
    "for (int i=10; i>=0; i--)\n",
    "{\n",
    "    System.out.println(i);\n",
    "}"
   ]
  },
  {
   "cell_type": "markdown",
   "metadata": {},
   "source": [
    "To count down by 2 instead of by 1, you just need to use an assignment that subtracts 2"
   ]
  },
  {
   "cell_type": "code",
   "execution_count": null,
   "metadata": {},
   "outputs": [],
   "source": [
    "for (int i=10; i>=0; i = i - 2)\n",
    "{\n",
    "    System.out.println(i);\n",
    "}"
   ]
  },
  {
   "cell_type": "markdown",
   "metadata": {},
   "source": [
    "[Return to Exercise](#Exercise13)"
   ]
  },
  {
   "cell_type": "markdown",
   "metadata": {},
   "source": [
    "### Solution to Exercise 14<a id=\"Solution14\"></a>\n",
    "\n",
    "A **for loop** is a way of repeating the same code some a **fixed** number of times. It starts with the keyword **for** and then has 4 parts:\n",
    "- the **declaration** of a **loop counter** that also **initialises** it to the start of the count\n",
    "- a **test** to see if the counter has finished the count yet\n",
    "- an **assignment** that changes the loop counter\n",
    "- the **body**\n",
    "\n",
    "The **loop counter** is just a variable that keeps count of how many times the loop has so far been repeated when the loop is running. It starts on one number and counts to another number (but not necessarily counting in 1s).\n",
    "\n",
    "The **declaration** of the loop counter is just like the declaration of any other variable. It is set to the first number of the count ie to initialise it (whether counting up or down). For example,\n",
    "```java\n",
    "int i = 0;\n",
    "```\n",
    "would start the count from 0. The variable can be named anything appropriate.\n",
    "\n",
    "The **test** is just a boolean expression, similar to the tests in an if statement. The test in a for loop has to be true  while the count has to continue. When it becomes false at the start of a loop, the loop ends rather than entering the body, and jumps beyond the loop to continue with the rest of the program. For example,\n",
    "```java\n",
    "i <= 10;\n",
    "```\n",
    "says count until 10, but when the counter gets to 11 (or higher) end the loop and jump to whatever instruction is beyond it.\n",
    "\n",
    "The **assignment** changes the loop counter (up or down as appropriate). It executes AFTER the body has executed and before the test. For example,\n",
    "```java\n",
    "i = i + 2\n",
    "```\n",
    "would increase the counter by 2 each time round the loop.\n",
    "\n",
    "The **body** is just any normal block of code inside curly brackets. It is the instructions that are repeated each time the test is executed and found to be true, and before the assignment changes the loop counter. So a body\n",
    "```java\n",
    "{\n",
    "    System.out.println(i+ \": I must program single every day.\");\n",
    "}\n",
    "```\n",
    "prints the loop counter, followed by the given statement.\n",
    "  \n",
    "Putting this all together gives us a for loop that prints\n",
    "```\n",
    "0: I must program every single day.\n",
    "```\n",
    "6 times starting with a different number each time changing through the values 0,2,4,6,8,10. "
   ]
  },
  {
   "cell_type": "code",
   "execution_count": null,
   "metadata": {},
   "outputs": [],
   "source": [
    "for (int i=0; i<=10; i = i + 2)\n",
    "{\n",
    "    System.out.println(i+ \": I must program every single day.\");\n",
    "}"
   ]
  },
  {
   "cell_type": "markdown",
   "metadata": {},
   "source": [
    "[Return to Exercise](#Exercise14)"
   ]
  }
 ],
 "metadata": {
  "kernelspec": {
   "display_name": "Java",
   "language": "java",
   "name": "java"
  },
  "language_info": {
   "codemirror_mode": "java",
   "file_extension": ".jshell",
   "mimetype": "text/x-java-source",
   "name": "Java",
   "pygments_lexer": "java",
   "version": "11.0.8+10-LTS"
  }
 },
 "nbformat": 4,
 "nbformat_minor": 2
}
