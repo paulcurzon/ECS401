{
 "cells": [
  {
   "cell_type": "markdown",
   "metadata": {},
   "source": [
    "# Unit 4 Part 2: If statements inside loops\n",
    "\n",
    "## Paul Curzon\n",
    "\n",
    "## Interactive Programming Exercises\n",
    "\n",
    "### Learning Outcomes\n",
    "- Read and explain programs using if statements within loops\n",
    "- Write programs using if statements within loops\n",
    "\n",
    "*This notebook looks at code fragments. After completing these exercises you MUST then go on to write full programs - see the programming exercises in the workbook.*\n",
    "\n",
    "*Answers to exercises are given at the end*\n",
    "\n",
    "**Always read the answers to exercises and compare them to your own. There are important things to learn from the answers.**\n",
    "\n",
    "<span style=\"color: red;\"> It is a really good idea to add your own notes throughout this notebook to reinforce what you have learnt and highlight important points. Click on the + in the toolbar above to make a new note area, and change it from Code to Markdown in the dropdown menu above if your note is not executable code. You may also want to highlight your notes in red as here, so they stand out. You change colours using span like this: </span>\n",
    "```\n",
    "<span style=\"color: red;\">THE TEXT TO COLOUR RED</span>\n",
    "```"
   ]
  },
  {
   "cell_type": "markdown",
   "metadata": {},
   "source": [
    "## Refresher\n",
    "\n",
    "### Exercise 1<a id=\"Exercise1\"></a>\n",
    "\n",
    "Run the following and make sure you understand what it does. Modify the nameSnakes method to allow only 4 snakes to be named by the user and to print a message about each such as:\n",
    "```\n",
    "You said Python was a snake.\n",
    "```"
   ]
  },
  {
   "cell_type": "code",
   "execution_count": null,
   "metadata": {},
   "outputs": [],
   "source": [
    "// Input a String\n",
    "//\n",
    "public static String inputString (String message)\n",
    "{\n",
    "       String answer;\n",
    "       Scanner scanner = new Scanner(System.in);\n",
    "\n",
    "       System.out.println(message);\n",
    "       answer = scanner.nextLine();\n",
    "   \n",
    "       return answer;\n",
    "} // END inputString\n",
    "\n",
    "// Name 5 snakes\n",
    "//\n",
    "public static void nameSnakes ()\n",
    "{\n",
    "    final int SNAKES_TO_NAME = 5;\n",
    "    \n",
    "    for (int i=1; i<=SNAKES_TO_NAME; i++)\n",
    "    {\n",
    "        String snake = inputString(\"Name a snake\");\n",
    "        \n",
    "        System.out.println(\"You said \" + snake + \" was a snake.\");\n",
    "    }\n",
    "}\n",
    "\n",
    "nameSnakes();\n"
   ]
  },
  {
   "cell_type": "markdown",
   "metadata": {},
   "source": [
    "**NOW READ THE ANSWER** [Click here to jump to the solution to this exercise](#Solution1)"
   ]
  },
  {
   "cell_type": "markdown",
   "metadata": {},
   "source": [
    "## A template for making decisions repeatedly\n",
    "\n",
    "The body of the for loop (inside its curly brackets) is just a normal block of code. It can contain any kind of statement not just declarations, assignments and print statements. In particular, it can include if statements (and other loops) too. In this notebook we will look at if statements inside loops.\n",
    "\n",
    "A common thing you want to do is do something a fixed number of times, but do something slightly different depending on the value input. This leads to a common pattern of code of this general form:\n",
    "```java\n",
    "   for (int i=1; i<=N_TIMES; i++)\n",
    "    {\n",
    "        String answer = inputString(\"Give me an answer\");\n",
    "        \n",
    "        if ((answer.equals(\"SOMETHING\")))\n",
    "        {\n",
    "            System.out.println(\"DO ONE THING);\n",
    "        }\n",
    "        else\n",
    "        {\n",
    "            System.out.println(\"DO SOMETHING ELSE\");\n",
    "        }\n",
    "    }\n",
    "```"
   ]
  },
  {
   "cell_type": "markdown",
   "metadata": {},
   "source": [
    "Each time the loop body runs, it inputs a value and tests that value. An If statement then does the appropriate thing depending on the value input that time round the loop."
   ]
  },
  {
   "cell_type": "markdown",
   "metadata": {},
   "source": [
    "### Exercise 2<a id=\"Exercise2\"></a>\n",
    "\n",
    "Read the following, making sure you understand what it does, then run it to check you are right.\n",
    "\n",
    "Now wrap a for loop round it to make it ask for a snake and tell you if it is not venomous or not THREE TIMES.\n",
    "When testing it make sure it works both for known and unknown snakes.\n",
    "\n",
    "HINT: Make sure the curly brackets enclose the whole of the body (the code already given) and nothing else. Use consistent indentation (tabs) to clearly show what is inside (and what outside) curly brackets.\n",
    "\n",
    "HINT: Remember you need InputString compiled for this to work. You must compile-run the method definition from Exercise 1 for this to compile."
   ]
  },
  {
   "cell_type": "code",
   "execution_count": null,
   "metadata": {},
   "outputs": [],
   "source": [
    "        \n",
    "    String snake = inputString(\"Name a snake and I will tell you if it is venomous\");\n",
    "        \n",
    "    if (snake.equals(\"Python\"))\n",
    "    {\n",
    "        System.out.println(\"The \" + snake + \" is NOT venomous.\");\n",
    "    }\n",
    "    else\n",
    "    {\n",
    "        System.out.println(\"I have not heard of the \" + snake + \" so assume it is venomous.\");\n",
    "    }\n"
   ]
  },
  {
   "cell_type": "markdown",
   "metadata": {},
   "source": [
    "**NOW READ THE ANSWER** [Click here to jump to the solution to this exercise](#Solution2)"
   ]
  },
  {
   "cell_type": "markdown",
   "metadata": {},
   "source": [
    "## Do it if either one thing or another is true\n",
    "\n",
    "Often you need to do exactly the same thing for lots of things input, and something different for lots of other things.  One way is to write a separate but similar if statement for each possibility. A better way is to use the logical connective OR (written | ) to say do the case if it is one thing OR it is another. Then each time round the loop you can deal with different values\n",
    "eg\n",
    "```java\n",
    "(snake.equals(\"Python\") | snake.equals(\"Anaconda\"))\n",
    "```"
   ]
  },
  {
   "cell_type": "markdown",
   "metadata": {},
   "source": [
    "### Exercise 3<a id=\"Exercise3\"></a>\n",
    "Explain what the following does"
   ]
  },
  {
   "cell_type": "markdown",
   "metadata": {},
   "source": [
    "**Write your explanation here**\n"
   ]
  },
  {
   "cell_type": "code",
   "execution_count": null,
   "metadata": {},
   "outputs": [],
   "source": [
    "for(int i = 1; i<=3; i++)\n",
    "{\n",
    "    String snake = inputString(\"Name a snake and I will tell you if it is venomous\");\n",
    "        \n",
    "    if (snake.equals(\"Python\") | snake.equals(\"Anaconda\") )\n",
    "    {\n",
    "        System.out.println(\"The \" + snake + \" is NOT venomous.\");\n",
    "    }\n",
    "    else\n",
    "    {\n",
    "        System.out.println(\"I have not heard of the \" + snake + \" so assume it is venomous.\");\n",
    "    }\n",
    "}"
   ]
  },
  {
   "cell_type": "markdown",
   "metadata": {},
   "source": [
    "**NOW READ THE ANSWER** [Click here to jump to the solution to this exercise](#Solution3)"
   ]
  },
  {
   "cell_type": "markdown",
   "metadata": {},
   "source": [
    "### Exercise 4<a id=\"Exercise4\"></a>\n",
    "Modify the following to also be able to say that a Grass Snake is non-venomous and to ask for the name of a snake FOUR TIMES. Test it thoroughly checking it works for different known and unknown cases."
   ]
  },
  {
   "cell_type": "code",
   "execution_count": null,
   "metadata": {},
   "outputs": [],
   "source": [
    "for(int i = 1; i<=3; i++)\n",
    "{\n",
    "    String snake = inputString(\"Name a snake and I will tell you if it is venomous\");\n",
    "        \n",
    "    if (snake.equals(\"Python\") | snake.equals(\"Anaconda\") )\n",
    "    {\n",
    "        System.out.println(\"The \" + snake + \" is NOT venomous.\");\n",
    "    }\n",
    "    else\n",
    "    {\n",
    "        System.out.println(\"I have not heard of the \" + snake + \" so assume it is venomous.\");\n",
    "    }\n",
    "}"
   ]
  },
  {
   "cell_type": "markdown",
   "metadata": {},
   "source": [
    "**NOW READ THE ANSWER** [Click here to jump to the solution to this exercise](#Solution4)"
   ]
  },
  {
   "cell_type": "markdown",
   "metadata": {},
   "source": [
    "## If-else staircases\n",
    "The other common thing is to have a whole series of DIFFERENT things to do depending on the value input. To do this just put an if-else-staircase INSIDE the loop."
   ]
  },
  {
   "cell_type": "markdown",
   "metadata": {},
   "source": [
    "### Exercise 5<a id=\"Exercise5\"></a>\n",
    "\n",
    "Read the following and predict what it does then run it to check (testing it with at least the inputs: Python, Grass Snake, Anaconda and Cobra). Explain what it does."
   ]
  },
  {
   "cell_type": "markdown",
   "metadata": {},
   "source": [
    "**Write your explanation here**\n"
   ]
  },
  {
   "cell_type": "code",
   "execution_count": null,
   "metadata": {},
   "outputs": [],
   "source": [
    "for(int i = 1; i<=4; i++)\n",
    "{\n",
    "    String snake = inputString(\"Name a snake and I will tell you if it is venomous\");\n",
    "        \n",
    "    if (snake.equals(\"Python\")| snake.equals(\"Anaconda\") )\n",
    "    {\n",
    "        System.out.println(\"The \" + snake + \" is NOT venomous. However, it can crush you to death.\");\n",
    "    }\n",
    "    else if (snake.equals(\"Cobra\"))\n",
    "    {\n",
    "        System.out.println(\"The \" + snake + \" IS venomous.\");\n",
    "    }\n",
    "    else\n",
    "    {\n",
    "        System.out.println(\"I have not heard of the \" + snake + \" so assume it is dangerous.\");\n",
    "    }\n",
    "}"
   ]
  },
  {
   "cell_type": "markdown",
   "metadata": {},
   "source": [
    "**NOW READ THE ANSWER** [Click here to jump to the solution to this exercise](#Solution5)"
   ]
  },
  {
   "cell_type": "markdown",
   "metadata": {},
   "source": [
    "### Exercise 6<a id=\"Exercise6\"></a>\n",
    "\n",
    "Modify the following to know that the Grass Snake is harmless by adding an extra else if case that prints\n",
    "\"The ... is harmless\" when Grass Snake is entered."
   ]
  },
  {
   "cell_type": "code",
   "execution_count": null,
   "metadata": {},
   "outputs": [],
   "source": [
    "for(int i = 1; i<=4; i++)\n",
    "{\n",
    "    String snake = inputString(\"Name a snake and I will tell you if it is venomous\");\n",
    "        \n",
    "    if (snake.equals(\"Python\")| snake.equals(\"Anaconda\") )\n",
    "    {\n",
    "        System.out.println(\"The \" + snake + \" is NOT venomous. However, it can crush you to death.\");\n",
    "    }\n",
    "    else if (snake.equals(\"Cobra\"))\n",
    "    {\n",
    "        System.out.println(\"The \" + snake + \" IS venomous.\");\n",
    "    }\n",
    "    else\n",
    "    {\n",
    "        System.out.println(\"I have not heard of the \" + snake + \" so assume it is dangerous.\");\n",
    "    }\n",
    "}"
   ]
  },
  {
   "cell_type": "markdown",
   "metadata": {},
   "source": [
    "**NOW READ THE ANSWER** [Click here to jump to the solution to this exercise](#Solution6)"
   ]
  },
  {
   "cell_type": "markdown",
   "metadata": {},
   "source": [
    "## Filtering numbers\n",
    "A similar pattern of loop containing an if statement is used to filter based on numbers (possibly based on calculated values rather than input ones). A common example of this pattern of code is to need to do something different every 3 (say) numbers. This is equivalent to asking if a number is divisible by a given number (here divisible by 3). A simple way to test this is to check the remainder when you do a division. This is given by the **modulus** operator % \n",
    "\n",
    "If (n % 3) is 0 then that means n is divisible by 3. Modulus acts as a clock-like counter resetting to 0 when it reaches the given number.\n",
    "\n",
    "So \n",
    "```\n",
    "(0 % 3) = 0\n",
    "(1 % 3) = 1\n",
    "(2 % 3) = 2\n",
    "(3 % 3) = 0\n",
    "(4 % 3) = 1\n",
    "(5 % 3) = 2\n",
    "(6 % 3) = 0\n",
    "etc\n",
    "```\n",
    "0, 3 and 6 are the numbers exactly divisible by three. The other numbers have remainders.\n",
    "\n",
    "So if you want to do something different every 10 times round a loop, say, then use a test based on the the number % 10. "
   ]
  },
  {
   "cell_type": "markdown",
   "metadata": {},
   "source": [
    "### Exercise 7<a id=\"Exercise7\"></a>\n",
    "\n",
    "Read the following code, predicting what it will do, then run it to see if you are right. Explain how method squareOfNumbers does what it does."
   ]
  },
  {
   "cell_type": "markdown",
   "metadata": {},
   "source": [
    "**Double click then write your explanation here**\n"
   ]
  },
  {
   "cell_type": "code",
   "execution_count": null,
   "metadata": {},
   "outputs": [],
   "source": [
    "public static void squareOfNumbers ()\n",
    "{\n",
    "    \n",
    "    for (int i=1; i<=21; i++)\n",
    "    {\n",
    "        if (i % 3 == 0) // check if divisible by 3\n",
    "        {\n",
    "            System.out.println(i);\n",
    "        }\n",
    "        else\n",
    "        {\n",
    "            System.out.print(i + \"\\t\");\n",
    "        }\n",
    "    }\n",
    "}\n",
    "squareOfNumbers ();"
   ]
  },
  {
   "cell_type": "markdown",
   "metadata": {},
   "source": [
    "**NOW READ THE ANSWER** [Click here to jump to the solution to this exercise](#Solution7)"
   ]
  },
  {
   "cell_type": "markdown",
   "metadata": {},
   "source": [
    "### Exercise 8<a id=\"Exercise8\"></a>\n",
    "Modify the following method to print all the numbers from 1 to 100 in a 10 by 10 square."
   ]
  },
  {
   "cell_type": "code",
   "execution_count": null,
   "metadata": {},
   "outputs": [],
   "source": [
    "public static void squareOfNumbers ()\n",
    "{\n",
    "    \n",
    "    for (int i=1; i<=21; i++)\n",
    "    {\n",
    "        if (i % 3 == 0)\n",
    "        {\n",
    "            System.out.println(i);\n",
    "        }\n",
    "        else\n",
    "        {\n",
    "            System.out.print(i + \"\\t\");\n",
    "        }\n",
    "    }\n",
    "}\n",
    "squareOfNumbers ();"
   ]
  },
  {
   "cell_type": "markdown",
   "metadata": {},
   "source": [
    "**NOW READ THE ANSWER** [Click here to jump to the solution to this exercise](#Solution8)"
   ]
  },
  {
   "cell_type": "markdown",
   "metadata": {},
   "source": [
    "### Exercise 9<a id=\"Exercise9\"></a>\n",
    "Modify the following method, squareOfNumbers, to call the inputInt method and ask the user for a number and then print a square of numbers of that size. So if they input 5 it should print 25 numbers (5*5) in a 5 by 5 square."
   ]
  },
  {
   "cell_type": "code",
   "execution_count": null,
   "metadata": {},
   "outputs": [],
   "source": [
    "// input an integer\n",
    "//\n",
    "public static int inputInt (String message)\n",
    "{\n",
    "       String answer = inputString(message);\n",
    "   \n",
    "       return Integer.parseInt(answer);\n",
    "} \n",
    "\n",
    "public static void squareOfNumbers ()\n",
    "{\n",
    "\n",
    "    // INPUT THE SIZE TO USE HERE\n",
    "    \n",
    "    for (int i=1; i<=21; i++)\n",
    "    {\n",
    "        if (i % 3 == 0)\n",
    "        {\n",
    "            System.out.println(i);\n",
    "        }\n",
    "        else\n",
    "        {\n",
    "            System.out.print(i + \"\\t\");\n",
    "        }\n",
    "    }\n",
    "}\n",
    "squareOfNumbers ();"
   ]
  },
  {
   "cell_type": "markdown",
   "metadata": {},
   "source": [
    "**NOW READ THE ANSWER** [Click here to jump to the solution to this exercise](#Solution9)"
   ]
  },
  {
   "cell_type": "markdown",
   "metadata": {},
   "source": [
    "### Exercise 10 (harder)<a id=\"Exercise10\"></a>\n",
    "Modify the following method, threeTimesTable, to print out a 10 by 10 square of numbers as above, but only print the number if it is in the three times table and otherwise print a .\n",
    "\n",
    "HINT 30, 60 and 90 are a bit tricky to get right (you might want to use the AND (&) logical connective). Get a version working for everything else first. Then worry about modifying it to get those right."
   ]
  },
  {
   "cell_type": "code",
   "execution_count": null,
   "metadata": {},
   "outputs": [],
   "source": [
    "public static void threeTimesTable ()\n",
    "{\n",
    "\n",
    "    for (int i=1; i<=100; i++)\n",
    "    {\n",
    "        if (i % 10 == 0)\n",
    "        {\n",
    "            System.out.println(i);\n",
    "        }\n",
    "        else\n",
    "        {\n",
    "            System.out.print(i + \"\\t\");\n",
    "        }\n",
    "    }\n",
    "}\n",
    "threeTimesTable ();"
   ]
  },
  {
   "cell_type": "markdown",
   "metadata": {},
   "source": [
    "**NOW READ THE ANSWER** [Click here to jump to the solution to this exercise](#Solution10)"
   ]
  },
  {
   "cell_type": "markdown",
   "metadata": {},
   "source": [
    "## Boolean Test Methods\n",
    "\n",
    "We can make programs more readable by creating methods for specific operations, such as checking if a number is divisible by three or checking we are at the end of the row. The name of the method can then tell us what it does."
   ]
  },
  {
   "cell_type": "markdown",
   "metadata": {},
   "source": [
    "\n",
    "### Exercise 11<a id=\"Exercise11\"></a>\n",
    "Read and make sure you understand the following code. Add a new method dividesby10 that takes a number and checks if it divides by 10, similar to the dividesby3 method. Modify the rest of the code to use it."
   ]
  },
  {
   "cell_type": "code",
   "execution_count": null,
   "metadata": {},
   "outputs": [],
   "source": [
    "// Check if i divides by 3\n",
    "//\n",
    "public static boolean dividesBy3(int i)\n",
    "{\n",
    "    boolean result = (i % 3 == 0);\n",
    "    \n",
    "    return result;\n",
    "}\n",
    "\n",
    "\n",
    "// Print the three times table in a 10 x 10 square format\n",
    "//\n",
    "public static void threeTimesTable ()\n",
    "{\n",
    "    final int TABLE_SIZE = 100;\n",
    "\n",
    "    for (int i=1; i<=TABLE_SIZE; i++)\n",
    "    {\n",
    "        if ((i % 10) == 0 & dividesBy3(i)) \n",
    "        {\n",
    "            System.out.println(i);\n",
    "        }\n",
    "        else if ((i % 10) == 0)\n",
    "        {\n",
    "            System.out.println(\".\");\n",
    "        }\n",
    "        else if (dividesBy3(i))\n",
    "        {\n",
    "            System.out.print(i + \"\\t\");\n",
    "        }\n",
    "        else \n",
    "        {\n",
    "            System.out.print(\".\\t\");\n",
    "        }\n",
    "    }\n",
    "}\n",
    "threeTimesTable ();"
   ]
  },
  {
   "cell_type": "markdown",
   "metadata": {},
   "source": [
    "## Generalisation and Abstraction\n",
    "When we have several methods doing a very similar thing, it is better to write one method that does the job for all. This is called generalisation and it is one of the things methods are very good for, that makes programs easier to read and to modify. In the above our methods divideby3 and divideby10 do very similar things.\n",
    "\n",
    "When you have a general method it can also be good to then create bespoke methods that use it with names that fit the purpose. For example, when we divide by 10 in the above program, it is to find the end of the row. It is therefore a good idea to create a method with a name that says that point is to find the end of the row. It can still call the general method to get the job done. This is an example of abstraction."
   ]
  },
  {
   "cell_type": "markdown",
   "metadata": {},
   "source": [
    "**NOW READ THE ANSWER** [Click here to jump to the solution to this exercise](#Solution11)"
   ]
  },
  {
   "cell_type": "markdown",
   "metadata": {},
   "source": [
    "\n",
    "### Exercise 12<a id=\"Exercise12\"></a>\n",
    "\n",
    "Modify the following to create a method dividesbyN that returns true or false if its first argument divides by its second. It should replace both dividesby3 and dividesby10. Use it for both to check for the end of the row and to check whether the number should be printed or not. Make sure it works.\n",
    "\n",
    "Further modify this to create additional methods that call it isEndOfRow and isInTimesTable that call it. Make sure it still works.\n",
    "\n",
    "Have the program allow the user to input which times table is to be printed then print out a 10 by 10 square of numbers as above using dots for those numbers not in the given times table.\n",
    "\n",
    "HINT: Make the changes in stages and make sure everything works before making the next change."
   ]
  },
  {
   "cell_type": "markdown",
   "metadata": {},
   "source": [
    "// Check if i divides by 3\n",
    "//\n",
    "public static boolean dividesBy3(int i)\n",
    "{\n",
    "    boolean result = (i % 3 == 0);\n",
    "    \n",
    "    return result;\n",
    "}\n",
    "\n",
    "\n",
    "// Print the three times table in a 10 x 10 square format\n",
    "//\n",
    "public static void threeTimesTableAgain ()\n",
    "{\n",
    "    final int TABLE_SIZE = 100;\n",
    "\n",
    "    for (int i=1; i<=TABLE_SIZE; i++)\n",
    "    {\n",
    "        if ((i % 10) == 0 & dividesBy3(i)) \n",
    "        {\n",
    "            System.out.println(i);\n",
    "        }\n",
    "        else if ((i % 10) == 0)\n",
    "        {\n",
    "            System.out.println(\".\");\n",
    "        }\n",
    "        else if (dividesBy3(i))\n",
    "        {\n",
    "            System.out.print(i + \"\\t\");\n",
    "        }\n",
    "        else \n",
    "        {\n",
    "            System.out.print(\".\\t\");\n",
    "        }\n",
    "    }\n",
    "}\n",
    "threeTimesTableAgain ();"
   ]
  },
  {
   "cell_type": "markdown",
   "metadata": {},
   "source": [
    "## Full Programs\n",
    "\n",
    "If we put our final version of the above code into a full program version we of course need the class definition, main, include all the methods used, load any libraries being used, etc as below."
   ]
  },
  {
   "cell_type": "markdown",
   "metadata": {},
   "source": [
    "### Exercise 13<a id=\"Exercise13\"></a>\n",
    "Cut and paste the following COMPLETE program into an editor. Save it as the file TimesTable.java, compile, run and test it locally. \n",
    "\n",
    "Turn the earlier code about snakes into a full programs and test it too."
   ]
  },
  {
   "cell_type": "markdown",
   "metadata": {},
   "source": [
    "**NOW READ THE ANSWER** [Click here to jump to the solution to this exercise](#Solution13)"
   ]
  },
  {
   "cell_type": "code",
   "execution_count": null,
   "metadata": {},
   "outputs": [],
   "source": [
    "/* *****************************************\n",
    "@author Paul Curzon\n",
    "@version 1\n",
    "@date 28 July 2020\n",
    "\n",
    "    A program to illustrate if statements inside loops.\n",
    "\n",
    "    Print a given times table in a 10 x 10 format\n",
    "******************************************** */\n",
    "import java.util.Scanner; // Needed to make Scanner available\n",
    "\n",
    "class TimesTables\n",
    "{\n",
    "    public static void main(String[] p)\n",
    "    {\n",
    "\n",
    "        nTimesTable ();\n",
    "        \n",
    "        System.exit(0);\n",
    "    }\n",
    "\n",
    "    // Print the three times table in a 10 x 10 square format\n",
    "    //\n",
    "    public static void nTimesTable ()\n",
    "    {\n",
    "        final int TABLE_SIZE = 100;\n",
    "        int timestable = inputInt(\"Which times table should I print\");\n",
    "    \n",
    "        for (int i=1; i<=TABLE_SIZE; i++)\n",
    "        {\n",
    "            if (isEndOfRow(i) & isInTimesTable(i, timestable)) \n",
    "            {\n",
    "                System.out.println(i);\n",
    "            }\n",
    "            else if (isEndOfRow(i))\n",
    "            {\n",
    "                System.out.println(\".\");\n",
    "            }\n",
    "            else if (isInTimesTable(i, timestable))\n",
    "            {\n",
    "                System.out.print(i + \"\\t\");\n",
    "            }\n",
    "            else \n",
    "            {\n",
    "                System.out.print(\".\\t\");\n",
    "            }\n",
    "        }\n",
    "    }\n",
    "\n",
    "\n",
    "    // Check if first argument divides by the second\n",
    "    //\n",
    "    public static boolean dividesByN(int i, int n)\n",
    "    {\n",
    "        boolean result = (i % n == 0);\n",
    "    \n",
    "        return result;\n",
    "    }\n",
    "\n",
    "\n",
    "    // Is it time to go on to a new line (ie every 10th number)\n",
    "    //\n",
    "    public static boolean isEndOfRow(int i)\n",
    "    {\n",
    "        return dividesByN(i,10);\n",
    "    }\n",
    "\n",
    "    // Is the first argument in the times table of the second\n",
    "    //\n",
    "    public static boolean isInTimesTable(int i, int n)\n",
    "    {\n",
    "        return dividesByN(i,n);\n",
    "    }\n",
    "    \n",
    "    \n",
    "    \n",
    "    // Input a String\n",
    "    //\n",
    "    public static String inputString (String message)\n",
    "    {\n",
    "       String answer;\n",
    "       Scanner scanner = new Scanner(System.in);\n",
    "\n",
    "       System.out.println(message);\n",
    "       answer = scanner.nextLine();\n",
    "   \n",
    "       return answer;\n",
    "    }\n",
    "   \n",
    "    // input an integer\n",
    "    //    \n",
    "    public static int inputInt (String message)\n",
    "    {\n",
    "       String answer = inputString(message);\n",
    "   \n",
    "       return Integer.parseInt(answer);\n",
    "    }\n",
    "}"
   ]
  },
  {
   "cell_type": "markdown",
   "metadata": {},
   "source": [
    "*Once you have done the above exercises (and understand how the concepts work) move on to doing the actual programming exercises from the handbook, writing full programs. You must be able to write full programs, not just fragments.*"
   ]
  },
  {
   "cell_type": "markdown",
   "metadata": {},
   "source": [
    "## Solutions\n",
    "\n",
    "### Solution to Exercise 1<a id=\"Solution1\"></a>\n"
   ]
  },
  {
   "cell_type": "code",
   "execution_count": null,
   "metadata": {},
   "outputs": [],
   "source": [
    "// Name 4 snakes and repeat what they picked\n",
    "//\n",
    "public static void nameSnakes ()\n",
    "{\n",
    "    final int SNAKES_TO_NAME = 4;\n",
    "    \n",
    "    for (int i=1; i<=SNAKES_TO_NAME; i++)\n",
    "    {\n",
    "        String snake = inputString(\"Name a snake\");\n",
    "        \n",
    "        System.out.println(\"You said \" + snake + \" was a snake.\");\n",
    "    }\n",
    "}\n",
    "\n",
    "nameSnakes ();"
   ]
  },
  {
   "cell_type": "markdown",
   "metadata": {},
   "source": [
    "[Return to Exercise](#Exercise1)"
   ]
  },
  {
   "cell_type": "markdown",
   "metadata": {},
   "source": [
    "### Solution to Exercise 2<a id=\"Solution2\"></a>\n",
    "\n",
    "The original version asks the person to name a snake. It then checks if they typed Python. If they did it says that it is venemous. Anything else typed leads to a message saying the program hasn't heard of it so assumes it is venemous. It does this only once (ie for only one snake named).\n",
    "\n",
    "The new version just counts from 1 to 3, doing the same thing each time."
   ]
  },
  {
   "cell_type": "code",
   "execution_count": null,
   "metadata": {},
   "outputs": [],
   "source": [
    "for(int i = 1; i<=3; i++)\n",
    "{\n",
    "    String snake = inputString(\"Name a snake and I will tell you if it is venomous\");\n",
    "        \n",
    "    if (snake.equals(\"Python\"))\n",
    "    {\n",
    "        System.out.println(\"The \" + snake + \" is NOT venomous.\");\n",
    "    }\n",
    "    else\n",
    "    {\n",
    "        System.out.println(\"I have not heard of the \" + snake + \" so assume it is venomous.\");\n",
    "    }\n",
    "}"
   ]
  },
  {
   "cell_type": "markdown",
   "metadata": {},
   "source": [
    "[Return to Exercise](#Exercise2)"
   ]
  },
  {
   "cell_type": "markdown",
   "metadata": {},
   "source": [
    "### Solution to Exercise 3<a id=\"Solution3\"></a>\n",
    "\n",
    "It asks for the names of three snakes. Immediately, after being given each, and before asking for the next, it checks if the name given is \"Python\" OR \"Anaconda\". If so, it says it is not venemous. If anything else is typed, including different capitalisation of the words, it prints that it hasn't heard of it. After printing the message it moves on to asking for the next one."
   ]
  },
  {
   "cell_type": "markdown",
   "metadata": {},
   "source": [
    "[Return to Exercise](#Exercise3)"
   ]
  },
  {
   "cell_type": "markdown",
   "metadata": {},
   "source": [
    "### Solution to Exercise 4<a id=\"Solution4\"></a>"
   ]
  },
  {
   "cell_type": "code",
   "execution_count": null,
   "metadata": {},
   "outputs": [],
   "source": [
    "for(int i = 1; i<=4; i++)\n",
    "{\n",
    "    String snake = inputString(\"Name a snake and I will tell you if it is venomous\");\n",
    "        \n",
    "    if (snake.equals(\"Python\") | snake.equals(\"Anaconda\") | snake.equals(\"Grass Snake\"))\n",
    "    {\n",
    "        System.out.println(\"The \" + snake + \" is NOT venomous.\");\n",
    "    }\n",
    "    else\n",
    "    {\n",
    "        System.out.println(\"I have not heard of the \" + snake + \" so assume it is venomous.\");\n",
    "    }\n",
    "}"
   ]
  },
  {
   "cell_type": "markdown",
   "metadata": {},
   "source": [
    "[Return to Exercise](#Exercise4)"
   ]
  },
  {
   "cell_type": "markdown",
   "metadata": {},
   "source": [
    "### Solution to Exercise 5<a id=\"Solution5\"></a>\n",
    "The code repeats 4 times. It answers differently for different snake names entered when asked each time round the loop.\n",
    "- if Python or Anaconda are typed it notes they are not venemous or can crush you to death.\n",
    "- If Cobra is typed, it prints that it is venemous.\n",
    "- If anything else (including different capitalisation of the above) is typed it says its not heard of it so assumes is dangerous."
   ]
  },
  {
   "cell_type": "markdown",
   "metadata": {},
   "source": [
    "[Return to Exercise](#Exercise5)"
   ]
  },
  {
   "cell_type": "markdown",
   "metadata": {},
   "source": [
    "### Solution to Exercise 6<a id=\"Solution6\"></a>"
   ]
  },
  {
   "cell_type": "code",
   "execution_count": null,
   "metadata": {},
   "outputs": [],
   "source": [
    "for(int i = 1; i<=4; i++)\n",
    "{\n",
    "    String snake = inputString(\"Name a snake and I will tell you if it is venomous\");\n",
    "        \n",
    "    if (snake.equals(\"Python\") | snake.equals(\"Anaconda\") )\n",
    "    {\n",
    "        System.out.println(\"The \" + snake + \" is NOT venomous. However, it can crush you to death.\");\n",
    "    }\n",
    "    else if (snake.equals(\"Cobra\"))\n",
    "    {\n",
    "        System.out.println(\"The \" + snake + \" IS venomous.\");\n",
    "    }\n",
    "    else if (snake.equals(\"Grass Snake\"))\n",
    "    {\n",
    "        System.out.println(\"The \" + snake + \" is harmless.\");\n",
    "    }\n",
    "    else\n",
    "    {\n",
    "        System.out.println(\"I have not heard of the \" + snake + \" so assume it is dangerous.\");\n",
    "    }\n",
    "}"
   ]
  },
  {
   "cell_type": "markdown",
   "metadata": {},
   "source": [
    "[Return to Exercise](#Exercise6)"
   ]
  },
  {
   "cell_type": "markdown",
   "metadata": {},
   "source": [
    "### Solution to Exercise 7<a id=\"Solution7\"></a>\n",
    "\n",
    "Method squareOfNumbers runs a loop that counts from 1 to 21 and the body of the loop just prints that number. This means the numbers from 1 to 21 are printed. However the number is printed differently depending on whether the loop counter i is divisible by 3 or not. Whenever it is, the number is printed followed by a newline (using System.out.println). If it is not then no newline is printed and instead a tab character is printed. This means the numbers are split by tabs but start on a newline every third one. \n",
    "\n",
    "It, therefore, overall prints the numbers in a rectangle 3 columns wide and 7 rows deep.\n",
    "\n",
    "[Return to Exercise](#Exercise7)"
   ]
  },
  {
   "cell_type": "markdown",
   "metadata": {},
   "source": [
    "### Solution to Exercise 8<a id=\"Solution8\"></a>\n",
    "You need to make the for loop count up to 100 and change the modulus operator to be modulus 10 (ie checking that there is no remainder when you divide by 10)."
   ]
  },
  {
   "cell_type": "code",
   "execution_count": null,
   "metadata": {},
   "outputs": [],
   "source": [
    "public static void squareOfNumbers ()\n",
    "{\n",
    "    for (int i=1; i<=100; i++)\n",
    "    {\n",
    "        if (i % 10 == 0)\n",
    "        {\n",
    "            System.out.println(i);\n",
    "        }\n",
    "        else\n",
    "        {\n",
    "            System.out.print(i + \"\\t\");\n",
    "        }\n",
    "    }\n",
    "}\n",
    "squareOfNumbers ();"
   ]
  },
  {
   "cell_type": "markdown",
   "metadata": {},
   "source": [
    "[Return to Exercise](#Exercise8)"
   ]
  },
  {
   "cell_type": "markdown",
   "metadata": {},
   "source": [
    "### Solution to Exercise 9<a id=\"Solution9\"></a>"
   ]
  },
  {
   "cell_type": "code",
   "execution_count": null,
   "metadata": {},
   "outputs": [],
   "source": [
    "public static void squareOfNumbers ()\n",
    "{\n",
    "    int size = inputInt(\" How big a square of numbers do you want?\");\n",
    "    \n",
    "    for (int i=1; i<=(size*size); i++)\n",
    "    {\n",
    "        if (i % size == 0)\n",
    "        {\n",
    "            System.out.println(i);\n",
    "        }\n",
    "        else\n",
    "        {\n",
    "            System.out.print(i + \"\\t\");\n",
    "        }\n",
    "    }\n",
    "}"
   ]
  },
  {
   "cell_type": "markdown",
   "metadata": {},
   "source": [
    "[Return to Exercise](#Exercise9)"
   ]
  },
  {
   "cell_type": "markdown",
   "metadata": {},
   "source": [
    "### Solution to Exercise 10<a id=\"Solution10\"></a>"
   ]
  },
  {
   "cell_type": "code",
   "execution_count": null,
   "metadata": {},
   "outputs": [],
   "source": [
    "public static void threeTimesTable ()\n",
    "{\n",
    "\n",
    "    for (int i=1; i<=100; i++)\n",
    "    {\n",
    "        if ((i % 10) == 0 & (i % 3 == 0))\n",
    "        {\n",
    "            System.out.println(i);\n",
    "        }\n",
    "        else if ((i % 10) == 0)\n",
    "        {\n",
    "            System.out.println(\".\");\n",
    "        }\n",
    "        else if (i % 3 == 0)\n",
    "        {\n",
    "            System.out.print(i + \"\\t\");\n",
    "        }\n",
    "        else \n",
    "        {\n",
    "            System.out.print(\".\\t\");\n",
    "        }\n",
    "    }\n",
    "}\n",
    "threeTimesTable ();"
   ]
  },
  {
   "cell_type": "markdown",
   "metadata": {},
   "source": [
    "[Return to Exercise](#Exercise10)"
   ]
  },
  {
   "cell_type": "markdown",
   "metadata": {},
   "source": [
    "### Solution to Exercise 11<a id=\"Solution11\"></a>"
   ]
  },
  {
   "cell_type": "code",
   "execution_count": null,
   "metadata": {},
   "outputs": [],
   "source": [
    "// Check if i divides by 3\n",
    "//\n",
    "public static boolean dividesBy3(int i)\n",
    "{\n",
    "    boolean result = (i % 3 == 0);\n",
    "    \n",
    "    return result;\n",
    "}\n",
    "\n",
    "// Check if i divides by 10\n",
    "//\n",
    "public static boolean dividesBy10(int i)\n",
    "{\n",
    "    boolean result = (i % 10 == 0);\n",
    "    \n",
    "    return result;\n",
    "}\n",
    "\n",
    "\n",
    "// Print the three times table in a 10 x 10 square format\n",
    "//\n",
    "public static void threeTimesTable ()\n",
    "{\n",
    "    final int TABLE_SIZE = 100;\n",
    "\n",
    "    for (int i=1; i<=TABLE_SIZE; i++)\n",
    "    {\n",
    "        if (dividesBy10(i) & dividesBy3(i)) \n",
    "        {\n",
    "            System.out.println(i);\n",
    "        }\n",
    "        else if (dividesBy10(i))\n",
    "        {\n",
    "            System.out.println(\".\");\n",
    "        }\n",
    "        else if (dividesBy3(i))\n",
    "        {\n",
    "            System.out.print(i + \"\\t\");\n",
    "        }\n",
    "        else \n",
    "        {\n",
    "            System.out.print(\".\\t\");\n",
    "        }\n",
    "    }\n",
    "}\n",
    "threeTimesTable ();"
   ]
  },
  {
   "cell_type": "markdown",
   "metadata": {},
   "source": [
    "[Return to Exercise](#Exercise11)"
   ]
  },
  {
   "cell_type": "markdown",
   "metadata": {},
   "source": [
    "### Solution to Exercise 12<a id=\"Solution12\"></a>"
   ]
  },
  {
   "cell_type": "code",
   "execution_count": null,
   "metadata": {},
   "outputs": [],
   "source": [
    "// Check if first argument divides by the second\n",
    "//\n",
    "public static boolean dividesByN(int i, int n)\n",
    "{\n",
    "    boolean result = (i % n == 0);\n",
    "    \n",
    "    return result;\n",
    "}\n",
    "\n",
    "// Is it time to go on to a new line (ie every 10th number)\n",
    "//\n",
    "public static boolean isEndOfRow(int i)\n",
    "{\n",
    "    return dividesByN(i,10);\n",
    "}\n",
    "\n",
    "// Is the first argument in the times table of the second\n",
    "//\n",
    "public static boolean isInTimesTable(int i, int n)\n",
    "{\n",
    "    return dividesByN(i,n);\n",
    "}\n",
    "\n",
    "\n",
    "// Print the three times table in a 10 x 10 square format\n",
    "//\n",
    "public static void nTimesTable ()\n",
    "{\n",
    "    final int TABLE_SIZE = 100;\n",
    "    int timestable = inputInt(\"Which times table should I print\");\n",
    "    \n",
    "    for (int i=1; i<=TABLE_SIZE; i++)\n",
    "    {\n",
    "        if (isEndOfRow(i) & isInTimesTable(i, timestable)) \n",
    "        {\n",
    "            System.out.println(i);\n",
    "        }\n",
    "        else if (isEndOfRow(i))\n",
    "        {\n",
    "            System.out.println(\".\");\n",
    "        }\n",
    "        else if (isInTimesTable(i, timestable))\n",
    "        {\n",
    "            System.out.print(i + \"\\t\");\n",
    "        }\n",
    "        else \n",
    "        {\n",
    "            System.out.print(\".\\t\");\n",
    "        }\n",
    "    }\n",
    "}\n",
    "nTimesTable ();"
   ]
  },
  {
   "cell_type": "markdown",
   "metadata": {},
   "source": [
    "[Return to Exercise](#Exercise12)"
   ]
  },
  {
   "cell_type": "markdown",
   "metadata": {},
   "source": [
    "### Solution to Exercise 13<a id=\"Solution13\"></a>"
   ]
  },
  {
   "cell_type": "code",
   "execution_count": null,
   "metadata": {},
   "outputs": [],
   "source": [
    "/* *****************************************\n",
    "@author Paul Curzon\n",
    "@version 1\n",
    "@date 28 July 2020\n",
    "\n",
    "    A program to illustrate if statements inside loops.\n",
    "\n",
    "    Print warnings about snakes and whether venomous, harmless, constrictors or unknown.\n",
    "******************************************** */\n",
    "import java.util.Scanner; // Needed to make Scanner available\n",
    "\n",
    "class SnakeWarnings\n",
    "{\n",
    "    public static void main(String[] p)\n",
    "    {\n",
    "\n",
    "        snakeWarnings ();\n",
    "        \n",
    "        System.exit(0);\n",
    "    }\n",
    "\n",
    "    // Print warnings about snakes - harmless? Crush you? Venomous? or unknown?\n",
    "    //\n",
    "    public static void snakeWarnings ()\n",
    "    {    \n",
    "        for(int i = 1; i<=4; i++)\n",
    "        {\n",
    "            String snake = inputString(\"Name a snake and I will tell you if it is venomous\");\n",
    "            \n",
    "            if (snake.equals(\"Python\") | snake.equals(\"Anaconda\") )\n",
    "            {\n",
    "                System.out.println(\"The \" + snake + \" is NOT venomous. However, it can crush you to death.\");\n",
    "            }\n",
    "            else if (snake.equals(\"Cobra\"))\n",
    "            {\n",
    "                System.out.println(\"The \" + snake + \" IS venomous.\");\n",
    "            }\n",
    "            else if (snake.equals(\"Grass Snake\"))\n",
    "            {\n",
    "                System.out.println(\"The \" + snake + \" is harmless.\");\n",
    "            }\n",
    "            else\n",
    "            {\n",
    "                System.out.println(\"I have not heard of the \" + snake + \" so assume it is dangerous.\");\n",
    "            }\n",
    "        }\n",
    "    }    \n",
    "    \n",
    "    \n",
    "    // Input a String\n",
    "    //\n",
    "    public static String inputString (String message)\n",
    "    {\n",
    "       String answer;\n",
    "       Scanner scanner = new Scanner(System.in);\n",
    "\n",
    "       System.out.println(message);\n",
    "       answer = scanner.nextLine();\n",
    "   \n",
    "       return answer;\n",
    "    }\n",
    "}"
   ]
  },
  {
   "cell_type": "markdown",
   "metadata": {},
   "source": [
    "[Return to Exercise](#Exercise13)"
   ]
  }
 ],
 "metadata": {
  "kernelspec": {
   "display_name": "Java",
   "language": "java",
   "name": "java"
  },
  "language_info": {
   "codemirror_mode": "java",
   "file_extension": ".jshell",
   "mimetype": "text/x-java-source",
   "name": "Java",
   "pygments_lexer": "java",
   "version": "11.0.8+10-LTS"
  }
 },
 "nbformat": 4,
 "nbformat_minor": 2
}
