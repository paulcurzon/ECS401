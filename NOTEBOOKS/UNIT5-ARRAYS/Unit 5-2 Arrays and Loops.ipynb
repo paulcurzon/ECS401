{
 "cells": [
  {
   "cell_type": "markdown",
   "metadata": {},
   "source": [
    "# Unit 5 Part 2: Arrays and Loops\n",
    "## Paul Curzon\n",
    "\n",
    "## Interactive Programming Exercises\n",
    "\n",
    "### Learning Outcomes\n",
    "- Read programs that process Arrays using counter-controlled loops\n",
    "- Write programs that process Arrays using counter-controlled loops\n",
    "- Explain programs that process Arrays using counter-controlled loops"
   ]
  },
  {
   "cell_type": "markdown",
   "metadata": {},
   "source": [
    "\n",
    "*This notebook looks at code fragments. After completing these exercises you MUST then go on to write full programs - see the programming exercises in the workbook.*\n",
    "\n",
    "*Answers to exercises are given at the end*\n",
    "\n",
    "**Always read the answers to exercises and compare them to your own. There are important things to learn from the answers.**\n",
    "\n",
    "<span style=\"color: red;\"> It is a really good idea to add your own notes throughout this notebook to reinforce what you have learnt and highlight important points. Click on the + in the toolbar above to make a new note area, and change it from Code to Markdown in the dropdown menu above if your note is not executable code. You may also want to highlight your notes in red as here, so they stand out. You change colours using span like this: </span>\n",
    "```\n",
    "<span style=\"color: red;\">THE TEXT TO COLOUR RED</span>\n",
    "```"
   ]
  },
  {
   "cell_type": "markdown",
   "metadata": {},
   "source": [
    "## Refresher\n",
    "\n",
    "### Exercise 1<a id=\"Exercise1\"></a>\n",
    "\n",
    "Predict what the following code fragment will do, then run it to see if you are right. \n",
    "\n",
    "Modify it to store in the last two positions in the array: Ashleigh Barty and Martina Navratilova, then print all entries"
   ]
  },
  {
   "cell_type": "code",
   "execution_count": null,
   "metadata": {
    "scrolled": true
   },
   "outputs": [],
   "source": [
    "// Store the names of the four player in a tennis tournament and print them\n",
    "public static void tennisTournament1()\n",
    "{\n",
    "    String [] names_of_players = new String[4]; // declare an array of size 4\n",
    "    \n",
    "    names_of_players [0] = \"Serena Williams\";\n",
    "    names_of_players [1] = \"Venus Williams\";\n",
    "    \n",
    "    System.out.println(names_of_players [0]);\n",
    "    System.out.println(names_of_players [1]);\n",
    "    \n",
    "    return;\n",
    "}\n",
    "\n",
    "tennisTournament1();"
   ]
  },
  {
   "cell_type": "markdown",
   "metadata": {},
   "source": [
    "**NOW READ THE ANSWER** [Click here to jump to the solution to this exercise](#Solution1)"
   ]
  },
  {
   "cell_type": "markdown",
   "metadata": {},
   "source": [
    "## Declaring the size of an array\n",
    "Arrays are different to the simpler data types we have mainly seen before in that their size and so the amount of space they need varies from array to array. As with records, the space needs to be **explicitly allocated** for an array before it is used. If we initialise an array at the same time as declaring it, then this can be sorted out automatically by the compiler. If not, then it is a good idea to allocate the space at declaration time. \n",
    "\n",
    "We use keyword **new** to do this following it with the Array type but with the size of the array in the square brackets.\n",
    "\n",
    "A typical Array declaration is therefore:\n",
    "\n",
    "```java\n",
    "String [] a = new String[100];\n",
    "```\n",
    "This declares a String array called *a* of size 100 - it allocates enough space in *a*  for an array holding 100 String values.\n"
   ]
  },
  {
   "cell_type": "markdown",
   "metadata": {},
   "source": [
    "## Exercise 2<a id=\"Exercise2\"></a>\n",
    "\n",
    "Modify the method below to include 5 players, with the fifth player:  Naomi Osaka. You will need to increase the size of the array.\n",
    "\n",
    "HINT: You MUST change the size of the array."
   ]
  },
  {
   "cell_type": "code",
   "execution_count": null,
   "metadata": {
    "scrolled": true
   },
   "outputs": [],
   "source": [
    "// Store the names of the FIVE player in a tennis tournament and print them\n",
    "public static void tennisTournament2()\n",
    "{\n",
    "    String [] names_of_players = new String[4];\n",
    "    \n",
    "    names_of_players [0] = \"Serena Williams\";\n",
    "    names_of_players [1] = \"Venus Williams\";\n",
    "    names_of_players [2] = \"Ashleigh Barty\";\n",
    "    names_of_players [3] = \"Martina Navratilova\";\n",
    "    \n",
    "    System.out.println(names_of_players [0]);\n",
    "    System.out.println(names_of_players [1]);\n",
    "    System.out.println(names_of_players [2]);\n",
    "    System.out.println(names_of_players [3]);\n",
    "    return;\n",
    "}\n",
    "\n",
    "tennisTournament2();"
   ]
  },
  {
   "cell_type": "markdown",
   "metadata": {},
   "source": [
    "**NOW READ THE ANSWER** [Click here to jump to the solution to this exercise](#Solution2)"
   ]
  },
  {
   "cell_type": "markdown",
   "metadata": {},
   "source": [
    "## Processing arrays with for loops\n",
    "Arrays have a close link to counter-controlled loops (eg for loops). For loops do the same thing a fixed number of times controlled by a counter (ie a number). Arrays store a fixed number of things (of the same type) in places indicated by an index (ie a number). \n",
    "\n",
    "For loops are an obvious way to process each piece of data stored in an array, by doing the same thing at each index position.\n",
    "\n",
    "In the previous methods, we had lots of similar lines like this\n",
    "```java\n",
    "        System.out.println(names_of_players [....]);\n",
    "```\n",
    "They just differ by the position in the array being accessed. That is the sort of situation where it is much better to use a for loop. You can then write it out once surrounded by a loop, instead of lots of times."
   ]
  },
  {
   "cell_type": "markdown",
   "metadata": {},
   "source": [
    "### Exercise 3<a id=\"Exercise3\"></a>\n",
    "\n",
    "The following does the same thing as the earlier method, but uses a loop. Run it to make sure you understand what it does and how it works, then modify it to include the fifth player, Naomi Osaka."
   ]
  },
  {
   "cell_type": "code",
   "execution_count": null,
   "metadata": {},
   "outputs": [],
   "source": [
    "// Store the names of the four player in a tennis tournament and print them\n",
    "public static void tennisTournament3()\n",
    "{\n",
    "    String [] names_of_players = new String[4];\n",
    "    \n",
    "    names_of_players [0] = \"Serena Williams\";\n",
    "    names_of_players [1] = \"Venus Williams\";\n",
    "    names_of_players [2] = \"Ashleigh Barty\";\n",
    "    names_of_players [3] = \"Martina Navratilova\";\n",
    "    \n",
    "    for(int i = 0; i<4; i++)\n",
    "    {\n",
    "        System.out.println(names_of_players [i]);\n",
    "    }\n",
    "    \n",
    "    return;\n",
    " }\n",
    "\n",
    "tennisTournament3();"
   ]
  },
  {
   "cell_type": "markdown",
   "metadata": {},
   "source": [
    "**NOW READ THE ANSWER** [Click here to jump to the solution to this exercise](#Solution3)"
   ]
  },
  {
   "cell_type": "markdown",
   "metadata": {},
   "source": [
    "## Inputting the values into an array\n",
    "The program above hard wires data into the program: the names of the players are part of the program. It is more sensible to have the user input the data."
   ]
  },
  {
   "cell_type": "markdown",
   "metadata": {},
   "source": [
    "### Exercise 4<a id=\"Exercise4\"></a>\n",
    "The following code uses an input method to input data into an array. Modify it to use a for loop to allow the user to input all four of the player's names and then print them."
   ]
  },
  {
   "cell_type": "code",
   "execution_count": null,
   "metadata": {
    "scrolled": true
   },
   "outputs": [],
   "source": [
    "// Allow a single string to be input, returning the string typed as the answer\n",
    "//\n",
    "public static String inputString (String message)\n",
    "{\n",
    "       String answer;\n",
    "       Scanner scanner = new Scanner(System.in);\n",
    "\n",
    "       System.out.println(message);\n",
    "       answer = scanner.nextLine();\n",
    "\n",
    "       return answer;\n",
    "} // END inputString\n",
    "\n",
    "// Input the names of the four player in a tennis tournament and print them\n",
    "public static void tennisTournament4()\n",
    "{\n",
    "    String [] names_of_players = new String[4];\n",
    "    \n",
    "    names_of_players [0] = inputString(\"What is the next player's name?\");\n",
    "    names_of_players [1] = inputString(\"What is the next player's name?\");\n",
    "    \n",
    "    System.out.println(\"The following players are playing this year:\");\n",
    "\n",
    "    for(int i = 0; i<2; i++)\n",
    "    {\n",
    "        System.out.println(names_of_players [i]);\n",
    "    }\n",
    "    \n",
    "    return;\n",
    " }\n",
    "\n",
    "tennisTournament4();"
   ]
  },
  {
   "cell_type": "markdown",
   "metadata": {},
   "source": [
    "**NOW READ THE ANSWER** [Click here to jump to the solution to this exercise](#Solution4)"
   ]
  },
  {
   "cell_type": "markdown",
   "metadata": {},
   "source": [
    "### Exercise 5<a id=\"Exercise5\"></a>\n",
    "\n",
    "Run the following. It asks how many players you want to input but then ignores that number. Change the two loops to use the number input. You will also need to change the size of the array.\n",
    "\n",
    "HINT You need to generalise the number 4 throughout by replacing it with the variable."
   ]
  },
  {
   "cell_type": "code",
   "execution_count": null,
   "metadata": {},
   "outputs": [],
   "source": [
    "// Allow a single integer to be input, returning the integer typed as the answer\n",
    "//\n",
    "public static int inputInt (String message)\n",
    "{\n",
    "       String answer = inputString(message);\n",
    "       return Integer.parseInt(answer);\n",
    "}\n",
    "\n",
    "// Input the names of a given number of players in a tennis tournament and print them\n",
    "public static void tennisTournament5()\n",
    "{\n",
    "    final int NUMBER_OF_PLAYERS = inputInt(\"How many players are playing?\");\n",
    "    String [] names_of_players = new String[4];\n",
    "        \n",
    "    for(int i = 0; i<4; i++)\n",
    "    {\n",
    "        names_of_players [i] = inputString(\"What is the next player's name?\");\n",
    "    }\n",
    "        \n",
    "    System.out.println(\"The following players are playing this year:\");\n",
    "\n",
    "    for(int i = 0; i<4; i++)\n",
    "    {\n",
    "        System.out.println(names_of_players [i]);\n",
    "    }\n",
    "    return;\n",
    " }\n",
    "\n",
    "tennisTournament5();"
   ]
  },
  {
   "cell_type": "markdown",
   "metadata": {},
   "source": [
    "**NOW READ THE ANSWER** [Click here to jump to the solution to this exercise](#Solution5)"
   ]
  },
  {
   "cell_type": "markdown",
   "metadata": {},
   "source": [
    "### Exercise 6<a id=\"Exercise6\"></a>\n",
    "Complete the following code.  It should ask for your Top 5 favourite games, store them in an array and then print them. You must add code to declare an array of a suitable size. You must also add a pair of for loops: one to do input into the array and one to print the contents of the array.\n",
    "\n",
    "The Top 5 should be printed with their position number, from 1 to 5.\n",
    "eg\n",
    "```\n",
    "1: Minecraft\n",
    "2: Chess\n",
    "3: World of Warcraft\n",
    "4: Fortnite\n",
    "5: Mah Jong Solitaire\n",
    "```"
   ]
  },
  {
   "cell_type": "code",
   "execution_count": null,
   "metadata": {},
   "outputs": [],
   "source": [
    "// Input and Print the Top 5 favourite games\n",
    "public static void favouriteGames()\n",
    "{\n",
    "    final int NUMBER_OF_GAMES = 5;\n",
    "    \n",
    "    //ADD CODE TO COMPLETE THE METHOD HERE\n",
    "    return;\n",
    " }\n",
    "\n",
    "favouriteGames();"
   ]
  },
  {
   "cell_type": "markdown",
   "metadata": {},
   "source": [
    "**NOW READ THE ANSWER** [Click here to jump to the solution to this exercise](#Solution6)"
   ]
  },
  {
   "cell_type": "markdown",
   "metadata": {},
   "source": [
    "### Exercise 7<a id=\"Exercise7\"></a>\n",
    "Both filling an array and printing an array are clearly defined tasks that we are likely to need to do more than once. It makes sense, therfore, to create methods to do them. The following is a method I have split off to create and fill the array. It takes the size of the required array as an argument and returns the array. \n",
    "\n",
    "I have added a call just to test it. The call stores the array returned in a variable called names (but doesn't then do anything with it).\n",
    "\n",
    "Run it and make sure you understand what it does. Try changing the number 3 in the call to other values, predicting what will happen and then check to see if you are right. Explain what is happening."
   ]
  },
  {
   "cell_type": "markdown",
   "metadata": {},
   "source": [
    "**Write your explanation here**"
   ]
  },
  {
   "cell_type": "code",
   "execution_count": null,
   "metadata": {},
   "outputs": [],
   "source": [
    "// Input the names of a given number of players in a tennis tournament \n",
    "// creating the array to store them and returning the array\n",
    "public static String[] createPlayerArray(int SIZE)\n",
    "{\n",
    "    String [] names_of_players = new String[SIZE];\n",
    "    \n",
    "    for(int i = 0; i<SIZE; i++)\n",
    "    {\n",
    "        names_of_players [i] = inputString(\"What is the next player's name?\");\n",
    "    }\n",
    "    \n",
    "    return names_of_players;\n",
    "}\n",
    "\n",
    "String [] names = createPlayerArray(3);"
   ]
  },
  {
   "cell_type": "markdown",
   "metadata": {},
   "source": [
    "**NOW READ THE ANSWER** [Click here to jump to the solution to this exercise](#Solution7)"
   ]
  },
  {
   "cell_type": "markdown",
   "metadata": {},
   "source": [
    "### Exercise 8<a id=\"Exercise8\"></a>\n",
    "Modify the following code to create and fill the array. It should do this with a call to the above createPlayerArray method (currently if you try to compile/run this code it will give a compile-time error). \n",
    "\n",
    "It should then do exactly the same as the earlier version.\n",
    "\n",
    "HINT: You will need to declare the array variable too. "
   ]
  },
  {
   "cell_type": "code",
   "execution_count": null,
   "metadata": {},
   "outputs": [],
   "source": [
    "// Input the names of a given number of players in a tennis tournament and print them\n",
    "public static void tennisTournament8()\n",
    "{\n",
    "    final int NUMBER_OF_PLAYERS = inputInt(\"How many players are playing?\");\n",
    "    \n",
    "    // DECLARE THE ARRAY AND ADD A CALL TO createPlayerArray HERE\n",
    "        \n",
    "    System.out.println(\"The following players are playing this year:\");\n",
    "\n",
    "    for(int i = 0; i<NUMBER_OF_PLAYERS; i++)\n",
    "    {\n",
    "        System.out.println(names_of_players [i]);\n",
    "    }\n",
    "    return;\n",
    " }\n",
    "\n",
    "tennisTournament8();"
   ]
  },
  {
   "cell_type": "markdown",
   "metadata": {},
   "source": [
    "**NOW READ THE ANSWER** [Click here to jump to the solution to this exercise](#Solution8)"
   ]
  },
  {
   "cell_type": "markdown",
   "metadata": {},
   "source": [
    "### Exercise 9<a id=\"Exercise9\"></a>\n",
    "We will now, in this and the next exercise, modify the method further to split off printing an array into its own general method. \n",
    "\n",
    "Complete the following code to print an array passed to it as an argument, along with the number of entries to print."
   ]
  },
  {
   "cell_type": "code",
   "execution_count": null,
   "metadata": {},
   "outputs": [],
   "source": [
    "// Print each entry of an array on a new line\n",
    "public static void printArray(int SIZE, String[] a) \n",
    "{\n",
    "    // COMPLETE THIS METHOD USING A FOR LOOP TO PRINT THE ARRAY ARGUMENT\n",
    "}\n",
    "\n",
    "String[] players = {\"Serena\", \"Venus\"}; // Test Data\n",
    "printArray(2, players); // A simple test call\n",
    "// Test should print:\n",
    "// 1:     Serena\n",
    "// 2:     Venus"
   ]
  },
  {
   "cell_type": "markdown",
   "metadata": {},
   "source": [
    "**NOW READ THE ANSWER** [Click here to jump to the solution to this exercise](#Solution9)"
   ]
  },
  {
   "cell_type": "markdown",
   "metadata": {},
   "source": [
    "### Exercise 10<a id=\"Exercise10\"></a>\n",
    "\n",
    "Finally, modify the code below to remove the for loop and replace it with a call to the printArray method defined above."
   ]
  },
  {
   "cell_type": "code",
   "execution_count": null,
   "metadata": {},
   "outputs": [],
   "source": [
    "// Input the names of a given number of players in a tennis tournament and print them\n",
    "public static void tennisTournament10()\n",
    "{\n",
    "    final int NUMBER_OF_PLAYERS = inputInt(\"How many players are playing?\");\n",
    "    String [] names_of_players = createPlayerArray(NUMBER_OF_PLAYERS);    \n",
    "         \n",
    "    System.out.println(\"The following players are playing this year:\");\n",
    "\n",
    "    // REPLACE THIS WITH A CALL TO THE printArray METHOD\n",
    "    for(int i = 0; i<NUMBER_OF_PLAYERS; i++)\n",
    "    {\n",
    "        System.out.println(names_of_players [i]);\n",
    "    }\n",
    "    return;\n",
    " }\n",
    "\n",
    "tennisTournament10();"
   ]
  },
  {
   "cell_type": "markdown",
   "metadata": {},
   "source": [
    "**NOW READ THE ANSWER** [Click here to jump to the solution to this exercise](#Solution10)"
   ]
  },
  {
   "cell_type": "markdown",
   "metadata": {},
   "source": [
    "### Exercise 11<a id=\"Exercise11\"></a>\n",
    "Rewrite your Top 5 favourite games code fron the earlier exercise, but now using methods to store them in an array and print them. "
   ]
  },
  {
   "cell_type": "code",
   "execution_count": null,
   "metadata": {},
   "outputs": [],
   "source": [
    "// Input and then print the top 5 games.\n"
   ]
  },
  {
   "cell_type": "markdown",
   "metadata": {},
   "source": [
    "**NOW READ THE ANSWER** [Click here to jump to the solution to this exercise](#Solution11)"
   ]
  },
  {
   "cell_type": "markdown",
   "metadata": {},
   "source": [
    "### Exercise 12<a id=\"Exercise12\"></a>\n",
    "Rewrite your Top 5 favourite games code, but now the code should count down instead of counting up ie 5, 4, ... 1.\n",
    "\n",
    "Once you get it to work, write a full program version and compile and run it on your computer rather than in this notebook."
   ]
  },
  {
   "cell_type": "code",
   "execution_count": null,
   "metadata": {},
   "outputs": [],
   "source": [
    "// Input and then print the top 5 games in reverse order.\n"
   ]
  },
  {
   "cell_type": "markdown",
   "metadata": {},
   "source": [
    "**NOW READ THE ANSWER** [Click here to jump to the solution to this exercise](#Solution12)"
   ]
  },
  {
   "cell_type": "markdown",
   "metadata": {},
   "source": [
    "### Exercise 13<a id=\"Exercise13\"></a>\n",
    "Explain in your own words how  storage space for arrays is allocated and how for loops can be used to process an array."
   ]
  },
  {
   "cell_type": "markdown",
   "metadata": {},
   "source": [
    "**Write your explanation here**\n",
    "\n"
   ]
  },
  {
   "cell_type": "markdown",
   "metadata": {},
   "source": [
    "**NOW READ THE ANSWER** [Click here to jump to the solution to this exercise](#Solution13)"
   ]
  },
  {
   "cell_type": "markdown",
   "metadata": {},
   "source": [
    "*Once you have done the above exercises (and understand how the concepts work) move on to doing the actual programming exercises from the handbook, writing full programs. You must be able to write full programs, not just fragments.*"
   ]
  },
  {
   "cell_type": "markdown",
   "metadata": {},
   "source": [
    "## Solutions\n",
    "\n",
    "### Solution to Exercise 1<a id=\"Solution1\"></a>\n",
    "It prints \n",
    "```\n",
    "Serena Williams\n",
    "Venus Williams\n",
    "```\n",
    "as it first creates an array of size 4, then stores names of players in the first two of the entries (index 0 and index 1). It then prints out what is stored in those two positions of the array.\n",
    "\n",
    "To store and print 4 players:"
   ]
  },
  {
   "cell_type": "code",
   "execution_count": null,
   "metadata": {},
   "outputs": [],
   "source": [
    "// Store the names of the four player in a tennis tournament and print them\n",
    "public static void tennisTournament1()\n",
    "{\n",
    "    String [] names_of_players = new String[4];\n",
    "    \n",
    "    names_of_players [0] = \"Serena Williams\";\n",
    "    names_of_players [1] = \"Venus Williams\";\n",
    "    names_of_players [2] = \"Ashleigh Barty\";\n",
    "    names_of_players [3] = \"Martina Navratilova\";\n",
    "    \n",
    "    System.out.println(names_of_players [0]);\n",
    "    System.out.println(names_of_players [1]);\n",
    "    System.out.println(names_of_players [2]);\n",
    "    System.out.println(names_of_players [3]);\n",
    "    return;\n",
    "}\n",
    "\n",
    "tennisTournament1();"
   ]
  },
  {
   "cell_type": "markdown",
   "metadata": {},
   "source": [
    "[Return to Exercise](#Exercise1)"
   ]
  },
  {
   "cell_type": "markdown",
   "metadata": {},
   "source": [
    "### Solution to Exercise 2<a id=\"Solution2\"></a>"
   ]
  },
  {
   "cell_type": "code",
   "execution_count": null,
   "metadata": {},
   "outputs": [],
   "source": [
    "// Store the names of the FIVE player in a tennis tournament and print them\n",
    "public static void tennisTournament2()\n",
    "{\n",
    "    String [] names_of_players = new String[5];\n",
    "    \n",
    "    names_of_players [0] = \"Serena Williams\";\n",
    "    names_of_players [1] = \"Venus Williams\";\n",
    "    names_of_players [2] = \"Ashleigh Barty\";\n",
    "    names_of_players [3] = \"Martina Navratilova\";\n",
    "    names_of_players [4] = \"Naomi Osaka\";\n",
    "    \n",
    "    System.out.println(names_of_players [0]);\n",
    "    System.out.println(names_of_players [1]);\n",
    "    System.out.println(names_of_players [2]);\n",
    "    System.out.println(names_of_players [3]);\n",
    "    System.out.println(names_of_players [4]);\n",
    "    return;\n",
    "}\n",
    "\n",
    "tennisTournament2();"
   ]
  },
  {
   "cell_type": "markdown",
   "metadata": {},
   "source": [
    "[Return to Exercise](#Exercise2)"
   ]
  },
  {
   "cell_type": "markdown",
   "metadata": {},
   "source": [
    "### Solution to Exercise 3<a id=\"Solution3\"></a>"
   ]
  },
  {
   "cell_type": "code",
   "execution_count": null,
   "metadata": {},
   "outputs": [],
   "source": [
    "/ Store the names of the FIVE player in a tennis tournament and print them\n",
    "public static void tennisTournament3()\n",
    "{\n",
    "    String [] names_of_players = new String[5];\n",
    "    \n",
    "    names_of_players [0] = \"Serena Williams\";\n",
    "    names_of_players [1] = \"Venus Williams\";\n",
    "    names_of_players [2] = \"Ashleigh Barty\";\n",
    "    names_of_players [3] = \"Martina Navratilova\";\n",
    "    names_of_players [4] = \"Naomi Osaka\";\n",
    "    \n",
    "    for(int i = 0; i<5; i++)\n",
    "    {\n",
    "        System.out.println(names_of_players [i]);\n",
    "    }\n",
    "    return;\n",
    " }\n",
    "\n",
    "tennisTournament3();"
   ]
  },
  {
   "cell_type": "markdown",
   "metadata": {},
   "source": [
    "[Return to Exercise](#Exercise3)"
   ]
  },
  {
   "cell_type": "markdown",
   "metadata": {},
   "source": [
    "### Solution to Exercise 4<a id=\"Solution4\"></a>"
   ]
  },
  {
   "cell_type": "code",
   "execution_count": null,
   "metadata": {},
   "outputs": [],
   "source": [
    "// Allow a single film to be input, returning the film typed as the answer\n",
    "//\n",
    "public static String inputString (String message)\n",
    "{\n",
    "       String answer;\n",
    "       Scanner scanner = new Scanner(System.in);\n",
    "\n",
    "       System.out.println(message);\n",
    "       answer = scanner.nextLine();\n",
    "\n",
    "       return answer;\n",
    "} // END inputString\n",
    "\n",
    "// Input the names of the four player in a tennis tournament and print them\n",
    "public static void tennisTournament4()\n",
    "{\n",
    "    String [] names_of_players = new String[4];\n",
    "    \n",
    "    for(int i = 0; i<4; i++)\n",
    "    {\n",
    "        names_of_players [i] = inputString(\"What is the next player's name?\");\n",
    "    }\n",
    "        \n",
    "    System.out.println(\"The following players are playing this year:\");\n",
    "\n",
    "    for(int i = 0; i<4; i++)\n",
    "    {\n",
    "        System.out.println(names_of_players [i]);\n",
    "    }\n",
    "    return;\n",
    " }\n",
    "\n",
    "tennisTournament4();"
   ]
  },
  {
   "cell_type": "markdown",
   "metadata": {},
   "source": [
    "[Return to Exercise](#Exercise4)"
   ]
  },
  {
   "cell_type": "markdown",
   "metadata": {},
   "source": [
    "### Solution to Exercise 5<a id=\"Solution5\"></a>\n",
    "\n",
    "Notice how here the variable NUMBER_OF_PLAYERS is declared as a final variable. That tells the compiler it will not change once set. **By convention, final variables are in UPPER CASE.** It is used later in the code to give the size of the array. Another way to give the size of the array is to write ```a.length``` where a is the name of the array. Using a variable can be more flexible, eg for situations where the array is only partially filled."
   ]
  },
  {
   "cell_type": "code",
   "execution_count": null,
   "metadata": {},
   "outputs": [],
   "source": [
    "// Allow a single integer to be input, returning the integer typed as the answer\n",
    "//\n",
    "public static int inputInt (String message)\n",
    "{\n",
    "       String answer = inputString(message);\n",
    "       return Integer.parseInt(answer);\n",
    "}\n",
    "\n",
    "// Input the names of a given number of players in a tennis tournament and print them\n",
    "public static void tennisTournament5()\n",
    "{\n",
    "    final int NUMBER_OF_PLAYERS = inputInt(\"How many players are playing?\");\n",
    "    String [] names_of_players = new String[number_of_players];\n",
    "    \n",
    "    for(int i = 0; i<NUMBER_OF_PLAYERS; i++)\n",
    "    {\n",
    "        names_of_players [i] = inputString(\"What is the next player's name?\");\n",
    "    }\n",
    "        \n",
    "    System.out.println(\"The following players are playing this year:\");\n",
    "\n",
    "    for(int i = 0; i<NUMBER_OF_PLAYERS; i++)\n",
    "    {\n",
    "        System.out.println(names_of_players [i]);\n",
    "    }\n",
    "    return;\n",
    " }\n",
    "\n",
    "tennisTournament5();"
   ]
  },
  {
   "cell_type": "markdown",
   "metadata": {},
   "source": [
    "[Return to Exercise](#Exercise5)"
   ]
  },
  {
   "cell_type": "markdown",
   "metadata": {},
   "source": [
    "### Solution to Exercise 6<a id=\"Solution6\"></a>\n",
    "Note in the following how we print numbering from 1 to 5, rather than 0-4, just by printing the value of (i+1) for array position i, rather than i itself."
   ]
  },
  {
   "cell_type": "code",
   "execution_count": null,
   "metadata": {},
   "outputs": [],
   "source": [
    "// Input and Print the Top 10 favourite games\n",
    "public static void favouriteGames()\n",
    "{\n",
    "    final int NUMBER_OF_GAMES = 5;\n",
    "    String [] game = new String[NUMBER_OF_GAMES];\n",
    "        \n",
    "    for(int i = 0; i<NUMBER_OF_GAMES; i++)\n",
    "    {\n",
    "        game [i] = inputString(\"What is the name of game \" + (i+1) + \"?\");\n",
    "    }\n",
    "        \n",
    "    System.out.println(\"The top \"+ NUMBER_OF_GAMES + \" is:\");\n",
    "\n",
    "    for(int i = 0; i<NUMBER_OF_GAMES; i++)\n",
    "    {\n",
    "        System.out.println((i+1) + \": \" + game [i]);\n",
    "    }\n",
    "    return;\n",
    " }\n",
    "\n",
    "favouriteGames();"
   ]
  },
  {
   "cell_type": "markdown",
   "metadata": {},
   "source": [
    "[Return to Exercise](#Exercise6)"
   ]
  },
  {
   "cell_type": "markdown",
   "metadata": {},
   "source": [
    "### Solution to Exercise 7<a id=\"Solution7\"></a>\n",
    "It repeatedly asks for a player name. The number of times it does this depends on the number argument. It sets the size of the array created and controls filling it so that exactly that number of names are asked for.\n",
    "\n",
    "Change the number and you change the size of the array as well as how many times a name is asked for. So, if you changed it to 64 then the code asks for 64 names.\n",
    "\n",
    "[Return to Exercise](#Exercise7)"
   ]
  },
  {
   "cell_type": "markdown",
   "metadata": {},
   "source": [
    "### Solution to Exercise 8<a id=\"Solution8\"></a>\n",
    "You need to add the line"
   ]
  },
  {
   "cell_type": "code",
   "execution_count": null,
   "metadata": {},
   "outputs": [],
   "source": [
    "   String [] names_of_players = createPlayerArray(number_of_players);"
   ]
  },
  {
   "cell_type": "markdown",
   "metadata": {},
   "source": [
    "The full code is:"
   ]
  },
  {
   "cell_type": "code",
   "execution_count": null,
   "metadata": {},
   "outputs": [],
   "source": [
    "// Input the names of a given number of players in a tennis tournament and print them\n",
    "public static void tennisTournament8()\n",
    "{\n",
    "    final int NUMBER_OF_PLAYERS = inputInt(\"How many players are playing?\");\n",
    "    String [] names_of_players = createPlayerArray(NUMBER_OF_PLAYERS);\n",
    "        \n",
    "    System.out.println(\"The following players are playing this year:\");\n",
    "\n",
    "    for(int i = 0; i<NUMBER_OF_PLAYERS; i++)\n",
    "    {\n",
    "        System.out.println(names_of_players [i]);\n",
    "    }\n",
    "    return;\n",
    " }\n",
    "\n",
    "tennisTournament8();"
   ]
  },
  {
   "cell_type": "markdown",
   "metadata": {},
   "source": [
    "[Return to Exercise](#Exercise8)"
   ]
  },
  {
   "cell_type": "markdown",
   "metadata": {},
   "source": [
    "### Solution to Exercise 9<a id=\"Solution9\"></a>"
   ]
  },
  {
   "cell_type": "code",
   "execution_count": null,
   "metadata": {},
   "outputs": [],
   "source": [
    "// Print each entry of an array on a new line\n",
    "public static void printArray(int SIZE, String[] a) \n",
    "{\n",
    "    for(int i = 0; i<SIZE; i++)\n",
    "    {\n",
    "       System.out.println(i+1 + \":\\t\" + a[i]);\n",
    "    }\n",
    "    return;\n",
    " }\n",
    "\n",
    "String[] players = {\"Serena\", \"Venus\"}; // Test Data\n",
    "printArray(2, players); // Test call"
   ]
  },
  {
   "cell_type": "markdown",
   "metadata": {},
   "source": [
    "[Return to Exercise](#Exercise9)"
   ]
  },
  {
   "cell_type": "markdown",
   "metadata": {},
   "source": [
    "### Solution to Exercise 10<a id=\"Solution10\"></a>"
   ]
  },
  {
   "cell_type": "code",
   "execution_count": null,
   "metadata": {},
   "outputs": [],
   "source": [
    "// Input the names of a given number of players in a tennis tournament and print them\n",
    "public static void tennisTournament10()\n",
    "{\n",
    "    final int NUMBER_OF_PLAYERS = inputInt(\"How many players are playing?\");\n",
    "    String [] names_of_players = createPlayerArray(NUMBER_OF_PLAYERS);    \n",
    "         \n",
    "    System.out.println(\"The following players are playing this year:\");\n",
    "\n",
    "    printArray(NUMBER_OF_PLAYERS,names_of_players);\n",
    "    return;\n",
    " }\n",
    "\n",
    "tennisTournament10();"
   ]
  },
  {
   "cell_type": "markdown",
   "metadata": {},
   "source": [
    "[Return to Exercise](#Exercise10)"
   ]
  },
  {
   "cell_type": "markdown",
   "metadata": {},
   "source": [
    "### Solution to Exercise 11<a id=\"Solution11\"></a>\n",
    "We've used very general versions of the methods. Yours may be less general which is fine, but if you can generalise methods so they are more widely useful you should."
   ]
  },
  {
   "cell_type": "code",
   "execution_count": null,
   "metadata": {},
   "outputs": [],
   "source": [
    "// Input and then print the top 5 games in reverse order.\n",
    "public static void favouriteGames2()\n",
    "{\n",
    "    final int NUMBER_OF_GAMES = 5;\n",
    "    String [] game = createArray(\"What is the name of game \", NUMBER_OF_GAMES);\n",
    "        \n",
    "    System.out.println(\"The top \" + NUMBER_OF_GAMES + \" is:\");\n",
    "\n",
    "    printArray(NUMBER_OF_GAMES, game);\n",
    "    \n",
    "    return;\n",
    " }\n",
    "\n",
    "favouriteGames2();"
   ]
  },
  {
   "cell_type": "markdown",
   "metadata": {},
   "source": [
    "[Return to Exercise](#Exercise11)"
   ]
  },
  {
   "cell_type": "markdown",
   "metadata": {},
   "source": [
    "### Solution to Exercise 12<a id=\"Solution12\"></a>\n",
    "We've used very general versions of the methods. Yours may be less general which is fine, but if you can generalise methods so they are more widely useful you should."
   ]
  },
  {
   "cell_type": "code",
   "execution_count": null,
   "metadata": {},
   "outputs": [],
   "source": [
    "// Print each entry of an array on a new line in reverse order\n",
    "// Print the array position (but using numbers from 1 not 0) before each entry\n",
    "//\n",
    "public static void printArrayReverse(int SIZE, String[] a) \n",
    "{\n",
    "    for(int i = SIZE-1; i>=0; i--)\n",
    "    {\n",
    "        System.out.println(i+1 + \":\\t\" + a[i]);\n",
    "    }\n",
    "    return;\n",
    " }\n",
    "\n",
    "// Create an array and fill it\n",
    "// Print the array position before each entry\n",
    "//\n",
    "public static String[] createArray(String message, int SIZE) \n",
    "{\n",
    "    String [] a = new String [SIZE];\n",
    "    \n",
    "    for(int i = 0; i<SIZE; i++)\n",
    "    {\n",
    "        a [i] = inputString(message + (i+1) + \"?\");\n",
    "    }\n",
    "    return a;\n",
    " }\n",
    "\n",
    "// Input and then print the top 10 games in reverse order.\n",
    "public static void favouriteGames3()\n",
    "{\n",
    "    final int NUMBER_OF_GAMES = 5;\n",
    "    String [] game = createArray(\"What is the name of game \", NUMBER_OF_GAMES);\n",
    "        \n",
    "    System.out.println(\"The top \" + NUMBER_OF_GAMES + \" is:\");\n",
    "\n",
    "    printArrayReverse(NUMBER_OF_GAMES, game);\n",
    "    \n",
    "    return;\n",
    " }\n",
    "\n",
    "favouriteGames3();"
   ]
  },
  {
   "cell_type": "markdown",
   "metadata": {},
   "source": [
    "[Return to Exercise](#Exercise12)"
   ]
  },
  {
   "cell_type": "markdown",
   "metadata": {},
   "source": [
    "### Solution to Exercise 13<a id=\"Solution13\"></a> (Summary)\n",
    "The storage space for an array must be explicitly allocated, so a size must be given when the array is declared as in:"
   ]
  },
  {
   "cell_type": "code",
   "execution_count": null,
   "metadata": {},
   "outputs": [],
   "source": [
    "String [] top_albums = new String[1000];"
   ]
  },
  {
   "cell_type": "markdown",
   "metadata": {},
   "source": [
    "which allocates 1000 storage spaces in array, *top_albums*. That means it can store 1000 album names. The storage allocation is done by **new** in a similar way to records. With an array, the size of the array, and so space to allocate, must be given. **Once set the size of an array cannot be changed.**\n",
    "\n",
    "We can process arrays using counter-controlled for loops. The for loop just steps through the array, doing what needs to be done on each element of the array. This might be setting values, printing values, or any other action that needs to be done on every element of the array. For example, to set all the names"
   ]
  },
  {
   "cell_type": "code",
   "execution_count": null,
   "metadata": {},
   "outputs": [],
   "source": [
    "    for(int i = 0; i<top_albums.length; i++)\n",
    "    {\n",
    "        top_albums [i] = inputString(\"What is album number\" + i + \"?\");\n",
    "    }"
   ]
  },
  {
   "cell_type": "markdown",
   "metadata": {},
   "source": [
    "Where top_albums.length is the size of the array.\n",
    "\n",
    "We could then print the values in the array out using another for loop"
   ]
  },
  {
   "cell_type": "code",
   "execution_count": null,
   "metadata": {},
   "outputs": [],
   "source": [
    "    System.out.println(\"The following players are playing this year:\");\n",
    "\n",
    "    for(int i = 0; i<top_albums.length; i++)\n",
    "    {\n",
    "        System.out.println(i + \":\\t\" + top_albums [i]);\n",
    "    }"
   ]
  },
  {
   "cell_type": "markdown",
   "metadata": {},
   "source": [
    "Such a for loop can adapt to the size of the array **if the size is stored in a variable**. We can also split off operations to process an array into a separate method. Such methods can be very general, such as a \"create array\", \"set array\" or \"print array\" method.\n",
    "\n",
    "[Return to Exercise](#Exercise13)"
   ]
  }
 ],
 "metadata": {
  "kernelspec": {
   "display_name": "Java",
   "language": "java",
   "name": "java"
  },
  "language_info": {
   "codemirror_mode": "java",
   "file_extension": ".jshell",
   "mimetype": "text/x-java-source",
   "name": "Java",
   "pygments_lexer": "java",
   "version": "11.0.8+10-LTS"
  }
 },
 "nbformat": 4,
 "nbformat_minor": 2
}
