{
 "cells": [
  {
   "cell_type": "markdown",
   "metadata": {},
   "source": [
    "# Unit 2 Part 1: Assignment\n",
    "\n",
    "## Paul Curzon\n",
    "\n",
    "## Interactive Programming Exercises\n",
    "\n",
    "### Learning Outcomes\n",
    "- Write programs using sequences of assignments\n",
    "- Explain how assignment works\n",
    "\n",
    "*This notebook looks at code fragments. After completing these exercises you MUST then go on to write full programs - see the programming exercises in the workbook.*\n",
    "\n",
    "*Answers to exercises are given at the end*\n",
    "\n",
    "**Always read the answers to exercises and compare them to your own. There are important things to learn from the answers.**\n",
    "\n",
    "<span style=\"color: red;\"> It is a really good idea to add your own notes throughout this notebook to reinforce what you have learnt and highlight important points. Click on the + in the toolbar above to make a new note area, and change it from Code to Markdown in the dropdown menu above if your note is not executable code. You may also want to highlight your notes in red as here, so they stand out. You change colours using span like this: </span>\n",
    "```\n",
    "<span style=\"color: red;\">THE TEXT TO COLOUR RED</span>\n",
    "```"
   ]
  },
  {
   "cell_type": "markdown",
   "metadata": {},
   "source": [
    "**Assignment** involves storing copies of data into storage spaces. The storage spaces are called **variables**. Once a value has been assigned to a variable (ie stored there), that value can be retrieved by later instructions.\n",
    "\n",
    "<span style=\"color: red;\"> A variable can only hold one thing at a time </span>, so when you assign a new value to a variable, the old value is lost (unless a copy was made somewhere else).\n",
    "\n",
    "A **sequence** of assignments involves doing assignments in order one after the other."
   ]
  },
  {
   "cell_type": "markdown",
   "metadata": {},
   "source": [
    "### Exercise 1<a id=\"Exercise1\"> </a>\n",
    "\n",
    "Read the following code fragment and predict what you think it will do. Run it and see if you are right.\n",
    "Explain what it does and how."
   ]
  },
  {
   "cell_type": "markdown",
   "metadata": {},
   "source": [
    "**Write your explanation here**\n"
   ]
  },
  {
   "cell_type": "code",
   "execution_count": null,
   "metadata": {},
   "outputs": [],
   "source": [
    "String colour;\n",
    "\n",
    "colour = \"BLUE\";\n",
    "System.out.println(colour);"
   ]
  },
  {
   "cell_type": "markdown",
   "metadata": {},
   "source": [
    "**NOW READ THE ANSWER** [Click here to jump to the solution to this Exercise](#Solution1)"
   ]
  },
  {
   "cell_type": "markdown",
   "metadata": {},
   "source": [
    "### Exercise 2<a id=\"Exercise2\"></a>\n",
    "\n",
    "Edit the following code so that it stores the String \"YELLOW\" into variable colour, and then prints it."
   ]
  },
  {
   "cell_type": "code",
   "execution_count": null,
   "metadata": {},
   "outputs": [],
   "source": [
    "String colour;\n",
    "\n",
    "colour = \"BLUE\";\n",
    "System.out.println(colour);"
   ]
  },
  {
   "cell_type": "markdown",
   "metadata": {},
   "source": [
    "**NOW READ THE ANSWER** [Click here to jump to the solution to this Exercise](#Solution2)"
   ]
  },
  {
   "cell_type": "markdown",
   "metadata": {},
   "source": [
    "### Exercise 3<a id=\"Exercise3\"></a>\n",
    "\n",
    "Read the following code fragment and predict what it will do. Run it and see if you are right.\n",
    "Explain what it does and how."
   ]
  },
  {
   "cell_type": "markdown",
   "metadata": {},
   "source": [
    "**Write your explanation here**\n"
   ]
  },
  {
   "cell_type": "code",
   "execution_count": null,
   "metadata": {},
   "outputs": [],
   "source": [
    "String colour;\n",
    "\n",
    "colour = \"BLUE\";\n",
    "colour = \"PURPLE\";\n",
    "System.out.println(colour);"
   ]
  },
  {
   "cell_type": "markdown",
   "metadata": {},
   "source": [
    "**NOW READ THE ANSWER** [Click here to jump to the solution to this Exercise](#Solution3)"
   ]
  },
  {
   "cell_type": "markdown",
   "metadata": {},
   "source": [
    "### Exercise 4<a id=\"Exercise4\"></a>\n",
    "\n",
    "Read the following code fragment and predict what it will do. Run it and see if you are right.\n",
    "Explain what it does and how."
   ]
  },
  {
   "cell_type": "markdown",
   "metadata": {},
   "source": [
    "**Write your explanation here**\n"
   ]
  },
  {
   "cell_type": "code",
   "execution_count": null,
   "metadata": {},
   "outputs": [],
   "source": [
    "String colour;\n",
    "\n",
    "colour = \"BLUE\";\n",
    "System.out.println(colour);\n",
    "colour = \"PURPLE\";\n",
    "System.out.println(colour);"
   ]
  },
  {
   "cell_type": "markdown",
   "metadata": {},
   "source": [
    "**NOW READ THE ANSWER** [Click here to jump to the solution to this Exercise](#Solution4)"
   ]
  },
  {
   "cell_type": "markdown",
   "metadata": {},
   "source": [
    "### Exercise 5<a id=\"Exercise5\"></a>\n",
    "\n",
    "Read the following code fragment and predict what it will do. Run it and see if you are right.\n",
    "Explain what it does and how.\n",
    "\n",
    "**Write your explanation here**"
   ]
  },
  {
   "cell_type": "code",
   "execution_count": null,
   "metadata": {},
   "outputs": [],
   "source": [
    "String colour1;\n",
    "String colour2;\n",
    "\n",
    "colour1 = \"BLUE\";\n",
    "colour2 = \"PURPLE\";\n",
    "\n",
    "System.out.println(colour1);\n",
    "System.out.println(colour2);"
   ]
  },
  {
   "cell_type": "markdown",
   "metadata": {},
   "source": [
    "**NOW READ THE ANSWER** [Click here to jump to the solution to this Exercise](#Solution5)"
   ]
  },
  {
   "cell_type": "markdown",
   "metadata": {},
   "source": [
    "### Exercise 6<a id=\"Exercise6\"></a>\n",
    "\n",
    "Edit the following code to be about fruit instead of colours. The modified version should have two variables, called fruit1 and fruit2.  Have the code put \"APPLE\" in fruit1 and then put \"PEAR\" in fruit2. It should finally print both fruits, by printing the values from in the variables."
   ]
  },
  {
   "cell_type": "code",
   "execution_count": null,
   "metadata": {},
   "outputs": [],
   "source": [
    "String colour1;\n",
    "String colour2;\n",
    "\n",
    "colour1 = \"BLUE\";\n",
    "colour2 = \"PURPLE\";\n",
    "System.out.println(colour1);\n",
    "System.out.println(colour2);"
   ]
  },
  {
   "cell_type": "markdown",
   "metadata": {},
   "source": [
    "**NOW READ THE ANSWER** [Click here to jump to the solution to this Exercise](#Solution6)"
   ]
  },
  {
   "cell_type": "markdown",
   "metadata": {},
   "source": [
    "### Exercise 7<a id=\"Exercise7\"></a>\n",
    "\n",
    "Read the following code fragment and predict what it will do. Run it and see if you are right.\n",
    "Explain what it does and how."
   ]
  },
  {
   "cell_type": "markdown",
   "metadata": {},
   "source": [
    "**Write your explanation here**\n"
   ]
  },
  {
   "cell_type": "code",
   "execution_count": null,
   "metadata": {},
   "outputs": [],
   "source": [
    "String colour1;\n",
    "String colour2;\n",
    "\n",
    "colour1 = \"YELLOW\";\n",
    "colour2 = \"RED\";\n",
    "colour1 = colour2;\n",
    "\n",
    "System.out.println(colour1);\n",
    "System.out.println(colour2);"
   ]
  },
  {
   "cell_type": "markdown",
   "metadata": {},
   "source": [
    "**NOW READ THE ANSWER** [Click here to jump to the solution to this Exercise](#Solution7)"
   ]
  },
  {
   "cell_type": "markdown",
   "metadata": {},
   "source": [
    "#### Exercise 8<a id=\"Exercise8\"></a>\n",
    "\n",
    "Read the code fragment below and predict what it will do. Run it and see if you are right. Explain what it does and how."
   ]
  },
  {
   "cell_type": "markdown",
   "metadata": {},
   "source": [
    "**Write your explanation here**\n"
   ]
  },
  {
   "cell_type": "code",
   "execution_count": null,
   "metadata": {},
   "outputs": [],
   "source": [
    "Scanner scanner = new Scanner(System.in);\n",
    "\n",
    "String fruit1 = \"\";\n",
    "String fruit2 = \"\";\n",
    "String fruit3 = \"\";\n",
    "String fruit4 = \"\";\n",
    "\n",
    "System.out.println(\"Name a fruit\");\n",
    "fruit1 = scanner.nextLine();\n",
    "System.out.println(\"Name another fruit\");\n",
    "fruit2 = scanner.nextLine();\n",
    "\n",
    "fruit3 = fruit1;\n",
    "fruit4 = fruit2;\n",
    "\n",
    "System.out.println(\"Variable fruit1 holds \" + fruit1);\n",
    "System.out.println(\"Variable fruit2 holds \" + fruit2);\n",
    "System.out.println(\"Variable fruit3 holds \" + fruit3);\n",
    "System.out.println(\"Variable fruit4 holds \" + fruit4);\n"
   ]
  },
  {
   "cell_type": "markdown",
   "metadata": {},
   "source": [
    "**NOW READ THE ANSWER** [Click here to jump to the solution to this Exercise](#Solution8)"
   ]
  },
  {
   "cell_type": "markdown",
   "metadata": {},
   "source": [
    "#### Exercise 9<a id=\"Exercise9\"></a>\n",
    "\n",
    "Add assignments to the version of the code below to\n",
    "- make a copy of the first fruit input and store it in the variable fruit3,\n",
    "- then make a copy of the second fruit input and store it in the variable fruit4. \n",
    "\n",
    "If the person types in APPLE and then PEAR for example it should print the following\n",
    "```\n",
    "Variable fruit1 holds APPLE\n",
    "Variable fruit2 holds PEAR\n",
    "Variable fruit3 holds APPLE\n",
    "Variable fruit4 holds PEAR\n",
    "```\n",
    "If they instead type ORANGE and then BANANA the same program should print.\n",
    "```\n",
    "Variable fruit1 holds ORANGE\n",
    "Variable fruit2 holds BANANA\n",
    "Variable fruit3 holds ORANGE\n",
    "Variable fruit4 holds BANANA\n",
    "```"
   ]
  },
  {
   "cell_type": "code",
   "execution_count": null,
   "metadata": {},
   "outputs": [],
   "source": [
    "Scanner scanner = new Scanner(System.in);\n",
    "\n",
    "String fruit1 = \"\";\n",
    "String fruit2 = \"\";\n",
    "String fruit3 = \"\";\n",
    "String fruit4 = \"\";\n",
    "\n",
    "System.out.println(\"Name a fruit\");\n",
    "fruit1 = scanner.nextLine();\n",
    "System.out.println(\"Name another fruit\");\n",
    "fruit2 = scanner.nextLine();\n",
    "\n",
    "// ADD 2 MORE ASSIGNMENTS HERE\n",
    "\n",
    "System.out.println(\"Variable fruit1 holds \" + fruit1);\n",
    "System.out.println(\"Variable fruit2 holds \" + fruit2);\n",
    "System.out.println(\"Variable fruit3 holds \" + fruit3);\n",
    "System.out.println(\"Variable fruit4 holds \" + fruit4);"
   ]
  },
  {
   "cell_type": "markdown",
   "metadata": {},
   "source": [
    "**NOW READ THE ANSWER** [Click here to jump to the solution to this Exercise](#Solution9)"
   ]
  },
  {
   "cell_type": "markdown",
   "metadata": {},
   "source": [
    "#### Exercise 10<a id=\"Exercise10\"></a>\n",
    "Explain briefly in your own words what assignment does and how it works. "
   ]
  },
  {
   "cell_type": "markdown",
   "metadata": {},
   "source": [
    "**Write your explanation here**\n"
   ]
  },
  {
   "cell_type": "markdown",
   "metadata": {},
   "source": [
    "**NOW READ THE ANSWER** [Click here to jump to the solution to this Exercise](#Solution10)"
   ]
  },
  {
   "cell_type": "markdown",
   "metadata": {},
   "source": [
    "*Once you have done the above exercises (and understand how the concepts work) move on to doing the actual programming exercises from the handbook, writing full programs. You must be able to write full programs, not just fragments as here.*"
   ]
  },
  {
   "cell_type": "markdown",
   "metadata": {},
   "source": [
    "## Solutions\n",
    "\n",
    "### Solution to Exercise 1<a id=\"Solution1\"></a>\n",
    "\n",
    "It prints BLUE\n",
    "\n",
    "It does this by first declaring a new variable, called colour, storing the string \"BLUE\" in it, and then printing the contents of that variable.\n",
    "\n",
    "[Return to Exercise](#Exercise1)"
   ]
  },
  {
   "cell_type": "markdown",
   "metadata": {},
   "source": [
    "### Solution to Exercise 2<a id=\"Solution2\"></a>"
   ]
  },
  {
   "cell_type": "code",
   "execution_count": 1,
   "metadata": {},
   "outputs": [
    {
     "name": "stdout",
     "output_type": "stream",
     "text": [
      "YELLOW\n"
     ]
    }
   ],
   "source": [
    "String colour;\n",
    "\n",
    "colour = \"YELLOW\";\n",
    "System.out.println(colour);"
   ]
  },
  {
   "cell_type": "markdown",
   "metadata": {},
   "source": [
    "[Return to Exercise](#Exercise2)"
   ]
  },
  {
   "cell_type": "markdown",
   "metadata": {},
   "source": [
    "### Solution to Exercise 3<a id=\"Solution3\"></a>\n",
    "It prints \n",
    "```\n",
    "PURPLE\n",
    "```\n",
    "\n",
    "A variable can only hold one value at a time, the last one assigned. Here the last thing put into the variable colour before it is printed is PURPLE, so that is what is printed.\n",
    "\n",
    "[Return to Exercise](#Exercise3)"
   ]
  },
  {
   "cell_type": "markdown",
   "metadata": {},
   "source": [
    "### Solution to Exercise 4<a id=\"Solution4\"></a>\n",
    "It prints\n",
    "```\n",
    "BLUE\n",
    "PURPLE\n",
    "```\n",
    "A sequence of instructions is followed one instruction at a time in the order given. The variable called colour initially holds string \"BLUE\", and that is the last thing stored in it before the first print statement, so that is  what is printed by the first print statement when it is its turn to execute. Then however a new value, PURPLE, is put into the variable colour (losing the old value), so the second time the print statement is executed, it is PURPLE that it finds in colour and so prints.\n",
    "\n",
    "[Return to Exercise](#Exercise4)"
   ]
  },
  {
   "cell_type": "markdown",
   "metadata": {},
   "source": [
    "### Solution to Exercise 5<a id=\"Solution5\"></a>\n",
    "It prints\n",
    "```\n",
    "BLUE\n",
    "PURPLE\n",
    "```\n",
    "This time there are two variables so two storage spaces, so both values (ie colours) can be stored at the same time. First BLUE is put into colour1 and then PURPLE is put into colour2. Both are stored so when colour1 is printed, BLUE is printed and when colour2 is printed, PURPLE is printed.\n",
    "\n",
    "[Return to Exercise](#Exercise5)"
   ]
  },
  {
   "cell_type": "markdown",
   "metadata": {},
   "source": [
    "### Solution to Exercise 6<a id=\"Solution6\"></a>"
   ]
  },
  {
   "cell_type": "code",
   "execution_count": null,
   "metadata": {},
   "outputs": [],
   "source": [
    "String fruit1;\n",
    "String fruit2;\n",
    "\n",
    "fruit1 = \"APPLE\";\n",
    "fruit2 = \"PEAR\";\n",
    "System.out.println(fruit1);\n",
    "System.out.println(fruit2);"
   ]
  },
  {
   "cell_type": "markdown",
   "metadata": {},
   "source": [
    "[Return to Exercise](#Exercise6)"
   ]
  },
  {
   "cell_type": "markdown",
   "metadata": {},
   "source": [
    "### Solution to Exercise 7<a id=\"Solution7\"></a>\n",
    "\n",
    "This creates two variables and puts YELLOW in the first (colour1) and RED in the second (colour2). It then makes a COPY of what is in the second (colour2) and puts that copy in the first variable (colour1). colour2 is unchanged.\n",
    "```java\n",
    "colour1 = colour2;\n",
    "```\n",
    "can be read\n",
    "```\n",
    "colour1 GETS A COPY OF the VALUE FOUND IN colour2\n",
    "```\n",
    "\n",
    "[Return to Exercise](#Exercise7)"
   ]
  },
  {
   "cell_type": "markdown",
   "metadata": {},
   "source": [
    "### Solution to Exercise 8<a id=\"Solution8\"></a>\n",
    "\n",
    "The code declares 4 variables storing an empty string (ie a string with 0 characters) in each. It then asks for a value input from the user and stores it in the first variable, asks for another and stores it in the second and finally prints the values stored in all the variables.\n",
    "\n",
    "We need to add two assignments. \n",
    "The first puts a copy of fruit1 into fruit3.\n",
    "The next puts a copy of fruit2 into fruit4.\n",
    "```java\n",
    "fruit3 = fruit1;\n",
    "fruit4 = fruit2;\n",
    "```\n",
    "\n",
    "[Return to Exercise](#Exercise8)"
   ]
  },
  {
   "cell_type": "markdown",
   "metadata": {},
   "source": [
    "### Solution to Exercise 9<a id=\"Solution9\"></a>"
   ]
  },
  {
   "cell_type": "code",
   "execution_count": null,
   "metadata": {},
   "outputs": [],
   "source": [
    "Scanner scanner = new Scanner(System.in);\n",
    "\n",
    "String fruit1 = \"\";\n",
    "String fruit2 = \"\";\n",
    "String fruit3 = \"\";\n",
    "String fruit4 = \"\";\n",
    "\n",
    "System.out.println(\"Name a fruit\");\n",
    "fruit1 = scanner.nextLine();\n",
    "System.out.println(\"Name another fruit\");\n",
    "fruit2 = scanner.nextLine();\n",
    "\n",
    "fruit3 = fruit1;\n",
    "fruit4 = fruit2;\n",
    "\n",
    "System.out.println(\"Variable fruit1 holds \" + fruit1);\n",
    "System.out.println(\"Variable fruit2 holds \" + fruit2);\n",
    "System.out.println(\"Variable fruit3 holds \" + fruit3);\n",
    "System.out.println(\"Variable fruit4 holds \" + fruit4);"
   ]
  },
  {
   "cell_type": "markdown",
   "metadata": {},
   "source": [
    "[Return to Exercise](#Exercise9)"
   ]
  },
  {
   "cell_type": "markdown",
   "metadata": {},
   "source": [
    "### Solution to Exercise 10<a id=\"Solution10\"></a>\n",
    "\n",
    "**Assignment** is a way of storing data in a variable. It is written\n",
    "```java\n",
    "a = ...; \n",
    "```\n",
    "which means that variable ```a``` gets a copy of the value that results from executing the right-hand side (ie given as ... here). If the right-hand side is a value like ```\"APPLE\"``` eg\n",
    "```java\n",
    "a = \"APPLE\"; \n",
    "```\n",
    "then that value is stored in the variable ```a```. \n",
    "\n",
    "If the right-hand side is a value like ```b``` then a copy of the value stored in ```b``` is placed into ```a```. The variable ```b``` is not changed by this.\n",
    "\n",
    "<span style=\"color: red;\"> Variables can only hold one thing at a time</span>, so when you put something new in by an assignment statement, whatever was stored there before is over-written and so lost.\n",
    "\n",
    "Before a value can be assigned to a variable it must be **declared**. This is done with a statement giving its **type** and then **name**. A variable called fruit of type String would, for example, be declared using\n",
    "```java\n",
    "String fruit; \n",
    "```\n",
    "So far, we have only looked at variables with the type String. We will see other types in later Notebooks. They are declared in the same way, so, for example, a variable called i of type int (meaning whole numbers) would be declared:\n",
    "```java\n",
    "int i; \n",
    "```\n",
    "This says that variable i can hold hold whole numbers.\n",
    "\n",
    "Assignment is a way of storing data in a variable. To store the String \"Apple\" in a variable called fruit, we would write \n",
    "```java\n",
    "fruit = \"APPLE\"; \n",
    "```\n",
    "This assumes the variable fruit was already declared.\n",
    "\n",
    "An initial value can be stored in a variable at the same time as it is declared by <span style=\"color: red;\"> combining the declaration with an assignment </span>, such as\n",
    "```java\n",
    "String fruit = \"APPLE\"; \n",
    "```\n",
    "which both creates the variable called fruit and immediately stores a value (\"APPLE\") there.\n",
    "\n",
    "Once a variable holds a value (due to a previous assignment) we can access that value at any later time in the program (as long as the variable still exists) by giving the variable's name. So to print the value in variable, ```fruit```, for example we could write:\n",
    "```java\n",
    "System.out.println(fruit);\n",
    "```\n",
    "If the initialisation above had been done before this print statement, then this would print \n",
    "```\n",
    "APPLE\n",
    "```\n",
    "to the screen."
   ]
  },
  {
   "cell_type": "markdown",
   "metadata": {},
   "source": [
    "[Return to Exercise](#Exercise10)"
   ]
  }
 ],
 "metadata": {
  "kernelspec": {
   "display_name": "Java",
   "language": "java",
   "name": "java"
  },
  "language_info": {
   "codemirror_mode": "java",
   "file_extension": ".jshell",
   "mimetype": "text/x-java-source",
   "name": "Java",
   "pygments_lexer": "java",
   "version": "11.0.8+10-LTS"
  }
 },
 "nbformat": 4,
 "nbformat_minor": 2
}
