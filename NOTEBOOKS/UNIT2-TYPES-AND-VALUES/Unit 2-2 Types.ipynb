{
 "cells": [
  {
   "cell_type": "markdown",
   "metadata": {},
   "source": [
    "# Unit 2 Part 2: Types\n",
    "## Paul Curzon\n",
    "\n",
    "## Interactive Programming Exercises\n",
    "\n",
    "## Learning Outcomes\n",
    "- Write programs using different types\n",
    "- Explain what types are, what they are for and how they are used.\n",
    "\n",
    "*This notebook looks at code fragments. After completing these exercises you MUST then go on to write full programs - see the programming exercises in the workbook.*\n",
    "\n",
    "*Answers to exercises are given at the end*\n",
    "\n",
    "\n",
    "**Always read the answers to exercises and compare them to your own. There are important things to learn from the answers.**\n",
    "\n",
    "<span style=\"color: red;\"> It is a really good idea to add your own notes throughout this notebook to reinforce what you have learnt and highlight important points. Click on the + in the toolbar above to make a new note area, and change it from Code to Markdown in the dropdown menu above if your note is not executable code. You may also want to highlight your notes in red as here, so they stand out. You change colours using span like this: </span>\n",
    "```\n",
    "<span style=\"color: red;\">THE TEXT TO COLOUR RED</span>\n",
    "```"
   ]
  },
  {
   "cell_type": "markdown",
   "metadata": {},
   "source": [
    "## Why Types\n",
    "Values and variables have a **type** in Java.  Types just say what kind of data the variable can hold. A Type collects values into groups that have the same properties, such as all being whole numbers or all text or true/false values. Values of different types are stored in a different way to each other, possibly taking up different amounts of space.\n",
    "\n",
    "A **strong type system** where variables and values have types, and those types are enforced is important in a language as it\n",
    "\n",
    "- tells the compiler what values you (the programmer) intend to be allowable in a variable. With that information, the compiler can catch your mistakes\n",
    "    - eg if you said a variable was to hold a number then write an instruction that puts a word in it, you are confused, and it can tell you, so that you can fix it.\n",
    "    \n",
    "- allows the system to allocate the right space to store the values \n",
    "    - eg a string needs more space than an integer\n",
    "    \n",
    "- tells the compiler what operations make sense so it can catch your mistakes\n",
    "    - eg if you said a variable was to hold a string but then try to multiply it by 10 you are confused as multiplication only applies to numbers, and it can tell you.\n",
    "\n",
    "A good type system is an important part of defensive programming: they help prevent buggy programs."
   ]
  },
  {
   "cell_type": "markdown",
   "metadata": {},
   "source": [
    "### Exercise 1<a id=\"Exercise1\"></a>\n",
    "\n",
    "Read the following code fragment and predict what it will do. Run it and see if you are right.\n",
    "Explain what it does."
   ]
  },
  {
   "cell_type": "markdown",
   "metadata": {
    "hide_input": true
   },
   "source": [
    "**Double click then write your explanation here**\n"
   ]
  },
  {
   "cell_type": "code",
   "execution_count": null,
   "metadata": {},
   "outputs": [],
   "source": [
    "String surname;\n",
    "char initial;\n",
    "int age;\n",
    "double height;\n",
    "boolean enrolled;\n",
    "\n",
    "surname = \"AHMED\";\n",
    "initial = 'Y';\n",
    "age = 18;\n",
    "height = 1.72;\n",
    "enrolled = true;\n",
    "\n",
    "System.out.println(\"The student's name is \" + initial + \" \" + surname);\n",
    "System.out.println(\"Their age is \" + age + \" and height is \" + height);\n",
    "System.out.println(\"Their enrolled state is \" + enrolled);"
   ]
  },
  {
   "cell_type": "markdown",
   "metadata": {},
   "source": [
    "**NOW READ THE ANSWER** [Click here to jump to the solution to this Exercise](#Solution1)"
   ]
  },
  {
   "cell_type": "markdown",
   "metadata": {},
   "source": [
    "### Exercise 2<a id=\"Exercise2\"></a>\n",
    "\n",
    "Modify the following fragment so that it stores the equivalent details of a different student:\n",
    "Ellie Nadri who is 19, has height 1m 59cm and is not yet enrolled.\n",
    "\n",
    "Make sure it prints the correct details."
   ]
  },
  {
   "cell_type": "code",
   "execution_count": null,
   "metadata": {},
   "outputs": [],
   "source": [
    "String surname;\n",
    "char initial;\n",
    "int age;\n",
    "double height;\n",
    "boolean enrolled;\n",
    "\n",
    "surname = \"AHMED\";\n",
    "initial = 'Y';\n",
    "age = 18;\n",
    "height = 1.72;\n",
    "enrolled = true;\n",
    "\n",
    "System.out.println(\"The student's name is \" + initial + \" \" + surname);\n",
    "System.out.println(\"Their age is \" + age + \" and height is \" + height);\n",
    "System.out.println(\"Their enrolled state is \" + enrolled);"
   ]
  },
  {
   "cell_type": "markdown",
   "metadata": {},
   "source": [
    "**NOW READ THE ANSWER** [Click here to jump to the solution to this Exercise](#Solution2)"
   ]
  },
  {
   "cell_type": "markdown",
   "metadata": {},
   "source": [
    "## Different core types\n",
    "We have already seen the type String. There are a whole series of core types provided as standard: \n",
    "   \n",
    "- sequences of characters ie Strings (String)\n",
    "    - \"Paul\", \"123\", \"abc456\", \"Hello there\"\n",
    "\n",
    "- whole numbers ie integers (int)\n",
    "    - ... -3, -2, -1, 0, 1, 2, 3 ... 999, 1000, ...\n",
    "    \n",
    "- numbers with a decimal point ie floating point numbers (double)\n",
    "    - 1.5, 3.14159, 0.1, ...\n",
    "    \n",
    "- characters ie the equivalent of single key presses on the keyboard (char)\n",
    "    - 'a', 'b', ... 'A', 'B' ... '1', ''2' ... \":', \"?' ...\n",
    "     \n",
    "- truth values ie boolean values (boolean)\n",
    "    - true, false"
   ]
  },
  {
   "cell_type": "markdown",
   "metadata": {},
   "source": [
    "### Exercise 3<a id=\"Exercise3\"></a>\n",
    "\n",
    "Modify the following fragment to be about Beetles rather than students. It should record details of a species of beetle including its \n",
    "- name, \n",
    "- mass in grams (a whole number) and \n",
    "- length in cm (a decimal number)\n",
    "It should store each piece of information in a separate variable. \n",
    "\n",
    "It should record the details of the Goliath Beetle, printing the message:\n",
    "```\n",
    "The Goliath Beetle weighs up to 115g \n",
    "and measures up to 11.5 cm in length as larvae.\n",
    "```\n",
    "Use appropriate names for the variables.\n",
    "\n",
    "HINT: make sure you remember + operators between each separate thing being joined together in your print statement."
   ]
  },
  {
   "cell_type": "code",
   "execution_count": null,
   "metadata": {},
   "outputs": [],
   "source": [
    "String surname;\n",
    "char initial;\n",
    "int age;\n",
    "double height;\n",
    "boolean enrolled;\n",
    "\n",
    "surname = \"AHMED\";\n",
    "initial = 'Y';\n",
    "age = 18;\n",
    "height = 1.72;\n",
    "enrolled = true;\n",
    "\n",
    "System.out.println(\"The student's name is \" + initial + \". \" + surname);\n",
    "System.out.println(\"Their age is \" + age + \" and height is \" + height + \"m tall\");\n",
    "System.out.println(\"Their enrolled state is \" + enrolled);"
   ]
  },
  {
   "cell_type": "markdown",
   "metadata": {},
   "source": [
    "**NOW READ THE ANSWER** [Click here to jump to the solution to this Exercise](#Solution3)"
   ]
  },
  {
   "cell_type": "markdown",
   "metadata": {},
   "source": [
    "## Strings and concatenation\n",
    "\n",
    "A value of type String is made up of a sequence of characters. The main operation you can do on Strings is to **concatenate** two Strings (ie stick them together end to end). You have been doing this already in print statements. You use the + operator, but note when you use + with Strings the instruction is to concatenate not add."
   ]
  },
  {
   "cell_type": "markdown",
   "metadata": {},
   "source": [
    "### Exercise 4<a id=\"Exercise4\"></a>\n",
    "Complete the following code so that it stores \"abra\" in variable magic1 and \"cadabra\" in variable magic2. The concatenation of the two should be stored in the third variable called, magic_word. Finally, magic_word should be printed."
   ]
  },
  {
   "cell_type": "code",
   "execution_count": null,
   "metadata": {},
   "outputs": [],
   "source": [
    "String magic1;\n",
    "String magic2;\n",
    "String magic_word;\n",
    "\n",
    "// WRITE THREE ASIGNMENTS HERE TO CONSTRUCT THE MAGIC WORD TO PRINT\n",
    "\n",
    "System.out.println(magic_word);"
   ]
  },
  {
   "cell_type": "markdown",
   "metadata": {},
   "source": [
    "**NOW READ THE ANSWER** [Click here to jump to the solution to this Exercise](#Solution4)"
   ]
  },
  {
   "cell_type": "markdown",
   "metadata": {},
   "source": [
    "### Exercise 5<a id=\"Exercise5\"></a>\n",
    "Predict what the following code will print. Then run it to see if you were right. Explain what happens."
   ]
  },
  {
   "cell_type": "markdown",
   "metadata": {},
   "source": [
    "**Double click then write your explanation here**\n"
   ]
  },
  {
   "cell_type": "code",
   "execution_count": null,
   "metadata": {},
   "outputs": [],
   "source": [
    "String s1 = \"123\";\n",
    "String s2 = \"321\";\n",
    "String answer;\n",
    "\n",
    "answer = s1 + s2;\n",
    "\n",
    "System.out.println(answer);"
   ]
  },
  {
   "cell_type": "markdown",
   "metadata": {},
   "source": [
    "**NOW READ THE ANSWER** [Click here to jump to the solution to this Exercise](#Solution5)"
   ]
  },
  {
   "cell_type": "markdown",
   "metadata": {
    "slideshow": {
     "slide_type": "slide"
    }
   },
   "source": [
    "## Integers\n",
    "Integers are whole numbers. You can do arithmetic on them (```+ - * /```)."
   ]
  },
  {
   "cell_type": "markdown",
   "metadata": {},
   "source": [
    "### Exercise 6<a id=\"Exercise6\"></a>\n",
    "Predict what the following code will print. Then run it to see if you were right. Explain what happens."
   ]
  },
  {
   "cell_type": "markdown",
   "metadata": {},
   "source": [
    "**Double click then write your explanation here**\n"
   ]
  },
  {
   "cell_type": "code",
   "execution_count": null,
   "metadata": {},
   "outputs": [],
   "source": [
    "int s1 = 123;\n",
    "int s2 = 321;\n",
    "int answer;\n",
    "\n",
    "answer = s1 + s2;\n",
    "\n",
    "System.out.println(answer);"
   ]
  },
  {
   "cell_type": "markdown",
   "metadata": {},
   "source": [
    "**NOW READ THE ANSWER** [Click here to jump to the solution to this Exercise](#Solution6)"
   ]
  },
  {
   "cell_type": "markdown",
   "metadata": {
    "slideshow": {
     "slide_type": "slide"
    }
   },
   "source": [
    "## Converting Strings to Integers\n",
    "\n",
    "Strings are just sequences of characters, so the string \"123\" is stored as '1' followed by '2' followed by '3' just as it looks on the page. It isn't a number any more than the string \"wombat\" is.\n",
    "\n",
    "The number 123 (note no quotes round it) is actually stored in a special (binary) format that the computer can easily do arithmetic on.\n",
    "\n",
    "When strings like \"123\" and integers like 123 are printed they look identical. \n",
    "\n",
    "A built-in method Integer.parseInt takes strings and converts them to numbers (if they do convert to a number)."
   ]
  },
  {
   "cell_type": "markdown",
   "metadata": {},
   "source": [
    "### Exercise 7<a id=\"Exercise7\"></a>\n",
    "\n",
    "Run the following then explain what it does line by line. "
   ]
  },
  {
   "cell_type": "code",
   "execution_count": null,
   "metadata": {},
   "outputs": [],
   "source": [
    "Scanner scanner = new Scanner(System.in);\n",
    "\n",
    "String text_input;\n",
    "int n;\n",
    "int plus1;\n",
    "\n",
    "System.out.println(\"Input a number\");\n",
    "text_input = scanner.nextLine();           // Note you input text (keyboard strokes) - a series of characters\n",
    "n = Integer.parseInt(text_input);  // So need to convert it to an integer\n",
    "\n",
    "\n",
    "System.out.println(\"You typed \" + text_input);\n",
    "System.out.println(\"Which is the integer \" + n);\n",
    "plus1 = n+1;\n",
    "System.out.println(\"You can do arithmetic on an integer (not on a string) so n plus 1 is \" + plus1);"
   ]
  },
  {
   "cell_type": "markdown",
   "metadata": {},
   "source": [
    "**Double click then write your explanation here**\n"
   ]
  },
  {
   "cell_type": "markdown",
   "metadata": {},
   "source": [
    "**NOW READ THE ANSWER**[Click here to jump to the solution to this Exercise](#Solution7)"
   ]
  },
  {
   "cell_type": "markdown",
   "metadata": {},
   "source": [
    "### Exercise 8<a id=\"Exercise8\"></a>\n",
    "\n",
    "The same code is copied below. However it has the following line added at the end\n",
    "```java\n",
    "System.out.println(text_input + 1);\n",
    "```\n",
    "Predict what this does. Run it and explain what happens."
   ]
  },
  {
   "cell_type": "markdown",
   "metadata": {},
   "source": [
    "**Double click then write your explanation here**\n"
   ]
  },
  {
   "cell_type": "code",
   "execution_count": null,
   "metadata": {},
   "outputs": [],
   "source": [
    "Scanner scanner = new Scanner(System.in);\n",
    "\n",
    "String text_input;\n",
    "int n;\n",
    "int plus1;\n",
    "\n",
    "System.out.println(\"Input a number\");\n",
    "text_input = scanner.nextLine();           // Note you input text (keyboard strokes) - a series of characters\n",
    "n = Integer.parseInt(text_input);  // So need to convert it to an integer\n",
    "\n",
    "\n",
    "System.out.println(\"You typed \" + text_input);\n",
    "System.out.println(\"Which is the integer \" + n);\n",
    "plus1 = n+1;\n",
    "System.out.println(\"You can do arithmetic on an integer (not on a string) so n plus 1 is \" + plus1);\n",
    "\n",
    "System.out.println(text_input + 1);"
   ]
  },
  {
   "cell_type": "markdown",
   "metadata": {},
   "source": [
    "**NOW READ THE ANSWER**[Click here to jump to the solution to this Exercise](#Solution7)"
   ]
  },
  {
   "cell_type": "markdown",
   "metadata": {},
   "source": [
    "### Exercise 9<a id=\"Exercise9\"></a>\n",
    "\n",
    "A quick way to add up all the numbers from 1 to any positive number n is using the formula n(n+1)/2. eg \n",
    "```\n",
    "1 + 2 + 3 = 3x4/2 = 6\n",
    "```\n",
    "```\n",
    "1 + 2 + 3 + 4 + 5 + 6 = 6x7/2 = 21\n",
    "```\n",
    "You can see this by running the following calculations:\n"
   ]
  },
  {
   "cell_type": "code",
   "execution_count": null,
   "metadata": {},
   "outputs": [],
   "source": [
    "1 + 2 + 3"
   ]
  },
  {
   "cell_type": "code",
   "execution_count": null,
   "metadata": {},
   "outputs": [],
   "source": [
    "3*4/2"
   ]
  },
  {
   "cell_type": "markdown",
   "metadata": {},
   "source": [
    "The following code fragment is intended to use the formula to do that calculation quickly. However, it contains a bug,  so gets the answers WRONG. Read and run the code. \n",
    "\n",
    "Work out what it is doing wrong and correct the code."
   ]
  },
  {
   "cell_type": "code",
   "execution_count": null,
   "metadata": {},
   "outputs": [],
   "source": [
    "Scanner scanner = new Scanner(System.in);\n",
    "\n",
    "String text_input;\n",
    "int n;\n",
    "int answer;\n",
    "\n",
    "System.out.println(\"Input a number\");\n",
    "text_input = scanner.nextLine();           // Note you input text (keyboard strokes) - a series of characters\n",
    "n = Integer.parseInt(text_input);          // So need to convert it to aninteger\n",
    "\n",
    "answer = n * (n - 1) / 2;\n",
    "\n",
    "System.out.println(\"The sum to \" + n + \" is \" + answer);"
   ]
  },
  {
   "cell_type": "markdown",
   "metadata": {},
   "source": [
    "**NOW READ THE ANSWER**[Click here to jump to the solution to this Exercise](#Solution9)"
   ]
  },
  {
   "cell_type": "markdown",
   "metadata": {},
   "source": [
    "## Decimal numbers - Doubles\n",
    "\n",
    "Integers are whole numbers. What if you want more accurate numbers? You then need decimals. One way is the type double. Example doubles are 3.14, 2.5 and 1.0.\n",
    "\n",
    "You can do arithmetic on decimal numbers though the details are actually different (remember in primary school you had to learn how to do it - how do you deal with the decimal points?). You need a different algorithm to do decimal number arithmetic.\n",
    "\n",
    "Decimal numbers are called floating point numbers because of the way they are stored - the position of the decimal point floats around depending on the number rather than always being in the same place."
   ]
  },
  {
   "cell_type": "markdown",
   "metadata": {},
   "source": [
    "### Exercise 10<a id=\"Exercise10\"></a>\n",
    "\n",
    "Predict EXACTLY what the following will print then run the code to see if you are right."
   ]
  },
  {
   "cell_type": "markdown",
   "metadata": {},
   "source": [
    "**Double click then write your prediction here**\n"
   ]
  },
  {
   "cell_type": "code",
   "execution_count": null,
   "metadata": {},
   "outputs": [],
   "source": [
    "double d1 = 1.5;\n",
    "double d2 = 1.5;\n",
    "double answer;\n",
    "\n",
    "answer = d1 + d2;\n",
    "\n",
    "System.out.println(answer);"
   ]
  },
  {
   "cell_type": "markdown",
   "metadata": {},
   "source": [
    "**NOW READ THE ANSWER**[Click here to jump to the solution to this Exercise](#Solution10)"
   ]
  },
  {
   "cell_type": "markdown",
   "metadata": {},
   "source": [
    "### Exercise 11<a id=\"Exercise11\"></a>\n",
    "When you take the average of whole numbers you may not get a whole number answer...\n",
    "\n",
    "Run the following code then see if you can explain what happens."
   ]
  },
  {
   "cell_type": "markdown",
   "metadata": {},
   "source": [
    "**Double click then write your explanation here**\n"
   ]
  },
  {
   "cell_type": "code",
   "execution_count": null,
   "metadata": {},
   "outputs": [],
   "source": [
    "int n1 = 3;\n",
    "int n2 = 2;\n",
    "double answer1;\n",
    "double answer2;\n",
    "\n",
    "answer1 = (n1 + n2) / 2;\n",
    "answer2 = (n1 + n2) / 2.0;\n",
    "\n",
    "System.out.println(answer1);\n",
    "System.out.println(answer2);"
   ]
  },
  {
   "cell_type": "markdown",
   "metadata": {},
   "source": [
    "**NOW READ THE ANSWER**[Click here to jump to the solution to this exercise](#Solution11)"
   ]
  },
  {
   "cell_type": "markdown",
   "metadata": {},
   "source": [
    "### Exercise 12<a id=\"Exercise12\"></a>\n",
    "Modify the following so everything is a double from the outset, making n1 and n2 doubles and the two values of 3 and 2 double values. Run it to check that it does produce an accurate answer."
   ]
  },
  {
   "cell_type": "code",
   "execution_count": null,
   "metadata": {},
   "outputs": [],
   "source": [
    "int n1 = 3;\n",
    "int n2 = 2;\n",
    "double answer1;\n",
    "double answer2;\n",
    "\n",
    "answer1 = (n1 + n2) / 2;\n",
    "answer2 = (n1 + n2) / 2.0;\n",
    "\n",
    "System.out.println(answer1);\n",
    "System.out.println(answer2);\n"
   ]
  },
  {
   "cell_type": "markdown",
   "metadata": {},
   "source": [
    "**NOW READ THE ANSWER**[Click here to jump to the solution to this exercise](#Solution12)"
   ]
  },
  {
   "cell_type": "markdown",
   "metadata": {},
   "source": [
    "To add clarity to programs, we can put in explicit type conversion operators so there are no type mismatches. These are written just by putting a type in brackets so\n",
    "```java\n",
    "(double)\n",
    "```\n",
    "is an operator that converts integers to doubles. Similarly,\n",
    "```java\n",
    "(int)\n",
    "```\n",
    "coverts doubles to integers."
   ]
  },
  {
   "cell_type": "markdown",
   "metadata": {},
   "source": [
    "### Exercise 13<a id=\"Exercise13\"></a>\n",
    "Run the following and explain what the calculation is doing."
   ]
  },
  {
   "cell_type": "markdown",
   "metadata": {},
   "source": [
    "**Double click then write your explanation here**\n"
   ]
  },
  {
   "cell_type": "code",
   "execution_count": null,
   "metadata": {},
   "outputs": [],
   "source": [
    "int n1 = 3;\n",
    "int n2 = 2;\n",
    "Double sum;\n",
    "double answer;\n",
    "\n",
    "sum = (double)(n1 + n2);\n",
    "\n",
    "answer =  sum / 2.0;\n",
    "\n",
    "System.out.println(answer);"
   ]
  },
  {
   "cell_type": "markdown",
   "metadata": {},
   "source": [
    "**NOW READ THE ANSWER** [Click here to jump to the solution to this exercise](#Solution13)"
   ]
  },
  {
   "cell_type": "markdown",
   "metadata": {},
   "source": [
    "## Strong type systems\n",
    "\n",
    "The above shows that dealing with doubles is complicated. That is because it tries to be 'helpful' and adds in invisible operators to convert values from int to double when there are type mismatches. It is trying to help \"lazy\" programmers. It is instead increasing the chances of buggy code. It is really easy to write code that does the wrong calculation. The compiler rather than helping spot errors by pointing out when types do not match, does invisible conversions. The type system has been compromised to 'help' programmers by giving 'convenient' short cuts. \n",
    "\n",
    "The problem is it does not know for sure what you were trying to do.\n",
    "\n",
    "A better language design would always make you convert values explicitly. If you tried to divide an integer by a double, it should raise a compile-time error and stop you.\n",
    "\n",
    "Strong type systems help avoid buggy programs! Bugs like this about the precise type of number have cost billions of dollars (eg causing rockets carrying satellites to crash/explode). Java has quite a strong type system, but it is not strong enough! It lets mistakes through that it could easily catch.\n",
    "\n",
    "Even when a language gives you shortcuts, it is better to always explicitly include the conversion code, so it is clear to other readers what you intend.\n"
   ]
  },
  {
   "cell_type": "markdown",
   "metadata": {},
   "source": [
    "## Rounding\n",
    "\n",
    "A common thing you need to do with decimal numbers is give them to a fixed number of decimal places. You could round down, round up or round to the nearest number. Each needs a different operation. There are several ways to do this, one way is to do explicit type conversion. For example\n",
    "```java\n",
    "(int) dd\n",
    "```\n",
    "converts a double, dd, to an integer by truncating everything after the decimal point (ie rounding down.)\n",
    "\n",
    "Similarly,\n",
    "```java\n",
    "(double) nn\n",
    "```\n",
    "converts an int, nn, to a double by just adding a decimal point on the end.\n"
   ]
  },
  {
   "cell_type": "markdown",
   "metadata": {},
   "source": [
    "### Exercise 14<a id=\"Exercise14\"></a>\n",
    "Predict EXACTLY what the following prints. Run it to see if you are right."
   ]
  },
  {
   "cell_type": "markdown",
   "metadata": {},
   "source": [
    "**Double click then write your prediction here**\n"
   ]
  },
  {
   "cell_type": "code",
   "execution_count": null,
   "metadata": {},
   "outputs": [],
   "source": [
    "int n;\n",
    "double d = 3.14159;\n",
    "System.out.println(d);\n",
    "d = d * 100;\n",
    "System.out.println(d);\n",
    "n = (int)d;\n",
    "System.out.println(n);\n",
    "d = (double)n;\n",
    "System.out.println(d);\n",
    "d = d / 100.0;\n",
    "System.out.println(d);"
   ]
  },
  {
   "cell_type": "markdown",
   "metadata": {},
   "source": [
    "**NOW READ THE ANSWER** [Click here to jump to the solution to this exercise](#Solution14) "
   ]
  },
  {
   "cell_type": "markdown",
   "metadata": {},
   "source": [
    "This gives a way to truncate (ie round down) double numbers to a given number of decimal places. The key thing in the above is to multiple by a hundred, then later divide by a hundred. This moves the two decimal places we want to preserve into the integer part of the number. To truncate to different numbers of places you just multiple and divide by a different number.\n",
    "\n",
    "The maths library contains methods to round numbers in other ways."
   ]
  },
  {
   "cell_type": "markdown",
   "metadata": {},
   "source": [
    "### Exercise 15<a id=\"Exercise15\"></a>\n",
    "Modify the code to print the number to one decimal place only."
   ]
  },
  {
   "cell_type": "code",
   "execution_count": null,
   "metadata": {},
   "outputs": [],
   "source": [
    "int n;\n",
    "double d = 3.14159;\n",
    "d = d * 100;\n",
    "n = (int)d;\n",
    "d = (double)n;\n",
    "d = d / 100.0;\n",
    "System.out.println(d);"
   ]
  },
  {
   "cell_type": "markdown",
   "metadata": {},
   "source": [
    "**NOW READ THE ANSWER** [Click here to jump to the solution to this Exercise](#Solution15)"
   ]
  },
  {
   "cell_type": "markdown",
   "metadata": {},
   "source": [
    "## Inputting decimals\n",
    "As with ints, doubles have to be first input as a string and then converted. The methods Double.parseDouble does this in an equivalent way to Integer.parseInt. **Parsing**, which is what these methods do, is just the operation of converting a series of characters into some other more structured format."
   ]
  },
  {
   "cell_type": "markdown",
   "metadata": {},
   "source": [
    "### Exercise 16<a id=\"Exercise16\"></a>\n",
    "Modify the following to allow decimals to be input rather than ints and work completely with double arithmetic rather than integer arithmetic. It should give accurate answers. Check that it does."
   ]
  },
  {
   "cell_type": "code",
   "execution_count": null,
   "metadata": {},
   "outputs": [],
   "source": [
    "Scanner scanner = new Scanner(System.in);\n",
    "\n",
    "String text_input;\n",
    "int n1;\n",
    "int n2;\n",
    "int answer;\n",
    "\n",
    "System.out.println(\"Give me a number\");\n",
    "text_input = scanner.nextLine();           // Note you input text (keyboard strokes) - a series of characters\n",
    "n1 = Integer.parseInt(text_input);         // So need to convert it to a double\n",
    "\n",
    "System.out.println(\"Give me a second number\");\n",
    "text_input = scanner.nextLine();           // Note you input text (keyboard strokes) - a series of characters\n",
    "n2 = Integer.parseInt(text_input);         // So need to convert it to a double\n",
    "\n",
    "answer = (n1 + n2) / 2;\n",
    "\n",
    "System.out.println(\"The average is \" + answer);"
   ]
  },
  {
   "cell_type": "markdown",
   "metadata": {},
   "source": [
    "**NOW READ THE ANSWER** [Click here to jump to the solution to this Exercise](#Solution16)"
   ]
  },
  {
   "cell_type": "markdown",
   "metadata": {},
   "source": [
    "The moral of this notebook is that it is better for a language to raise errors when there are type mismatches (like trying to add an integer to a double) rather than guessing what the programmer intended and doing type conversion automatically. When programming, you should add explicit type conversions."
   ]
  },
  {
   "cell_type": "markdown",
   "metadata": {},
   "source": [
    "### Exercise 17<a id=\"Exercise17\"></a>\n",
    "\n",
    "Explain briefly in your own words why automatic type conversions are a bad idea in a language."
   ]
  },
  {
   "cell_type": "markdown",
   "metadata": {},
   "source": [
    "**Double click then write your prediction here**\n"
   ]
  },
  {
   "cell_type": "markdown",
   "metadata": {},
   "source": [
    "**NOW READ THE ANSWER** [Click here to jump to the solution to this Exercise](#Solution17)"
   ]
  },
  {
   "cell_type": "markdown",
   "metadata": {},
   "source": [
    "*Once you have done the above exercises (and understand how the concepts work) move on to doing the actual programming exercises from the handbook, writing full programs. You must be able to write full programs, not just fragments.*"
   ]
  },
  {
   "cell_type": "markdown",
   "metadata": {},
   "source": [
    "## Solutions\n",
    "\n",
    "### Solution to Exercise 1<a id=\"Solution1\"></a>\n",
    "\n",
    "The code prints the details (name, age height and enrolled state) of a student.\n",
    "\n",
    "It first declares a series of variables, each of a different appropriate type to store the separate pieces of information about a student. The surname is a sequence of characters so of type, String. The initial is a single character so of type, char. The age is a whole number so of type, int. The height is a decimal number so cannot be stored as an int, and so is instead a double. Whether they are enrolled is either true or false, so a boolean.\n",
    "\n",
    "Assignment is used to store the appropriate value in each. Then, each variable is used at the appropriate point in a print statement to print out an appropriate message.\n",
    "\n",
    "[Return to Exercise](#Exercise1)"
   ]
  },
  {
   "cell_type": "markdown",
   "metadata": {},
   "source": [
    "### Solution to Exercise 2<a id=\"Solution2\"></a>"
   ]
  },
  {
   "cell_type": "code",
   "execution_count": null,
   "metadata": {},
   "outputs": [],
   "source": [
    "String surname;\n",
    "char initial;\n",
    "int age;\n",
    "double height;\n",
    "boolean enrolled;\n",
    "\n",
    "surname = \"NADRI\";\n",
    "initial = 'E';\n",
    "age = 19;\n",
    "height = 1.59;\n",
    "enrolled = false;\n",
    "\n",
    "System.out.println(\"The student's name is \" + initial + \". \" + surname);\n",
    "System.out.println(\"Their age is \" + age + \" and height is \" + height + \"m tall\");\n",
    "System.out.println(\"Their enrolled state is \" + enrolled);"
   ]
  },
  {
   "cell_type": "markdown",
   "metadata": {},
   "source": [
    "[Return to Exercise](#Exercise2)"
   ]
  },
  {
   "cell_type": "markdown",
   "metadata": {},
   "source": [
    "### Solution to Exercise 3<a id=\"Solution3\"></a>"
   ]
  },
  {
   "cell_type": "code",
   "execution_count": null,
   "metadata": {},
   "outputs": [],
   "source": [
    "String beetle_name;\n",
    "int max_weight;\n",
    "double max_length;\n",
    "\n",
    "beetle_name = \"Goliath Beetle\";\n",
    "max_weight = 115;\n",
    "max_length = 11.5;\n",
    "enrolled = true;\n",
    "\n",
    "System.out.println(\"The \" + beetle_name + \" weighs up to \" + max_weight + \"g\");\n",
    "System.out.println(\"and measures up to \" + max_length + \"cm in length as larvae.\");"
   ]
  },
  {
   "cell_type": "markdown",
   "metadata": {},
   "source": [
    "[Return to Exercise](#Exercise3)"
   ]
  },
  {
   "cell_type": "markdown",
   "metadata": {},
   "source": [
    "### Solution to Exercise 4<a id=\"Solution4\"></a>"
   ]
  },
  {
   "cell_type": "code",
   "execution_count": null,
   "metadata": {},
   "outputs": [],
   "source": [
    "String magic1;\n",
    "String magic2;\n",
    "String magic_word;\n",
    "\n",
    "magic1 = \"abra\";\n",
    "magic2 = \"cadabra\";\n",
    "magic_word = magic1 + magic2;\n",
    "System.out.println(magic_word);"
   ]
  },
  {
   "cell_type": "markdown",
   "metadata": {},
   "source": [
    "[Return to Exercise](#Exercise4)"
   ]
  },
  {
   "cell_type": "markdown",
   "metadata": {},
   "source": [
    "### Solution to Exercise 5<a id=\"Solution5\"></a>\n",
    "\n",
    "It prints 123321\n",
    "\n",
    "As both values are strings NOT numbers, + here means concatenation NOT addition so it sticks the two strings of digits end to end.\n",
    "\n",
    "[Return to Exercise](#Exercise5)"
   ]
  },
  {
   "cell_type": "markdown",
   "metadata": {},
   "source": [
    "### Solution to Exercise 6<a id=\"Solution6\"></a>\n",
    "It prints 444\n",
    "\n",
    "This time both variables s1 and s2 are integers. When two variables that are declared as integers are added using +, the two values will be added arithmetically.\n",
    "\n",
    "[Return to Exercise](#Exercise6)"
   ]
  },
  {
   "cell_type": "markdown",
   "metadata": {},
   "source": [
    "### Solution to Exercise 7<a id=\"Solution7\"></a>\n",
    "This first creates a scanner to allow keyboard input. It declares three variable one to hold the text input (text_input), one to hold that String converted into an integer (n) and a third variable to hold one more than that (plus1).\n",
    "\n",
    "It then asks the user to input a number using a print statement, accepts their input (a String) storing it in the variable, text_input. It cannot do arithmetic on a String though. It therefore converts it to an integer, storing that in variable, n. It can now add 1 to that integer and store the result in variable, plus1. It then prints the different values.\n",
    "\n",
    "Overall, If you say type in, say, 9 when asked, then the code first prints it as a string then as an integer, having converted it and stored it in the int variable n. Both look the same when printed. However, you can do artihmetic on the int version such as n + 1. So if 9 was input it will finally print 10.\n",
    "\n",
    "[Return to Exercise](#Exercise7)"
   ]
  },
  {
   "cell_type": "markdown",
   "metadata": {},
   "source": [
    "### Solution to Exercise 8<a id=\"Solution8\"></a>\n",
    "If you add a line to print \n",
    "```\n",
    "text_input + 1\n",
    "```\n",
    "it does not do addition, as text_input is a String. Instead, it does concatenation as it is working with a String and that is the only thing that makes sense for a string. Strictly there is a type mismatch here. You can't add a String and an int, and you also can't concatenate them. \n",
    "\n",
    "Actually what happens is the integer 1 is automatically and silently converted into the String \"1\" so that it can do String concatenation. This is an example where Java fudges its own type system - which seems like it makes life easier for programmers but actually increases the chance of bugs.\n",
    "\n",
    "[Return to Exercise](#Exercise8)"
   ]
  },
  {
   "cell_type": "markdown",
   "metadata": {},
   "source": [
    "### Solution to Exercise 9<a id=\"Solution9\"></a>\n",
    "\n",
    "A minus sign was mistakenly used instead of a plus sign. The calculation should be\n",
    "```java\n",
    "answer = n * (n + 1) / 2;\n",
    "```\n",
    "The full correct code is:"
   ]
  },
  {
   "cell_type": "code",
   "execution_count": null,
   "metadata": {},
   "outputs": [],
   "source": [
    "Scanner scanner = new Scanner(System.in);\n",
    "\n",
    "String text_input;\n",
    "int n;\n",
    "int answer;\n",
    "\n",
    "System.out.println(\"Input a number\");\n",
    "text_input = scanner.nextLine();           // Note you input text (keyboard strokes) - a series of characters\n",
    "n = Integer.parseInt(text_input);  // So need to convert it to aninteger\n",
    "\n",
    "answer = n * (n + 1) / 2;\n",
    "\n",
    "System.out.println(\"The sum to \" + n + \" is \" + answer);"
   ]
  },
  {
   "cell_type": "markdown",
   "metadata": {},
   "source": [
    "[Return to Exercise](#Exercise9)"
   ]
  },
  {
   "cell_type": "markdown",
   "metadata": {},
   "source": [
    "### Solution to Exercise 10<a id=\"Solution10\"></a>\n",
    "It prints 3.0 (not 3) 3 is an integer whereas 3.0 is a double. As we did floating point addition on doubles we get a double answer. Always add .0 to whole numbers (eg 42.0 not 42) if you want them to be treated as floating point numbers.\n",
    "\n",
    "[Return to Exercise](#Exercise10)"
   ]
  },
  {
   "cell_type": "markdown",
   "metadata": {},
   "source": [
    "### Solution to Exercise 11<a id=\"Solution11\"></a>\n",
    "\n",
    "Both n1 and n2 are integers. We add them as integers to get an integer total. \n",
    "\n",
    "If we divide by an integer, as in the first calculation, \n",
    "\n",
    "```java\n",
    "answer1 = (n1 + n2) / 2;\n",
    "```\n",
    "we initially get an integer answer as the computer does integer division giving the answer 2 (as integer division rounds down leaving a remainder).\n",
    "```\n",
    "5 / 2 = 2\n",
    "```\n",
    "\n",
    "However, we then try and store it in answer1 which is a double. This ought to give a type error for you to fix and say exactly what you meant, as the types do not match. However, the inventors of Java wanted to be 'helpful' so instead they made the computer do an automatic, hidden type conversion. The integer answer 2 is converted to the double 2.0 and that is what is saved in the double variable.\n",
    "\n",
    "It would be far better, to avoid bugs in code, if the compiler always pointed out type mismatches and made the programmer fix them as only the programmer knows what they were really trying to do!\n",
    "\n",
    "\n",
    "On the other hand, when we divide by a double (here 2.0) the more accurate double division is done. \n",
    "\n",
    "```java\n",
    "answer2 = (n1 + n2) / 2.0;\n",
    "```\n",
    "\n",
    "The 5 is now automatically turned into a double (again there was a type mismatch so an invisible type conversion was done) so that double division can be done.\n",
    "```\n",
    "5.0 / 2.0 = 2.5\n",
    "```\n",
    "\n",
    "As an aside, the modulus operator (%) gives you the remainder so ```(n1 + n2) % 2``` gives the remainder after doing a division.\n",
    "\n",
    "[Return to Exercise](#Exercise11)"
   ]
  },
  {
   "cell_type": "markdown",
   "metadata": {},
   "source": [
    "### Solution to Exercise 12<a id=\"Solution12\"></a>\n",
    "If we change everything to doubles then accurate floating point arithmetic is done in both cases, even when dividing by an integer. Even when the 2 is an integer, it is converted to the more accurate double version so double arithmetic can be done. "
   ]
  },
  {
   "cell_type": "code",
   "execution_count": null,
   "metadata": {},
   "outputs": [],
   "source": [
    "double n1 = 3.0;\n",
    "double n2 = 2.0;\n",
    "double answer1;\n",
    "double answer2;\n",
    "\n",
    "answer1 = (n1 + n2) / 2;\n",
    "answer2 = (n1 + n2) / 2.0;\n",
    "\n",
    "System.out.println(answer1);\n",
    "System.out.println(answer2);"
   ]
  },
  {
   "cell_type": "markdown",
   "metadata": {},
   "source": [
    "[Return to Exercise](#Exercise12)"
   ]
  },
  {
   "cell_type": "markdown",
   "metadata": {},
   "source": [
    "### Solution to Exercise 13<a id=\"Solution13\"></a>\n",
    "Here we are doing integer addition on the two integers in n1 and n2. We then explicitly change them to a double using the conversion operator \n",
    "```java \n",
    "(double)\n",
    "```\n",
    "We then do double arithmetic on the two double values (the converted sum and 2.0), to get a double result. At each stage we have made sure the types are correct.\n",
    "\n",
    "Note though there is still an invisible type conversion converting the double to a String to print it!"
   ]
  },
  {
   "cell_type": "markdown",
   "metadata": {},
   "source": [
    "[Return to Exercise](#Exercise13)"
   ]
  },
  {
   "cell_type": "markdown",
   "metadata": {},
   "source": [
    "### Solution to Exercise 14<a id=\"Solution14\"></a>\n",
    "\n",
    "It prints\n",
    "```\n",
    "3.14159\n",
    "314.159\n",
    "314\n",
    "314.0\n",
    "3.14\n",
    "```\n",
    "The first thing it prints is the accurate version of the number as a double.\n",
    "\n",
    "It is then multiplied by 100 but still printed as a double.\n",
    "\n",
    "Next, it is converted to an integer, so the decimal places are truncated away.\n",
    "\n",
    "This integer is then converted back to a double so accurate division can take place so is printed as 314.0 instead of 314.\n",
    "\n",
    "Finally, division by 100 of the double, gives us back the original, accurate number but now truncated to two decimal places."
   ]
  },
  {
   "cell_type": "markdown",
   "metadata": {},
   "source": [
    "[Return to Exercise](#Exercise14)"
   ]
  },
  {
   "cell_type": "markdown",
   "metadata": {},
   "source": [
    "### Solution to Exercise 15<a id=\"Solution15\"></a>\n",
    "We just need to multiply by and later divide by 10 instead of 100."
   ]
  },
  {
   "cell_type": "code",
   "execution_count": null,
   "metadata": {},
   "outputs": [],
   "source": [
    "int n;\n",
    "double d = 3.14159;\n",
    "d = d * 10;\n",
    "n = (int)d;\n",
    "d = (double)n;\n",
    "d = d / 10.0;\n",
    "System.out.println(d);"
   ]
  },
  {
   "cell_type": "markdown",
   "metadata": {},
   "source": [
    "[Return to Exercise](#Exercise15)"
   ]
  },
  {
   "cell_type": "markdown",
   "metadata": {},
   "source": [
    "### Solution to Exercise 16<a id=\"Solution16\"></a>\n",
    "You need to change all the int types to double, change the integer conversions to double conversions, and change int literal values (here 2) to double literal values (2.0) to be absolutely clear you intend accurate double arithmetic throughout."
   ]
  },
  {
   "cell_type": "code",
   "execution_count": null,
   "metadata": {},
   "outputs": [],
   "source": [
    "Scanner scanner = new Scanner(System.in);\n",
    "\n",
    "String text_input;\n",
    "double n1;\n",
    "double n2;\n",
    "double answer;\n",
    "\n",
    "System.out.println(\"Give me a number\");\n",
    "text_input = scanner.nextLine();           // Note you input text (keyboard strokes) - a series of characters\n",
    "n1 = Double.parseDouble(text_input);       // So need to convert it to a double\n",
    "\n",
    "System.out.println(\"Give me a second number\");\n",
    "text_input = scanner.nextLine();           // Note you input text (keyboard strokes) - a series of characters\n",
    "n2 = Double.parseDouble(text_input);       // So need to convert it to a double\n",
    "\n",
    "answer = (n1 + n2) / 2.0;                  // As n1 and n2 are doubles, + here does double arithmetic\n",
    "\n",
    "System.out.println(\"The average is \" + answer);"
   ]
  },
  {
   "cell_type": "markdown",
   "metadata": {},
   "source": [
    "[Return to Exercise](#Exercise16)"
   ]
  },
  {
   "cell_type": "markdown",
   "metadata": {},
   "source": [
    "### Solution to Exercise 17<a id=\"Solution17\"></a>\n",
    "\n",
    "Automatic type conversions are a bad idea in a language, because they lead to obscure errors. They are a way of dealing with type mismatches where an instruction asks for an operation to be done on a value that is the wrong type. This might be assigning a value of one type to a variable that has a different type, or doing an operation like add on  operands that are different types (eg ```2.0 + 3```).\n",
    "\n",
    "This makes code much more confusing to read. You need a very clear understanding of which type conversions are inserted where to be able to predict what code does (and to right correct code in the first place). The key point though is the compiler does NOT know what the programmer intended. A good rule of thumb including when writing programs yourself is NEVER to silent fix mistakes made by a human, but highlight them and let the human do the fixing.\n",
    "\n",
    "You cannot store an integer into a double variable. If a programmer writes an instruction to do this, then they could mean it to be converted to a double, but they might also have meant the variable to be an integer. The compiler does not know which was intended. It should therefore point out the problem and let the programmer fix it.\n",
    "\n",
    "The point of a type system is as a way for a programmer to tell the compiler what they intend, so it can use the information to point out mistakes. Because Java fudges the type system, it misses the chance to point out a whole range of common mistakes. As a result Java code is more likely to contain bugs than necessary."
   ]
  },
  {
   "cell_type": "markdown",
   "metadata": {},
   "source": [
    "[Return to Exercise](#Exercise17)"
   ]
  }
 ],
 "metadata": {
  "kernelspec": {
   "display_name": "Java",
   "language": "java",
   "name": "java"
  },
  "language_info": {
   "codemirror_mode": "java",
   "file_extension": ".jshell",
   "mimetype": "text/x-java-source",
   "name": "Java",
   "pygments_lexer": "java",
   "version": "11.0.8+10-LTS"
  }
 },
 "nbformat": 4,
 "nbformat_minor": 2
}
