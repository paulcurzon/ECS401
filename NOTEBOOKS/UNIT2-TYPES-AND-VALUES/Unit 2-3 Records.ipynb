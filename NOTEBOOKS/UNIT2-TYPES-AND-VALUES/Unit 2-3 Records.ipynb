{
 "cells": [
  {
   "cell_type": "markdown",
   "metadata": {},
   "source": [
    "# Unit 2 Part 3: Records\n",
    "## Paul Curzon\n",
    "\n",
    "## Interactive Programming Exercises\n",
    "\n",
    "## Learning Outcomes\n",
    "- Write programs using records\n",
    "- Explain what records are and how they are used.\n",
    "\n",
    "*This notebook looks at code fragments. After completing these exercises you MUST then go on to write full programs - see the programming exercises in the workbook.*\n",
    "\n",
    "*Answers to exercises are given at the end*\n",
    "\n",
    "**Always read the answers to exercises and compare them to your own. There are important things to learn from the answers.**\n",
    "\n",
    "<span style=\"color: red;\"> It is a really good idea to add your own notes throughout this notebook to reinforce what you have learnt and highlight important points. Click on the + in the toolbar above to make a new note area, and change it from Code to Markdown in the dropdown menu above if your note is not executable code. You may also want to highlight your notes in red as here, so they stand out. You change colours using span like this: </span>\n",
    "```\n",
    "<span style=\"color: red;\">THE TEXT TO COLOUR RED</span>\n",
    "```"
   ]
  },
  {
   "cell_type": "markdown",
   "metadata": {},
   "source": [
    "## Refresher\n",
    "\n",
    "### Exercise 1<a id=\"Exercise1\"></a>\n",
    "\n",
    "Read the following code fragment and predict what it will do. Run it and see if you are right.\n"
   ]
  },
  {
   "cell_type": "markdown",
   "metadata": {},
   "source": [
    "**Write your prediction here**\n"
   ]
  },
  {
   "cell_type": "code",
   "execution_count": null,
   "metadata": {},
   "outputs": [],
   "source": [
    "String albatross_name = \"Wandering Albatross\";\n",
    "int albatross_wing_span = 305;\n",
    "int albatross_length = 135;\n",
    "\n",
    "System.out.println(\"The \" + albatross_name + \" is of length \" + albatross_length + \"cm\");\n",
    "System.out.println(\"and has a wing span of \" + albatross_wing_span + \"cm.\");\n",
    "System.out.println();\n"
   ]
  },
  {
   "cell_type": "markdown",
   "metadata": {},
   "source": [
    "**NOW READ THE ANSWER** [Click here to jump to the solution to this exercise](#Solution1)"
   ]
  },
  {
   "cell_type": "markdown",
   "metadata": {},
   "source": [
    "### Exercise 2<a id=\"Exercise2\"></a>\n",
    "Modify the following code (which is the same as that above). Add the details of a second bird, the Red Kite, which has a wing span of 165cm and a length of 66cm and print them in the same format after the details of the first.\n",
    "\n",
    "Run your new version to make sure it works."
   ]
  },
  {
   "cell_type": "code",
   "execution_count": null,
   "metadata": {},
   "outputs": [],
   "source": [
    "String albatross_name = \"Wandering Albatross\";\n",
    "int albatross_wing_span = 305;\n",
    "int albatross_length = 135;\n",
    "\n",
    "System.out.println(\"The \" + albatross_name + \" is of length \" + albatross_length + \"cm\");\n",
    "System.out.println(\"and has a wing span of \" + albatross_wing_span + \"cm.\");\n",
    "System.out.println();\n"
   ]
  },
  {
   "cell_type": "markdown",
   "metadata": {},
   "source": [
    "**NOW READ THE ANSWER** [Click here to jump to the solution to this exercise](#Solution2)"
   ]
  },
  {
   "cell_type": "markdown",
   "metadata": {},
   "source": [
    "## Record Definitions\n",
    "We have seen that programming languages come with a set of pre-existing types to give the compiler and human readers more information. What if you want to create your own? That is where user-defined types come in. One kind involves creating what are called **records**. They give a way to create new types from existing ones.\n",
    "\n",
    "Just as we think of a String as a single thing not just lots of characters, if we are writing a program for bird spotters it would be nice to think of a bird as a single thing: something with a name, a length and a wing span, perhaps. It would be nice to be able to create a single variable that holds everything we want to know about each bird we record rather than needing lots of variables to hold all the separate information about each bird.\n",
    "\n",
    "A record is a new type made by grouping together existing types and giving each a **field** name.\n",
    "\n",
    "In Java, you can create records and so your own types using the class mechanism (strictly there isn't a concept of record in Java as it has the more powerful concepts of class and object, but objects are beyond the scope of this module). We will use them as simple records and call them records. \n",
    "\n",
    "Before you can use a new record type, you have to define the record. What is the type called and what do values of this type look like. You must \n",
    "- give it a name (what are you going to call the type) and \n",
    "- say what its component types are (the types of the fields) \n",
    "- give each field a name."
   ]
  },
  {
   "cell_type": "markdown",
   "metadata": {},
   "source": [
    "### Exercise 3<a id=\"Exercise3\"></a>\n",
    "\n",
    "Read the following code fragment and predict what it does. Run it and see if you are right."
   ]
  },
  {
   "cell_type": "markdown",
   "metadata": {},
   "source": [
    "**Write your prediction here**\n"
   ]
  },
  {
   "cell_type": "code",
   "execution_count": null,
   "metadata": {},
   "outputs": [],
   "source": [
    "class Bird\n",
    "{\n",
    "    String name;\n",
    "    int wing_span;\n",
    "    int length;\n",
    "}"
   ]
  },
  {
   "cell_type": "markdown",
   "metadata": {},
   "source": [
    "**NOW READ THE ANSWER** [Click here to jump to the solution to this exercise](#Solution3)"
   ]
  },
  {
   "cell_type": "markdown",
   "metadata": {},
   "source": [
    "What it does is create a new type called Bird and defined a vaue of type Bird. A Bird record is to be made up of a name, a wing span and a length. \n",
    "\n",
    "It does not do anything visible on its own. However, having defined it, you can now use the type Bird in the same way as you have used other types like String, int and double before. You can declare variables of type Bird, and store values in them."
   ]
  },
  {
   "cell_type": "markdown",
   "metadata": {},
   "source": [
    "### Exercise 4<a id=\"Exercise4\"></a>\n",
    "\n",
    "Read the following code fragment and explain what it will do. \n",
    "\n",
    "Hint: the first part is similar to something you have seen already. \n",
    "\n",
    "Run it and see if you are right. It continues the above code so you must have run the above first to have created the type Bird."
   ]
  },
  {
   "cell_type": "markdown",
   "metadata": {},
   "source": [
    "**Write your explanation and here**\n"
   ]
  },
  {
   "cell_type": "code",
   "execution_count": null,
   "metadata": {},
   "outputs": [],
   "source": [
    "Bird albatross = new Bird();"
   ]
  },
  {
   "cell_type": "markdown",
   "metadata": {},
   "source": [
    "**NOW READ THE ANSWER** [Click here to jump to the solution to this exercise](#Solution4)"
   ]
  },
  {
   "cell_type": "markdown",
   "metadata": {},
   "source": [
    "### Exercise 5<a id=\"Exercise5\"></a>\n",
    "\n",
    "Declare another variable called kite to hold information about the Red Kite too."
   ]
  },
  {
   "cell_type": "code",
   "execution_count": null,
   "metadata": {},
   "outputs": [],
   "source": [
    "// Declare a variable to hold information about the Kite here.\n"
   ]
  },
  {
   "cell_type": "markdown",
   "metadata": {},
   "source": [
    "[Click here to jump to the solution to this exercise](#Solution5)"
   ]
  },
  {
   "cell_type": "markdown",
   "metadata": {},
   "source": [
    "Think of a record as being a box with multiple compartments (the fields). This command creates the outer box and calls it albatross. All the inner compartments are just part of albatross. The compartments have names too but those names are always taken from the fields declared in the original record declaration. The whole variable is called albatross. It's fields are automatically created and called albatross.name, albatross.wing_span and albatross.length.\n",
    "\n",
    "If we made another  delcaration\n",
    "```java\n",
    "Bird robin = new Bird();\n",
    "```\n",
    "then we have automatically created the variable robin with fields (so sub-compartments) robin.name, robin.wing_span and robin.length\n",
    "\n",
    "There is a difference here to other variables we've seen. When you create a new variable we have to link it to space in memory to store the values (the actual creation of the storage box of the right size and shape). This is done by \n",
    "```java\n",
    "new Bird();\n",
    "```\n",
    "You MUST always do that (putting in the name of the record type) to allocate space in memory or you will get \"null pointer\" error messages.\n",
    "\n",
    "To store values in a record variable and to get the values out, we just use the name of the variable as with any other variable. However we need to also say which field we are interested in. The name of any specific field is just the variable name a dot and the field name eg albatross.name. "
   ]
  },
  {
   "cell_type": "markdown",
   "metadata": {},
   "source": [
    "### Exercise 6<a id=\"Exercise6\"></a>\n",
    "\n",
    "The following continues the above code so you must have run the above first, declaring the record type and then creating variables of type Bird. \n",
    "\n",
    "Try to make sense of what it is doing. Run it to make sure it does as you expect. Notice we only declared ONE variable, but in doing so get the separate fields as defined in the type definition for free. It is as though in declaring a single variable of type Bird we actually declared three variables, one for each field.\n",
    "\n",
    "Explain line by line what it does."
   ]
  },
  {
   "cell_type": "markdown",
   "metadata": {},
   "source": [
    "**Write your explanation here**\n"
   ]
  },
  {
   "cell_type": "code",
   "execution_count": null,
   "metadata": {},
   "outputs": [],
   "source": [
    "albatross.name = \"Wandering Albatross\";\n",
    "albatross.wing_span = 305;\n",
    "albatross.length = 135;\n",
    "\n",
    "System.out.println(\"The \" + albatross.name + \" is of length \" + albatross.length + \"cm\");\n",
    "System.out.println(\"and has a wing span of \" + albatross.wing_span + \"cm.\");"
   ]
  },
  {
   "cell_type": "markdown",
   "metadata": {},
   "source": [
    "**NOW READ THE ANSWER** [Click here to jump to the solution to this exercise](#Solution6)"
   ]
  },
  {
   "cell_type": "markdown",
   "metadata": {},
   "source": [
    "## Just doing the same thing in a different way\n",
    "\n",
    "Using records is just a different way to do what we were doing in the original code of Exercise 1. However it is more convenient as we now only have one variable for each bird instead of several. We are now keeping all the information about one bird together in one place, so mix-ups when we write the code are less likely. As our records get bigger with more fields this becomes even more important. It also lays the groundwork for some even more elegant things we can do as we will see in later units."
   ]
  },
  {
   "cell_type": "markdown",
   "metadata": {},
   "source": [
    "### Exercise 7<a id=\"Exercise7\"></a>\n",
    "\n",
    "Extend the above code to store and then print the details of the Red Kite in the same format. The Red Kite has a wing span of 165cm and length of 66cm."
   ]
  },
  {
   "cell_type": "code",
   "execution_count": null,
   "metadata": {},
   "outputs": [],
   "source": [
    "// Store information about the Kite then print it.\n"
   ]
  },
  {
   "cell_type": "markdown",
   "metadata": {},
   "source": [
    "**NOW READ THE ANSWER** [Click here to jump to the solution to this exercise](#Solution7)"
   ]
  },
  {
   "cell_type": "markdown",
   "metadata": {},
   "source": [
    "### Exercise 8<a id=\"Exercise8\"></a>\n",
    "\n",
    "We will now put it all together.\n",
    "\n",
    "Modify the Bird type below to now include an additional field called colour. The Albatross is \"white with black wing tips\". Have it print details of the colour along with the other information.\n",
    "\n",
    "**Note there is one subtle difference between this and a full program to bear in mind. In a full program the new class definition has to be outside the class definition holding our methods.**"
   ]
  },
  {
   "cell_type": "code",
   "execution_count": null,
   "metadata": {},
   "outputs": [],
   "source": [
    "// Create a new type Bird to hold details of different birds.\n",
    "//\n",
    "class Bird\n",
    "{\n",
    "    String name;\n",
    "    int wing_span;\n",
    "    int length;\n",
    "}\n",
    "\n",
    "\n",
    "// Create some example birds and print the details stored about them.\n",
    "//\n",
    "public static void birdDetails1()\n",
    "{\n",
    "    Bird albatross = new Bird();\n",
    "        \n",
    "    albatross.name = \"Wandering Albatross\";\n",
    "    albatross.wing_span = 305;\n",
    "    albatross.length = 135;\n",
    "     \n",
    "    \n",
    "    System.out.println(\"The \" + albatross.name + \" is of length \" + albatross.length + \"cm\");\n",
    "    System.out.println(\"and has a wing span of \" + albatross.wing_span + \"cm.\");\n",
    "    System.out.println();\n",
    "\n",
    "    return;\n",
    "}\n",
    "\n",
    "birdDetails1();"
   ]
  },
  {
   "cell_type": "markdown",
   "metadata": {},
   "source": [
    "**NOW READ THE ANSWER** [Click here to jump to the solution to this exercise](#Solution8)"
   ]
  },
  {
   "cell_type": "markdown",
   "metadata": {},
   "source": [
    "### Exercise 9<a id=\"Exercise9\"></a>\n",
    "\n",
    "Cut and paste your code from the body of the above exercise into  the method template birdDetails2 then update the code to print all the information about the kite too. The Kite's colour is \"rust red\".\n"
   ]
  },
  {
   "cell_type": "code",
   "execution_count": null,
   "metadata": {},
   "outputs": [],
   "source": [
    "// Create some example birds and print the details stored about them.\n",
    "//\n",
    "public static void birdDetails2()\n",
    "{\n",
    "\n",
    "    \n",
    "}\n",
    "\n",
    "birdDetails2();"
   ]
  },
  {
   "cell_type": "markdown",
   "metadata": {},
   "source": [
    "**NOW READ THE ANSWER** [Click here to jump to the solution to this exercise](#Solution9)"
   ]
  },
  {
   "cell_type": "markdown",
   "metadata": {},
   "source": [
    "### Procedures and Records\n",
    "\n",
    "Whenever we seem to be writing the same code out multiple times, it is time to think of **generalising** the code. Can we write a procedure that packages up what we are doing, so we can write the code once in a procedure and then call it when needed?\n",
    "\n",
    "There is an opportunity (or two) here. We are writing the same code for printing the details of a bird, whether kite, albatross or something else. The only thing that changes is which bird (and so which variable of type Bird) we want to print the details of."
   ]
  },
  {
   "cell_type": "markdown",
   "metadata": {},
   "source": [
    "### Exercise 10<a id=\"Exercise10\"></a>\n",
    "\n",
    "Read the following code and predict what it will do. Run it then explain what it does."
   ]
  },
  {
   "cell_type": "markdown",
   "metadata": {},
   "source": [
    "**Write your explanation here**\n"
   ]
  },
  {
   "cell_type": "code",
   "execution_count": null,
   "metadata": {},
   "outputs": [],
   "source": [
    "public static void printBirdDetails(Bird b)\n",
    "{\n",
    "    System.out.println(\"The \" + b.name + \" is of length \" + b.length + \"cm\");\n",
    "    System.out.println(\"and has a wing span of \" + b.wing_span + \"cm.\");\n",
    "    System.out.println(\"It is coloured \" + b.colour + \".\");\n",
    "    System.out.println();\n",
    "\n",
    "    return;\n",
    "}\n",
    "\n",
    "// Create some example birds and print the details stored about them.\n",
    "//\n",
    "public static void birdDetails3()\n",
    "{\n",
    "    Bird albatross = new Bird();\n",
    "        \n",
    "    albatross.name = \"Wandering Albatross\";\n",
    "    albatross.wing_span = 305;\n",
    "    albatross.length = 135;\n",
    "    albatross.colour = \"white with black wing tips\";\n",
    "     \n",
    "    \n",
    "    printBirdDetails(albatross);\n",
    "\n",
    "    return;\n",
    "}\n",
    "\n",
    "birdDetails3();\n"
   ]
  },
  {
   "cell_type": "markdown",
   "metadata": {},
   "source": [
    "**NOW READ THE ANSWER** [Click here to jump to the solution to this exercise](#Solution1)"
   ]
  },
  {
   "cell_type": "markdown",
   "metadata": {},
   "source": [
    "### Exercise 11<a id=\"Exercise11\"></a>\n",
    "\n",
    "Modify the code below to include details of the Red Kite as before (cut and paste your previous code into the method) then print the details by calling the printBirdDetails method.\n"
   ]
  },
  {
   "cell_type": "code",
   "execution_count": null,
   "metadata": {},
   "outputs": [],
   "source": [
    "// Print the details of a bird in a consistent form\n",
    "//\n",
    "public static void printBirdDetails(Bird b)\n",
    "{\n",
    "    System.out.println(\"The \" + b.name + \" is of length \" + b.length + \"cm\");\n",
    "    System.out.println(\"and has a wing span of \" + b.wing_span + \"cm.\");\n",
    "    System.out.println(\"It is coloured \" + b.colour + \".\");\n",
    "    System.out.println();\n",
    "\n",
    "    return;\n",
    "}\n",
    "\n",
    "// Create some example birds and print the details stored about them.\n",
    "//\n",
    "public static void birdDetails4()\n",
    "{\n",
    "    Bird albatross = new Bird();\n",
    "        \n",
    "    albatross.name = \"Wandering Albatross\";\n",
    "    albatross.wing_span = 305;\n",
    "    albatross.length = 135;\n",
    "    albatross.colour = \"white with black wing tips\";\n",
    "     \n",
    "    \n",
    "    printBirdDetails(albatross);\n",
    "\n",
    "    return;\n",
    "}\n",
    "\n",
    "birdDetails4();\n"
   ]
  },
  {
   "cell_type": "markdown",
   "metadata": {},
   "source": [
    "**NOW READ THE ANSWER** [Click here to jump to the solution to this exercise](#Solution11)"
   ]
  },
  {
   "cell_type": "markdown",
   "metadata": {},
   "source": [
    "The advantage of using procedures like this is that\n",
    "\n",
    "- we only write the code once, not every time we print out the details of a bird;\n",
    "\n",
    "- once written we don't have to worry about how it works, just what it is called and what it does;\n",
    "\n",
    "- we ensure consistency. Every time we print details of a bird they use the same format.\n",
    "\n",
    "- to change the way we print the details, we only have to change it in one place and can be sure it is changed consistently everywhere.\n"
   ]
  },
  {
   "cell_type": "markdown",
   "metadata": {},
   "source": [
    "### Exercise 12<a id=\"Exercise12\"></a>\n",
    "\n",
    "We can do a similar thing with creating a record and storing values too, building it all into one procedure.\n",
    "\n",
    "Run the following code and then see if you can work out what it does and how and so explain the code.\n"
   ]
  },
  {
   "cell_type": "markdown",
   "metadata": {},
   "source": [
    "\n",
    "**Double click then write your explanation here**\n"
   ]
  },
  {
   "cell_type": "code",
   "execution_count": null,
   "metadata": {},
   "outputs": [],
   "source": [
    "// Create a bird record b and set the fields with the given values, returning the completed record value\n",
    "//\n",
    "public static Bird createBird(String given_name, int given_wing_span, int given_length, String given_colour)\n",
    "{\n",
    "    Bird b = new Bird();\n",
    "        \n",
    "    b.name = given_name;\n",
    "    b.wing_span = given_wing_span;\n",
    "    b.length = given_length;\n",
    "    b.colour = given_colour;\n",
    "\n",
    "    return b;\n",
    "}\n",
    "\n",
    "// Create some example birds and print the details stored about them.\n",
    "//\n",
    "public static void birdDetails5()\n",
    "{\n",
    "    Bird albatross = createBird(\"Wandering Albatross\", 305, 135, \"white with black wing tips\");     \n",
    "    \n",
    "    printBirdDetails(albatross);\n",
    "\n",
    "    return;\n",
    "}\n",
    "\n",
    "birdDetails5();\n"
   ]
  },
  {
   "cell_type": "markdown",
   "metadata": {},
   "source": [
    "**NOW READ THE ANSWER** [Click here to jump to the solution to this exercise](#Solution12)"
   ]
  },
  {
   "cell_type": "markdown",
   "metadata": {},
   "source": [
    "### Exercise 13<a id=\"Exercise13\"></a>\n",
    "\n",
    "Modify the method birdDetails6 to include creating and printing the details of the kite. This can now be done by just adding two lines of code: one to create the record and one to print it."
   ]
  },
  {
   "cell_type": "code",
   "execution_count": null,
   "metadata": {},
   "outputs": [],
   "source": [
    "// Create some example birds and print the details stored about them.\n",
    "//\n",
    "public static void birdDetails6()\n",
    "{\n",
    "    Bird albatross = createBird(\"Wandering Albatross\", 305, 135, \"white with black wing tips\");     \n",
    "    \n",
    "    printBirdDetails(albatross);\n",
    "\n",
    "    return;\n",
    "}\n",
    "\n",
    "birdDetails6();\n"
   ]
  },
  {
   "cell_type": "markdown",
   "metadata": {},
   "source": [
    "**NOW READ THE ANSWER** [Click here to jump to the solution to this exercise](#Solution13)"
   ]
  },
  {
   "cell_type": "markdown",
   "metadata": {},
   "source": [
    "### Exercise 14<a id=\"Exercise14\"></a>\n",
    "\n",
    "**Explain** briefly in your own words the key points about creating and using records, **illustrating** your answer with an example of your own."
   ]
  },
  {
   "cell_type": "markdown",
   "metadata": {},
   "source": [
    "**Write your explanation here**\n"
   ]
  },
  {
   "cell_type": "markdown",
   "metadata": {},
   "source": [
    "**NOW READ THE ANSWER** [Click here to jump to the solution to this exercise](#Solution14)"
   ]
  },
  {
   "cell_type": "markdown",
   "metadata": {},
   "source": [
    "## Putting it all together into a program\n",
    "\n",
    "The really important thing to realise when writing a full program is that the record definition (starting class) is not inside the class representing the program but outside it as below. \n",
    "\n",
    "Notice how one class follows the other (the order doesn't matter) and in particular that the close curly bracket of the first ends it before the next class starts. **Notice also how ALL the methods are in the same class as main.** The record definition does not contain any methods.\n",
    "\n",
    "This is a different style to that used when doing object-oriented programming in Java, but is required for all programs on this module. The module is about procedural programming, and this style mirrors the style used in pure procedural programming languages.\n",
    "\n",
    "Cut and paste this program into an editor, save it as a Java file called factsaboutbirds.java then compile and run it."
   ]
  },
  {
   "cell_type": "code",
   "execution_count": null,
   "metadata": {},
   "outputs": [],
   "source": [
    "/* *****************************************\n",
    "@author Paul Curzon\n",
    "@version 1\n",
    "@date 27 July 2020\n",
    "\n",
    "    A program to illustrate Simple use of records \n",
    "    including use of procedures and functions.\n",
    "\n",
    "    Store details about birds and then print them in a consistent format.\n",
    "******************************************** */\n",
    "\n",
    "\n",
    "// Create a new type Bird to hold details of different birds.\n",
    "//\n",
    "class Bird\n",
    "{\n",
    "    String name;\n",
    "    int wing_span;\n",
    "    int length;\n",
    "    String colour;\n",
    "}\n",
    "\n",
    "\n",
    "// Store details about different birds and then print them in a consistent way.\n",
    "// \n",
    "class factsaboutbirds\n",
    "{\n",
    "    public static void main(String[] p)\n",
    "    {\n",
    "\n",
    "        birdDetails();\n",
    "        \n",
    "        System.exit(0);\n",
    "    }\n",
    "\n",
    "    // Create some example birds and print the details stored about them.\n",
    "    //\n",
    "    public static void birdDetails()\n",
    "    {\n",
    "        Bird albatross = createBird(\"Wandering Albatross\", 305, 135, \"white with black wing tips\");     \n",
    "        Bird kite = createBird(\"Red Kite\", 165, 66, \"rust red\");\n",
    "                \n",
    "        printBirdDetails(albatross);\n",
    "        printBirdDetails(kite);\n",
    "\n",
    "        return;\n",
    "    }\n",
    "    \n",
    "    // Print all the known details about a Bird given a Bird record.\n",
    "    //    \n",
    "    public static void printBirdDetails(Bird b)\n",
    "    {\n",
    "        System.out.println(\"The \" + b.name + \" is of length \" + b.length + \"cm\");\n",
    "        System.out.println(\"and has a wing span of \" + b.wing_span + \"cm.\");\n",
    "        System.out.println(\"It is coloured \" + b.colour + \".\");\n",
    "        System.out.println();\n",
    "\n",
    "        return;\n",
    "    }\n",
    "\n",
    "    // Create a bird record b and set the fields with the given values, returning the completed record value\n",
    "    //\n",
    "    public static Bird createBird(String given_name, int given_wing_span, int given_length, String given_colour)\n",
    "    {\n",
    "        Bird b = new Bird();\n",
    "        \n",
    "        b.name = given_name;\n",
    "        b.wing_span = given_wing_span;\n",
    "        b.length = given_length;\n",
    "        b.colour = given_colour;\n",
    "\n",
    "        return b;\n",
    "    }\n",
    "\n",
    "}"
   ]
  },
  {
   "cell_type": "markdown",
   "metadata": {},
   "source": [
    "*Once you have done the above exercises (and understand how the concepts work) move on to doing the actual programming exercises from the handbook, writing full programs. You must be able to write full programs, not just fragments.*"
   ]
  },
  {
   "cell_type": "markdown",
   "metadata": {},
   "source": [
    "## Solutions\n",
    "\n",
    "### Solution to Exercise 1<a id=\"Solution1\"></a>\n",
    "\n",
    "It prints"
   ]
  },
  {
   "cell_type": "markdown",
   "metadata": {},
   "source": [
    "```\n",
    "The Wandering Albatross is of length 135cm\n",
    "and has a wing span of 305cm.\n",
    "```"
   ]
  },
  {
   "cell_type": "markdown",
   "metadata": {},
   "source": [
    "[Return to Exercise](#Exercise1)"
   ]
  },
  {
   "cell_type": "markdown",
   "metadata": {},
   "source": [
    "### Solution to Exercise 2<a id=\"Solution2\"></a>"
   ]
  },
  {
   "cell_type": "code",
   "execution_count": null,
   "metadata": {},
   "outputs": [],
   "source": [
    "String albatross_name = \"Wandering Albatross\";\n",
    "int albatross_wing_span = 305;\n",
    "int albatross_length = 135;\n",
    "\n",
    "String kite_name = \"Red Kite\";\n",
    "int kite_wing_span = 165;\n",
    "int kite_length = 66;\n",
    "\n",
    "System.out.println(\"The \" + albatross_name + \" is of length \" + albatross_length + \"cm\");\n",
    "System.out.println(\"and has a wing span of \" + albatross_wing_span + \"cm.\");\n",
    "System.out.println();\n",
    "System.out.println(\"The \" + kite_name + \" is of length \" + kite_length + \"cm\");\n",
    "System.out.println(\"and has a wing span of \" + kite_wing_span + \"cm.\");"
   ]
  },
  {
   "cell_type": "markdown",
   "metadata": {},
   "source": [
    "[Return to Exercise](#Exercise2)"
   ]
  },
  {
   "cell_type": "markdown",
   "metadata": {},
   "source": [
    "###  Solution to Exercise 3<a id=\"Solution3\"></a>\n",
    "\n",
    "Nothing visible happens when you run this code, but behind the scenes it has created a new type called Bird. This means the program from this point on can use that type just as it uses other types like int or String to declare variables of the type. It has, in effect, stored a template or blueprint of what a value of type Bird is like - a Bird record value consists of a String and two ints packaged together into a single value. The string is refered to as 'name', and the integers as 'length' and 'wing_span'.\n",
    "\n",
    "[Return to Exercise](#Exercise3)"
   ]
  },
  {
   "cell_type": "markdown",
   "metadata": {},
   "source": [
    "### Solution to Exercise 4<a id=\"Solution4\"></a>\n",
    "It creates a new variable of type Bird called albatross. It can be used to store details about the albatross - storing  its name, length and wingspan.\n",
    "At the moment it is an empty shell - it holds no information about the bird in question yet."
   ]
  },
  {
   "cell_type": "markdown",
   "metadata": {},
   "source": [
    "[Return to Exercise](#Exercise4)"
   ]
  },
  {
   "cell_type": "markdown",
   "metadata": {},
   "source": [
    "###  Solution to Exercise 5<a id=\"Solution5\"></a>"
   ]
  },
  {
   "cell_type": "code",
   "execution_count": null,
   "metadata": {},
   "outputs": [],
   "source": [
    "Bird kite = new Bird();"
   ]
  },
  {
   "cell_type": "markdown",
   "metadata": {},
   "source": [
    "[Return to Exercise](#Exercise5)"
   ]
  },
  {
   "cell_type": "markdown",
   "metadata": {},
   "source": [
    "###  Solution to Exercise 6<a id=\"Solution6\"></a>\n",
    "\n",
    "It first stores the string \"Wandering Albatross\" in the name field of variable albatross (ie in albatross.name).\n",
    "It then stores the integer 305 into the field wing_span and then 135 into the field length of variable albatross.\n",
    "\n",
    "Finally, it prints out the details, pulling out the name, length and wing span when needed (using eg albatross.name to get the value stored in the name field). It combines the individual parts into a string sentence printed about the Albatross based on the information stored.\n",
    "\n",
    "[Return to Exercise](#Exercise6)"
   ]
  },
  {
   "cell_type": "markdown",
   "metadata": {},
   "source": [
    "###  Solution to Exercise 7<a id=\"Solution7\"></a>\n"
   ]
  },
  {
   "cell_type": "code",
   "execution_count": null,
   "metadata": {},
   "outputs": [],
   "source": [
    "kite.name = \"Red Kite\";\n",
    "kite.wing_span = 165;\n",
    "kite.length = 66;\n",
    "\n",
    "System.out.println(\"The \" + kite.name + \" is of length \" + kite.length + \"cm\");\n",
    "System.out.println(\"and has a wing span of \" + kite.wing_span + \"cm.\");"
   ]
  },
  {
   "cell_type": "markdown",
   "metadata": {},
   "source": [
    "[Return to Exercise](#Exercise7)"
   ]
  },
  {
   "cell_type": "markdown",
   "metadata": {},
   "source": [
    "###  Solution to Exercise 8<a id=\"Solution8\"></a>"
   ]
  },
  {
   "cell_type": "code",
   "execution_count": null,
   "metadata": {},
   "outputs": [],
   "source": [
    "// Create a new type Bird to hold details of different birds.\n",
    "//\n",
    "class Bird\n",
    "{\n",
    "    String name;\n",
    "    int wing_span;\n",
    "    int length;\n",
    "    String colour;\n",
    "}\n",
    "\n",
    "// Create some example birds and print the details stored about them.\n",
    "//\n",
    "public static void birdDetails1()\n",
    "{\n",
    "    Bird albatross = new Bird();\n",
    "        \n",
    "    albatross.name = \"Wandering Albatross\";\n",
    "    albatross.wing_span = 305;\n",
    "    albatross.length = 135;\n",
    "    albatross.colour = \"white with black wing tips\";\n",
    "     \n",
    "    \n",
    "    System.out.println(\"The \" + albatross.name + \" is of length \" + albatross.length + \"cm\");\n",
    "    System.out.println(\"and has a wing span of \" + albatross.wing_span + \"cm.\");\n",
    "    System.out.println(\"It is coloured \" + albatross.colour + \".\");\n",
    "    System.out.println();\n",
    "\n",
    "    return;\n",
    "}\n",
    "\n",
    "birdDetails1();"
   ]
  },
  {
   "cell_type": "markdown",
   "metadata": {},
   "source": [
    "[Return to Exercise](#Exercise8)"
   ]
  },
  {
   "cell_type": "markdown",
   "metadata": {},
   "source": [
    "###  Solution to Exercise 9<a id=\"Solution9\"></a>\n"
   ]
  },
  {
   "cell_type": "code",
   "execution_count": null,
   "metadata": {},
   "outputs": [],
   "source": [
    "// Create a new type Bird to hold details of different birds.\n",
    "//\n",
    "class Bird\n",
    "{\n",
    "    String name;\n",
    "    int wing_span;\n",
    "    int length;\n",
    "    String colour;\n",
    "}\n",
    "\n",
    "\n",
    "// Create some example birds and print the details stored about them.\n",
    "//\n",
    "public static void birdDetails2()\n",
    "{\n",
    "    Bird albatross = new Bird();\n",
    "    Bird kite = new Bird();\n",
    "    \n",
    "    // STORE DETAILS OF ALBATROSS\n",
    "    //\n",
    "    albatross.name = \"Wandering Albatross\";\n",
    "    albatross.wing_span = 305;\n",
    "    albatross.length = 135;\n",
    "    albatross.colour = \"white with black wing tips\";\n",
    "\n",
    "    // STORE DETAILS OF KITE\n",
    "    //\n",
    "    kite.name = \"Red Kite\";\n",
    "    kite.wing_span = 165;\n",
    "    kite.length = 66;\n",
    "    kite.colour = \"rust red\";\n",
    "\n",
    "    // PRINT DETAILS OF ALBATROSS\n",
    "    //\n",
    "    System.out.println(\"The \" + albatross.name + \" is of length \" + albatross.length + \"cm\");\n",
    "    System.out.println(\"and has a wing span of \" + albatross.wing_span + \"cm.\");\n",
    "    System.out.println(\"It is coloured \" + albatross.colour + \".\");\n",
    "    System.out.println();\n",
    "\n",
    "    // PRINT DETAILS OF KITE\n",
    "    //\n",
    "    System.out.println(\"The \" + kite.name + \" is of length \" + kite.length + \"cm\");\n",
    "    System.out.println(\"and has a wing span of \" + kite.wing_span + \"cm.\");\n",
    "    System.out.println(\"It is coloured \" + kite.colour + \".\");\n",
    "\n",
    "\n",
    "    return;\n",
    "}\n",
    "\n",
    "birdDetails2();"
   ]
  },
  {
   "cell_type": "markdown",
   "metadata": {},
   "source": [
    "[Return to Exercise](#Exercise9)"
   ]
  },
  {
   "cell_type": "markdown",
   "metadata": {},
   "source": [
    "###  Solution to Exercise 10<a id=\"Solution10\"></a>\n",
    "\n",
    "The code as a whole, first calls method birdDetails3. It creates a new bird record to hold data about the albatross, and then stores the relevant facts (name, wing-span, length and colour) by assigning directly to the fields. It then calls the method printBirdDetails, to print all the details known in sentences. It is passed the whole record, which it locally refers to as b (because it could be passed any record, so each record it is passed will have a different name, whatever it is passed it locally renames it and then refers to the record by that name). It pulls out the values from each individual field when needed to insert into the sentences printed. It then returns back to method birdDetails3 which immediately finishes itself.\n",
    "\n",
    "Note that all this assumes the Bird type has been previously defined.\n",
    "\n",
    "[Return to Exercise](#Exercise10)"
   ]
  },
  {
   "cell_type": "markdown",
   "metadata": {},
   "source": [
    "###  Solution to Exercise 11<a id=\"Solution11\"></a>\n"
   ]
  },
  {
   "cell_type": "code",
   "execution_count": null,
   "metadata": {},
   "outputs": [],
   "source": [
    "// Print the details of a bird in a consistent form\n",
    "//\n",
    "public static void printBirdDetails(Bird b)\n",
    "{\n",
    "    System.out.println(\"The \" + b.name + \" is of length \" + b.length + \"cm\");\n",
    "    System.out.println(\"and has a wing span of \" + b.wing_span + \"cm.\");\n",
    "    System.out.println(\"It is coloured \" + b.colour + \".\");\n",
    "    System.out.println();\n",
    "\n",
    "    return;\n",
    "}\n",
    "\n",
    "// Create some example birds and print the details stored about them.\n",
    "//\n",
    "public static void birdDetails4()\n",
    "{\n",
    "    Bird albatross = new Bird();\n",
    "    Bird kite = new Bird();\n",
    "        \n",
    "    albatross.name = \"Wandering Albatross\";\n",
    "    albatross.wing_span = 305;\n",
    "    albatross.length = 135;\n",
    "    albatross.colour = \"white with black wing tips\";\n",
    "     \n",
    "    kite.name = \"Red Kite\";\n",
    "    kite.wing_span = 165;\n",
    "    kite.length = 66;\n",
    "    kite.colour = \"rust red\";\n",
    "    \n",
    "    printBirdDetails(albatross);\n",
    "    printBirdDetails(kite);\n",
    "\n",
    "    return;\n",
    "}\n",
    "\n",
    "birdDetails4();"
   ]
  },
  {
   "cell_type": "markdown",
   "metadata": {},
   "source": [
    "[Return to Exercise](#Exercise11)"
   ]
  },
  {
   "cell_type": "markdown",
   "metadata": {},
   "source": [
    "###  Solution to Exercise 12<a id=\"Solution12\"></a>\n",
    "\n",
    "This does the same as the previous one, the difference is that instead of calling new Bird() separately from filling the record, it is done together in the method createBird. This method is given as arguments the values to go in the separate fields. These are locally named as given_name, given_wing_span etc. The method just creates the new bird (which it gives the local name b to) and then sets the appropriate value in each field. Finally, it returns the record value stored in b.\n",
    "\n",
    "The call passes the information about the bird as the values in the brackets of the call. When the record value is returned it is immediately stored into the Bird variable albatross, and then the value in that variable is passed on to the method printBordDetails to print.\n",
    "\n",
    "[Return to Exercise](#Exercise12)"
   ]
  },
  {
   "cell_type": "markdown",
   "metadata": {},
   "source": [
    "###  Solution to Exercise 13<a id=\"Solution13\"></a>"
   ]
  },
  {
   "cell_type": "code",
   "execution_count": null,
   "metadata": {},
   "outputs": [],
   "source": [
    "// Create some example birds and print the details stored about them.\n",
    "//\n",
    "public static void birdDetails6()\n",
    "{\n",
    "    Bird albatross = createBird(\"Wandering Albatross\", 305, 135, \"white with black wing tips\");     \n",
    "    Bird kite = createBird(\"Red Kite\", 165, 66, \"rust red\");     \n",
    "    \n",
    "    printBirdDetails(albatross);\n",
    "    printBirdDetails(kite);\n",
    "\n",
    "    return;\n",
    "}\n",
    "\n",
    "birdDetails6();"
   ]
  },
  {
   "cell_type": "markdown",
   "metadata": {},
   "source": [
    "[Return to Exercise](#Exercise13)"
   ]
  },
  {
   "cell_type": "markdown",
   "metadata": {},
   "source": [
    "###  Solution to Exercise 14<a id=\"Solution14\"></a>\n",
    "\n",
    "Records are a way of making new compound types from existing types. In Java, a record can be created using the class mechanism, giving the new type a name and defining the fields (their name and type). For example,\n",
    "```java\n",
    "class Sportsperson\n",
    "{\n",
    "   String sport;\n",
    "   String name;\n",
    "   int age;\n",
    "}\n",
    "```\n",
    " creates a new type called Sportsperson with fields of sport, name and age. This declaration does not create a value or any storage space. It is just a template from which values and variables of this new type are created.\n",
    "\n",
    "To create an actual variable to hold data of this new type you use the same notation as any other type, giving the type and then the variable.\n",
    "\n",
    "```java\n",
    "Sportsperson player1;\n",
    "```\n",
    "With records, you also have to give an instruction to create the storage space using the keyword **new**, so the full statement to declare a variable, and allocate storage for it is:\n",
    "```java\n",
    "Sportsperson player1 = new Sportsperson();\n",
    "```\n",
    "This in effect creates a multi-compartment variable as set out in the class definition. The fields can be thought of as the compartments, and to access a specific field of a specific variable, you give the variable name and the field name, whether storing values or retrieving them. For example,\n",
    "```java\n",
    "player1.sport = \"Basketball\";\n",
    "```\n",
    "stores the String \"Basketball\" in the field called *sport* of the variable called *player1*.\n",
    "```java\n",
    "System.out.println(player1.sport);\n",
    "```\n",
    "retrieves a copy of that field value and prints it.\n",
    "\n",
    "By using methods, we can package up creating and filling values of a record as well as printing them in some common format."
   ]
  },
  {
   "cell_type": "markdown",
   "metadata": {},
   "source": [
    "[Return to Exercise](#Exercise14)"
   ]
  }
 ],
 "metadata": {
  "kernelspec": {
   "display_name": "Java",
   "language": "java",
   "name": "java"
  },
  "language_info": {
   "codemirror_mode": "java",
   "file_extension": ".jshell",
   "mimetype": "text/x-java-source",
   "name": "Java",
   "pygments_lexer": "java",
   "version": "11.0.8+10-LTS"
  }
 },
 "nbformat": 4,
 "nbformat_minor": 2
}
