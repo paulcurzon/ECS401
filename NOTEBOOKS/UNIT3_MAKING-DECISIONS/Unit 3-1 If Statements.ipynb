{
 "cells": [
  {
   "cell_type": "markdown",
   "metadata": {},
   "source": [
    "# Unit 3 Part 1: If statements\n",
    "## Paul Curzon\n",
    "\n",
    "## Interactive Programming Exercises\n",
    "\n",
    "### Learning Outcomes\n",
    "- Write programs that make decisions and do different things as a result\n",
    "- Write if statements\n",
    "- Write simple tests about strings\n",
    "- Explain if statements\n",
    "\n",
    "*This notebook looks at code fragments. After completing these exercises, you MUST then go on to write full programs - see the programming exercises in the workbook.*\n",
    "\n",
    "*Answers to exercises are given at the end.*\n",
    "\n",
    "**Always read the answers to exercises and compare them to your own. There are important things to learn from the answers.**\n",
    "\n",
    "<span style=\"color: red;\"> It is a really good idea to add your own notes throughout this notebook to reinforce what you have learnt and highlight important points. Click on the + in the toolbar above to make a new note area, and change it from Code to Markdown in the dropdown menu above if your note is not executable code. You may also want to highlight your notes in red as here, so they stand out. You change colours using span like this: </span>\n",
    "```\n",
    "<span style=\"color: red;\">THE TEXT TO COLOUR RED</span>\n",
    "```"
   ]
  },
  {
   "cell_type": "markdown",
   "metadata": {},
   "source": [
    "## Making Decisions\n",
    "Programs need to be able to make choices to do one thing or another. They do this using **if statements**. If statements work by asking true-false questions about values in variables. The answer determines which of two blocks of code are executed. The two blocks are called **branches**. One block of code is executed if the test question is true and the other if it is false."
   ]
  },
  {
   "cell_type": "markdown",
   "metadata": {},
   "source": [
    "### Exercise 1<a id=\"Exercise1\"></a>\n",
    "The following fragment of code uses an if statement to decide which of two code fragments to execute.\n",
    "\n",
    "Run the fragment of code (by clicking in the box with the code and then pressing the **Run** button in the Toolbar above) to see what it does.\n",
    "\n",
    "Explain what is happening."
   ]
  },
  {
   "cell_type": "markdown",
   "metadata": {},
   "source": [
    "**Write your explanation here**\n"
   ]
  },
  {
   "cell_type": "code",
   "execution_count": null,
   "metadata": {},
   "outputs": [],
   "source": [
    "String ans = \"yes\";    // create a string variable to do a test on\n",
    "\n",
    "System.out.println(\"Let's get started\");\n",
    "\n",
    "if (ans.equals(\"yes\"))\n",
    "{   // First branch of if statement\n",
    "    \n",
    "    System.out.println(\"It was yes!\");        \n",
    "}   \n",
    "else\n",
    "{   // Second branch of if statement\n",
    "    \n",
    "    System.out.println(\"It wasn't yes!\");\n",
    "}   \n",
    "\n",
    "System.out.println(\"Now we have finished.\");"
   ]
  },
  {
   "cell_type": "markdown",
   "metadata": {},
   "source": [
    "**NOW READ THE ANSWER** [Click here to jump to the solution to this exercise](#Solution1)"
   ]
  },
  {
   "cell_type": "markdown",
   "metadata": {},
   "source": [
    "## The keyword if\n",
    "The keyword \n",
    "**if**\n",
    "says that we want the code to make a decision and run different code depending on the result. Keywords are just special words in the language that have specific meanings. You can't use keywords for variable names."
   ]
  },
  {
   "cell_type": "markdown",
   "metadata": {},
   "source": [
    "### Exercise 2<a id=\"Exercise2\"></a>\n",
    "Below is exactly the same program fragment. Edit it by changing the value stored in variable ans to \"no\" ie\n",
    "```java\n",
    "String ans = \"no\";\n",
    "```\n",
    "What do you expect to happen this time? Check if you are right.\n",
    "\n",
    "Explain what is happening."
   ]
  },
  {
   "cell_type": "markdown",
   "metadata": {},
   "source": [
    "**Write your explanation here**\n"
   ]
  },
  {
   "cell_type": "code",
   "execution_count": null,
   "metadata": {},
   "outputs": [],
   "source": [
    "String ans = \"yes\";    // create a string variable to do a test on\n",
    "\n",
    "System.out.println(\"Let's get started\");\n",
    "\n",
    "if (ans.equals(\"yes\"))\n",
    "{\n",
    "    System.out.println(\"It was yes!\");        \n",
    "}   \n",
    "else\n",
    "{\n",
    "    System.out.println(\"It was NOT yes!\");\n",
    "}   \n",
    "\n",
    "System.out.println(\"Now we have finished.\");"
   ]
  },
  {
   "cell_type": "markdown",
   "metadata": {},
   "source": [
    "**NOW READ THE ANSWER** [Click here to jump to the solution to this exercise](#Solution2)"
   ]
  },
  {
   "cell_type": "markdown",
   "metadata": {},
   "source": [
    "### Exercise 3<a id=\"Exercise3\"></a>\n",
    "\n",
    "Now edit the string value from \"yes\" to other things in the (again identical) version below (for example, try \"YES\" or \"bleuh\") and predict what happens. Then try it and see if you were right. If you were wrong try and work out why.\n",
    "\n",
    "Summarise what happens when ans has different values. "
   ]
  },
  {
   "cell_type": "markdown",
   "metadata": {},
   "source": [
    "**Write your summary here**\n"
   ]
  },
  {
   "cell_type": "code",
   "execution_count": null,
   "metadata": {},
   "outputs": [],
   "source": [
    "String ans = \"yes\";    // create a string variable to do a test on\n",
    "\n",
    "System.out.println(\"Let's get started\");\n",
    "\n",
    "if (ans.equals(\"yes\"))\n",
    "{\n",
    "    System.out.println(\"It was yes!\");        \n",
    "}   \n",
    "else\n",
    "{\n",
    "    System.out.println(\"It wasn't yes!\");\n",
    "}   \n",
    "\n",
    "System.out.println(\"Now we have finished.\");"
   ]
  },
  {
   "cell_type": "markdown",
   "metadata": {},
   "source": [
    "**NOW READ THE ANSWER** [Click here to jump to the solution to this exercise](#Solution3)"
   ]
  },
  {
   "cell_type": "markdown",
   "metadata": {
    "slideshow": {
     "slide_type": "fragment"
    }
   },
   "source": [
    "## Tests\n",
    "Immediately after the keyword if is the **test** of the if statement. In the above example the test was \n",
    "```\n",
    "(ans.equals(\"yes\"))\n",
    "```\n",
    "Each test is surrounded by brackets: \n",
    "```\n",
    "(...)\n",
    "```\n",
    "The one here checks if two strings are EXACTLY the same. The operator **.equals** does this. Here it checks if the String currently held in the variable *ans* is exactly the String \"yes\". It has value true if they are identical and false otherwise."
   ]
  },
  {
   "cell_type": "markdown",
   "metadata": {},
   "source": [
    "### Exercise 4<a id=\"Exercise4\"></a>\n",
    "\n",
    "Predict what the following code does before running it to see if you are right. Then change the cities to both be the same (eg both Newcastle). Then change them to other cities and predict before runnning the code to see what happens."
   ]
  },
  {
   "cell_type": "markdown",
   "metadata": {},
   "source": [
    "**Write your predictions here**\n"
   ]
  },
  {
   "cell_type": "code",
   "execution_count": null,
   "metadata": {},
   "outputs": [],
   "source": [
    "String city1 = \"Newcastle\";\n",
    "String city2 = \"Tokyo\";\n",
    "       \n",
    "if (city1.equals(city2))\n",
    "{\n",
    "    System.out.println(\"They are the same\");        \n",
    "}   \n",
    "else\n",
    "{\n",
    "    System.out.println(\"They are NOT the same\");\n",
    "}   \n"
   ]
  },
  {
   "cell_type": "markdown",
   "metadata": {},
   "source": [
    "**NOW READ THE ANSWER** [Click here to jump to the solution to this exercise](#Solution4)"
   ]
  },
  {
   "cell_type": "markdown",
   "metadata": {
    "slideshow": {
     "slide_type": "fragment"
    }
   },
   "source": [
    "### Exercise 5<a id=\"Exercise5\"></a>\n",
    "Edit the program fragment below so that when the cities are the same it prints the message\n",
    "```\n",
    "You are both in the same place.\n",
    "```\n",
    "and when the cities are different it prints\n",
    "```\n",
    "You are in different places.\n",
    "```\n",
    "Whichever happens it should always end by printing.\n",
    "```\n",
    "I wonder where we will go next?\n",
    "```"
   ]
  },
  {
   "cell_type": "code",
   "execution_count": null,
   "metadata": {},
   "outputs": [],
   "source": [
    "String city1 = \"Newcastle\";\n",
    "String city2 = \"Tokyo\";\n",
    "       \n",
    "if (city1.equals(city2))\n",
    "{\n",
    "    System.out.println(\"They are the same\");        \n",
    "}   \n",
    "else\n",
    "{\n",
    "    System.out.println(\"They are not the same\");\n",
    "}   \n"
   ]
  },
  {
   "cell_type": "markdown",
   "metadata": {},
   "source": [
    "**NOW READ THE ANSWER** [Click here to jump to the solution to this exercise](#Solution5)"
   ]
  },
  {
   "cell_type": "markdown",
   "metadata": {},
   "source": [
    "## Blocks\n",
    "You can put as many instructions as you wish between the curly brackets in the **branches** of if statements. The brackets group the instructions together into a **block** of code. A block of code is treated like a single instruction - all the statements (ie instructions) in the block are executed in sequence."
   ]
  },
  {
   "cell_type": "markdown",
   "metadata": {
    "slideshow": {
     "slide_type": "fragment"
    }
   },
   "source": [
    "### Exercise 6<a id=\"Exercise6\"></a>\n",
    "Edit the program fragment below so that it prints two messages in each case.\n",
    "When the cities are the same, it prints the message\n",
    "```\n",
    "Found you.\n",
    "You are in the same place as me.\n",
    "```\n",
    "and when different, it prints\n",
    "```\n",
    "I still can't find you.\n",
    "We are in different places.\n",
    "```\n",
    "Test it works how you expect, both when they are the same, and when they are not by changing the value stored in one of the variables.\n",
    "\n",
    "HINT: make sure your extra print statements are between the appropriate curly brackets."
   ]
  },
  {
   "cell_type": "code",
   "execution_count": null,
   "metadata": {},
   "outputs": [],
   "source": [
    "String city1 = \"Newcastle\";\n",
    "String city2 = \"Tokyo\";\n",
    "       \n",
    "if (city1.equals(city2))\n",
    "{\n",
    "    System.out.println(\"They are the same\");        \n",
    "}   \n",
    "else\n",
    "{\n",
    "    System.out.println(\"They are not the same\");\n",
    "}   \n"
   ]
  },
  {
   "cell_type": "markdown",
   "metadata": {},
   "source": [
    "**NOW READ THE ANSWER** [Click here to jump to the solution to this exercise](#Solution6)"
   ]
  },
  {
   "cell_type": "markdown",
   "metadata": {
    "slideshow": {
     "slide_type": "fragment"
    }
   },
   "source": [
    "### Exercise 7<a id=\"Exercise7\"></a>\n",
    "The code below uses a method (defined at the start) to input a String.\n",
    "The if statement is now also in a method (as we are moving towards working with full programs rather than just fragments of code).\n",
    "\n",
    "Read it, predict what it does, then run it to check it does what you expect.\n",
    "\n",
    "Explain briefly what it does."
   ]
  },
  {
   "cell_type": "markdown",
   "metadata": {},
   "source": [
    "**Write your explanation here**\n"
   ]
  },
  {
   "cell_type": "code",
   "execution_count": null,
   "metadata": {
    "scrolled": true
   },
   "outputs": [],
   "source": [
    "// Allow a single string to be input, printing the given message as prompt\n",
    "//\n",
    "public static String inputString (String message)\n",
    "{\n",
    "       Scanner scanner = new Scanner(System.in);\n",
    "       String answer;\n",
    "\n",
    "       System.out.println(message);\n",
    "       answer = scanner.nextLine();\n",
    "   \n",
    "       return answer;\n",
    "} // END inputString\n",
    "\n",
    "//Compare two cities to see if they are the same\n",
    "//\n",
    "public static void compareCities ()\n",
    "{\n",
    "    String city1 = inputString(\"Which city is Ahmed in?\");\n",
    "    String city2 = \"Tokyo\";\n",
    "\n",
    "    if (city1.equals(city2))\n",
    "    {\n",
    "        System.out.println(\"They are the same\");        \n",
    "    }   \n",
    "    else\n",
    "    {\n",
    "        System.out.println(\"They are not the same\");\n",
    "    }   \n",
    "}\n",
    "\n",
    "compareCities();"
   ]
  },
  {
   "cell_type": "markdown",
   "metadata": {},
   "source": [
    "**NOW READ THE ANSWER** [Click here to jump to the solution to this exercise](#Solution7)"
   ]
  },
  {
   "cell_type": "markdown",
   "metadata": {
    "slideshow": {
     "slide_type": "fragment"
    }
   },
   "source": [
    "### Exercise 8<a id=\"Exercise8\"></a>\n",
    "Edit the version below so that both city names are input by the user. The second should ask \n",
    "```\n",
    "Which city is Shakira in?\n",
    "```\n",
    "If the locations are the same, it prints the message\n",
    "```\n",
    "Ahmed and Shakira are together.\n",
    "```\n",
    "and when different, it prints\n",
    "```\n",
    "Ahmed and Shakira are apart.\n",
    "```"
   ]
  },
  {
   "cell_type": "code",
   "execution_count": null,
   "metadata": {},
   "outputs": [],
   "source": [
    "//Compare two cities to see if they are the same\n",
    "//\n",
    "public static void compareCities2 ()\n",
    "{\n",
    "    String city1 = inputString(\"Which city is Ahmed in?\");\n",
    "    String city2 = \"Tokyo\";\n",
    "\n",
    "    if (city1.equals(city2))\n",
    "    {\n",
    "        System.out.println(\"They are the same\");        \n",
    "    }   \n",
    "    else\n",
    "    {\n",
    "        System.out.println(\"They are not the same\");\n",
    "    }   \n",
    "}\n",
    "\n",
    "compareCities2();"
   ]
  },
  {
   "cell_type": "markdown",
   "metadata": {},
   "source": [
    "**NOW READ THE ANSWER** [Click here to jump to the solution to this exercise](#Solution8)"
   ]
  },
  {
   "cell_type": "markdown",
   "metadata": {},
   "source": [
    "### Exercise 9<a id=\"Exercise9\"></a>\n",
    "Change the code below so that it asks two people what their favourite **colours** are (rather than cities). It should compare the two colours given. If they are the same, it should say \n",
    "```\n",
    "They like the same things.\n",
    "```\n",
    "Otherwise, it should say \n",
    "```\n",
    "They are incompatible.\n",
    "```\n",
    "\n",
    "HINT: Remember to change the comment, the name of the method and the names of variables to something sensible. \n",
    "\n",
    "Change the code a little at a time and make sure each change works before changing the next thing. That way, mistakes will be easier to find. For example, change the name of one variable everywhere you need to before changing the name of the next one.\n",
    "\n",
    "Note the procedure inputString only exists in this notebook after you have run the code for exercise 7 above. If you get an error message about it then rerun that code first."
   ]
  },
  {
   "cell_type": "code",
   "execution_count": null,
   "metadata": {
    "scrolled": true
   },
   "outputs": [],
   "source": [
    "//Compare two cities to see if they are the same\n",
    "//\n",
    "public static void compareCities ()\n",
    "{\n",
    "    String city1 = \"Tokyo\";\n",
    "    String city2 = inputString(\"Which city is Ahmed in?\");\n",
    "\n",
    "    if (city1.equals(city2))\n",
    "    {\n",
    "        System.out.println(\"They are the same\");        \n",
    "    }   \n",
    "    else\n",
    "    {\n",
    "        System.out.println(\"They are not the same\");\n",
    "    }   \n",
    "}\n",
    "\n",
    "compareCities();"
   ]
  },
  {
   "cell_type": "markdown",
   "metadata": {},
   "source": [
    "**NOW READ THE ANSWER** [Click here to jump to the solution to this exercise](#Solution9)"
   ]
  },
  {
   "cell_type": "markdown",
   "metadata": {},
   "source": [
    "### Exercise 10<a id=\"Exercise10\"></a>\n",
    "The whole if statement, including both branches, is a single statement - that is a single command that just includes sub-commands. One if statement can follow another, just as one print statement can follow another.\n",
    "\n",
    "Edit the code below so that the program first asks for the city each of two people's are in. It should then ask for their favourite colours.  After it has all the information, it should then first check if the cities are the same, printing the result, and then check if the colours are the same printing the result about that.\n",
    "\n",
    "HINT: You need a new if statement following the first if statement.\n",
    "\n",
    "Make sure it is inside the curly brackets of the method."
   ]
  },
  {
   "cell_type": "code",
   "execution_count": null,
   "metadata": {},
   "outputs": [],
   "source": [
    "//Compare two cities to see if they are the same\n",
    "//\n",
    "public static void compareCitiesAndColours ()\n",
    "{\n",
    "    String city1 = inputString(\"Which city is Ahmed in?\");\n",
    "    String city2 = inputString(\"Which city is Bihal in?\"); \n",
    "    \n",
    "    if (city1.equals(city2))\n",
    "    {\n",
    "        System.out.println(\"The cities are the same.\");        \n",
    "    }   \n",
    "    else\n",
    "    {\n",
    "        System.out.println(\"The cities are not the same.\");\n",
    "    } \n",
    "    \n",
    "}\n",
    "\n",
    "compareCities();"
   ]
  },
  {
   "cell_type": "markdown",
   "metadata": {},
   "source": [
    "**NOW READ THE ANSWER** [Click here to jump to the solution to this exercise](#Solution10)"
   ]
  },
  {
   "cell_type": "markdown",
   "metadata": {},
   "source": [
    "##  If-then staircases\n",
    "\n",
    "It is common to have a series of questions about the same thing. This can be done be chaining if statements together. This is called an **If-then staircase**."
   ]
  },
  {
   "cell_type": "markdown",
   "metadata": {},
   "source": [
    "###  Exercise 11<a id=\"Exercise11\"></a>\n",
    "\n",
    "Predict what the following does, then run it to see if you are right.\n",
    "\n",
    "Explain how it does it."
   ]
  },
  {
   "cell_type": "markdown",
   "metadata": {},
   "source": [
    "**Write your prediction and explanation here**\n"
   ]
  },
  {
   "cell_type": "code",
   "execution_count": null,
   "metadata": {},
   "outputs": [],
   "source": [
    "//Compare a city with a series of cities and say which country it is in.\n",
    "//\n",
    "public static void capitalOf ()\n",
    "{\n",
    "    String city = inputString(\"Which city do you want to know about?\");\n",
    "    \n",
    "    System.out.print(\"That is the capital of ... \");        \n",
    "     \n",
    "    if (city.equals(\"Tokyo\"))\n",
    "    {\n",
    "        System.out.println(\"Japan.\");        \n",
    "    }   \n",
    "    else if (city.equals(\"Karachi\"))\n",
    "    {\n",
    "        System.out.println(\"Pakistan.\");\n",
    "    }   \n",
    "    else if (city.equals(\"Delhi\"))\n",
    "    {\n",
    "        System.out.println(\"India.\");\n",
    "    }   \n",
    "    else\n",
    "    {\n",
    "        System.out.println(\"I'm sorry I do not know that city.\");\n",
    "    }   \n",
    "}\n",
    "\n",
    "capitalOf();"
   ]
  },
  {
   "cell_type": "markdown",
   "metadata": {},
   "source": [
    "**NOW READ THE ANSWER** [Click here to jump to the solution to this exercise](#Solution11)"
   ]
  },
  {
   "cell_type": "markdown",
   "metadata": {},
   "source": [
    "###  Exercise 12<a id=\"Exercise12\"></a>\n",
    "\n",
    "Edit the version below so it can name the capital of at least two extra cities."
   ]
  },
  {
   "cell_type": "code",
   "execution_count": null,
   "metadata": {},
   "outputs": [],
   "source": [
    "//Compare a city with a series of cities and say which country it is in.\n",
    "//\n",
    "public static void capitalOf ()\n",
    "{\n",
    "    String city = inputString(\"Which city do you want to know about?\");\n",
    "    \n",
    "    System.out.print(\"That is the capital of ... \");        \n",
    "     \n",
    "    if (city.equals(\"Tokyo\"))\n",
    "    {\n",
    "        System.out.println(\"Japan.\");        \n",
    "    }   \n",
    "    else if (city.equals(\"Karachi\"))\n",
    "    {\n",
    "        System.out.println(\"Pakistan.\");\n",
    "    }   \n",
    "    else if (city.equals(\"Delhi\"))\n",
    "    {\n",
    "        System.out.println(\"India.\");\n",
    "    }   \n",
    "    else\n",
    "    {\n",
    "        System.out.println(\"I'm sorry I do not know that city.\");\n",
    "    }   \n",
    "}\n",
    "\n",
    "capitalOf();"
   ]
  },
  {
   "cell_type": "markdown",
   "metadata": {},
   "source": [
    "**NOW READ THE ANSWER** [Click here to jump to the solution to this exercise](#Solution12)"
   ]
  },
  {
   "cell_type": "markdown",
   "metadata": {},
   "source": [
    "The if-else staircase is just a series of if statements **nested** inside one another. The second if statement is just in the else branch of the first one. The third is the else branch of the second. What this means is that the code checks each test in turn. When it finds one that matches it jumps to the end beyond the final else in the staircase."
   ]
  },
  {
   "cell_type": "markdown",
   "metadata": {},
   "source": [
    "##  Catch-all Else\n",
    "\n",
    "It is important to notice the final catch-all else statement. While there are exceptions to the rule, in general, all your if-else staircases should have such a final else statement. This is good defensive programming as it means that your code deals with situations where something happens that you had not explicitly thought of. Code should always be able to deal sensibly with users mistyping things, for example."
   ]
  },
  {
   "cell_type": "markdown",
   "metadata": {},
   "source": [
    "###  Exercise 13<a id=\"Exercise13\"></a>\n",
    "Edit the following code to be able say what genre different movies are. It should know at least two more movies of different genres (eg Horror, RomCom, etc), and be able to print a sensible message if it is given a film it doesn't know."
   ]
  },
  {
   "cell_type": "code",
   "execution_count": null,
   "metadata": {},
   "outputs": [],
   "source": [
    "// State what kind of movie a particular film is\n",
    "//\n",
    "public static void kindOfMovie ()\n",
    "{\n",
    "    String movie = inputString(\"Name a movie\");\n",
    "         \n",
    "    if (movie.equals(\"Star Wars\"))\n",
    "    {\n",
    "        System.out.println(\"It is a Science Fiction film\");        \n",
    "    }   \n",
    "    // To Complete\n",
    "}\n",
    "\n",
    "kindOfMovie();"
   ]
  },
  {
   "cell_type": "markdown",
   "metadata": {},
   "source": [
    "**NOW READ THE ANSWER** [Click here to jump to the solution to this exercise](#Solution13)"
   ]
  },
  {
   "cell_type": "markdown",
   "metadata": {},
   "source": [
    "###  Exercise 14<a id=\"Exercise14\"></a>\n",
    "If statements do not have to only have print statements in the branches. They can have any statements. In fact if you look carefully at the if-then staircase, you will see it is just a series of new if statements inside the else branch of the previous one, not a new construct.\n",
    "\n",
    "A common pattern is to use an if statement to set a variable for use later. Then it is assignment statements inside the branches. Here the message is printed in a second separate if statement AFTER the first has completed. Boolean flags can be used to indicate a particular kind of result, such as whether the city was found.\n",
    "\n",
    "Edit this program so that it can tell the capitals of two more countries."
   ]
  },
  {
   "cell_type": "code",
   "execution_count": null,
   "metadata": {},
   "outputs": [],
   "source": [
    "//Compare a city with a series of cities and say which country it is in.\n",
    "//\n",
    "public static void capitalOf ()\n",
    "{\n",
    "    String country = \"\";\n",
    "    String city = \"\";\n",
    "    boolean found = true; // Assume a city will be found, change if not\n",
    "    \n",
    "    city = inputString(\"Which city do you want to know about?\");\n",
    "     \n",
    "    if (city.equals(\"Tokyo\"))\n",
    "    {\n",
    "        country = \"Japan\";        \n",
    "    }   \n",
    "    else if (city.equals(\"Karachi\"))\n",
    "    {\n",
    "        country = \"Pakistan\";\n",
    "    }   \n",
    "    else if (city.equals(\"Delhi\"))\n",
    "    {\n",
    "        country = \"India\";\n",
    "    }   \n",
    "    else\n",
    "    {\n",
    "        found = false;  // change flag to false if not known\n",
    "    }\n",
    "\n",
    "    // Print Answer\n",
    "    // Note this is starting a completely new if statement, not part of the above staircase\n",
    "    // It is executed whichever above branch is followed.\n",
    "    //\n",
    "    if (found)\n",
    "    {\n",
    "        System.out.println(city + \" is the capital of \" + country + \".\");\n",
    "    }\n",
    "    else\n",
    "    {\n",
    "         System.out.println(\"I'm sorry I do not know of \" + city);\n",
    "    }    \n",
    "}\n",
    "\n",
    "capitalOf();"
   ]
  },
  {
   "cell_type": "markdown",
   "metadata": {},
   "source": [
    "**NOW READ THE ANSWER** [Click here to jump to the solution to this exercise](#Solution14)"
   ]
  },
  {
   "cell_type": "markdown",
   "metadata": {},
   "source": [
    "###  Exercise 15<a id=\"Exercise15\"></a>\n",
    "Edit the following program fragment using variables and two if statements as above, but to classify films instead of determining countries.\n",
    "\n",
    "Add at least two more films, declaring the necessary variables. Do not forget the final else case."
   ]
  },
  {
   "cell_type": "code",
   "execution_count": null,
   "metadata": {},
   "outputs": [],
   "source": [
    "// State what kind of movie a particular film is\n",
    "//\n",
    "public static void kindOfMovie2 ()\n",
    "{\n",
    "    // To complete\n",
    "\n",
    "    String movie = inputString(\"Name a movie\");\n",
    "         \n",
    "    if (movie.equals(\"Star Wars\"))\n",
    "    {\n",
    "        kind = \"Science Fiction\";        \n",
    "    }   \n",
    "    // To Complete\n",
    "}\n",
    "\n",
    "kindOfMovie2();"
   ]
  },
  {
   "cell_type": "markdown",
   "metadata": {},
   "source": [
    "**NOW READ THE ANSWER** [Click here to jump to the solution to this exercise](#Solution15)"
   ]
  },
  {
   "cell_type": "markdown",
   "metadata": {},
   "source": [
    "###  Exercise 16<a id=\"Exercise16\"></a>\n",
    "\n",
    "Summarise in your own words the main points about if statements."
   ]
  },
  {
   "cell_type": "markdown",
   "metadata": {},
   "source": [
    "**Write your summary here**\n"
   ]
  },
  {
   "cell_type": "markdown",
   "metadata": {},
   "source": [
    "**NOW READ THE ANSWER** [Click here to jump to the solution to this exercise](#Solution16)"
   ]
  },
  {
   "cell_type": "markdown",
   "metadata": {},
   "source": [
    "*Once you have done the above exercises (and understand how if statements work) move on to doing the actual programming exercises, writing full programs. You must be able to write full programs, not just fragments.*"
   ]
  },
  {
   "cell_type": "markdown",
   "metadata": {},
   "source": [
    "## Solutions\n",
    "### Solution to Exercise 1<a id=\"Solution1\"></a>\n",
    "It prints\n",
    "```\n",
    "Let's get started\n",
    "It was yes!\n",
    "Now we have finished.\n",
    "```\n",
    "Because the variable holds exactly the String \"yes\" it executes the first branch of the if statement, ignoring the second. \"Let's get started\" is printed before the if statement is executed. Then it prints \"It was Yes!\" Then it jumps beyond the if statement to print \"Now we have finished.\"\n",
    "\n",
    "[Return to Exercise](#Exercise1)"
   ]
  },
  {
   "cell_type": "markdown",
   "metadata": {},
   "source": [
    "### Solution to Exercise 2<a id=\"Solution2\"></a>\n",
    "This time it prints\n",
    "```\n",
    "Let's get started\n",
    "It was NOT yes!\n",
    "Now we have finished.\n",
    "```\n",
    "It prints the same things before and after the if statement as before, but this time the test is false so it ignores the first branch of the if statement and executes the second (ie \"It wasn't yes!\") instead before carrying on with the print statement after the if statement.\n",
    "\n",
    "[Return to Exercise](#Exercise2)"
   ]
  },
  {
   "cell_type": "markdown",
   "metadata": {},
   "source": [
    "### Solution to Exercise 3<a id=\"Solution3\"></a>\n",
    "If you change the code to anything else other than exactly \"yes\" then the second branch of code is executed. It prints\n",
    "```\n",
    "Let's get started\n",
    "It was NOT yes!\n",
    "Now we have finished.\n",
    "```\n",
    "The test of the if statement is for \"yes\". Only if the variable holds that exactly does it execute the first branch. Capital letters are different. Adding a space in too.\n",
    "\n",
    "[Return to Exercise](#Exercise3)"
   ]
  },
  {
   "cell_type": "markdown",
   "metadata": {},
   "source": [
    "### Solution to Exercise 4<a id=\"Solution4\"></a>\n",
    "When both city variables hold the same thing, the test is true (city1 IS equal to city2) so the first branch is executed and so\n",
    "```\n",
    "They are the same\n",
    "```\n",
    "is printed. If the two cities are at all different then the test is false (city1 IS NOT equal to city2) so the second branch is executed and \n",
    "```\n",
    "They are NOT the same\n",
    "```\n",
    "is printed.\n",
    "\n",
    "[Return to Exercise](#Exercise4)"
   ]
  },
  {
   "cell_type": "markdown",
   "metadata": {},
   "source": [
    "### Solution to Exercise 5<a id=\"Solution5\"></a>"
   ]
  },
  {
   "cell_type": "code",
   "execution_count": null,
   "metadata": {},
   "outputs": [],
   "source": [
    "String city1 = \"Newcastle\";\n",
    "String city2 = \"Tokyo\";\n",
    "       \n",
    "if (city1.equals(city2))\n",
    "{\n",
    "    System.out.println(\"You are both in the same place.\");        \n",
    "}   \n",
    "else\n",
    "{\n",
    "    System.out.println(\"You are in different places.\");\n",
    "}   \n",
    "\n",
    "System.out.println(\"I wonder where we will go next?\");"
   ]
  },
  {
   "cell_type": "markdown",
   "metadata": {},
   "source": [
    "[Return to Exercise](#Exercise5)"
   ]
  },
  {
   "cell_type": "markdown",
   "metadata": {},
   "source": [
    "### Solution to Exercise 6<a id=\"Solution6\"></a>"
   ]
  },
  {
   "cell_type": "code",
   "execution_count": null,
   "metadata": {},
   "outputs": [],
   "source": [
    "String city1 = \"Newcastle\";\n",
    "String city2 = \"Tokyo\";\n",
    "      \n",
    "if (city1.equals(city2))\n",
    "{\n",
    "    System.out.println(\"Found you.\");        \n",
    "    System.out.println(\"You are in the same place as me.\");        \n",
    "}   \n",
    "else\n",
    "{\n",
    "    System.out.println(\"I still can't find you.\");\n",
    "    System.out.println(\"We are in different places.\");\n",
    "}  "
   ]
  },
  {
   "cell_type": "markdown",
   "metadata": {},
   "source": [
    "[Return to Exercise](#Exercise6)"
   ]
  },
  {
   "cell_type": "markdown",
   "metadata": {},
   "source": [
    "### Solution to Exercise 7<a id=\"Solution7\"></a>"
   ]
  },
  {
   "cell_type": "markdown",
   "metadata": {},
   "source": [
    "The first city name is now input by the user, though the second is still set in the program. This means the test is now to see if the city name input is exactly the String \"Tokyo\". If it is, the code prints that they are the same and if there is any difference at all (including in capitalisation), then it prints that they are not the same."
   ]
  },
  {
   "cell_type": "markdown",
   "metadata": {},
   "source": [
    "[Return to Exercise](#Exercise7)"
   ]
  },
  {
   "cell_type": "markdown",
   "metadata": {},
   "source": [
    "### Solution to Exercise 8<a id=\"Solution8\"></a>"
   ]
  },
  {
   "cell_type": "code",
   "execution_count": null,
   "metadata": {},
   "outputs": [],
   "source": [
    "// Allow a single string to be input, printing the given message as prompt\n",
    "//\n",
    "public static String inputString (String message)\n",
    "{\n",
    "       Scanner scanner = new Scanner(System.in);\n",
    "       String answer;\n",
    "\n",
    "       System.out.println(message);\n",
    "       answer = scanner.nextLine();\n",
    "   \n",
    "       return answer;\n",
    "} // END inputString\n",
    "\n",
    "//Compare two cities to see if they are the same\n",
    "//\n",
    "public static void compareCities ()\n",
    "{\n",
    "    String city1 = inputString(\"Which city is Ahmed in?\");\n",
    "    String city2 = inputString(\"Which city is Shakira in?\");;\n",
    "\n",
    "    if (city1.equals(city2))\n",
    "    {\n",
    "        System.out.println(\"Ahmed and Shakira are together.\");        \n",
    "    }   \n",
    "    else\n",
    "    {\n",
    "        System.out.println(\"Ahmed and Shakira are apart.\");\n",
    "    }   \n",
    "}\n",
    "\n",
    "compareCities();"
   ]
  },
  {
   "cell_type": "markdown",
   "metadata": {},
   "source": [
    "[Return to Exercise](#Exercise8)"
   ]
  },
  {
   "cell_type": "markdown",
   "metadata": {},
   "source": [
    "### Solution to Exercise 9<a id=\"Solution9\"></a>"
   ]
  },
  {
   "cell_type": "code",
   "execution_count": null,
   "metadata": {},
   "outputs": [],
   "source": [
    "//Ask for two people's favourite colours and compare them, saying if they are the same are not\n",
    "//\n",
    "public static void favouriteColours ()\n",
    "{\n",
    "    String colour1 = inputString(\"What is Alicia's favourite colour?\");\n",
    "    String colour2 = inputString(\"What is Jo's favourite colour?\"); \n",
    "    \n",
    "    if (colour1.equals(colour2))\n",
    "    {\n",
    "        System.out.println(\"They like the same things.\");        \n",
    "    }   \n",
    "    else\n",
    "    {\n",
    "        System.out.println(\"They are incompatible.\");\n",
    "    }   \n",
    "}\n",
    "\n",
    "favouriteColours();"
   ]
  },
  {
   "cell_type": "markdown",
   "metadata": {},
   "source": [
    "[Return to Exercise](#Exercise9)"
   ]
  },
  {
   "cell_type": "markdown",
   "metadata": {},
   "source": [
    "### Solution to Exercise 10<a id=\"Solution10\"></a>"
   ]
  },
  {
   "cell_type": "code",
   "execution_count": null,
   "metadata": {},
   "outputs": [],
   "source": [
    "// Compare the favourite colours and cities two people are in \n",
    "// to see if they are the same in each case\n",
    "//\n",
    "public static void compareCitiesAndColours ()\n",
    "{\n",
    "    String city1 = inputString(\"Which city is Ahmed in?\");\n",
    "    String city2 = inputString(\"Which city is Bihal in?\"); \n",
    "    String colour1 = inputString(\"What is Ahmed's favourite colour?\");\n",
    "    String colour2 = inputString(\"What is Bilal's favourite colour?\"); \n",
    "    \n",
    "    if (city1.equals(city2))\n",
    "    {\n",
    "        System.out.println(\"The cities are the same.\");        \n",
    "    }   \n",
    "    else\n",
    "    {\n",
    "        System.out.println(\"The cities are not the same.\");\n",
    "    }\n",
    "        \n",
    "    if (colour1.equals(colour2))\n",
    "    {\n",
    "        System.out.println(\"The colours are the same\");        \n",
    "    }   \n",
    "    else\n",
    "    {\n",
    "        System.out.println(\"The colours are not the same\");\n",
    "    }   \n",
    "\n",
    "}\n",
    "\n",
    "compareCitiesAndColours();"
   ]
  },
  {
   "cell_type": "markdown",
   "metadata": {},
   "source": [
    "[Return to Exercise](#Exercise10)"
   ]
  },
  {
   "cell_type": "markdown",
   "metadata": {},
   "source": [
    "### Solution to Exercise 11<a id=\"Solution11\"></a>"
   ]
  },
  {
   "cell_type": "markdown",
   "metadata": {},
   "source": [
    "It prints the country for which the input city is the capital, if one of Tokyo, Karachi or Delhi is typed. Otherwise, it prints a message that the city is unknown. \n",
    "\n",
    "It does this by first, inputting the city name and then testing it in turn against each known city. It first checks if it was Tokyo that had been typed, then if it was Karachi and so on. Once it finds a match, it stops and jumps beyond the whole if-then staircase. If it drops through each test then the final else case acts as a catch-all.\n",
    "\n",
    "\n",
    "[Return to Exercise](#Exercise11)"
   ]
  },
  {
   "cell_type": "markdown",
   "metadata": {},
   "source": [
    "### Solution to Exercise 12<a id=\"Solution12\"></a>"
   ]
  },
  {
   "cell_type": "code",
   "execution_count": null,
   "metadata": {},
   "outputs": [],
   "source": [
    "//Compare a city with a series of cities and say which country it is in.\n",
    "//\n",
    "public static void capitalOf ()\n",
    "{\n",
    "    String city = inputString(\"Which city do you want to know about?\");\n",
    "    \n",
    "    System.out.print(\"That is the capital of ... \");        \n",
    "     \n",
    "    if (city.equals(\"Tokyo\"))\n",
    "    {\n",
    "        System.out.println(\"Japan.\");        \n",
    "    }   \n",
    "    else if (city.equals(\"Karachi\"))\n",
    "    {\n",
    "        System.out.println(\"Pakistan.\");\n",
    "    }   \n",
    "    else if (city.equals(\"Delhi\"))\n",
    "    {\n",
    "        System.out.println(\"India.\");\n",
    "    }   \n",
    "    else if (city.equals(\"London\"))\n",
    "    {\n",
    "        System.out.println(\"UK.\");\n",
    "    }   \n",
    "    else if (city.equals(\"Lagos\"))\n",
    "    {\n",
    "        System.out.println(\"Nigeria.\");\n",
    "    }   \n",
    "    else\n",
    "    {\n",
    "        System.out.println(\"I'm sorry I do not know that city.\");\n",
    "    }   \n",
    "}\n",
    "\n",
    "capitalOf();"
   ]
  },
  {
   "cell_type": "markdown",
   "metadata": {},
   "source": [
    "[Return to Exercise](#Exercise12)"
   ]
  },
  {
   "cell_type": "markdown",
   "metadata": {},
   "source": [
    "### Solution to Exercise 13<a id=\"Solution13\"></a>"
   ]
  },
  {
   "cell_type": "code",
   "execution_count": null,
   "metadata": {},
   "outputs": [],
   "source": [
    "// State what kind of movie a particular film is\n",
    "//\n",
    "public static void kindOfMovie ()\n",
    "{\n",
    "    String movie = inputString(\"Name a movie\");\n",
    "         \n",
    "    if (movie.equals(\"Star Wars\"))\n",
    "    {\n",
    "        System.out.println(\"It is a Science Fiction film\");        \n",
    "    }   \n",
    "    else if (movie.equals(\"Four Weddings and a Funeral\"))\n",
    "    {\n",
    "        System.out.println(\"It is a RomCom film\");          \n",
    "    }\n",
    "    else if (movie.equals(\"Alien\"))\n",
    "    {\n",
    "        System.out.println(\"It is a Horror film\");          \n",
    "    }\n",
    "\n",
    "}\n",
    "\n",
    "kindOfMovie();"
   ]
  },
  {
   "cell_type": "markdown",
   "metadata": {},
   "source": [
    "[Return to Exercise](#Exercise13)"
   ]
  },
  {
   "cell_type": "markdown",
   "metadata": {},
   "source": [
    "### Solution to Exercise 14<a id=\"Solution14\"></a>"
   ]
  },
  {
   "cell_type": "code",
   "execution_count": null,
   "metadata": {},
   "outputs": [],
   "source": [
    "//Compare a city with a series of cities and say which country it is in.\n",
    "//\n",
    "public static void capitalOf2 ()\n",
    "{\n",
    "    String country = \"\";\n",
    "    String city = \"\";\n",
    "    boolean found = true; // Assume a city will be found, change if not\n",
    "    \n",
    "    city = inputString(\"Which city do you want to know about?\");\n",
    "     \n",
    "    if (city.equals(\"Tokyo\"))\n",
    "    {\n",
    "        country = \"Japan\";        \n",
    "    }   \n",
    "    else if (city.equals(\"Karachi\"))\n",
    "    {\n",
    "        country = \"Pakistan\";\n",
    "    }   \n",
    "    else if (city.equals(\"Delhi\"))\n",
    "    {\n",
    "        country = \"India\";\n",
    "    }   \n",
    "    else if (city.equals(\"Lagos\"))\n",
    "    {\n",
    "        country = \"Nigeria\";\n",
    "    }\n",
    "    else if (city.equals(\"Beijing\"))\n",
    "    {\n",
    "        country = \"China\";\n",
    "    }   \n",
    "    else\n",
    "    {\n",
    "        found = false;  // change flag to false if not known\n",
    "    }\n",
    "\n",
    "    // Print Answer\n",
    "    // Note this is starting a completely new if statement, not part of the above staircase\n",
    "    // It is executed whichever above branch is followed.\n",
    "    //\n",
    "    if (found)\n",
    "    {\n",
    "        System.out.println(city + \" is the capital of \" + country + \".\");\n",
    "    }\n",
    "    else\n",
    "    {\n",
    "         System.out.println(\"I'm sorry I do not know of \" + city);\n",
    "    }    \n",
    "}\n",
    "\n",
    "capitalOf2();"
   ]
  },
  {
   "cell_type": "markdown",
   "metadata": {},
   "source": [
    "[Return to Exercise](#Exercise14)"
   ]
  },
  {
   "cell_type": "markdown",
   "metadata": {},
   "source": [
    "### Solution to Exercise 15<a id=\"Solution15\"></a>"
   ]
  },
  {
   "cell_type": "code",
   "execution_count": null,
   "metadata": {},
   "outputs": [],
   "source": [
    "// State what kind of movie a particular film is\n",
    "//\n",
    "public static void kindOfMovie2 ()\n",
    "{\n",
    "    String kind = \"\";\n",
    "    boolean found = true;\n",
    "    String movie = inputString(\"Name a movie\");\n",
    "         \n",
    "    if (movie.equals(\"Star Wars\"))\n",
    "    {\n",
    "        kind = \"Science Fiction\";        \n",
    "    }   \n",
    "    else if (movie.equals(\"Alien\"))\n",
    "    {\n",
    "        kind = \"Horror\";        \n",
    "    }   \n",
    "    else if (movie.equals(\"Black Panther\"))\n",
    "    {\n",
    "        kind = \"Superhero\";        \n",
    "    }   \n",
    "    else\n",
    "    {\n",
    "        found = false;        \n",
    "    } \n",
    "    // Print Answer\n",
    "    //\n",
    "    if (found)\n",
    "    {\n",
    "        System.out.println(movie + \" is a \" + kind + \" film.\");\n",
    "    }\n",
    "    else\n",
    "    {\n",
    "         System.out.println(\"I'm sorry I do not know of \" + movie);\n",
    "    }    \n",
    "}\n",
    "\n",
    "kindOfMovie2();"
   ]
  },
  {
   "cell_type": "markdown",
   "metadata": {},
   "source": [
    "[Return to Exercise](#Exercise15)"
   ]
  },
  {
   "cell_type": "markdown",
   "metadata": {},
   "source": [
    "### Solution to Exercise 16<a id=\"Solution16\"></a>\n",
    "\n",
    "If statements, indicated by the keyword **if** are a way for a program to branch so that sometimes it executes one piece of code and sometimes it executes another piece of code. The decision of which to do is based on a boolean test such as a.equals(b). If the test is true, then the first branch is executed. If the test is false, the second branch is executed. In either case, afterwards the same code after the if statement is executed. An if statement has the form\n",
    "```java\n",
    "if (test)\n",
    "{\n",
    "    first branch executed if test is true\n",
    "}\n",
    "else\n",
    "{\n",
    "    second branch executed if test is false\n",
    "}    \n",
    "```\n",
    "The branches are just normal blocks of code. They can be any arbitrary code. That means you can put if statements inside other if statements. When you have if statements as the else part of a previous if statement you get an if-else staircase that does a series of tests in turn, executing the first branch where the test is true and jumping to the end.\n",
    "```java\n",
    "if (test1)\n",
    "    branch executed if test1 is true\n",
    "else if (test2)\n",
    "    branch executed if test1 is false but test2 is true\n",
    "else if (test3)\n",
    "    branch executed if test1 is false and test2 is false but test3 is true\n",
    "else\n",
    "    branch executed if all tests are false\n",
    "```\n",
    "The final else which has no test is important as it acts as a catch-all and is executed if none of the tests are true."
   ]
  },
  {
   "cell_type": "markdown",
   "metadata": {},
   "source": [
    "[Return to Exercise](#Exercise16)"
   ]
  }
 ],
 "metadata": {
  "kernelspec": {
   "display_name": "Java",
   "language": "java",
   "name": "java"
  },
  "language_info": {
   "codemirror_mode": "java",
   "file_extension": ".jshell",
   "mimetype": "text/x-java-source",
   "name": "Java",
   "pygments_lexer": "java",
   "version": "11.0.8+10-LTS"
  }
 },
 "nbformat": 4,
 "nbformat_minor": 2
}
