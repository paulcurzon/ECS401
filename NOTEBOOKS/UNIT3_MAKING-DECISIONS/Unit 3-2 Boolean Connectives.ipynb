{
 "cells": [
  {
   "cell_type": "markdown",
   "metadata": {},
   "source": [
    "# Unit 3 Part 2: Boolean Connectives\n",
    "## Paul Curzon\n",
    "\n",
    "## Interactive Programming Exercises\n",
    "\n",
    "### Learning Outcomes\n",
    "- Write programs that make decisions and do different things as a result\n",
    "- Write if statements using boolean connectives (NOT, AND, OR)\n",
    "- Explain boolean connectives\n",
    "\n",
    "*This notebook looks at code fragments. After completing these exercises you MUST then go on to write full programs - see the programming exercises in the workbook.*\n",
    "\n",
    "*Answers to exercises are given at the end.* \n",
    "\n",
    "**Always read the answers to exercises and compare them to your own. There are important things to learn from the answers.**\n",
    "\n",
    "<span style=\"color: red;\">It is a really good idea to add your own notes throughout this notebook to reinforce what you have learnt and highlight important points. Click on the + in the toolbar above to make a new note area and change it from Code to Markdown in the dropdown menu above if your note is not executable code. You may also want to highlight your notes in red as here, so they stand out.\n",
    "You change colours using span like this:</span>\n",
    "```\n",
    "<span style=\"color: red;\">THE TEXT TO COLOUR RED</span>\n",
    "```\n"
   ]
  },
  {
   "cell_type": "markdown",
   "metadata": {},
   "source": [
    "## Refresher\n",
    "### Exercise 1<a id=\"Exercise1\"></a>\n",
    "\n",
    "Read the following code and predict what it does. Run it to check you were right.\n",
    "\n",
    "Explain briefly what it does.\n",
    "\n",
    "Finally, adapt it to be able to name the country corresponding to at least one more city."
   ]
  },
  {
   "cell_type": "markdown",
   "metadata": {},
   "source": [
    "**Write your answer here**"
   ]
  },
  {
   "cell_type": "code",
   "execution_count": null,
   "metadata": {},
   "outputs": [],
   "source": [
    "// Allow a single string to be input, printing the given message as prompt\n",
    "//\n",
    "public static String inputString (String message)\n",
    "{\n",
    "       Scanner scanner = new Scanner(System.in);\n",
    "       String answer;\n",
    "\n",
    "       System.out.println(message);\n",
    "       answer = scanner.nextLine();\n",
    "   \n",
    "       return answer;\n",
    "} // END inputString\n",
    "\n",
    "// Given a city work out what country a person is in.\n",
    "//\n",
    "public static void identifyCountry ()\n",
    "{\n",
    "    String name = \"Bilal\";\n",
    "    String city = inputString(\"Which city is \" + name + \" in?\");\n",
    "\n",
    "    if (city.equals(\"Tokyo\"))\n",
    "    {\n",
    "        System.out.println(name + \" is in Japan\");        \n",
    "    }   \n",
    "    else if (city.equals(\"Santiago\"))\n",
    "    {\n",
    "        System.out.println(name + \" is in Chile\");        \n",
    "    }   \n",
    "    else\n",
    "    {\n",
    "        System.out.println(\"I do not know where that is.\");\n",
    "    }\n",
    "    \n",
    "    System.out.println(\"Always here to help.\");\n",
    "}\n",
    "\n",
    "identifyCountry();"
   ]
  },
  {
   "cell_type": "markdown",
   "metadata": {},
   "source": [
    "**NOW READ THE ANSWER** [Click here to jump to the solution to this exercise](#Solution1)"
   ]
  },
  {
   "cell_type": "markdown",
   "metadata": {},
   "source": [
    "##  Logical connectives - OR\n",
    "\n",
    "Suppose you need a program to identify the genre of different movies. Is it Horror? Is it Science Fiction? etc. Often you want to do the same thing in several different cases - eg recognise that more than one film is a Superhero film. You could write an if statement for each but that is very long-winded. Surely there is a simpler way! There is. You just need slightly more complicated tests that use the **logical connective** **OR**. You want to say, for example, that a movie is a Superhero film if it is either ... **OR** it is  ... **OR** it is ... \n",
    "\n",
    "###  Exercise 2<a id=\"Exercise2\"></a>\n",
    "\n",
    "Run this code several times, inputing Spiderman one time and Batman another. Try entering other things too. What do you think is the operator that means OR? "
   ]
  },
  {
   "cell_type": "markdown",
   "metadata": {},
   "source": [
    "**Write your answer here**\n",
    "\n",
    "The OR operator is written ..."
   ]
  },
  {
   "cell_type": "code",
   "execution_count": null,
   "metadata": {},
   "outputs": [],
   "source": [
    "// State what kind of movie a particular film is\n",
    "//\n",
    "public static void kindOfMovie2 ()\n",
    "{\n",
    "    String movie = inputString(\"Name a movie\");\n",
    "         \n",
    "    if ( movie.equals(\"Spiderman\") | movie.equals(\"Batman\") )\n",
    "    {\n",
    "        System.out.println(\"That is a Superhero film\");        \n",
    "    }   \n",
    "    else\n",
    "    {\n",
    "        System.out.println(\"That is not a superhero film\");        \n",
    "    }   \n",
    "}\n",
    "\n",
    "kindOfMovie2();"
   ]
  },
  {
   "cell_type": "markdown",
   "metadata": {},
   "source": [
    "**NOW READ THE ANSWER** [Click here to jump to the solution to this exercise](#Solution2)"
   ]
  },
  {
   "cell_type": "markdown",
   "metadata": {},
   "source": [
    "Notice that the WHOLE equality test is written out each time:\n",
    "```java\n",
    "movie.equals(\"Spiderman\")\n",
    "\n",
    "movie.equals(\"Batman\")\n",
    "```"
   ]
  },
  {
   "cell_type": "markdown",
   "metadata": {},
   "source": [
    "###  Exercise 3<a id=\"Exercise3\"></a>\n",
    "\n",
    "Edit the version below to also accept \"Black Panther\" as a superhero film.\n",
    "Once that works, edit it again to accept \"Captain Marvel\" as a superhero film too. \n",
    "\n",
    "Add a further category of Science Fiction Films. It should include Star Wars and Blade Runner.\n",
    "\n",
    "HINT: Make sure you match all your brackets - every open bracket should have a close bracket.\n",
    "REMINDER: You must have run (so compiled) the code for Exercise 1 first or method inputString will not exist!"
   ]
  },
  {
   "cell_type": "code",
   "execution_count": null,
   "metadata": {},
   "outputs": [],
   "source": [
    "// State what kind of movie a particular film is\n",
    "//\n",
    "public static void kindOfMovie3 ()\n",
    "{\n",
    "    String movie = inputString(\"Name a movie\");\n",
    "         \n",
    "    if ( movie.equals(\"Spiderman\") | movie.equals(\"Batman\") )\n",
    "    {\n",
    "        System.out.println(\"That is a Superhero film\");        \n",
    "    }   \n",
    "    else\n",
    "    {\n",
    "        System.out.println(\"That is not a superhero film\");        \n",
    "    }   \n",
    "}\n",
    "\n",
    "kindOfMovie3();"
   ]
  },
  {
   "cell_type": "markdown",
   "metadata": {},
   "source": [
    "**NOW READ THE ANSWER** [Click here to jump to the solution to this exercise](#Solution3)"
   ]
  },
  {
   "cell_type": "markdown",
   "metadata": {},
   "source": [
    "##  Logical connectives - NOT\n",
    "Logical connectives take one or more boolean expression and combine them to create a new boolean expression. The OR logical connective takes two boolean expressions. The NOT logical connective which does negation takes only one.\n",
    "\n",
    "###  Exercise 4<a id=\"Exercise4\"></a>\n",
    "\n",
    "Explore what the following fragment does by reading and running it. What do you think means NOT?"
   ]
  },
  {
   "cell_type": "markdown",
   "metadata": {},
   "source": [
    "**Write your answer here**\n",
    "\n",
    "The NOT operator is written ..."
   ]
  },
  {
   "cell_type": "code",
   "execution_count": null,
   "metadata": {},
   "outputs": [],
   "source": [
    "String city = \"Cairo\";\n",
    "       \n",
    "if (! city.equals(\"Cairo\") )\n",
    "{\n",
    "    System.out.println(\"It was NOT Cairo\");        \n",
    "}   \n",
    "else\n",
    "{\n",
    "    System.out.println(\"It was Cairo\");\n",
    "}   \n"
   ]
  },
  {
   "cell_type": "markdown",
   "metadata": {},
   "source": [
    "**NOW READ THE ANSWER** [Click here to jump to the solution to this exercise](#Solution4)"
   ]
  },
  {
   "cell_type": "markdown",
   "metadata": {},
   "source": [
    "###  Exercise 5<a id=\"Exercise5\"></a>\n",
    "\n",
    "Change the String stored in city to Sydney and predict what happens. See if you are right."
   ]
  },
  {
   "cell_type": "code",
   "execution_count": null,
   "metadata": {},
   "outputs": [],
   "source": [
    "String city = \"Cairo\";\n",
    "       \n",
    "if (! city.equals(\"Cairo\") )\n",
    "{\n",
    "    System.out.println(\"It was NOT Cairo\");        \n",
    "}   \n",
    "else\n",
    "{\n",
    "    System.out.println(\"It was Cairo\");\n",
    "}   \n"
   ]
  },
  {
   "cell_type": "markdown",
   "metadata": {},
   "source": [
    "**NOW READ THE ANSWER** [Click here to jump to the solution to this exercise](#Solution5)"
   ]
  },
  {
   "cell_type": "markdown",
   "metadata": {},
   "source": [
    "###  Exercise 6<a id=\"Exercise6\"></a>\n",
    "\n",
    "Run the code below, and you will see that it gives the wrong answer. It should say the girls are in the same place if the cities are the same.\n",
    "\n",
    "Correct the method below by ONLY changing the test that asks if the two cities are NOT the same."
   ]
  },
  {
   "cell_type": "code",
   "execution_count": null,
   "metadata": {},
   "outputs": [],
   "source": [
    "//Compare two cities to see if they are the same\n",
    "//\n",
    "public static void compareCities6 ()\n",
    "{\n",
    "    String city1 = inputString(\"Which city is Clary in?\");\n",
    "    String city2 = inputString(\"Which city is Tessa in?\"); \n",
    "    \n",
    "    if ( city1.equals(city2) )\n",
    "    {\n",
    "        System.out.println(\"Tessa and Clary are in different places.\");        \n",
    "    }   \n",
    "    else\n",
    "    {\n",
    "        System.out.println(\"Tessa and Clary are in the same place.\");\n",
    "    } \n",
    "    \n",
    "}\n",
    "\n",
    "compareCities6();"
   ]
  },
  {
   "cell_type": "markdown",
   "metadata": {},
   "source": [
    "**NOW READ THE ANSWER** [Click here to jump to the solution to this exercise](#Solution6)"
   ]
  },
  {
   "cell_type": "markdown",
   "metadata": {},
   "source": [
    "##  Logical connectives - AND\n",
    "The third important logical connective is AND. It is used when we want something to happen if both the first test is true and a second test is true."
   ]
  },
  {
   "cell_type": "markdown",
   "metadata": {},
   "source": [
    "###  Exercise 7<a id=\"Exercise7\"></a>\n",
    "\n",
    "Run the code below. Input Rock then Romcom. What is the result?\n",
    "Run it again and input Rap and Horror. What is the result?\n",
    "Run it again and input Rock and Horror. What is the result?\n",
    "Run it again and input Rap and Romcom. What is the result?\n",
    "\n",
    "Explain what the code does. What is the symbol for AND?"
   ]
  },
  {
   "cell_type": "markdown",
   "metadata": {},
   "source": [
    "**Write your explanation here**\n",
    "\n",
    "\n",
    "The symbol for AND is ...\n"
   ]
  },
  {
   "cell_type": "code",
   "execution_count": null,
   "metadata": {},
   "outputs": [],
   "source": [
    "// Do you like the same things as me?\n",
    "//\n",
    "public static void areWeCompatible7 ()\n",
    "{\n",
    "    String music = inputString(\"What is your favourite music?\");\n",
    "    String films = inputString(\"Which is your favourite film genre?\"); \n",
    "    \n",
    "    if ( music.equals(\"Rock\") & films.equals(\"Horror\") )\n",
    "    {\n",
    "        System.out.println(\"We are totally compatible!\");        \n",
    "    }   \n",
    "    else\n",
    "    {\n",
    "        System.out.println(\"We are NOT compatible!\");\n",
    "    } \n",
    "    \n",
    "}\n",
    "\n",
    "areWeCompatible7();"
   ]
  },
  {
   "cell_type": "markdown",
   "metadata": {},
   "source": [
    "**NOW READ THE ANSWER** [Click here to jump to the solution to this exercise](#Solution7)"
   ]
  },
  {
   "cell_type": "markdown",
   "metadata": {},
   "source": [
    "###  Exercise 8<a id=\"Exercise8\"></a>\n",
    "\n",
    "Modify the program below to check if we are compatible over favourite sport as well. Assume my favourite sport is Tennis."
   ]
  },
  {
   "cell_type": "code",
   "execution_count": null,
   "metadata": {},
   "outputs": [],
   "source": [
    "// Do you like the same things as me?\n",
    "//\n",
    "public static void areWeCompatible8 ()\n",
    "{\n",
    "    String music = inputString(\"What is your favourite music?\");\n",
    "    String films = inputString(\"Which is your favourite film genre?\");\n",
    "    \n",
    "    if ( music.equals(\"Rock\") & films.equals(\"Horror\") )\n",
    "    {\n",
    "        System.out.println(\"We are totally compatible!\");        \n",
    "    }   \n",
    "    else\n",
    "    {\n",
    "        System.out.println(\"We are NOT compatible!\");\n",
    "    } \n",
    "    \n",
    "}\n",
    "\n",
    "areWeCompatible8();"
   ]
  },
  {
   "cell_type": "markdown",
   "metadata": {},
   "source": [
    "**NOW READ THE ANSWER** [Click here to jump to the solution to this exercise](#Solution8)"
   ]
  },
  {
   "cell_type": "markdown",
   "metadata": {},
   "source": [
    "##  Combining Logical connectives\n",
    "\n",
    "You can combine logical connectives in arbitrary ways to do complex but precise tests.\n",
    "\n",
    "###  Exercise 9<a id=\"Exercise9\"></a>\n",
    "\n",
    "Explore what the following fragment does by reading and running it. "
   ]
  },
  {
   "cell_type": "code",
   "execution_count": null,
   "metadata": {},
   "outputs": [],
   "source": [
    "String city = \"Alexandria\";\n",
    "       \n",
    "if (! city.equals(\"Cairo\") & ! city.equals(\"Alexandria\") )\n",
    "{\n",
    "    System.out.println(\"The city is NOT in Egypt\");        \n",
    "}   \n",
    "else\n",
    "{\n",
    "    System.out.println(\"The city is in Egypt\");\n",
    "}   "
   ]
  },
  {
   "cell_type": "markdown",
   "metadata": {},
   "source": [
    "**NOW READ THE ANSWER** [Click here to jump to the solution to this exercise](#Solution9)"
   ]
  },
  {
   "cell_type": "markdown",
   "metadata": {},
   "source": [
    "###  Exercise 10<a id=\"Exercise10\"></a>\n",
    "\n",
    "Summarise in your own words what you know about logical connectives."
   ]
  },
  {
   "cell_type": "markdown",
   "metadata": {},
   "source": [
    "**Write your summary here**"
   ]
  },
  {
   "cell_type": "markdown",
   "metadata": {},
   "source": [
    "**NOW READ THE ANSWER** [Click here to jump to the solution to this exercise](#Solution10)"
   ]
  },
  {
   "cell_type": "markdown",
   "metadata": {},
   "source": [
    "*Once you have done the above exercises (and understand how if statements work) move on to doing the actual programming exercises, writing full programs. You must be able to write full programs, not just fragments.*"
   ]
  },
  {
   "cell_type": "markdown",
   "metadata": {},
   "source": [
    "## Solutions\n",
    "\n",
    "### Solution to Exercise 1<a id=\"Solution1\"></a>\n",
    "\n",
    "The program is in an if-then-else staircase that checks the city given against a series of known cities. When it finds a match, it prints the country and then skips the rest and jumps beyond the if-then-else staircase to the final print statement. It always finishes by printing the Happy to help statement."
   ]
  },
  {
   "cell_type": "code",
   "execution_count": null,
   "metadata": {},
   "outputs": [],
   "source": [
    "// Given a city work out what country a person is in.\n",
    "//\n",
    "public static void identifyCountry ()\n",
    "{\n",
    "    String name = \"Bilal\";\n",
    "    String city = inputString(\"Which city is \" + name + \" in?\");\n",
    "\n",
    "    if (city.equals(\"Tokyo\"))\n",
    "    {\n",
    "        System.out.println(name + \" is in Japan\");        \n",
    "    }   \n",
    "    else if (city.equals(\"Santiago\"))\n",
    "    {\n",
    "        System.out.println(name + \" is in Chile\");        \n",
    "    }   \n",
    "    else  if (city.equals(\"Wellington\"))\n",
    "    {\n",
    "        System.out.println(name + \" is in New Zealand\");        \n",
    "    }   \n",
    "    else\n",
    "    {\n",
    "        System.out.println(\"I do not know where that is.\");\n",
    "    } \n",
    "    \n",
    "    System.out.println(\"Always here to help.\");\n",
    "\n",
    "}\n",
    "\n",
    "identifyCountry();"
   ]
  },
  {
   "cell_type": "markdown",
   "metadata": {},
   "source": [
    "[Return to Exercise](#Exercise1)"
   ]
  },
  {
   "cell_type": "markdown",
   "metadata": {},
   "source": [
    "### Solution to Exercise 2<a id=\"Solution2\"></a>\n",
    "\n",
    "A vertical bar (|) means OR in JAVA. It can be used to combine two complete boolean expressions to make a new boolean expression. You can chain lots of them together. Just as you can write a series of + signs ```a + b + c + d``` to add lots of things, you can write a series of OR symbols to OR lots of tests.\n",
    "```java\n",
    "test1 | test2 | test3 | test4\n",
    "```"
   ]
  },
  {
   "cell_type": "markdown",
   "metadata": {},
   "source": [
    "[Return to Exercise](#Exercise2)"
   ]
  },
  {
   "cell_type": "markdown",
   "metadata": {},
   "source": [
    "### Solution to Exercise 3<a id=\"Solution3\"></a>\n",
    "\n",
    "Note it is a good idea to put a line break between tests to layout the code in a way that is easier to read."
   ]
  },
  {
   "cell_type": "code",
   "execution_count": null,
   "metadata": {},
   "outputs": [],
   "source": [
    "// State what kind of movie a particular film is\n",
    "//\n",
    "public static void kindOfMovie3 ()\n",
    "{\n",
    "    String movie = inputString(\"Name a movie\");\n",
    "         \n",
    "    if ( movie.equals(\"Spiderman\") | movie.equals(\"Batman\")  |\n",
    "         movie.equals(\"Black Panther\") | movie.equals(\"Captain Marvel\"))\n",
    "    {\n",
    "        System.out.println(\"That is a Superhero film\");        \n",
    "    }\n",
    "    else  if ( movie.equals(\"Star Wars\") | movie.equals(\"Blade Runner\") )\n",
    "    {\n",
    "        System.out.println(\"That is a Science Fiction film\");        \n",
    "    }\n",
    "    else\n",
    "    {\n",
    "        System.out.println(\"That is not a superhero film\");        \n",
    "    }   \n",
    "}\n",
    "\n",
    "kindOfMovie3();"
   ]
  },
  {
   "cell_type": "markdown",
   "metadata": {},
   "source": [
    "[Return to Exercise](#Exercise3)"
   ]
  },
  {
   "cell_type": "markdown",
   "metadata": {},
   "source": [
    "###  Solution to Exercise 4<a id=\"Solution4\"></a>\n",
    "An exclamation mark (!) is used to mean NOT in Java. \n",
    "\n",
    "Here it means if the city is NOT equal to Cairo then, take the first branch, otherwise take the second.\n",
    "\n",
    "[Return to Exercise](#Exercise4)"
   ]
  },
  {
   "cell_type": "markdown",
   "metadata": {},
   "source": [
    "###  Solution to Exercise 5<a id=\"Solution5\"></a>\n",
    "\n",
    "If you change the city to Sydney, the test asking if it is not Cairo will be true. It will execute the first branch and print\n",
    "```\n",
    "It was NOT Cairo\n",
    "```\n",
    "\n",
    "[Return to Exercise](#Exercise5)"
   ]
  },
  {
   "cell_type": "markdown",
   "metadata": {},
   "source": [
    "###  Solution to Exercise 6<a id=\"Solution6\"></a>\n",
    "You need to negate the test adding ! (NOT) to the test as below."
   ]
  },
  {
   "cell_type": "code",
   "execution_count": null,
   "metadata": {},
   "outputs": [],
   "source": [
    "//Compare two cities to see if they are the same\n",
    "//\n",
    "public static void compareCities6 ()\n",
    "{\n",
    "    String city1 = inputString(\"Which city is Clary in?\");\n",
    "    String city2 = inputString(\"Which city is Tessa in?\"); \n",
    "    \n",
    "    if (! city1.equals(city2))\n",
    "    {\n",
    "        System.out.println(\"Tessa and Clary are in different places.\");        \n",
    "    }   \n",
    "    else\n",
    "    {\n",
    "        System.out.println(\"Tessa and Clary are in the same place.\");\n",
    "    } \n",
    "    \n",
    "}\n",
    "\n",
    "compareCities6();"
   ]
  },
  {
   "cell_type": "markdown",
   "metadata": {},
   "source": [
    "[Return to Exercise](#Exercise6)"
   ]
  },
  {
   "cell_type": "markdown",
   "metadata": {},
   "source": [
    "### Solution to Exercise 7<a id=\"Solution7\"></a>\n",
    "The code only prints that you are compatible if BOTH the music AND the films liked are the same. If either are different, it says that you are incompatible. It does this by combining two separate tests. Only of both are true is the whole true.\n",
    "\n",
    "The symbol for AND in Java is (&)\n",
    "\n",
    "[Return to Exercise](#Exercise7)"
   ]
  },
  {
   "cell_type": "markdown",
   "metadata": {},
   "source": [
    "###  Solution to Exercise 8<a id=\"Solution8\"></a>\n",
    "\n",
    "You just need to add an extra question stored in a further variable, and then add an additional boolean expression to the test joined by another & connective."
   ]
  },
  {
   "cell_type": "code",
   "execution_count": null,
   "metadata": {},
   "outputs": [],
   "source": [
    "// Do you like the same things as me?\n",
    "//\n",
    "public static void areWeCompatible2 ()\n",
    "{\n",
    "    String music = inputString(\"What is your favourite music?\");\n",
    "    String films = inputString(\"Which is your favourite film genre?\");\n",
    "    String sport = inputString(\"What is your favourite sport?\");\n",
    "    \n",
    "    if ( music.equals(\"Rock\") & films.equals(\"Horror\") & sport.equals(\"Tennis\"))\n",
    "    {\n",
    "        System.out.println(\"We are totally compatible!\");        \n",
    "    }   \n",
    "    else\n",
    "    {\n",
    "        System.out.println(\"We are NOT compatible!\");\n",
    "    } \n",
    "    \n",
    "}\n",
    "\n",
    "areWeCompatible2();"
   ]
  },
  {
   "cell_type": "markdown",
   "metadata": {},
   "source": [
    "[Return to Exercise](#Exercise8)"
   ]
  },
  {
   "cell_type": "markdown",
   "metadata": {},
   "source": [
    "###  Solution to Exercise 9<a id=\"Solution9\"></a>\n",
    "If the city is either Cairo or Alexandria, then it will print that it is in Egypt. Otherwise, it prints that it is not. However, it does this by checking that it is NOT Cairo AND it is NOT Alexandria. If it is neither, then it prints that it is not in Egypt.\n",
    "\n",
    "[Return to Exercise](#Exercise9)"
   ]
  },
  {
   "cell_type": "markdown",
   "metadata": {},
   "source": [
    "###  Solution to Exercise 10<a id=\"Solution10\"></a>\n",
    "There are three main logical connectives NOT (written !), AND (written &) and OR (written |). They can be used in the tests of if statements (and any other place you can write boolean expressions). They take boolean expressions and give a transformed boolean expression.\n",
    "\n",
    "If the original test was true, NOT of that test is false, and vice versa.\n",
    "\n",
    "Given two tests, the AND of those tests is true only if both are.\n",
    "\n",
    "Given two tests, the OP of those tests is true if at least one is.\n",
    "\n",
    "[Return to Exercise](#Exercise10)"
   ]
  }
 ],
 "metadata": {
  "kernelspec": {
   "display_name": "Java",
   "language": "java",
   "name": "java"
  },
  "language_info": {
   "codemirror_mode": "java",
   "file_extension": ".jshell",
   "mimetype": "text/x-java-source",
   "name": "Java",
   "pygments_lexer": "java",
   "version": "11.0.8+10-LTS"
  }
 },
 "nbformat": 4,
 "nbformat_minor": 2
}
