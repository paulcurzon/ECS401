{
 "cells": [
  {
   "cell_type": "markdown",
   "metadata": {},
   "source": [
    "# Unit 1 Part 3: Further Programming Exercises\n",
    "## By Paul Curzon\n",
    "\n",
    "## Interactive Programming Exercises\n",
    "\n",
    "This notebook aims to reinforce the things learnt from doing the previous interactive notebooks.\n",
    "\n",
    "## Learning Outcomes\n",
    "- Write programs that use variables, assignment, input and output\n",
    "\n",
    "*Solutions to the exercises are given at the end of the notebook. A link to each solution is included after each question.*\n",
    "\n",
    "**Always read the answers to exercises and compare them to your own. There are important things to learn from the answers.**\n",
    "\n",
    "<span style=\"color: red;\"> It is a really good idea to add your own notes throughout this notebook to reinforce what you have learnt and highlight important points. Click on the + in the toolbar above to make a new note area, and change it from Code to Markdown in the dropdown menu above if your note is not executable code. You may also want to highlight your notes in red as here, so they stand out. You change colours using span like this: </span>\n",
    "```\n",
    "<span style=\"color: red;\">THE TEXT TO COLOUR RED</span>\n",
    "```"
   ]
  },
  {
   "cell_type": "markdown",
   "metadata": {},
   "source": [
    "### Exercise 1 <a id=\"Exercise1\"></a>\n",
    "\n",
    "Modify this method to print a different message, but without changing the System.out.println command.\n",
    " (e.g. Make it print “Go ahead Punk. Make my day!)\n"
   ]
  },
  {
   "cell_type": "code",
   "execution_count": null,
   "metadata": {},
   "outputs": [],
   "source": [
    "public static void storeHelloMessage ()\n",
    "{\n",
    "     String myWelcome;\n",
    "     \n",
    "     myWelcome = \"Hi, there. This is Eddie your shipboard computer\";\n",
    "     \n",
    "     System.out.println(myWelcome);\n",
    "     return;\n",
    "}\n",
    "\n",
    "storeHelloMessage ();"
   ]
  },
  {
   "cell_type": "markdown",
   "metadata": {},
   "source": [
    "**NOW READ THE ANSWER** [Click here to jump to the solution](#Solution1)"
   ]
  },
  {
   "cell_type": "markdown",
   "metadata": {},
   "source": [
    "### Exercise 2 <a id=\"Exercise2\"></a>\n",
    "\n",
    "Write a method (based on the above) however, it should store the message to be printed in a variable with the name happymessage instead of myWelcome. You will need to change the variable name everywhere that it appears not just once."
   ]
  },
  {
   "cell_type": "code",
   "execution_count": null,
   "metadata": {},
   "outputs": [],
   "source": []
  },
  {
   "cell_type": "markdown",
   "metadata": {},
   "source": [
    "**NOW READ THE ANSWER** [Click here to jump to the solution](#Solution2)"
   ]
  },
  {
   "cell_type": "markdown",
   "metadata": {},
   "source": [
    "### Exercise 3<a id=\"Exercise3\"></a>\n",
    "\n",
    "Write a program that prints out your name and address formatted for an address label.eg. It should store the name, address and postcode in different variables.\n",
    "eg\n",
    "```\n",
    "Paul Curzon\n",
    "54 Programming Towers\n",
    "Shell Street, Java Land \n",
    "E1 4NS\n",
    "```"
   ]
  },
  {
   "cell_type": "code",
   "execution_count": null,
   "metadata": {},
   "outputs": [],
   "source": []
  },
  {
   "cell_type": "markdown",
   "metadata": {},
   "source": [
    "**NOW READ THE ANSWER** [Click here to jump to the solution](#Solution3)"
   ]
  },
  {
   "cell_type": "markdown",
   "metadata": {},
   "source": [
    "### Exercise 4 <a id=\"Exercise4\"></a>\n",
    "Write a program fragment that prints out your initials in large by printing a pattern of letters. Have each initial printed out by its own method.\n",
    "eg my initials are PC so my program would print:\n",
    "```\n",
    "PPPPPP\n",
    "P    P\n",
    "PPPPPP\n",
    "P\n",
    "P\n",
    "\n",
    "CCCCCC\n",
    "C\n",
    "C\n",
    "C\n",
    "CCCCCC\n",
    "```"
   ]
  },
  {
   "cell_type": "code",
   "execution_count": null,
   "metadata": {},
   "outputs": [],
   "source": []
  },
  {
   "cell_type": "markdown",
   "metadata": {},
   "source": [
    "**NOW READ THE ANSWER** [Click here to jump to the solution](#Solution4)"
   ]
  },
  {
   "cell_type": "markdown",
   "metadata": {},
   "source": [
    "**The above exercise corresponds to the first assessed exercise. If you have done it for your initials, then you can get it marked. Go to the assessment booklet to find out about the details. You can get it marked in your weekly ECS401 lab session.**"
   ]
  },
  {
   "cell_type": "markdown",
   "metadata": {},
   "source": [
    "### Exercise 5<a id=\"Exercise5\"></a>\n",
    "\n",
    "Take your code that prints your initials out in large letters above and make it print each letter twice by calling the methods twice.  You should only have to write commands to spell out each letter once."
   ]
  },
  {
   "cell_type": "code",
   "execution_count": null,
   "metadata": {},
   "outputs": [],
   "source": []
  },
  {
   "cell_type": "markdown",
   "metadata": {},
   "source": [
    "**NOW READ THE ANSWER** [Click here to jump to the solution](#Solution5)"
   ]
  },
  {
   "cell_type": "markdown",
   "metadata": {},
   "source": [
    "### Exercise 6 <a id=\"Exercise6\"></a>\n",
    "Write a program that  combines two messages using concatenation: \n",
    "```\n",
    "“Dave is the best rapper ever.”\n",
    "```\n",
    "and \n",
    "```\n",
    "“Blondie  is the best rock-pop band ever”\n",
    "```\n",
    "Each should be concatenated on to the end of fullmessage declared with\n",
    "```java\n",
    "String fullmessage = “”;\n",
    "```\n",
    "which is then printed.\n",
    "\n",
    "HINT: The string ```\"\\n\"``` can be used to add a newline into the middle of a String."
   ]
  },
  {
   "cell_type": "code",
   "execution_count": null,
   "metadata": {},
   "outputs": [],
   "source": []
  },
  {
   "cell_type": "markdown",
   "metadata": {},
   "source": [
    "**NOW READ THE ANSWER** [Click here to jump to the solution](#Solution6)"
   ]
  },
  {
   "cell_type": "markdown",
   "metadata": {},
   "source": [
    "### Exercise 7<a id=\"Exercise7\"></a>\n",
    "Compile and run the following. Make sure you understand what it does and how it works."
   ]
  },
  {
   "cell_type": "code",
   "execution_count": null,
   "metadata": {},
   "outputs": [],
   "source": [
    "/* AUTHOR Paul Curzon\n",
    "   This shows how methods can return results.\n",
    "   \n",
    "   This finds out who people love and tells everyone about it\n",
    " */\n",
    "\n",
    "\n",
    "/* ***************************************\n",
    "*  Print a message about who the user loves\n",
    "*/\n",
    "public static void askQuestions ()\n",
    "{\n",
    "    String yourname;\n",
    "    String youlove;\n",
    "  \n",
    "    yourname = askName();\n",
    "    youlove = askLoves();\n",
    "\n",
    "    System.out.println(\"Oooh! Everyone listen! \" + yourname + \" loves \" + youlove);\n",
    "    \n",
    "    return;\n",
    "} // END askquestions\n",
    "\n",
    "/* ***************************************\n",
    "*  Get the users name\n",
    "*/\n",
    "public static String askName ()\n",
    "{\n",
    "    String name;\n",
    "    Scanner scanner = new Scanner(System.in);\n",
    "\n",
    "    System.out.println(\"What's your name?\");\n",
    "    name = scanner.nextLine();\n",
    "   \n",
    "    return name;\n",
    "} // END askname\n",
    "\n",
    "/* ***************************************\n",
    "*  Find out who the user likes\n",
    "*/\n",
    "public static String askLoves ()\n",
    "{\n",
    "    String love;\n",
    "    Scanner scanner = new Scanner(System.in);\n",
    "\n",
    "\n",
    "    System.out.println(\"Who do you love?\");\n",
    "\n",
    "    love = scanner.nextLine();\n",
    "    \n",
    "    return love;\n",
    "} // END askloves\n",
    "\n",
    "askQuestions ();"
   ]
  },
  {
   "cell_type": "markdown",
   "metadata": {},
   "source": [
    "**NOW READ THE ANSWER** [Click here to jump to the solution](#Solution7)"
   ]
  },
  {
   "cell_type": "markdown",
   "metadata": {},
   "source": [
    "### Exercise 8<a id=\"Exercise8\"></a>\n",
    "Write a program, based on the above, that writes a message about the user’s country of birth. First, write a method that asks for the country where a person was born. Then write another method that asks for their favourite city in that country. Finally, write a third method that calls the others and prints a message about their answers: eg if the answers were Poland and Krakow it prints:  “Krakow is the nicest city in Poland”.\n"
   ]
  },
  {
   "cell_type": "code",
   "execution_count": null,
   "metadata": {},
   "outputs": [],
   "source": []
  },
  {
   "cell_type": "markdown",
   "metadata": {},
   "source": [
    "**NOW READ THE ANSWER** [Click here to jump to the solution](#Solution9)"
   ]
  },
  {
   "cell_type": "markdown",
   "metadata": {},
   "source": [
    "## Solutions\n",
    "\n",
    "### Solution to Exercise 1<a id=\"Solution1\"></a>"
   ]
  },
  {
   "cell_type": "code",
   "execution_count": null,
   "metadata": {},
   "outputs": [],
   "source": [
    "public static void storeHelloMessage2 ()\n",
    "{\n",
    "     String myWelcome;\n",
    "     \n",
    "     myWelcome = \"Go ahead Punk. Make my day!\";\n",
    "     \n",
    "     System.out.println(myWelcome);\n",
    "     return;\n",
    "}\n",
    "\n",
    "storeHelloMessage2 ();"
   ]
  },
  {
   "cell_type": "markdown",
   "metadata": {},
   "source": [
    "[Return to Exercise](#Exercise1)"
   ]
  },
  {
   "cell_type": "markdown",
   "metadata": {},
   "source": [
    "### Solution to Exercise 2<a id=\"Solution2\"></a>"
   ]
  },
  {
   "cell_type": "code",
   "execution_count": null,
   "metadata": {},
   "outputs": [],
   "source": [
    "public static void storeHelloMessage3 ()\n",
    "{\n",
    "     String happymessage;\n",
    "     \n",
    "     happymessage = \"Go ahead Punk. Make my day!\";\n",
    "     \n",
    "     System.out.println(happymessage);\n",
    "     return;\n",
    "}\n",
    "\n",
    "storeHelloMessage3 ();"
   ]
  },
  {
   "cell_type": "markdown",
   "metadata": {},
   "source": [
    "[Return to Exercise](#Exercise2)"
   ]
  },
  {
   "cell_type": "code",
   "execution_count": null,
   "metadata": {},
   "outputs": [],
   "source": [
    "### Solution to Exercise 3<a id=\"Solution3\"></a>"
   ]
  },
  {
   "cell_type": "code",
   "execution_count": null,
   "metadata": {},
   "outputs": [],
   "source": [
    "public static void printAddress ()\n",
    "{\n",
    "     String happymessage;\n",
    "          \n",
    "     System.out.println(\"Paul Curzon\");\n",
    "     System.out.println(\"54 Programming Towers\");\n",
    "     System.out.println(\"Shell Street, Java Land\");\n",
    "     System.out.println(\"E1 4NS\");\n",
    "     return;\n",
    "}\n",
    "\n",
    "printAddress();"
   ]
  },
  {
   "cell_type": "markdown",
   "metadata": {},
   "source": [
    "[Return to Exercise](#Exercise3)"
   ]
  },
  {
   "cell_type": "markdown",
   "metadata": {},
   "source": [
    "### Solution to Exercise 4<a id=\"Solution4\"></a>"
   ]
  },
  {
   "cell_type": "code",
   "execution_count": null,
   "metadata": {},
   "outputs": [],
   "source": [
    "// Print a large letter P using P characters\n",
    "//\n",
    "public static void printP ()\n",
    "{\n",
    "     System.out.println(\"PPPPPP\");\n",
    "     System.out.println(\"P    P\");\n",
    "     System.out.println(\"PPPPPP\");\n",
    "     System.out.println(\"P\");\n",
    "     System.out.println(\"P\");\n",
    "     System.out.println(\"P\");\n",
    "     System.out.println();\n",
    "     return;\n",
    "}\n",
    "\n",
    "// Print a large letter C using C characters\n",
    "//\n",
    "public static void printC ()\n",
    "{\n",
    "     System.out.println(\"CCCCCC\");\n",
    "     System.out.println(\"C\");\n",
    "     System.out.println(\"C\");\n",
    "     System.out.println(\"C\");\n",
    "     System.out.println(\"C\");\n",
    "     System.out.println(\"CCCCCC\");\n",
    "     System.out.println();\n",
    "     return;\n",
    "}\n",
    "\n",
    "public static void printPC ()\n",
    "{\n",
    "     printP();\n",
    "     printC();\n",
    "     return;\n",
    "}\n",
    "\n",
    "printPC();"
   ]
  },
  {
   "cell_type": "markdown",
   "metadata": {},
   "source": [
    "[Return to Exercise](#Exercise4)"
   ]
  },
  {
   "cell_type": "markdown",
   "metadata": {},
   "source": [
    "### Solution to Exercise 5<a id=\"Solution5\"></a>"
   ]
  },
  {
   "cell_type": "code",
   "execution_count": null,
   "metadata": {},
   "outputs": [],
   "source": [
    "public static void printPC2 ()\n",
    "{\n",
    "     printP();\n",
    "     printC();\n",
    "\n",
    "     System.out.println();\n",
    "     \n",
    "     printP();\n",
    "     printC();\n",
    "     \n",
    "     return;\n",
    "}\n",
    "\n",
    "printPC2();"
   ]
  },
  {
   "cell_type": "markdown",
   "metadata": {},
   "source": [
    "[Return to Exercise](#Exercise5)"
   ]
  },
  {
   "cell_type": "markdown",
   "metadata": {},
   "source": [
    "### Solution to Exercise 6<a id=\"Solution6\"></a>"
   ]
  },
  {
   "cell_type": "code",
   "execution_count": null,
   "metadata": {},
   "outputs": [],
   "source": [
    "public static void musicConcat ()\n",
    "{\n",
    "    String fullmessage = \"\";\n",
    "    String davemessage = \"Dave is the best rapper ever.\";\n",
    "    String blondiemessage = \"Blondie is the best rock-pop band ever\";\n",
    "    \n",
    "    fullmessage = fullmessage + \"\\n\" + davemessage + \"\\n\" + blondiemessage;\n",
    "    System.out.println(fullmessage);\n",
    "\n",
    "    return;\n",
    "}\n",
    "\n",
    "musicConcat();"
   ]
  },
  {
   "cell_type": "markdown",
   "metadata": {},
   "source": [
    "[Return to Exercise](#Exercise6)"
   ]
  },
  {
   "cell_type": "markdown",
   "metadata": {},
   "source": [
    "### Solution to Exercise 7<a id=\"Solution7\"></a>\n",
    "\n",
    "It first calls the method askname, which asks the person for their name and returns it. This is stored in yourname.\n",
    "It then asks the person who they love by calling askLoves, storing the answer in youlove. Finally, it prints out the message saying the first person loves the second, pulling the names as stored from the variables.\n",
    "\n",
    "[Return to Exercise](#Exercise7)"
   ]
  },
  {
   "cell_type": "markdown",
   "metadata": {},
   "source": [
    "### Solution to Exercise 8<a id=\"Solution8\"></a>"
   ]
  },
  {
   "cell_type": "code",
   "execution_count": null,
   "metadata": {},
   "outputs": [],
   "source": [
    "/* AUTHOR Paul Curzon\n",
    "   \n",
    "   ASk about a person's favourite home city.\n",
    " */\n",
    "\n",
    "\n",
    "/* ***************************************\n",
    "*  Print a message about a person's favourite city\n",
    "*  in their home country\n",
    "*/\n",
    "public static void askQuestionsAboutCountry ()\n",
    "{\n",
    "    String yourcountry;\n",
    "    String favouritecity;\n",
    "  \n",
    "    yourcountry = askCountry();\n",
    "    favouritecity = askCity();\n",
    "\n",
    "    System.out.println(favouritecity + \" is the nicest city in \" + yourcountry);\n",
    "    \n",
    "    return;\n",
    "} // END askquestions\n",
    "\n",
    "/* ***************************************\n",
    "*  Get the users homecountry\n",
    "*/\n",
    "public static String askCountry ()\n",
    "{\n",
    "    String country;\n",
    "    Scanner scanner = new Scanner(System.in);\n",
    "\n",
    "    System.out.println(\"In what country where you born?\");\n",
    "    country = scanner.nextLine();\n",
    "   \n",
    "    return country;\n",
    "}\n",
    "\n",
    "/* ***************************************\n",
    "*  Find out who their favourite city\n",
    "*/\n",
    "public static String askCity ()\n",
    "{\n",
    "    String city;\n",
    "    Scanner scanner = new Scanner(System.in);\n",
    "\n",
    "    System.out.println(\"What is your favourite city in that country?\");\n",
    "\n",
    "    city = scanner.nextLine();\n",
    "    \n",
    "    return city;\n",
    "}\n",
    "\n",
    "askQuestionsAboutCountry ();"
   ]
  },
  {
   "cell_type": "markdown",
   "metadata": {},
   "source": [
    "[Return to Exercise](#Exercise8)"
   ]
  }
 ],
 "metadata": {
  "kernelspec": {
   "display_name": "Java",
   "language": "java",
   "name": "java"
  },
  "language_info": {
   "codemirror_mode": "java",
   "file_extension": ".jshell",
   "mimetype": "text/x-java-source",
   "name": "Java",
   "pygments_lexer": "java",
   "version": "11.0.8+10-LTS"
  }
 },
 "nbformat": 4,
 "nbformat_minor": 4
}
