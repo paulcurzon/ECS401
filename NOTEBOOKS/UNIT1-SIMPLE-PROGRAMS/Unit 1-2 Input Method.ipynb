{
 "cells": [
  {
   "cell_type": "markdown",
   "metadata": {},
   "source": [
    "# Unit 1 Part 2: Input Methods and Functions\n",
    "## Paul Curzon\n",
    "\n",
    "## Interactive Programming Exercises\n",
    "\n",
    "### Learning Outcomes\n",
    "- Write programs with functions (methods that return results)\n",
    "- Passing arguments to methods\n",
    "- Write an input method\n",
    "\n",
    "*This notebook looks at code fragments. After completing these exercises you MUST then go on to write full programs - see the programming exercises in the workbook.*\n",
    "\n",
    "*Answers to exercises are given at the end*\n",
    "\n",
    "**Always read the answers to exercises and compare them to your own. There are important things to learn from the answers.**\n",
    "\n",
    "<span style=\"color: red;\"> It is a really good idea to add your own notes throughout this notebook to reinforce what you have learnt and highlight important points. Click on the + in the toolbar above to make a new note area, and change it from Code to Markdown in the dropdown menu above if your note is not executable code. You may also want to highlight your notes in red as here, so they stand out. You change colours using span like this: </span>\n",
    "```\n",
    "<span style=\"color: red;\">THE TEXT TO COLOUR RED</span>\n",
    "```"
   ]
  },
  {
   "cell_type": "markdown",
   "metadata": {},
   "source": [
    "## Refresher\n",
    "This assumes you have already doen the \"Unit 1 Part 1\" interactive notebook activity. If not do so first."
   ]
  },
  {
   "cell_type": "markdown",
   "metadata": {},
   "source": [
    "### Exercise 1 <a id=\"Exercise1\"></a>\n",
    "\n",
    "Refresh your memory about the following code that you have seen before (in the notebook on input) and explain in detail what it does. Compile and Run it (by clicking on the Run button at the top) to check you were right."
   ]
  },
  {
   "cell_type": "markdown",
   "metadata": {},
   "source": [
    "**Write your explanation here**"
   ]
  },
  {
   "cell_type": "code",
   "execution_count": null,
   "metadata": {},
   "outputs": [],
   "source": [
    "// Ask a question about Christopher Nolan and echo back the answer\n",
    "//\n",
    "public static void askAboutFilm ()\n",
    "{\n",
    "    String film;\n",
    "    Scanner scanner = new Scanner(System.in);\n",
    "    \n",
    "    System.out.println(\"Which dream-themed film did Christopher Nolan direct?\");\n",
    "    film = scanner.nextLine();\n",
    "    \n",
    "    System.out.println(\"So you think it was \" + film + \" do you?\");\n",
    "\n",
    "    return;\n",
    "} // END askAboutFilm\n",
    "\n",
    "askAboutFilm();"
   ]
  },
  {
   "cell_type": "markdown",
   "metadata": {},
   "source": [
    "**NOW READ THE ANSWER** [Click here to jump to the solution](#Solution1)"
   ]
  },
  {
   "cell_type": "markdown",
   "metadata": {},
   "source": [
    "## An input method\n",
    "As programs get larger we need to break them up into small parts. That is where **methods** come in. Procedures are one kind of method. You can think of a method as a tiny program that does something, but that thing is simpler than the bigger, whole program you are writing. Each part (ie method) must do something clear and useful. Asking the user for some data is a common thing to want to do in a program. It is a useful thing to split off into a separate method.\n",
    "\n",
    "The first advantage of splitting a program into methods is we can write them one at a time and test each separately."
   ]
  },
  {
   "cell_type": "markdown",
   "metadata": {},
   "source": [
    "### Exercise 2 <a id=\"Exercise2\"></a>\n",
    "\n",
    "Identify the differences in the method inputFilm to the above askAboutfilm method from Exercise 1. What will the method do when executed? Compile-Run this code and see what it does. "
   ]
  },
  {
   "cell_type": "markdown",
   "metadata": {},
   "source": [
    "**Explain the differences here**\n"
   ]
  },
  {
   "cell_type": "code",
   "execution_count": null,
   "metadata": {},
   "outputs": [],
   "source": [
    "// Allow a single film to be input, returning the film typed as the answer\n",
    "//\n",
    "public static String inputFilm ()\n",
    "{\n",
    "    String film;\n",
    "    Scanner scanner = new Scanner(System.in);\n",
    "\n",
    "    System.out.println(\"Which dream-themed film did Christopher Nolan direct?\");\n",
    "    film = scanner.nextLine();\n",
    "   \n",
    "    return film;\n",
    "} // END inputFilm"
   ]
  },
  {
   "cell_type": "markdown",
   "metadata": {},
   "source": [
    "**NOW READ THE ANSWER** [Click here to jump to the solution](#Solution2)"
   ]
  },
  {
   "cell_type": "markdown",
   "metadata": {},
   "source": [
    "The inputFilm method only does the input part of the original method - getting a film from the user of the program. It doesn't print the result. What it does do is **return** the answer input. Notice how the method definition starts\n",
    "```java\n",
    "public static String ...\n",
    "```\n",
    "The word String here means that when this method is called (so executed) it ALWAYS returns a value of type String. It's job is to provide a String value for use by other methods elsewhere in the program. The line\n",
    "```java\n",
    "return film;\n",
    "```\n",
    "at the end is the command says several things\n",
    "- return means end the method and jump back to the place where the code was called\n",
    "- the fact that there is anything at all after the word return means a value is being returned.\n",
    "- the fact that the variable name film is given means that the value returned will be whatever value is held in that variable."
   ]
  },
  {
   "cell_type": "markdown",
   "metadata": {},
   "source": [
    "## Test Methods\n",
    "We have no **method call**, so runnning the above code does not do anything visible. We need to call it before its instructions are executed. The Run button just compiles it and makes it available to other parts of the program so they can call it. (Until you do compile it the method doesn't exist as far as the compiler is concerned. \n",
    "\n",
    "It is only one part of our full program as it does not print the result. It is a good idea to test each method works as you write it. A good way to do that is to write a test method whose purpose is just to help you check it works. Below is a Test method that calls inputFilm."
   ]
  },
  {
   "cell_type": "markdown",
   "metadata": {},
   "source": [
    "### Exercise 3 <a id=\"Exercise3\"></a>\n",
    "Predict what the following code does when executed. How is the call to inputFilm different to previoous method calls we have seen. \n",
    "\n",
    "Compile and Run it to check you are right about what it does. \n",
    "\n",
    "HINT: You MUST have run the above definition first or you will get an error message telling you that inputFilm does not exist."
   ]
  },
  {
   "cell_type": "markdown",
   "metadata": {},
   "source": [
    "**Write your explanation here**\n"
   ]
  },
  {
   "cell_type": "code",
   "execution_count": null,
   "metadata": {},
   "outputs": [],
   "source": [
    "// Test inputFilm works\n",
    "//\n",
    "public static void TESTinputFilm ()\n",
    "{\n",
    "    String film_input;\n",
    "    \n",
    "    film_input = inputFilm();\n",
    "\n",
    "    System.out.println(\"The value returned by the method call was: \" + film_input);\n",
    "\n",
    "    return;\n",
    "} // END TESTinputFilm\n",
    "\n",
    "TESTinputFilm();"
   ]
  },
  {
   "cell_type": "markdown",
   "metadata": {},
   "source": [
    "**NOW READ THE ANSWER** [Click here to jump to the solution](#Solution3)"
   ]
  },
  {
   "cell_type": "markdown",
   "metadata": {},
   "source": [
    "## Functions\n",
    "Once it is defined in a program, this method can be called by other methods. Here it is called by our test method TESTinputFilm which we have written just to test inputFilm works before we use it for real.\n",
    "\n",
    "The method inputFilm returns a value. We call a method that returns a value a **function**. That contrasts with a method that does not return a value which we call a **procedure**. A procedure call is a **statement**. It just does a job. A **function call** is an expression. Its purpose is to give an answer, and so can be on the right hand side of an assignment.\n",
    "\n",
    "This test method just stores the result of calling the method (whatever it returns) in a variable. Here, the variable is called film_input. The assignment\n",
    "```java\n",
    "film_input = inputFilm();\n",
    "```\n",
    "says:\n",
    "```\n",
    "film_input gets the value returned by the call to method inputFilm\n",
    "```\n",
    "Storing it means it can then by printed later on in the test method. The test method therefore allows us to see what it returns. We can check it returns the value we expect it to each time. Run it more than once (ie do lots of tests) to make sure it always does as expected.\n",
    "\n",
    "Functions (in Java) can only return a single value. We will see later that that is not a restriction on what a function can do at all as multiple values can be packages up into a single composite value and that single composite value returned.\n",
    "\n",
    "We next need to write a method to use it properly rather than just test it."
   ]
  },
  {
   "cell_type": "markdown",
   "metadata": {},
   "source": [
    "### Exercise 4 <a id=\"Exercise4\"></a>\n",
    "Modify the code below so that it does exactly as the original code in Exercise 1 but does so by calling the method inputFilm to do the input.\n",
    "\n",
    "If the person input Inception it should print\n",
    "```\n",
    "So you think it was Inception do you?\n",
    "```\n",
    "If the person instead typed Prestige then it should instead print\n",
    "```\n",
    "So you think it was Prestige do you?\n",
    "```\n",
    "\n",
    "HINT: this new method is very similar to the test method."
   ]
  },
  {
   "cell_type": "code",
   "execution_count": null,
   "metadata": {},
   "outputs": [],
   "source": [
    "// Allow a single film to be input, returning the film typed as the answer\n",
    "//\n",
    "public static String inputFilm ()\n",
    "{\n",
    "    String film;\n",
    "    Scanner scanner = new Scanner(System.in);\n",
    "\n",
    "    System.out.println(\"Which dream-themed film did Christopher Nolan direct?\");\n",
    "    film = scanner.nextLine();\n",
    "   \n",
    "    return film;\n",
    "} // END inputFilm\n",
    "\n",
    "// Ask a question about Christopher Nolan and echo back the answer\n",
    "//\n",
    "public static void askAboutFilm2 ()\n",
    "{\n",
    "    // COMPLETE THIS METHOD SO IT DOES EXACTLY THE SAME AS THE ORIGINAL askAboutFilm\n",
    "    // IT SHOULD USE inputFilm to do the input\n",
    "\n",
    "    return;\n",
    "} // END askAboutFilm2\n",
    "\n",
    "askAboutFilm2();"
   ]
  },
  {
   "cell_type": "markdown",
   "metadata": {},
   "source": [
    "**NOW READ THE ANSWER** [Click here to jump to the solution](#Solution4)"
   ]
  },
  {
   "cell_type": "markdown",
   "metadata": {},
   "source": [
    "## Decomposition\n",
    "You have in Exercise 4 written the same program in a slightly different way to the original of Exercise 1, though it does the same thing. We have split off a useful part of the program into a method. That method does a clear job: input a film and return it. Splitting up a program like this is called **decomposition**. Decomposing programs well into clear methods is a really important part of programming well. **Decomposition** is part of **Computational Thinking** the key problem solving skill that computer scientists learn.\n",
    "\n",
    "Decomposition turns the task of writing a large program into that of writing a series of distinct separate pieces of code (the methods). It allows those separate methods to be tested one at a time to make sure they work, before they are combined into a bigger program."
   ]
  },
  {
   "cell_type": "markdown",
   "metadata": {},
   "source": [
    "### Exercise 5 <a id=\"Exercise5\"></a>\n",
    "Write similar code to that in Exercise 4 by editing the program fragment below so that it inputs the name of a sport in answer to the question: \n",
    "```\n",
    "What sport does LeBron James play?\"\n",
    "```\n",
    "\n",
    "HINT: You can cut and paste from above, but make sure you change variable names to ones appropriate for this method!"
   ]
  },
  {
   "cell_type": "code",
   "execution_count": null,
   "metadata": {},
   "outputs": [],
   "source": [
    "// Allow a single sport to be input, in answer to a question\n",
    "// returning the sport typed as the answer\n",
    "//\n",
    "public static String inputSport ()\n",
    "{\n",
    "\n",
    "    // COMPLETE THIS METHOD\n",
    "    \n",
    "    return sport;\n",
    "} // END inputSport\n",
    "\n",
    "\n",
    "// Ask a question about LeBron James and echo back the answer\n",
    "//\n",
    "public static void askAboutSport ()\n",
    "{\n",
    "    String sport_input = inputSport();\n",
    "        \n",
    "    System.out.println(\"You said \" + sport_input + \".\");\n",
    "    System.out.println(\"The correct answer is Basketball!\");\n",
    "        \n",
    "    return;\n",
    "} // END askAboutSport\n",
    "\n",
    "askAboutSport();"
   ]
  },
  {
   "cell_type": "markdown",
   "metadata": {},
   "source": [
    "**NOW READ THE ANSWER** [Click here to jump to the solution](#Solution5)"
   ]
  },
  {
   "cell_type": "markdown",
   "metadata": {},
   "source": [
    "### Exercise 6 <a id=\"Exercise6\"></a>\n",
    "Edit the following code so that it defines a method inputMusical. It should input the name of a Musical in answer to the question:\n",
    "```\n",
    "What Hip Hop musical is based on the story of an American founding father?\"\n",
    "```\n",
    "The correct answer is Hamilton.\n",
    "\n",
    "HINT: Remember to change the name of the method and change comments to explain what it does."
   ]
  },
  {
   "cell_type": "code",
   "execution_count": null,
   "metadata": {},
   "outputs": [],
   "source": [
    "// Allow a single musician to be input, in answer to a question\n",
    "// returning the musician typed as the answer\n",
    "//\n",
    "public static String inputSport ()\n",
    "{\n",
    "\n",
    "    // CORRECT AND COMPLETE THIS METHOD\n",
    "    \n",
    "    return sport;\n",
    "} // END inputSport\n",
    "\n",
    "\n",
    "// Ask a question about a Hip Hop musical and echo back the answer\n",
    "//\n",
    "public static void askAboutSport ()\n",
    "{\n",
    "\n",
    "    // CORRECT AND COMPLETE THIS METHOD\n",
    "    \n",
    "\n",
    "    return;\n",
    "} // END askAboutSport\n",
    "\n",
    "askAboutSport();"
   ]
  },
  {
   "cell_type": "markdown",
   "metadata": {},
   "source": [
    "**NOW READ THE ANSWER** [Click here to jump to the solution](#Solution6)"
   ]
  },
  {
   "cell_type": "markdown",
   "metadata": {},
   "source": [
    "## Generalisation\n",
    "\n",
    "In the above, for each different question we wanted to ask the user to answer, we have written a new method. However each method does basically the same thing. It would be better if we could write one method and just reuse it each time we needed it. To do this we need a slightly more general version of the method. One that works in lots of different situations.  Doing this is called **generalisation**. \n",
    "\n",
    "To generalise methods, look for what is the same and what is different."
   ]
  },
  {
   "cell_type": "markdown",
   "metadata": {},
   "source": [
    "### Exercise 7 <a id=\"Exercise7\"></a>\n",
    "Identify the differences between the three methods, inputFilm, inputSport and inputMusical."
   ]
  },
  {
   "cell_type": "markdown",
   "metadata": {},
   "source": [
    "**Write the differences here**\n",
    "\n",
    "\n"
   ]
  },
  {
   "cell_type": "markdown",
   "metadata": {},
   "source": [
    "**NOW READ THE ANSWER** [Click here to jump to the solution](#Solution7)"
   ]
  },
  {
   "cell_type": "markdown",
   "metadata": {},
   "source": [
    "The only difference between our input methods apart from the names of things is the question asked. As it is a string it can be treated as data and stored in a variable itself. If stored in a variable it can hold different questions at different times. As for the name of the method, in a general version we can just replace the specific names by general names."
   ]
  },
  {
   "cell_type": "markdown",
   "metadata": {},
   "source": [
    "### Exercise 8 <a id=\"Exercise8\"></a>\n",
    "Run the code below and try to work out what it does, and think about HOW it does it. Identify and explain as best you can the differences between the method inputString and the original inputFilm method (given underneath the new version for easy reference)."
   ]
  },
  {
   "cell_type": "markdown",
   "metadata": {},
   "source": [
    "**Write your explanation here**\n"
   ]
  },
  {
   "cell_type": "code",
   "execution_count": null,
   "metadata": {},
   "outputs": [],
   "source": [
    "// Allow a single film to be input, returning the film typed as the answer\n",
    "//\n",
    "public static String inputString (String message)\n",
    "{\n",
    "       String answer;\n",
    "       Scanner scanner = new Scanner(System.in);\n",
    "\n",
    "       System.out.println(message);\n",
    "       answer = scanner.nextLine();\n",
    "   \n",
    "       return answer;\n",
    "} // END inputString\n",
    "\n",
    "public static void TESTinputString ()\n",
    "{\n",
    "       String film_input = inputString(\"Please type anything for me\");\n",
    "\n",
    "       System.out.println(\"The value returned by the method call was: \" + film_input);\n",
    "\n",
    "       return;\n",
    "} // END TESTinputFilm\n",
    "\n",
    "TESTinputFilm();"
   ]
  },
  {
   "cell_type": "markdown",
   "metadata": {},
   "source": [
    "The original code for inputFilm was:"
   ]
  },
  {
   "cell_type": "code",
   "execution_count": null,
   "metadata": {},
   "outputs": [],
   "source": [
    "public static String inputFilm ()\n",
    "{\n",
    "       String film;\n",
    "       Scanner scanner = new Scanner(System.in);\n",
    "\n",
    "       System.out.println(\"Which dream-themed film did Christopher Nolan direct?\");\n",
    "       film = scanner.nextLine();\n",
    "   \n",
    "       return film;\n",
    "} // END inputFilm"
   ]
  },
  {
   "cell_type": "markdown",
   "metadata": {},
   "source": [
    "**NOW READ THE ANSWER** [Click here to jump to the solution](#Solution8)"
   ]
  },
  {
   "cell_type": "markdown",
   "metadata": {},
   "source": [
    "## Passing data into a method\n",
    "The part that changes is the message printed. We have therefore just created a new variable called message to hold that String value in the method until we need it. When we call inputString, we provide a String to be that message by placing it in the brackets of the call.\n",
    "When we call:\n",
    "```java\n",
    "inputString(\"Please type anything for me\");\n",
    "```\n",
    "the string ``` \"Please type anything for me\" ```\n",
    "is passed to the method inputString. The method, on recieving it, stores it in the variable message. How does it know where to store it? It stores it in the variable declared in the brackets of the method definition:\n",
    "```java\n",
    "public static String inputString (String message)\n",
    "```\n",
    "So when the method is called and the instructions in that method are executed, the variable called message (on this occasion) holds\n",
    "```\n",
    "\"Please type anything for me\" \n",
    "```\n",
    "That means when the computer gets to, and so executes, the line\n",
    "```java\n",
    "System.out.println(message);\n",
    "```\n",
    "the message actually printed is whatever is stored in variable message ie (in this case\n",
    "```\n",
    "\"Please type anything for me\" \n",
    "```"
   ]
  },
  {
   "cell_type": "markdown",
   "metadata": {},
   "source": [
    "### Exercise 9 <a id=\"Exercise9\"></a>\n",
    "Modify the code below to now do exactly what the code did from exercise 1 ie\n",
    "Ask\n",
    "```\n",
    "Which dream-themed film did Christopher Nolan direct?\n",
    "```\n",
    "and print a message substituting what they typed in for the dots in the printed message\n",
    "```\n",
    "So you think it was ... do you?\n",
    "```\n",
    "Do not change method inputString in any way. Only change method askAboutFilm. It should work purely by calling the existing method inputString."
   ]
  },
  {
   "cell_type": "code",
   "execution_count": null,
   "metadata": {},
   "outputs": [],
   "source": [
    "// Allow a single film to be input, returning the film typed as the answer\n",
    "//\n",
    "public static String inputString (String message)\n",
    "{\n",
    "       String answer;\n",
    "       Scanner scanner = new Scanner(System.in);\n",
    "\n",
    "       System.out.println(message);\n",
    "       answer = scanner.nextLine();\n",
    "   \n",
    "       return answer;\n",
    "} // END inputString\n",
    "\n",
    "// Ask about Christopher Nolan films\n",
    "//\n",
    "public static void askAboutFilm3 ()\n",
    "{\n",
    "    // MODIFY THIS CODE\n",
    "       String film_input = inputString(\"Please type anything for me\");\n",
    "\n",
    "       System.out.println(\"The value returned by the method call was: \" + film_input);\n",
    "\n",
    "       return;\n",
    "} // END askAboutFilm3\n",
    "\n",
    "askAboutFilm3();"
   ]
  },
  {
   "cell_type": "markdown",
   "metadata": {},
   "source": [
    "**NOW READ THE ANSWER** [Click here to jump to the solution](#Solution9)"
   ]
  },
  {
   "cell_type": "markdown",
   "metadata": {},
   "source": [
    "## Methods only need to be defined once\n",
    "Once we have included inputString in the program (eg by running it above) we can use it in the rest of the program. In a notebook like this that means we can use it in the rest of this notebook. As long as you have run the above exercises that defines it, you dont need to copy out the method again (as we have been doing so far). In any program you just need to define a method once in the program to call it anywhere."
   ]
  },
  {
   "cell_type": "markdown",
   "metadata": {},
   "source": [
    "### Exercise 10 <a id=\"Exercise10\"></a>\n",
    "Modify the code below to now ask all three questions from the exercises above about films, sport and musicals. It should do so each time by calling the same existing method, inputString."
   ]
  },
  {
   "cell_type": "code",
   "execution_count": null,
   "metadata": {},
   "outputs": [],
   "source": [
    "// Ask three different questions\n",
    "//\n",
    "public static void askThreeQuestions ()\n",
    "{\n",
    "    String film_answer;\n",
    "    // DECLARE ALL THE VARIABLES NEEDED HERE FIRST\n",
    "    \n",
    "    film_answer = inputString(\"Which dream-themed film did Christopher Nolan direct?\");\n",
    "    System.out.println(\"So you think the film was \" + film_answer + \" do you?\");\n",
    "    System.out.println(\"\");\n",
    "       \n",
    "    // ADD THE OTHER TWO QUESTIONS ECHOING ANSWERS HERE\n",
    "\n",
    "    return;\n",
    "} // END askThreeQuestions\n",
    "\n",
    "askThreeQuestions();"
   ]
  },
  {
   "cell_type": "markdown",
   "metadata": {},
   "source": [
    "**NOW READ THE ANSWER** [Click here to jump to the solution](#Solution10)"
   ]
  },
  {
   "cell_type": "markdown",
   "metadata": {},
   "source": [
    "## Abstraction\n",
    "\n",
    "Another advantage of writing methods (whether procedures or functions) is that once written you can forget about the details of how it was done. It can be tricky to remember the details of Scanners in the above, for example, but once we've done it once and package that into our method we can forget. All we need to remember is the method that does it is inputString so we can call it. This is called **abstraction** which just means hiding details. Here we are hiding the details of how to input a String behind the method name inputString. We are doing one kind of abstraction called **procedural abstraction** (or **functional abstraction**). It just means packaging instructions into procedures (or functions) so that we do not then need to worry in future how they work, just what they do overall. Here inputString (somehow) gets a string from the user and returns it. When we write the instruction to call it, we don't care, and don't have to know, how it does it. \n",
    "\n",
    "This makes big programs easier to write as once a method works we can ignore how it works when we use it - we can write a big program by focussing on one part at a time.\n",
    "\n",
    "The following is a simpler example of the same idea."
   ]
  },
  {
   "cell_type": "markdown",
   "metadata": {},
   "source": [
    "### Exercise 11 <a id=\"Exercise11\"></a>\n",
    "Run the following code, then explain what it does and how?"
   ]
  },
  {
   "cell_type": "markdown",
   "metadata": {},
   "source": [
    "**Write your explanation here**\n"
   ]
  },
  {
   "cell_type": "code",
   "execution_count": null,
   "metadata": {},
   "outputs": [],
   "source": [
    "// Print a given message\n",
    "//\n",
    "public static void print (String message)\n",
    "{\n",
    "       System.out.println(message);\n",
    "\n",
    "} // END print\n",
    "\n",
    "\n",
    "public static void printGreetings ()\n",
    "{\n",
    "    print(\"Hello World\");\n",
    "    print(\"Hello Paul\");\n",
    "    print(\"Goodbye\");\n",
    "\n",
    "} // END printGreetings\n",
    "\n",
    "printGreetings();"
   ]
  },
  {
   "cell_type": "markdown",
   "metadata": {},
   "source": [
    "**NOW READ THE ANSWER** [Click here to jump to the solution](#Solution11)"
   ]
  },
  {
   "cell_type": "markdown",
   "metadata": {},
   "source": [
    "## More on abstraction\n",
    "\n",
    "The method print just imediately calls System.out.println, storing whatever string it is given into its variable called message. It then passes it on to System.out.println to do the actual work. We call it three times and each time a different string is put into message and so passed on to be printed by System.out.println.\n",
    "\n",
    "Note that this variable message, which only exists when method print is executed, is a DIFFERENT variable to the one declared in method inputString. They are two completely different storage spaces that just happen to have been given the same name.\n",
    "\n",
    "A print method like this can be useful as there are several different ways to print messages (eg another way you can use in your program involves popping up windows to ask questions). If we want to change the way we do it throughout the whole program, we now just have to change the definition of the method print to use the new way and the whole program (once recompiled) will use the new method. This removes the possibility of mistakes such as changing it in one place and not in others. This ability to localise changes needed is one of the most important reasons why **procedural abstraction** is a really good thing. We will use this idea a lot to write good, easy to change, programs.\n",
    "\n",
    "If you include a print method and an inputString method like the ones we have used here in every program you write then those programs can then use them to do input and output without you having to repeat the details of how it is done over and over. Should you wish to change the implementation then you can change it in one place in the program (in the method definition) and it will change throughout."
   ]
  },
  {
   "cell_type": "markdown",
   "metadata": {},
   "source": [
    "### Exercise 11 <a id=\"Exercise11\"></a>\n",
    "Cut and paste your answer to Exercse 9, askThreeQuestions, below. Then modify it to now call this new method called print when a message must be printed..\n",
    "\n",
    "Cut and paste your previous answer below and then modify it to use print."
   ]
  },
  {
   "cell_type": "code",
   "execution_count": null,
   "metadata": {},
   "outputs": [],
   "source": [
    "// Ask three different questions about film, sport and musical, echoing back the answers.\n",
    "//\n",
    "\n",
    "\n",
    "    // CUT AND PASTE YOUR PREVIOUS ANSWER HERE AND THEN MODIFY IT TO USE THE NEW PRINT METHOD\n",
    "\n",
    "\n"
   ]
  },
  {
   "cell_type": "markdown",
   "metadata": {},
   "source": [
    "**NOW READ THE ANSWER** [Click here to jump to the solution](#Solution11)"
   ]
  },
  {
   "cell_type": "markdown",
   "metadata": {},
   "source": [
    "### Exercise 12 <a id=\"Exercise12\"></a>\n",
    "Briefly explain the reasons for using methods."
   ]
  },
  {
   "cell_type": "markdown",
   "metadata": {},
   "source": [
    "**Write your explanation here**"
   ]
  },
  {
   "cell_type": "code",
   "execution_count": null,
   "metadata": {},
   "outputs": [],
   "source": [
    "\n",
    "// Put your program together here\n"
   ]
  },
  {
   "cell_type": "markdown",
   "metadata": {},
   "source": [
    "**NOW READ THE ANSWER** [Click here to jump to the solution](#Solution12)"
   ]
  },
  {
   "cell_type": "markdown",
   "metadata": {},
   "source": [
    "## Solutions\n",
    "\n",
    "### Solution to Exercise 1<a id=\"Solution1\"></a>\n",
    "The code first prints a question about Christopher Nolan. It then waits for the user to type in an answer before echoing the answer back.\n",
    "\n",
    "It does this by first calling a method askAboutFilm. This method first declares a String variable called film and creates a scanner. A scanner creates a link to the keyboard to get input. The method next prints a message asking a question and then gets the next line typed at the keyboard via the scanner. It stops reading input characters when ENTER is pressed. The sequence of characters typed is formed into a String and stored in variable film. It then prints a message echoing back what was typed by constructing a new String that concatenates (sticks together) the Strings \"So you think it was \", with whatever is stored in the variable film, and finally the String \" do you?\"\n",
    "\n",
    "It then ends the method returning back to the call point.\n",
    "\n",
    "[Return to Exercise](#Exercise1)"
   ]
  },
  {
   "cell_type": "markdown",
   "metadata": {},
   "source": [
    "### Solution to Exercise 2<a id=\"Solution2\"></a>\n",
    "\n",
    "There are two differences in the method definition. First, in the header line of the method, the type String is given\n",
    "```java\n",
    "public static String inputFilm ()\n",
    "```\n",
    "instead of **void** in the original.\n",
    "\n",
    "Then the return statement is different.\n",
    "```java\n",
    " return film;\n",
    "```\n",
    "insterad of just\n",
    "```java\n",
    " return;\n",
    "```\n",
    "Both indicate that a String is returned by the method as its result. This means the value passed back is whatever value (of type String) is held in variable film when the return command is executed.\n",
    "\n",
    "Running the code does nothing visible. It is just a method definition. There is no call to it. Therefore, all it does after compiling it is register it as method for use later.\n",
    "\n",
    "We need to add a call. We will explore how to do this in the next exercise.\n",
    "\n",
    "[Return to Exercise](#Exercise2)"
   ]
  },
  {
   "cell_type": "markdown",
   "metadata": {},
   "source": [
    "### Solution to Exercise 3<a id=\"Solution3\"></a>\n",
    "\n",
    "It prints\n",
    "```\n",
    "The value returned by the method call was:  \n",
    "```\n",
    "followed by whatever you typed. So if you typed Inception when the program asked, it prints:\n",
    "```\n",
    "The value returned by the method call was: Inception \n",
    "```\n",
    "\n",
    "The call to the method is different in that it is now on the right hand side (rhs) of an assignment.\n",
    "```java\n",
    "film_input = inputFilm();\n",
    "```\n",
    "Its job is to provide the String that will then be stored in the variable called film_input. This is what happens to the value returned.\n",
    "\n",
    "[Return to Exercise](#Exercise3)"
   ]
  },
  {
   "cell_type": "markdown",
   "metadata": {},
   "source": [
    "### Solution to Exercise 4<a id=\"Solution4\"></a>"
   ]
  },
  {
   "cell_type": "code",
   "execution_count": null,
   "metadata": {},
   "outputs": [],
   "source": [
    "// Allow a single film to be input, returning the film typed as the answer\n",
    "//\n",
    "public static String inputFilm ()\n",
    "{\n",
    "    String film;\n",
    "    Scanner scanner = new Scanner(System.in);\n",
    "\n",
    "    System.out.println(\"Which dream-themed film did Christopher Nolan direct?\");\n",
    "    film = scanner.nextLine();\n",
    "   \n",
    "    return film;\n",
    "} // END inputFilm\n",
    "\n",
    "\n",
    "// Ask a question about Christopher Nolan and echo back the answer\n",
    "//\n",
    "public static void askAboutFilm2 ()\n",
    "{\n",
    "    String answer;\n",
    "    \n",
    "    answer = inputFilm ();\n",
    "    \n",
    "    System.out.println(\"So you think it was \" + answer + \" do you?\");\n",
    "    \n",
    "    return;\n",
    "} // END askAboutFilm2\n",
    "\n",
    "askAboutFilm2();"
   ]
  },
  {
   "cell_type": "markdown",
   "metadata": {},
   "source": [
    "[Return to Exercise](#Exercise4)"
   ]
  },
  {
   "cell_type": "markdown",
   "metadata": {},
   "source": [
    "### Solution to Exercise 5<a id=\"Solution5\"></a>"
   ]
  },
  {
   "cell_type": "code",
   "execution_count": null,
   "metadata": {},
   "outputs": [],
   "source": [
    "// Allow a single sport to be input, in answer to a question\n",
    "// returning the sport typed as the answer\n",
    "//\n",
    "public static String inputSport ()\n",
    "{\n",
    "    String sport;\n",
    "    Scanner scanner = new Scanner(System.in);\n",
    "\n",
    "    System.out.println(\"What sport does LeBron James play?\");\n",
    "    sport = scanner.nextLine();\n",
    "   \n",
    "    return sport;\n",
    "} // END inputSport\n",
    "\n",
    "\n",
    "// Ask a question about LeBron James and echo back the answer\n",
    "//\n",
    "public static void askAboutSport ()\n",
    "{\n",
    "    String sport_input = inputSport();\n",
    "        \n",
    "    System.out.println(\"You said \" + sport_input + \".\");\n",
    "    System.out.println(\"The correct answer is Basketball!\");\n",
    "        \n",
    "    return;\n",
    "} // END askAboutSport\n",
    "\n",
    "askAboutSport();"
   ]
  },
  {
   "cell_type": "markdown",
   "metadata": {},
   "source": [
    "[Return to Exercise](#Exercise5)"
   ]
  },
  {
   "cell_type": "markdown",
   "metadata": {},
   "source": [
    "### Solution to Exercise 6<a id=\"Solution6\"></a>"
   ]
  },
  {
   "cell_type": "code",
   "execution_count": null,
   "metadata": {},
   "outputs": [],
   "source": [
    "// Allow a single musician to be input, in answer to a question\n",
    "// returning the musician typed as the answer\n",
    "//\n",
    "public static String inputMusical ()\n",
    "{\n",
    "    String musical;\n",
    "    Scanner scanner = new Scanner(System.in);\n",
    "\n",
    "    System.out.println(\"What Hip Hop musical is based on the story of an American founding father?\");\n",
    "    musical = scanner.nextLine();\n",
    "    \n",
    "    return musical;\n",
    "} // END inputMusical\n",
    "\n",
    "\n",
    "// Ask a question about a musical and echo back an answer\n",
    "//\n",
    "public static void askAboutMusical ()\n",
    "{\n",
    "    String musical_input = inputMusical();\n",
    "        \n",
    "    System.out.println(\"You said \" +  musical_input  + \".\");\n",
    "    System.out.println(\"The correct answer is Hamilton!\");\n",
    "        \n",
    "    return;\n",
    "} // END askAboutMusical\n",
    "\n",
    "askAboutMusical();"
   ]
  },
  {
   "cell_type": "markdown",
   "metadata": {},
   "source": [
    "[Return to Exercise](#Exercise6)"
   ]
  },
  {
   "cell_type": "markdown",
   "metadata": {},
   "source": [
    "### Solution to Exercise 7<a id=\"Solution7\"></a>\n",
    "\n",
    "The differences between the three input methods are\n",
    "- the names of things (the method itself and the variables) and\n",
    "- the question asked (which is a String)."
   ]
  },
  {
   "cell_type": "markdown",
   "metadata": {},
   "source": [
    "[Return to Exercise](#Exercise7)"
   ]
  },
  {
   "cell_type": "markdown",
   "metadata": {},
   "source": [
    "### Solution to Exercise 8<a id=\"Solution8\"></a>\n",
    "\n",
    "The key difference is that inputString has a variable declaration (String message) in the brakets of the header line.\n",
    "```java\n",
    "public static String inputString (String message)\n",
    "```\n",
    "This declares a variable called message, just like the declarations we have seen before. However, as it is in the header line between the brackets, when the method is called a value is assigned to it automatically. The String value that stored in variable, message, is just the String value from the method call (the result of executing whatever is in the brackets there).\n",
    "\n",
    "Rather than having a fixed question like \"Which dream-themed ...\" printed by the method, it now prints whatever string it is given when called, and so is stored in variable message.\n",
    "ie we have\n",
    "```java\n",
    "System.out.println(message);\n",
    "```\n",
    "instead of \n",
    "```java\n",
    "System.out.println(\"Which dream-themed film did Christopher Nolan direct?\");\n",
    "```\n",
    "Other than that we have just changed the name of the variables to give them more general names to allow for them being called in different ways (eg the more general name,inputString, and general variable name, answer, rather than the specific name, film.\n",
    "\n",
    "[Return to Exercise](#Exercise8)"
   ]
  },
  {
   "cell_type": "markdown",
   "metadata": {},
   "source": [
    "### Solution to Exercise 8<a id=\"Solution8\"></a>"
   ]
  },
  {
   "cell_type": "markdown",
   "metadata": {},
   "source": [
    "// Allow a single film to be input, returning the film typed as the answer\n",
    "//\n",
    "public static String inputString (String message)\n",
    "{\n",
    "       String answer;\n",
    "       Scanner scanner = new Scanner(System.in);\n",
    "\n",
    "       System.out.println(message);\n",
    "       answer = scanner.nextLine();\n",
    "   \n",
    "       return answer;\n",
    "} // END inputString\n",
    "\n",
    "// Ask about Christopher Nolan films\n",
    "//\n",
    "public static void askAboutFilm3 ()\n",
    "{\n",
    "       String film_input = inputString(\"Which dream-themed film did Christopher Nolan direct?\");\n",
    "\n",
    "       System.out.println(\"So you think it was \" + film_input + \" do you?\");\n",
    "\n",
    "       return;\n",
    "} // END askAboutFilm3\n",
    "\n",
    "askAboutFilm3();"
   ]
  },
  {
   "cell_type": "markdown",
   "metadata": {},
   "source": [
    "[Return to Exercise](#Exercise8)"
   ]
  },
  {
   "cell_type": "markdown",
   "metadata": {},
   "source": [
    "### Solution to Exercise 9<a id=\"Solution9\"></a>"
   ]
  },
  {
   "cell_type": "code",
   "execution_count": null,
   "metadata": {},
   "outputs": [],
   "source": [
    "// Ask three different questions about film, sport and musical, echoing back the answers.\n",
    "//\n",
    "public static void askThreeQuestions ()\n",
    "{\n",
    "    String film_answer;\n",
    "    String sport_answer;\n",
    "    String musical_answer;\n",
    "    // DECLARE ALL THE VARIABLES NEEDED HERE FIRST\n",
    "    \n",
    "    film_answer = inputString(\"Which dream-themed film did Christopher Nolan direct?\");\n",
    "    System.out.println(\"So you think the film was \" + film_answer + \" do you?\");\n",
    "    System.out.println(\"\");\n",
    "       \n",
    "    sport_answer = inputString(\"What sport does LeBron James play?\");\n",
    "    System.out.println(\"So you think the sport was \" + sport_answer + \" do you?\");\n",
    "    System.out.println(\"\");\n",
    "   \n",
    "    musical_answer = inputString(\"What Hip Hop musical is based on the story of an American founding father?\");\n",
    "    System.out.println(\"So you think the musical was \" + musical_answer + \" do you?\");\n",
    "    System.out.println(\"\");\n",
    "\n",
    "    return;\n",
    "} // END askThreeQuestions\n",
    "\n",
    "askThreeQuestions();"
   ]
  },
  {
   "cell_type": "markdown",
   "metadata": {},
   "source": [
    "[Return to Exercise](#Exercise9)"
   ]
  },
  {
   "cell_type": "markdown",
   "metadata": {},
   "source": [
    "### Solution to Exercise 10<a id=\"Solution10\"></a>\n",
    "\n",
    "It defines a new method print which is just a shorthand for System.out.println, as all it does is call the latter. To do so it needs to know what to print. The value to print is passed to the method and stored in variable declared in the brackets. Then later instructions in that method can get a copy of the value from the variable when needed by giving the variable's name. In this case the value in the variable is passed on to the standard print method, System.out.println().\n",
    "\n",
    "It calls this new print method three times in turn, each giving the method a different thing to print that is ultimately passed on to System.out.println, via the variable message.\n",
    "\n",
    "[Return to Exercise](#Exercise10)"
   ]
  },
  {
   "cell_type": "markdown",
   "metadata": {},
   "source": [
    "### Solution to Exercise 11<a id=\"Solution11\"></a>"
   ]
  },
  {
   "cell_type": "code",
   "execution_count": null,
   "metadata": {},
   "outputs": [],
   "source": [
    "// Ask three different questions about film, sport and musical, echoing back the answers.\n",
    "//\n",
    "public static void askThreeQuestions ()\n",
    "{\n",
    "    String film_answer;\n",
    "    String sport_answer;\n",
    "    String musical_answer;\n",
    "    // DECLARE ALL THE VARIABLES NEEDED HERE FIRST\n",
    "    \n",
    "    film_answer = inputString(\"Which dream-themed film did Christopher Nolan direct?\");\n",
    "    print(\"So you think the film was \" + film_answer + \" do you?\");\n",
    "    print(\"\");\n",
    "       \n",
    "    sport_answer = inputString(\"What sport does LeBron James play?\");\n",
    "    print(\"So you think the sport was \" + sport_answer + \" do you?\");\n",
    "    print(\"\");\n",
    "       \n",
    "  \n",
    "    musical_answer = inputString(\"What Hip Hop musical is based on the story of an American founding father?\");\n",
    "    print(\"So you think the musical was \" + musical_answer + \" do you?\");\n",
    "    print(\"\");\n",
    "       \n",
    "    return;\n",
    "} // END askThreeQuestions\n",
    "\n",
    "askThreeQuestions();"
   ]
  },
  {
   "cell_type": "markdown",
   "metadata": {},
   "source": [
    "[Return to Exercise](#Exercise11)"
   ]
  },
  {
   "cell_type": "markdown",
   "metadata": {},
   "source": [
    "### Solution to Exercise 12<a id=\"Solution12\"></a>\n",
    "\n",
    "There are several reasons for using methods:\n",
    "- They allow us to break a large program into smaller parts that can each be written separately. This is called **decomposition**. This makes code easier to write and reduces the chance that our programs contain bugs.\n",
    "\n",
    "- This allows us to test each part completely separately. Doing so reduces the chance that the code contains mistakes.\n",
    "\n",
    "- They allow us to avoid duplicating code. We can write one method that contains the code, and then call it whenever we need it. This ensures consistency, and removes the possibility of getting it right in one place but not elsewhere.\n",
    "\n",
    "- They allow us to write a general method that covers several similar jobs that otherwise would need different code.   We replace the parts that are different by variables and supply the different information needed when we call the method. This is called **generalisation**. Again this lessens the likelihood of there being bugs in our programs. We have fewer methods to test.\n",
    "\n",
    "- They allow us to ignore the implementation of the method. Once we have written it and are sure it works, we do not need to think about *how* or *why* it works. This is called **abstraction** This makes the later code easier to write, so it is more likely to be right.\n",
    "\n",
    "- The fact that the way a method is implemented is hidden, means we can change that implementation (ie the code in the definition of the method) for a better implementation. Change it in one place and it changes everywhere for free. This means we are less likely to introduce mistakes when making changes.\n",
    "\n",
    "- All of this also makes code easier to read as we can read and understand it a small part at a time.\n",
    "\n",
    "[Return to Exercise](#Exercise12)"
   ]
  }
 ],
 "metadata": {
  "kernelspec": {
   "display_name": "Java",
   "language": "java",
   "name": "java"
  },
  "language_info": {
   "codemirror_mode": "java",
   "file_extension": ".jshell",
   "mimetype": "text/x-java-source",
   "name": "Java",
   "pygments_lexer": "java",
   "version": "11.0.8+10-LTS"
  }
 },
 "nbformat": 4,
 "nbformat_minor": 2
}
