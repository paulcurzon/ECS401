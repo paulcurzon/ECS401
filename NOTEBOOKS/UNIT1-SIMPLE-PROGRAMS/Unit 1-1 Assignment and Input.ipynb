{
 "cells": [
  {
   "cell_type": "markdown",
   "metadata": {},
   "source": [
    "# Unit 1 Part 1: Assignment and Input\n",
    "## By Paul Curzon\n",
    "\n",
    "## Interactive Programming Exercises\n",
    "\n",
    "## Learning Outcomes\n",
    "- Write programs that use assignment\n",
    "- Write programs that get input from the user\n",
    "- Explain assignment and variables\n",
    "- Explain user input\n",
    "\n",
    "*This notebook looks at code fragments. After completing these exercises, you MUST then go on to write full programs - see the programming exercises in the workbook.*\n",
    "\n",
    "*Solutions to the exercises are given at the end of the notebook. A link to each solution is included after each question.*\n",
    "\n",
    "**Always read the answers to exercises and compare them to your own. There are important things to learn from the answers.**\n",
    "\n",
    "<span style=\"color: red;\"> It is a really good idea to add your own notes throughout this notebook to reinforce what you have learnt and highlight important points. Click on the + in the toolbar above to make a new note area, and change it from Code to Markdown in the dropdown menu above if your note is not executable code. You may also want to highlight your notes in red as here, so they stand out. You change colours using span like this: </span>\n",
    "```\n",
    "<span style=\"color: red;\">THE TEXT TO COLOUR RED</span>\n",
    "```"
   ]
  },
  {
   "cell_type": "markdown",
   "metadata": {},
   "source": [
    "## Refresher\n",
    "This assumes you have already done the Unit 0 \"Getting Started\" interactive notebook activity. If not, do that first."
   ]
  },
  {
   "cell_type": "markdown",
   "metadata": {},
   "source": [
    "### Exercise 1 <a id=\"Exercise1\"></a>\n",
    "\n",
    "Read the following code and predict what it does. Run it to check if you were right. Briefly explain what is happening."
   ]
  },
  {
   "cell_type": "markdown",
   "metadata": {},
   "source": [
    "**Write your explanation here**\n"
   ]
  },
  {
   "cell_type": "code",
   "execution_count": null,
   "metadata": {},
   "outputs": [],
   "source": [
    "// Ask a question about Christopher Nolan and echo back the answer\n",
    "public static void askAboutFilm ()\n",
    "{\n",
    "    String film;\n",
    "    Scanner scanner = new Scanner(System.in);\n",
    "    \n",
    "    System.out.println(\"Which dream-themed film did Christopher Nolan direct?\");\n",
    "    film = scanner.nextLine();\n",
    "    \n",
    "    System.out.println(\"So you think it was \" + film + \" do you?\");\n",
    "\n",
    "    return;\n",
    "} // END askAboutFilm\n",
    "\n",
    "askAboutFilm();"
   ]
  },
  {
   "cell_type": "markdown",
   "metadata": {},
   "source": [
    "**NOW READ THE ANSWER** [Click here to jump to the solution](#Solution1)"
   ]
  },
  {
   "cell_type": "markdown",
   "metadata": {},
   "source": [
    "### Exercise 2 <a id=\"Exercise2\"></a>\n",
    "\n",
    "Modify the code below to ask the user to answer the question, \"What film did Kathryn Bigelow win an academy award for directing?\". The user should input  a value. Then whatever they typed, the program should print the right answer \"The Hurt Locker\".\n",
    "eg an example run might go (if the person typed in **ET**)\n",
    "```\n",
    "What film did Kathryn Bigelow win an academy award for directing?\n",
    "ET\n",
    "You said ET\n",
    "The answer is The Hurt Locker\n",
    "```\n",
    "\n",
    "Don't worry if you don't understand what every line does exactly yet... just work out the parts you need to modify to make it do this new task."
   ]
  },
  {
   "cell_type": "code",
   "execution_count": null,
   "metadata": {},
   "outputs": [],
   "source": [
    "// Ask a question about Kathryn Bigelow, echoing the answer and giving the correct answer.\n",
    "//\n",
    "public static void askAboutFilm2 ()\n",
    "{\n",
    "    String film;\n",
    "    Scanner scanner = new Scanner(System.in);\n",
    "    \n",
    "    System.out.println(\"Which dream-themed film did Christopher Nolan direct?\");\n",
    "    film = scanner.nextLine();\n",
    "    \n",
    "    System.out.println(\"So you think it was \" + film + \" do you?\");\n",
    "\n",
    "    return;\n",
    "} // END askAboutFilm2\n",
    "\n",
    "askAboutFilm2();"
   ]
  },
  {
   "cell_type": "markdown",
   "metadata": {},
   "source": [
    "**NOW READ THE ANSWER** [Click here to jump to the solution](#Solution2)"
   ]
  },
  {
   "cell_type": "markdown",
   "metadata": {},
   "source": [
    "## Assignment\n",
    "\n",
    "The above code includes an instruction that starts\n",
    "```java\n",
    "film = ...\n",
    "```\n",
    "This is an **assignment statement**. The = means 'gets the value of' and film is a **variable**. A variable is just a storage space to hold data for use by later instructions in a method. To describe this assignment, we might say \n",
    "```\n",
    "\"the variable called film gets the value ...\"\n",
    "```\n",
    "So for example, \n",
    "```java\n",
    "film = \"Star Wars\";\n",
    "```\n",
    "would be an instruction to put the String (ie text) \"Star Wars\" into the variable film.\n",
    "\n",
    "The actual instruction in the code for Exercises 1 and 2 above doesn't name a specific film in the program. It asks the user to type one in. \n",
    "\n",
    "Think of **scanner** here as a link to the keyboard. **nextLine()** is a call to a method to get the next line of text  from that location (until the ENTER key is pressed).\n",
    "\n",
    "So for example, \n",
    "```java\n",
    "film = scanner.nextLine();\n",
    "```\n",
    "says put whatever the user types next (up to them pressing the ENTER key) into the variable called film.\n",
    "\n",
    "All variables MUST be **declared** before they are used. **Declaring a variable** just means asking the program to create the required storage space when that instruction is executed.\n",
    "\n",
    "The line\n",
    "```java\n",
    "String film;\n",
    "```\n",
    "declares a variable called film that can hold a String value.\n",
    "\n",
    "Declarations tell the compiler about your (the programmer's) intentions. They allow the compiler so spot when you make mistakes. **THEY ARE A VERY GOOD THING!**"
   ]
  },
  {
   "cell_type": "markdown",
   "metadata": {},
   "source": [
    "### Exercise 3 <a id=\"Exercise3\"></a>\n",
    "\n",
    "Explain why the following fragment prints what it does."
   ]
  },
  {
   "cell_type": "markdown",
   "metadata": {},
   "source": [
    "**Write your explanation here**\n"
   ]
  },
  {
   "cell_type": "code",
   "execution_count": null,
   "metadata": {},
   "outputs": [],
   "source": [
    "String actor;\n",
    "\n",
    "actor = \"John Boyega\";\n",
    "\n",
    "System.out.println(actor);"
   ]
  },
  {
   "cell_type": "markdown",
   "metadata": {},
   "source": [
    "**NOW READ THE ANSWER** [Click here to jump to the solution](#Solution3)"
   ]
  },
  {
   "cell_type": "markdown",
   "metadata": {},
   "source": [
    "### Exercise 4 <a id=\"Exercise4\"></a>\n",
    "\n",
    "Modify the code fragment below to store the name \"Meera Syal\" in a variable called comedian and then print it. Run it to check it works."
   ]
  },
  {
   "cell_type": "code",
   "execution_count": null,
   "metadata": {},
   "outputs": [],
   "source": [
    "String actor;\n",
    "\n",
    "actor = \"John Boyega\";\n",
    "\n",
    "System.out.println(actor);"
   ]
  },
  {
   "cell_type": "markdown",
   "metadata": {},
   "source": [
    "**NOW READ THE ANSWER** [Click here to jump to the solution](#Solution4)"
   ]
  },
  {
   "cell_type": "markdown",
   "metadata": {},
   "source": [
    "### Exercise 5 <a id=\"Exercise5\"></a>\n",
    "\n",
    "Write a code fragment below that stores the name \"Adele\" in a variable called singer and then prints it. Run it to check it works."
   ]
  },
  {
   "cell_type": "code",
   "execution_count": null,
   "metadata": {},
   "outputs": [],
   "source": [
    "// Stores the name Adele and prints it\n",
    "\n"
   ]
  },
  {
   "cell_type": "markdown",
   "metadata": {},
   "source": [
    "**NOW READ THE ANSWER** [Click here to jump to the solution](#Solution5)"
   ]
  },
  {
   "cell_type": "markdown",
   "metadata": {},
   "source": [
    "### Exercise 6 <a id=\"Exercise6\"></a>\n",
    "\n",
    "A variable can only store <span style=\"color: red;\">ONE</span> thing at a time. An assignment **destroys** whatever was there before...\n",
    "\n",
    "Explain why the following code prints what it does."
   ]
  },
  {
   "cell_type": "markdown",
   "metadata": {},
   "source": [
    "**Write your explanation here**\n"
   ]
  },
  {
   "cell_type": "code",
   "execution_count": null,
   "metadata": {},
   "outputs": [],
   "source": [
    "String actor;\n",
    "\n",
    "actor = \"John Boyega\";\n",
    "System.out.println(actor);\n",
    "\n",
    "actor = \"Chiwetel Ejiofor\";\n",
    "System.out.println(actor);"
   ]
  },
  {
   "cell_type": "markdown",
   "metadata": {},
   "source": [
    "**NOW READ THE ANSWER** [Click here to jump to the solution](#Solution6)"
   ]
  },
  {
   "cell_type": "markdown",
   "metadata": {},
   "source": [
    "### Exercise 7 <a id=\"Exercise7\"></a>\n",
    "\n",
    "Write a fragment of code that declares three variables called: actor, film and director. The code should, store \"Sam Rockwell\" in actor,\"Moon\" in film and \"Duncan Jones\" in director. It should then print\n",
    "\n",
    "```\n",
    "Moon was directed by Duncan Jones and starred Sam Rockwell.\n",
    "```\n",
    "The print statement itself should only refer to the variables and not directly mention any of the names.\n",
    "\n",
    "HINT: Remember all statements end with a semicolon (;) and all String values are surronded by quotes."
   ]
  },
  {
   "cell_type": "code",
   "execution_count": null,
   "metadata": {},
   "outputs": [],
   "source": [
    "// Print details of the film, Moon\n",
    "\n"
   ]
  },
  {
   "cell_type": "markdown",
   "metadata": {},
   "source": [
    "**NOW READ THE ANSWER** [Click here to jump to the solution](#Solution7)"
   ]
  },
  {
   "cell_type": "markdown",
   "metadata": {},
   "source": [
    "### Exercise 8 <a id=\"Exercise8\"></a>\n",
    "\n",
    "Write a **method** that declares four variables actor1, actor2, film and director. It should store \"Parminder Nagra\" in actor1, \"Keira Knightley\" in actor2, \"Bend It Like Beckham\" in film and \"Gurinder Chadha\" in director. It should then print:\n",
    "```\n",
    "Bend It Like Beckham was directed by Gurinder Chadha and starred both Parminder Nagra and Keira Knightley.\n",
    "```\n",
    "The print statement itself should refer to the variables but not directly mention any of the names.\n",
    "\n",
    "HINT: Refer to the program at the start if you don't remember how to write a method."
   ]
  },
  {
   "cell_type": "code",
   "execution_count": null,
   "metadata": {},
   "outputs": [],
   "source": [
    "// Print details of the film, Bend it like Beckham\n",
    "//\n",
    " \n",
    " // ADD YOUR METHOD DEFINITION CALLED BendIt HERE\n",
    "\n",
    "BendIt();"
   ]
  },
  {
   "cell_type": "markdown",
   "metadata": {},
   "source": [
    "**NOW READ THE ANSWER** [Click here to jump to the solution](#Solution8)"
   ]
  },
  {
   "cell_type": "markdown",
   "metadata": {},
   "source": [
    "*Once you have done the above exercises (and understand how assignment statements work) move on to doing the programming exercises in the workbook, writing full programs locally on your computer (see Notebook Unit 1 Part 1). You must be able to write full programs, not just fragments.*"
   ]
  },
  {
   "cell_type": "markdown",
   "metadata": {},
   "source": [
    "## Solutions\n",
    "\n",
    "### Solution to Exercise 1<a id=\"Solution1\"></a>\n",
    "The code first prints a question about Christopher Nolan. It then waits for the user to type in an answer before echoing the answer back on the screen.\n",
    "\n",
    "[Return to Exercise](#Exercise1)"
   ]
  },
  {
   "cell_type": "markdown",
   "metadata": {},
   "source": [
    "### Solution to Exercise 2<a id=\"Solution2\"></a>"
   ]
  },
  {
   "cell_type": "code",
   "execution_count": null,
   "metadata": {},
   "outputs": [
    {
     "name": "stdout",
     "output_type": "stream",
     "text": [
      "What film did Kathryn Bigelow win an academy award for directing?\n"
     ]
    }
   ],
   "source": [
    "// Ask a question about Kathryn Bigelow, echoing the answer and giving the correct answer.\n",
    "//\n",
    "public static void askAboutFilm2 ()\n",
    "{\n",
    "    String film;\n",
    "    Scanner scanner = new Scanner(System.in);\n",
    "    \n",
    "    System.out.println(\"What film did Kathryn Bigelow win an academy award for directing?\");\n",
    "    film = scanner.nextLine();\n",
    "    \n",
    "    System.out.println(\"You said \" + film);\n",
    "    System.out.println(\"The answer is The Hurt Locker\");\n",
    "\n",
    "    return;\n",
    "} // END askAboutFilm2\n",
    "\n",
    "askAboutFilm2();"
   ]
  },
  {
   "cell_type": "markdown",
   "metadata": {},
   "source": [
    "[Return to Exercise](#Exercise2)"
   ]
  },
  {
   "cell_type": "markdown",
   "metadata": {},
   "source": [
    "### Solution to Exercise 3<a id=\"Solution3\"></a>\n",
    "It prints\n",
    "John Boyega\n",
    "\n",
    "It does so because it declares a variable called actor to store the string value \"John Boyega\". This string is placed in to the variable by the assignment statement:\n",
    "```java\n",
    "actor = \"John Boyega\";\n",
    "```\n",
    "so that later statements accessing this variable (by giving the variable name *actor*) will retrieve the value \"John Boyega\". This is what is done by the final print statement which gets a copy of and then prints the value in the variable.\n",
    "\n",
    "[Return to Exercise](#Exercise3)"
   ]
  },
  {
   "cell_type": "markdown",
   "metadata": {},
   "source": [
    "### Solution to Exercise 4<a id=\"Solution4\"></a>"
   ]
  },
  {
   "cell_type": "code",
   "execution_count": null,
   "metadata": {},
   "outputs": [],
   "source": [
    "String singer;\n",
    "\n",
    "singer = \"Meera Syal\";\n",
    "\n",
    "System.out.println(singer);"
   ]
  },
  {
   "cell_type": "markdown",
   "metadata": {},
   "source": [
    "[Return to Exercise](#Exercise4)"
   ]
  },
  {
   "cell_type": "markdown",
   "metadata": {},
   "source": [
    "### Solution to Exercise 5<a id=\"Solution5\"></a>"
   ]
  },
  {
   "cell_type": "code",
   "execution_count": null,
   "metadata": {},
   "outputs": [],
   "source": [
    "// Stores the name Adele and prints it\n",
    "\n",
    "String singer;\n",
    "\n",
    "singer = \"Adele\";\n",
    "\n",
    "System.out.println(singer);"
   ]
  },
  {
   "cell_type": "markdown",
   "metadata": {},
   "source": [
    "[Return to Exercise](#Exercise5)"
   ]
  },
  {
   "cell_type": "markdown",
   "metadata": {},
   "source": [
    "### Solution to Exercise 6<a id=\"Solution6\"></a>\n",
    "\n",
    "The program first creates a new variable called actor that can hold String values. It then uses an assignment to store the String \"John Boyega\" into that variable. The print statement then just prints the contents of the variable (ie **John Boyega**).\n",
    "\n",
    "The code then does a similar thing again, storing this time \"Chiwetel Ejiofor\" into the variable. In doing so, the previous string stored there is destroyed and can no longer be accessed. Only the new string \"Chiwetel Ejiofor\"  is now stored. Finally, the contents of the variable is printed again. It now only holds \"Chiwetel Ejiofor\" so **Chiwetel Ejiofor** is printed. After each line printed, the cursor is moved to the next line by the println method, so each name is printed on a new line.\n",
    "\n",
    "[Return to Exercise](#Exercise6)"
   ]
  },
  {
   "cell_type": "markdown",
   "metadata": {},
   "source": [
    "### Solution to Exercise 7<a id=\"Solution7\"></a>"
   ]
  },
  {
   "cell_type": "code",
   "execution_count": null,
   "metadata": {},
   "outputs": [],
   "source": [
    "// Print details of the film, Moon\n",
    "\n",
    "String actor;\n",
    "String film;\n",
    "String director;\n",
    "\n",
    "actor = \"Sam Rockwell\";\n",
    "film = \"Moon\";\n",
    "director = \"Duncan Jones\";\n",
    "\n",
    "System.out.println(film + \" was directed by \" + director + \" and starred \" + actor + \".\");"
   ]
  },
  {
   "cell_type": "markdown",
   "metadata": {},
   "source": [
    "[Return to Exercise](#Exercise7)"
   ]
  },
  {
   "cell_type": "markdown",
   "metadata": {},
   "source": [
    "### Solution to Exercise 8<a id=\"Solution8\"></a>"
   ]
  },
  {
   "cell_type": "code",
   "execution_count": null,
   "metadata": {},
   "outputs": [],
   "source": [
    "// Print details of the film, Bend it like Beckham\n",
    "//\n",
    "public static void BendIt()\n",
    "{\n",
    "    String actor1;\n",
    "    String actor2;\n",
    "    String film;\n",
    "    String director;\n",
    "\n",
    "    actor1 = \"Parminder Nagra\";\n",
    "    actor2 = \"Keira Knightley\";\n",
    "    film = \"Bend It Like Beckham\";\n",
    "    director = \"Gurinder Chadha\";\n",
    "\n",
    "    System.out.println(film + \" was directed by \" + director + \" and starred both \" + actor1 + \" and \" + actor2 + \".\");\n",
    "}\n",
    "\n",
    "BendIt();"
   ]
  },
  {
   "cell_type": "markdown",
   "metadata": {},
   "source": [
    "[Return to Exercise](#Exercise8)"
   ]
  }
 ],
 "metadata": {
  "kernelspec": {
   "display_name": "Java",
   "language": "java",
   "name": "java"
  },
  "language_info": {
   "codemirror_mode": "java",
   "file_extension": ".jshell",
   "mimetype": "text/x-java-source",
   "name": "Java",
   "pygments_lexer": "java",
   "version": "11.0.8+10-LTS"
  }
 },
 "nbformat": 4,
 "nbformat_minor": 2
}
